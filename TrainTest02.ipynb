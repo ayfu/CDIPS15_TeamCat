{
 "cells": [
  {
   "cell_type": "code",
   "execution_count": 122,
   "metadata": {
    "collapsed": true
   },
   "outputs": [],
   "source": [
    "%matplotlib inline\n",
    "import os\n",
    "import pandas as pd\n",
    "import numpy as np\n",
    "import datetime as dt\n",
    "import matplotlib.pyplot as plt\n",
    "from math import sqrt\n",
    "filepath = 'C:/Users/Anthony/Dropbox/Background Understanding/Data Science/CDIPS/CDIPS15_TeamCat/data/competition_data/'\n",
    "files = [x for x in os.listdir(filepath)] #if os.path.isfile(os.path.join(filepath,x)) if you want to check isfile"
   ]
  },
  {
   "cell_type": "markdown",
   "metadata": {},
   "source": [
    "## Merge files into train and test dataframes\n",
    "\n",
    "merging 'bill_of_materials.csv' and 'tube.csv' with training set and test set."
   ]
  },
  {
   "cell_type": "code",
   "execution_count": 123,
   "metadata": {
    "collapsed": false
   },
   "outputs": [],
   "source": [
    "billdf = pd.read_csv(os.path.join(filepath,'bill_of_materials.csv'),header=0)\n",
    "tubedf = pd.read_csv(os.path.join(filepath,'tube.csv'),header=0)\n",
    "traindf = pd.read_csv(os.path.join(filepath,'train_set.csv'), header = 0, parse_dates = ['quote_date'])\n",
    "testdf = pd.read_csv(os.path.join(filepath,'test_set.csv'), header = 0, parse_dates = ['quote_date'])"
   ]
  },
  {
   "cell_type": "code",
   "execution_count": 124,
   "metadata": {
    "collapsed": true
   },
   "outputs": [],
   "source": [
    "train = pd.merge(traindf,billdf, on = 'tube_assembly_id')\n",
    "test = pd.merge(testdf,billdf, on = 'tube_assembly_id')\n",
    "train = pd.merge(train,tubedf, on = 'tube_assembly_id')\n",
    "test = pd.merge(test,tubedf, on = 'tube_assembly_id')"
   ]
  },
  {
   "cell_type": "markdown",
   "metadata": {},
   "source": [
    "## Clean `NaN` values\n",
    "\n",
    "For component_id_1,2,3,... columns, I replaced `NaN` values with an empty string.\n",
    "\n",
    "For quantity_1,2,3,... columns, I replaced `NaN` values with 0"
   ]
  },
  {
   "cell_type": "code",
   "execution_count": 125,
   "metadata": {
    "collapsed": false
   },
   "outputs": [],
   "source": [
    "for x in range(7,24,2):\n",
    "    column = train.columns[x]\n",
    "    train[column].replace(np.nan,0, regex=True, inplace= True)\n",
    "\n",
    "for x in range(8,23,2):\n",
    "    column = train.columns[x]\n",
    "    train[column].replace(np.nan,'',regex=True, inplace= True)    \n",
    "    \n",
    "for x in range(7,24,2):\n",
    "    column = test.columns[x]\n",
    "    test[column].replace(np.nan,0,regex=True, inplace= True)\n",
    "    \n",
    "for x in range(8,23,2):\n",
    "    column = test.columns[x]\n",
    "    test[column].replace(np.nan,'', regex=True, inplace= True)     \n"
   ]
  },
  {
   "cell_type": "markdown",
   "metadata": {},
   "source": [
    "## Dropping Columns\n",
    "\n",
    "From bill_of_materials.csv, I dropped these columns from train and test:\n",
    "\n",
    "- 'component_id_4', 'component_id_5', 'component_id_6', 'component_id_7', 'component_id_8'\n",
    "- 'quantity_4','quantity_5', 'quantity_6', 'quantity_7', 'quantity_8'\n",
    "\n",
    "From tube.csv, I dropped these columns from train and test:\n",
    "\n",
    "- 'end_a_1x','end_x_1x','num_bracket','num_boss','other'\n",
    "\n",
    "From test, I dropped:\n",
    "\n",
    "- 'id','annual_usage','min_order_quantity'\n",
    "\n",
    "From train, I dropped:\n",
    "\n",
    "- 'annual_usage','min_order_quantity'\n",
    "\n",
    "These choices were made based of \"Initial Exploration\" ipython notebook and Bharat's TrainTest01 updated ipython notebook. Most of these columns are essentially single valued or are useless (like 'id')"
   ]
  },
  {
   "cell_type": "code",
   "execution_count": 126,
   "metadata": {
    "collapsed": false
   },
   "outputs": [
    {
     "name": "stdout",
     "output_type": "stream",
     "text": [
      "Index([u'tube_assembly_id', u'supplier', u'quote_date', u'annual_usage',\n",
      "       u'min_order_quantity', u'bracket_pricing', u'quantity', u'cost',\n",
      "       u'component_id_1', u'quantity_1', u'component_id_2', u'quantity_2',\n",
      "       u'component_id_3', u'quantity_3', u'component_id_4', u'quantity_4',\n",
      "       u'component_id_5', u'quantity_5', u'component_id_6', u'quantity_6',\n",
      "       u'component_id_7', u'quantity_7', u'component_id_8', u'quantity_8',\n",
      "       u'material_id', u'diameter', u'wall', u'length', u'num_bends',\n",
      "       u'bend_radius', u'end_a_1x', u'end_a_2x', u'end_x_1x', u'end_x_2x',\n",
      "       u'end_a', u'end_x', u'num_boss', u'num_bracket', u'other'],\n",
      "      dtype='object')\n",
      "Number of columns 39\n"
     ]
    }
   ],
   "source": [
    "print train.columns\n",
    "print \"Number of columns\", len(train.columns)"
   ]
  },
  {
   "cell_type": "code",
   "execution_count": 127,
   "metadata": {
    "collapsed": false
   },
   "outputs": [
    {
     "name": "stdout",
     "output_type": "stream",
     "text": [
      "Train Columns\n",
      "\n",
      "Index([u'tube_assembly_id', u'supplier', u'quote_date', u'bracket_pricing',\n",
      "       u'quantity', u'cost', u'component_id_1', u'quantity_1',\n",
      "       u'component_id_2', u'quantity_2', u'component_id_3', u'quantity_3',\n",
      "       u'material_id', u'diameter', u'wall', u'length', u'num_bends',\n",
      "       u'bend_radius', u'end_a_2x', u'end_x_2x', u'end_a', u'end_x'],\n",
      "      dtype='object')\n",
      "Number of columns 22\n",
      "\n",
      "\n",
      "\n",
      "Test Columns\n",
      "\n",
      "Index([u'tube_assembly_id', u'supplier', u'quote_date', u'bracket_pricing',\n",
      "       u'quantity', u'component_id_1', u'quantity_1', u'component_id_2',\n",
      "       u'quantity_2', u'component_id_3', u'quantity_3', u'material_id',\n",
      "       u'diameter', u'wall', u'length', u'num_bends', u'bend_radius',\n",
      "       u'end_a_2x', u'end_x_2x', u'end_a', u'end_x'],\n",
      "      dtype='object')\n",
      "Number of columns 21\n"
     ]
    }
   ],
   "source": [
    "traindrop = ['annual_usage','min_order_quantity','component_id_4','component_id_5', 'component_id_6', 'component_id_7', 'component_id_8','quantity_4','quantity_5', 'quantity_6', 'quantity_7', 'quantity_8','end_a_1x','end_x_1x','num_bracket','num_boss','other']              \n",
    "testdrop =  ['id','annual_usage','min_order_quantity','component_id_4','component_id_5', 'component_id_6', 'component_id_7', 'component_id_8','quantity_4','quantity_5', 'quantity_6', 'quantity_7', 'quantity_8','end_a_1x','end_x_1x','num_bracket','num_boss','other']\n",
    "train = train.drop(traindrop, axis = 1)\n",
    "test = test.drop(testdrop, axis = 1)\n",
    "print 'Train Columns'\n",
    "print\n",
    "print train.columns\n",
    "print \"Number of columns\", len(train.columns)\n",
    "\n",
    "print '\\n\\n'\n",
    "\n",
    "print 'Test Columns'\n",
    "print\n",
    "print test.columns\n",
    "print \"Number of columns\", len(test.columns)"
   ]
  },
  {
   "cell_type": "markdown",
   "metadata": {},
   "source": [
    "## Add year, month, and days column\n",
    "\n",
    "Since we only care about 2011-2014, I referenced days from the 0 point 12/31/2010. So 01/01/2011 is 1, 01/02/2011 is 2, etc...\n",
    "\n",
    "After that, I dropped the 'quote_date' column because it's now superfluous."
   ]
  },
  {
   "cell_type": "code",
   "execution_count": 128,
   "metadata": {
    "collapsed": false
   },
   "outputs": [],
   "source": [
    "train['year'] = train['quote_date'].dt.year\n",
    "train['month'] = train['quote_date'].dt.month\n",
    "train['day'] = [date.days for date in train['quote_date'] - dt.date(2010,12,31)]\n",
    "\n",
    "test['year'] = test['quote_date'].dt.year\n",
    "test['month'] = test['quote_date'].dt.month\n",
    "test['day'] = [date.days for date in test['quote_date'] - dt.date(2010,12,31)]"
   ]
  },
  {
   "cell_type": "code",
   "execution_count": 129,
   "metadata": {
    "collapsed": false
   },
   "outputs": [
    {
     "name": "stdout",
     "output_type": "stream",
     "text": [
      "Train subsetting check\n",
      "\n",
      "Bracket Pricings: ['Yes']\n",
      "Suppliers: ['S-0066']\n",
      "Years: [2013 2012 2011 2014]\n",
      "\n",
      "\n",
      "\n",
      "Test subsetting check\n",
      "\n",
      "Bracket Pricings: ['Yes']\n",
      "Suppliers: ['S-0066']\n",
      "Years: [2013 2014 2011 2012]\n",
      "\n",
      "\n",
      "\n"
     ]
    }
   ],
   "source": [
    "train = train[(train['bracket_pricing'] == 'Yes') & (train['supplier'] == 'S-0066') & train['year'].isin(range(2011,2015))]\n",
    "test = test[(test['bracket_pricing'] == 'Yes') & (test['supplier'] == 'S-0066') & test['year'].isin(range(2011,2015))]\n",
    "\n",
    "print \"Train subsetting check\"\n",
    "print\n",
    "print \"Bracket Pricings:\", train['bracket_pricing'].unique()\n",
    "print \"Suppliers:\",  train['supplier'].unique()\n",
    "print \"Years:\", train['year'].unique()\n",
    "print \"\\n\\n\"\n",
    "print \"Test subsetting check\"\n",
    "print\n",
    "print \"Bracket Pricings:\", test['bracket_pricing'].unique()\n",
    "print \"Suppliers:\",  test['supplier'].unique()\n",
    "print \"Years:\", test['year'].unique()\n",
    "print \"\\n\\n\""
   ]
  },
  {
   "cell_type": "code",
   "execution_count": 130,
   "metadata": {
    "collapsed": true
   },
   "outputs": [],
   "source": [
    "train = train.drop('quote_date', axis = 1)\n",
    "test = test.drop('quote_date', axis = 1)"
   ]
  },
  {
   "cell_type": "markdown",
   "metadata": {},
   "source": [
    "## Write to csv"
   ]
  },
  {
   "cell_type": "code",
   "execution_count": 131,
   "metadata": {
    "collapsed": true
   },
   "outputs": [],
   "source": [
    "train.to_csv('train.csv')\n",
    "test.to_csv('test.csv')"
   ]
  },
  {
   "cell_type": "code",
   "execution_count": null,
   "metadata": {
    "collapsed": true
   },
   "outputs": [],
   "source": []
  }
 ],
 "metadata": {
  "kernelspec": {
   "display_name": "Python 2",
   "language": "python",
   "name": "python2"
  },
  "language_info": {
   "codemirror_mode": {
    "name": "ipython",
    "version": 2
   },
   "file_extension": ".py",
   "mimetype": "text/x-python",
   "name": "python",
   "nbconvert_exporter": "python",
   "pygments_lexer": "ipython2",
   "version": "2.7.9"
  }
 },
 "nbformat": 4,
 "nbformat_minor": 0
}
