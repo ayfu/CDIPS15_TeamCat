{
 "cells": [
  {
   "cell_type": "markdown",
   "metadata": {},
   "source": [
    "# Gradient boosting Optimization\n",
    "In this notebook, more data pertaining to components 1-3 is added."
   ]
  },
  {
   "cell_type": "code",
   "execution_count": 3,
   "metadata": {
    "collapsed": false
   },
   "outputs": [],
   "source": [
    "%matplotlib inline\n",
    "import os, glob\n",
    "from collections import defaultdict\n",
    "import pandas as pd\n",
    "import numpy as np\n",
    "from sklearn import linear_model\n",
    "from sklearn.preprocessing import OneHotEncoder, LabelEncoder\n",
    "from sklearn.ensemble import GradientBoostingRegressor\n",
    "from sklearn import cross_validation\n",
    "from sklearn.grid_search import GridSearchCV\n",
    "from sklearn.metrics import make_scorer\n",
    "\n",
    "import matplotlib.pyplot as plt\n",
    "from IPython.display import display\n",
    "#from pyearth import Earth"
   ]
  },
  {
   "cell_type": "code",
   "execution_count": 4,
   "metadata": {
    "collapsed": false
   },
   "outputs": [],
   "source": [
    "traintest = pd.read_csv(os.path.join('..','competition_data','traintest.csv'),header=0)\n",
    "traintest1 = traintest.loc[:,[u'supplier', u'year','month','day', u'annual_usage',\n",
    "       'min_order_quantity', u'bracket_pricing', u'quantity', \n",
    "       'material_id', u'diameter', u'wall', u'length', u'num_bends',\n",
    "       'bend_radius', u'end_a_1x', u'end_a_2x', u'end_x_1x', u'end_x_2x',\n",
    "       'end_a', u'end_x', 'num_boss', u'num_bracket', \n",
    "       u'other',\n",
    "       'part_name_1','part_name_2','part_name_3', \n",
    "       'component_type_id_1','component_type_id_2','component_type_id_3',\n",
    "       'quantity_1','quantity_2','quantity_3',\n",
    "       'connection_type_id_2',\n",
    "       'end_form_id_1_1','end_form_id_2_1',\n",
    "       'hex_nut_size_1','hex_size_1','hex_size_3',\n",
    "       'intended_nut_thread_1','length_1','length_2',\n",
    "       'thread_pitch_1','thread_size_1_1','thread_size_1_3',\n",
    "       'orientation_1','orientation_2','orientation_3',\n",
    "       'overall_length_1',#'plating_2',\n",
    "       'cost']]"
   ]
  },
  {
   "cell_type": "code",
   "execution_count": 5,
   "metadata": {
    "collapsed": false
   },
   "outputs": [],
   "source": [
    "traintest1['part_name_1'] = traintest1.part_name_1.fillna('NONE')\n",
    "traintest1['part_name_2'] = traintest1.part_name_2.fillna('NONE')\n",
    "traintest1['part_name_3'] = traintest1.part_name_3.fillna('NONE')\n",
    "traintest1['component_type_id_1'] = traintest1.component_type_id_1.fillna('NONE')\n",
    "traintest1['component_type_id_2'] = traintest1.component_type_id_2.fillna('NONE')\n",
    "traintest1['component_type_id_3'] = traintest1.component_type_id_3.fillna('NONE')\n",
    "traintest1['quantity_1'] = traintest1.quantity_1.fillna(0)\n",
    "traintest1['quantity_2'] = traintest1.quantity_2.fillna(0)\n",
    "traintest1['quantity_3'] = traintest1.quantity_3.fillna(0)\n",
    "traintest1['connection_type_id_2'] = traintest1.connection_type_id_2.fillna('NONE')\n",
    "traintest1['end_form_id_1_1'] = traintest1.end_form_id_1_1.fillna('NONE')\n",
    "traintest1['end_form_id_2_1'] = traintest1.end_form_id_2_1.fillna('NONE')\n",
    "traintest1['hex_nut_size_1'] = traintest1.hex_nut_size_1.fillna(0)\n",
    "traintest1['hex_size_1'] = traintest1.hex_size_1.fillna(0)\n",
    "traintest1['hex_size_3'] = traintest1.hex_size_3.fillna(0)\n",
    "traintest1['intended_nut_thread_1'] = traintest1.intended_nut_thread_1.fillna(0)#\n",
    "traintest1['length_1'] = traintest1.length_1.fillna(0)\n",
    "traintest1['length_2'] = traintest1.length_2.fillna(0)\n",
    "traintest1['thread_pitch_1'] = traintest1.thread_pitch_1.fillna(0) # \n",
    "traintest1['thread_size_1_1'] = traintest1.thread_size_1_1.fillna(0)#\n",
    "traintest1['thread_size_1_3'] = traintest1.thread_size_1_3.fillna(0)#\n",
    "traintest1['orientation_1'] = traintest1.orientation_1.fillna('No')#\n",
    "traintest1['orientation_2'] = traintest1.orientation_2.fillna(\"No\")#\n",
    "traintest1['orientation_3'] = traintest1.orientation_3.fillna(\"No\")#\n",
    "traintest1['overall_length_1'] = traintest1.overall_length_1.fillna(0)"
   ]
  },
  {
   "cell_type": "code",
   "execution_count": 29,
   "metadata": {
    "collapsed": false
   },
   "outputs": [
    {
     "data": {
      "text/plain": [
       "ORFS-SAE J1453           27828\n",
       "NONE                     25686\n",
       "37 deg Flare-SAE J514     6737\n",
       "SAE STOR-SAE J1926         127\n",
       "NPTF-SAE J476/J514          42\n",
       "Code 61 Flange              17\n",
       "Other                        6\n",
       "Metric STOR-ISO 6149         5\n",
       "dtype: int64"
      ]
     },
     "execution_count": 29,
     "metadata": {},
     "output_type": "execute_result"
    }
   ],
   "source": [
    "traintest1.connection_type_id_2.value_counts()"
   ]
  },
  {
   "cell_type": "code",
   "execution_count": 30,
   "metadata": {
    "collapsed": false
   },
   "outputs": [],
   "source": [
    "class PruneLabelEncoder(LabelEncoder):\n",
    "    def __init___(self):\n",
    "        super(PruneLabelEncoder, self).__init__()\n",
    "    def fit(self, series, cutoff=10):\n",
    "        self.cutoff = cutoff\n",
    "        # Generate the transformation classes and also the map for low output munging \n",
    "        super(PruneLabelEncoder, self).fit(series)\n",
    "        trans_series = super(PruneLabelEncoder, self).transform(series)\n",
    "        self.val_count_map = defaultdict(int)\n",
    "        for i in trans_series:\n",
    "            self.val_count_map[i] += 1\n",
    "        # identify the first key with low frequency and use it for all low freq vals\n",
    "        for key, val in self.val_count_map.items():\n",
    "            if val < self.cutoff:\n",
    "                self.low_cnt_target = key\n",
    "                break\n",
    "    def transform(self, series):\n",
    "        trans_series = super(PruneLabelEncoder, self).transform(series)\n",
    "        # Transform all the low frequency keys into the low frequency target key\n",
    "        for key, val in self.val_count_map.items():\n",
    "            if val < self.cutoff:\n",
    "                trans_series[trans_series==key] = self.low_cnt_target\n",
    "        return trans_series"
   ]
  },
  {
   "cell_type": "code",
   "execution_count": 31,
   "metadata": {
    "collapsed": true
   },
   "outputs": [],
   "source": [
    "TRANSFORM_CUTOFF = 25"
   ]
  },
  {
   "cell_type": "code",
   "execution_count": 32,
   "metadata": {
    "collapsed": false
   },
   "outputs": [
    {
     "name": "stderr",
     "output_type": "stream",
     "text": [
      "/Users/mbkumar/venv2/lib/python2.7/site-packages/numpy/lib/arraysetops.py:198: FutureWarning: numpy not_equal will not check object identity in the future. The comparison did not return the same result as suggested by the identity (`is`)) and will change.\n",
      "  flag = np.concatenate(([True], aux[1:] != aux[:-1]))\n",
      "/Users/mbkumar/venv2/lib/python2.7/site-packages/numpy/lib/arraysetops.py:251: FutureWarning: numpy equal will not check object identity in the future. The comparison did not return the same result as suggested by the identity (`is`)) and will change.\n",
      "  return aux[:-1][aux[1:] == aux[:-1]]\n"
     ]
    }
   ],
   "source": [
    "enc_comp_typeid = PruneLabelEncoder()\n",
    "comp_id1 = traintest1.component_type_id_1.values\n",
    "comp_id2 = traintest1.component_type_id_2.values\n",
    "comp_id3 = traintest1.component_type_id_3.values\n",
    "comp_id = np.concatenate((comp_id1, comp_id2, comp_id3))\n",
    "enc_comp_typeid.fit(comp_id, cutoff=TRANSFORM_CUTOFF)  \n",
    "\n",
    "enc_end_form_id = PruneLabelEncoder()\n",
    "end_form_id1 = traintest1.end_form_id_1_1.values\n",
    "end_form_id2 = traintest1.end_form_id_2_1.values\n",
    "end_form_id = np.concatenate((end_form_id1,end_form_id2))\n",
    "enc_end_form_id.fit(end_form_id, cutoff=TRANSFORM_CUTOFF)  \n",
    "\n",
    "enc_connection_type_id = PruneLabelEncoder()\n",
    "enc_connection_type_id.fit(traintest1.connection_type_id_2.values)\n",
    "\n",
    "enc_mat_id = PruneLabelEncoder()\n",
    "enc_mat_id.fit(traintest1.material_id.values, cutoff=TRANSFORM_CUTOFF)  \n",
    "enc_splr_id = PruneLabelEncoder()\n",
    "enc_splr_id.fit(traintest1.supplier.values, cutoff=TRANSFORM_CUTOFF)\n",
    "\n",
    "enda_vals = traintest1.end_a.values\n",
    "endx_vals = traintest1.end_x.values\n",
    "end_vals = np.concatenate((enda_vals, endx_vals))\n",
    "enc_end = PruneLabelEncoder()\n",
    "enc_end.fit(end_vals, cutoff=TRANSFORM_CUTOFF) "
   ]
  },
  {
   "cell_type": "code",
   "execution_count": 33,
   "metadata": {
    "collapsed": true
   },
   "outputs": [],
   "source": [
    "train = traintest1.loc[0:30212]\n",
    "test = traintest1.loc[30213:]"
   ]
  },
  {
   "cell_type": "markdown",
   "metadata": {},
   "source": [
    "## Categorical variables pruning\n",
    "The categorical variables such as supplier_id, material_id, component_id_x_name, \n",
    "end_x, end_a with string categories are converted to integer\n",
    "labels. The values with high frequencies are retained and the low\n",
    "frequency values (<50) are all combined into a single value"
   ]
  },
  {
   "cell_type": "markdown",
   "metadata": {},
   "source": [
    "num_boss, num_brack and other have one or two high frequency values and then few low frequency values"
   ]
  },
  {
   "cell_type": "markdown",
   "metadata": {},
   "source": [
    "In the predictor 'comp_id_x' related data where x = 4,5,6,7,8 is unncessary since the non null data is < 2.6%\n",
    "In addition tube_assembly id is removed from now on."
   ]
  },
  {
   "cell_type": "code",
   "execution_count": 34,
   "metadata": {
    "collapsed": false
   },
   "outputs": [],
   "source": [
    "comp_id1_trans = enc_comp_typeid.transform(train.component_type_id_1.values)\n",
    "comp_id2_trans = enc_comp_typeid.transform(train.component_type_id_2.values)\n",
    "comp_id3_trans = enc_comp_typeid.transform(train.component_type_id_3.values)\n",
    "matid_trans = enc_mat_id.transform(train.material_id.values)\n",
    "splr_trans = enc_splr_id.transform(train.supplier.values)\n",
    "end_a_trans = enc_end.transform(train.end_a.values)\n",
    "end_x_trans = enc_end.transform(train.end_x.values)\n",
    "end_form_id1_trans = enc_end_form_id.transform(train.end_form_id_1_1.values)\n",
    "end_form_id2_trans = enc_end_form_id.transform(train.end_form_id_2_1.values)\n",
    "conn_type_id_trans = enc_connection_type_id.transform(train.connection_type_id_2.values)\n",
    "\n",
    "end_x_1x_vals = [1 if x=='Y' else 0 for x in train.end_x_1x.values]\n",
    "end_a_1x_vals = [1 if x=='Y' else 0 for x in train.end_a_1x.values]\n",
    "end_x_2x_vals = [1 if x=='Y' else 0 for x in train.end_x_2x.values]\n",
    "end_a_2x_vals = [1 if x=='Y' else 0 for x in train.end_a_2x.values]\n",
    "brack_price_vals = [1 if x=='Yes' else 0 for x in train.bracket_pricing.values]\n",
    "orient_1_vals = [1 if x=='Yes' else 0 for x in train.orientation_1.values]\n",
    "orient_2_vals = [1 if x=='Yes' else 0 for x in train.orientation_2.values]\n",
    "orient_3_vals = [1 if x=='Yes' else 0 for x in train.orientation_3.values]"
   ]
  },
  {
   "cell_type": "markdown",
   "metadata": {},
   "source": [
    "The first four material ids have high frequencies. Its better to assign those 4 to \n",
    "different values and group the rest into a single value"
   ]
  },
  {
   "cell_type": "code",
   "execution_count": 35,
   "metadata": {
    "collapsed": false
   },
   "outputs": [
    {
     "data": {
      "text/plain": [
       "Index([            u'supplier',                 u'year',\n",
       "                      u'month',                  u'day',\n",
       "               u'annual_usage',   u'min_order_quantity',\n",
       "            u'bracket_pricing',             u'quantity',\n",
       "                u'material_id',             u'diameter',\n",
       "                       u'wall',               u'length',\n",
       "                  u'num_bends',          u'bend_radius',\n",
       "                   u'end_a_2x',             u'end_x_1x',\n",
       "                   u'end_x_2x',                u'end_a',\n",
       "                      u'end_x',             u'num_boss',\n",
       "                      u'other',           u'quantity_1',\n",
       "                 u'quantity_2',           u'quantity_3',\n",
       "       u'connection_type_id_2',      u'end_form_id_1_1',\n",
       "            u'end_form_id_2_1',       u'hex_nut_size_1',\n",
       "                 u'hex_size_1',           u'hex_size_3',\n",
       "                   u'length_1',             u'length_2',\n",
       "           u'overall_length_1',                 u'cost'],\n",
       "      dtype='object')"
      ]
     },
     "execution_count": 35,
     "metadata": {},
     "output_type": "execute_result"
    }
   ],
   "source": [
    "trainp1 = train.loc[:,[#u'supplier', \n",
    "       'year','month','day', u'annual_usage',\n",
    "       'min_order_quantity', #u'bracket_pricing',\n",
    "       'quantity', \n",
    "       #'material_id', \n",
    "       'diameter', u'wall', u'length', u'num_bends',\n",
    "       'bend_radius',\n",
    "       #'end_a_1x', u'end_a_2x', u'end_x_1x', u'end_x_2x','end_a', u'end_x',\n",
    "       'num_boss', u'num_bracket', u'other',\n",
    "       ##'part_name_1','part_name_2','part_name_3', \n",
    "       #'component_type_id_1','component_type_id_2','component_type_id_3',\n",
    "       'quantity_1','quantity_2','quantity_3',\n",
    "       #'connection_type_id_2',\n",
    "       #'end_form_id_1_1','end_form_id_2_1',\n",
    "       'hex_nut_size_1','hex_size_1','hex_size_3',\n",
    "       'intended_nut_thread_1','length_1','length_2',\n",
    "       'thread_pitch_1','thread_size_1_1','thread_size_1_3',\n",
    "       #'orientation_1','orientation_2','orientation_3',\n",
    "       'overall_length_1',\n",
    "       'cost']]\n",
    "# Reencode the categorical variables\n",
    "trainp1.insert(0, 'supplier', splr_trans, allow_duplicates=False)\n",
    "trainp1.insert(6, 'bracket_pricing', brack_price_vals, allow_duplicates=False)\n",
    "trainp1.insert(8, 'material_id', matid_trans, allow_duplicates=False)\n",
    "trainp1.insert(14, 'end_a_1x', end_a_1x_vals, allow_duplicates=False)\n",
    "trainp1.insert(15, 'end_a_2x', end_a_2x_vals, allow_duplicates=False)\n",
    "trainp1.insert(16, 'end_x_1x', end_x_1x_vals, allow_duplicates=False)\n",
    "trainp1.insert(17, 'end_x_2x', end_x_2x_vals, allow_duplicates=False)\n",
    "trainp1.insert(18, 'end_a', end_a_trans, allow_duplicates=False)\n",
    "trainp1.insert(19, 'end_x', end_x_trans, allow_duplicates=False)\n",
    "trainp1.insert(23, 'component_type_id_1', comp_id1_trans, allow_duplicates=False)\n",
    "trainp1.insert(24, 'component_type_id_2', comp_id2_trans, allow_duplicates=False)\n",
    "trainp1.insert(25, 'component_type_id_3', comp_id3_trans, allow_duplicates=False)\n",
    "#trainp1.insert(26, 'quantity_1', quant1, allow_duplicates=False)\n",
    "#trainp1.insert(27, 'quantity_2', quant2, allow_duplicates=False)\n",
    "#trainp1.insert(28, 'quantity_3', quant3, allow_duplicates=False)\n",
    "trainp1.insert(29, 'connection_type_id_2', conn_type_id_trans, allow_duplicates=False)\n",
    "trainp1.insert(30, 'end_form_id_1_1', end_form_id1_trans, allow_duplicates=False)\n",
    "trainp1.insert(31, 'end_form_id_2_1', end_form_id2_trans, allow_duplicates=False)\n",
    "trainp1.insert(41, 'orientation_1', orient_1_vals, allow_duplicates=False)\n",
    "trainp1.insert(42, 'orientation_2', orient_2_vals, allow_duplicates=False)\n",
    "trainp1.insert(43, 'orientation_3', orient_3_vals, allow_duplicates=False)\n",
    "trainp1 = trainp1.drop('end_a_1x',1)\n",
    "trainp1 = trainp1.drop('component_type_id_1',1)\n",
    "trainp1 = trainp1.drop('component_type_id_2',1)\n",
    "trainp1 = trainp1.drop('component_type_id_3',1)\n",
    "trainp1 = trainp1.drop('num_bracket',1)\n",
    "trainp1 = trainp1.drop('intended_nut_thread_1',1)\n",
    "trainp1 = trainp1.drop('thread_pitch_1',1)\n",
    "trainp1 = trainp1.drop('thread_size_1_1',1)\n",
    "trainp1 = trainp1.drop('thread_size_1_3',1)\n",
    "trainp1 = trainp1.drop('orientation_1',1)\n",
    "trainp1 = trainp1.drop('orientation_2',1)\n",
    "trainp1 = trainp1.drop('orientation_3',1)\n",
    "#trainp1.columns"
   ]
  },
  {
   "cell_type": "code",
   "execution_count": 37,
   "metadata": {
    "collapsed": false
   },
   "outputs": [
    {
     "name": "stdout",
     "output_type": "stream",
     "text": [
      "Index([            u'supplier',                 u'year',\n",
      "                      u'month',                  u'day',\n",
      "               u'annual_usage',   u'min_order_quantity',\n",
      "            u'bracket_pricing',             u'quantity',\n",
      "                u'material_id',             u'diameter',\n",
      "                       u'wall',               u'length',\n",
      "                  u'num_bends',          u'bend_radius',\n",
      "                   u'end_a_2x',             u'end_x_1x',\n",
      "                   u'end_x_2x',                u'end_a',\n",
      "                      u'end_x',             u'num_boss',\n",
      "                      u'other',           u'quantity_1',\n",
      "                 u'quantity_2',           u'quantity_3',\n",
      "       u'connection_type_id_2',      u'end_form_id_1_1',\n",
      "            u'end_form_id_2_1',       u'hex_nut_size_1',\n",
      "                 u'hex_size_1',           u'hex_size_3',\n",
      "                   u'length_1',             u'length_2',\n",
      "           u'overall_length_1'],\n",
      "      dtype='object')\n",
      "30213\n"
     ]
    }
   ],
   "source": [
    "X_cols = trainp1.columns[:-1]"
   ]
  },
  {
   "cell_type": "code",
   "execution_count": 38,
   "metadata": {
    "collapsed": false
   },
   "outputs": [],
   "source": [
    "for col in trainp1.columns:\n",
    "    no_null = np.sum(trainp1[col].isnull().values)\n",
    "    if no_null:\n",
    "        print col, no_null"
   ]
  },
  {
   "cell_type": "markdown",
   "metadata": {},
   "source": [
    "# Randomize the data"
   ]
  },
  {
   "cell_type": "code",
   "execution_count": 39,
   "metadata": {
    "collapsed": true
   },
   "outputs": [],
   "source": [
    "train_shfl = trainp1.iloc[np.random.permutation(len(trainp1))]"
   ]
  },
  {
   "cell_type": "code",
   "execution_count": 40,
   "metadata": {
    "collapsed": false
   },
   "outputs": [],
   "source": [
    "X = train_shfl.as_matrix(train_shfl.columns[:-1])\n",
    "y = train_shfl.as_matrix(['cost'])[:,0]\n",
    "offset = int(X.shape[0] * 0.9)\n",
    "X_train, y_train = X[:offset], y[:offset]\n",
    "X_test, y_test = X[offset:], y[offset:]"
   ]
  },
  {
   "cell_type": "code",
   "execution_count": null,
   "metadata": {
    "collapsed": false
   },
   "outputs": [],
   "source": [
    "###############################################################################\n",
    "# Fit regression model\n",
    "params = {'n_estimators': 4000, 'max_depth': 10, 'min_samples_split': 6,\n",
    "          'learning_rate': 0.01, 'loss': 'lad', 'subsample': 0.7}\n",
    "clf = GradientBoostingRegressor(**params)\n",
    "\n",
    "clf.fit(X_train, y_train)\n",
    "\n",
    "###############################################################################\n",
    "# Plot training deviance\n",
    "\n",
    "# compute test set deviance\n",
    "test_score = np.zeros((params['n_estimators'],), dtype=np.float64)\n",
    "\n",
    "for i, y_pred in enumerate(clf.staged_decision_function(X_test)):\n",
    "    test_score[i] = clf.loss_(y_test, y_pred)\n",
    "\n",
    "plt.figure(figsize=(6, 6))\n",
    "plt.subplot(1, 1, 1)\n",
    "plt.title('Deviance')\n",
    "plt.plot(np.arange(params['n_estimators']) + 1, clf.train_score_, 'b-',\n",
    "         label='Training Set Deviance')\n",
    "plt.plot(np.arange(params['n_estimators']) + 1, test_score, 'r-',\n",
    "         label='Test Set Deviance')\n",
    "plt.legend(loc='upper right')\n",
    "plt.xlabel('Boosting Iterations')\n",
    "plt.xlim( 0, 2000 )\n",
    "plt.ylabel('Deviance')\n",
    "\n",
    "plt.show()"
   ]
  },
  {
   "cell_type": "code",
   "execution_count": 23,
   "metadata": {
    "collapsed": true
   },
   "outputs": [],
   "source": [
    "def rmsle_fn(y_true, y_pred):\n",
    "    from math import log, sqrt\n",
    "    assert len(y_true) == len(y_pred)\n",
    "    # Convert all negative y_pred to zero\n",
    "    y_pred[y_pred < 0] = 0\n",
    "    rmsle = 0\n",
    "    for pair in zip(y_true, y_pred):\n",
    "        log_diff = log(1+pair[1]) - log(1+pair[0]) \n",
    "        rmsle += log_diff*log_diff\n",
    "    rmsle = sqrt(rmsle/len(y_true))\n",
    "    return rmsle\n",
    "rmsle_loss = make_scorer(rmsle_fn, greater_is_better=False)"
   ]
  },
  {
   "cell_type": "code",
   "execution_count": 30,
   "metadata": {
    "collapsed": true
   },
   "outputs": [],
   "source": [
    "params = {'n_estimators': 4000, 'max_depth': 10, 'min_samples_split': 6,\n",
    "          'learning_rate': 0.01, 'loss': 'lad', 'subsample': 0.7}\n",
    "gbr_opt = GradientBoostingRegressor(**params)"
   ]
  },
  {
   "cell_type": "code",
   "execution_count": 33,
   "metadata": {
    "collapsed": false
   },
   "outputs": [
    {
     "name": "stdout",
     "output_type": "stream",
     "text": [
      "Loss: -0.22 (+/- 0.03)\n"
     ]
    },
    {
     "data": {
      "text/plain": [
       "array([-0.21623896, -0.24367865, -0.21750908, -0.20910417, -0.23312248])"
      ]
     },
     "execution_count": 33,
     "metadata": {},
     "output_type": "execute_result"
    }
   ],
   "source": [
    "scores = cross_validation.cross_val_score(gbr_opt, X, y, scoring=rmsle_loss, cv=5)\n",
    "print(\"Loss: %0.2f (+/- %0.2f)\" % (scores.mean(), scores.std() * 2))\n",
    "scores"
   ]
  },
  {
   "cell_type": "code",
   "execution_count": 157,
   "metadata": {
    "collapsed": false
   },
   "outputs": [
    {
     "data": {
      "image/png": "[encoded data removed]",
      "text/plain": [
       "<matplotlib.figure.Figure at 0x1177de890>"
      ]
     },
     "metadata": {},
     "output_type": "display_data"
    }
   ],
   "source": [
    "pred_y = cross_validation.cross_val_predict(gbr_opt,X,y, cv=6, n_jobs=-1)\n",
    "#pred_y = cross_validation.cross_val_predict?\n",
    "plt.scatter(y, pred_y,  color='black')\n",
    "plt.xlim((0,150))\n",
    "plt.ylim ((0,150))\n",
    "\n",
    "plt.show()"
   ]
  },
  {
   "cell_type": "code",
   "execution_count": 33,
   "metadata": {
    "collapsed": false
   },
   "outputs": [
    {
     "data": {
      "text/plain": [
       "GradientBoostingRegressor(alpha=0.9, init=None, learning_rate=0.01,\n",
       "             loss='lad', max_depth=10, max_features=None,\n",
       "             max_leaf_nodes=None, min_samples_leaf=1, min_samples_split=6,\n",
       "             min_weight_fraction_leaf=0.0, n_estimators=4000,\n",
       "             random_state=None, subsample=0.7, verbose=0, warm_start=False)"
      ]
     },
     "execution_count": 33,
     "metadata": {},
     "output_type": "execute_result"
    }
   ],
   "source": [
    "gbr_opt.fit(X,y)"
   ]
  },
  {
   "cell_type": "code",
   "execution_count": 34,
   "metadata": {
    "collapsed": false
   },
   "outputs": [
    {
     "data": {
      "text/plain": [
       "array([ 0.03667832,  0.01207276,  0.04080456,  0.10252236,  0.09597256,\n",
       "        0.05253317,  0.00610604,  0.13503141,  0.02350828,  0.03257298,\n",
       "        0.03037077,  0.13542004,  0.04832166,  0.03553777,  0.00863711,\n",
       "        0.00404457,  0.00728959,  0.01115421,  0.01050346,  0.00508049,\n",
       "        0.00475655,  0.01267434,  0.01026237,  0.00997013,  0.00582991,\n",
       "        0.00471879,  0.0060301 ,  0.01161321,  0.00753043,  0.00936785,\n",
       "        0.00614569,  0.01574644,  0.01410686,  0.01016464,  0.00521114,\n",
       "        0.00913066,  0.00553644,  0.01704233])"
      ]
     },
     "execution_count": 34,
     "metadata": {},
     "output_type": "execute_result"
    }
   ],
   "source": [
    "gbr_opt.feature_importances_"
   ]
  },
  {
   "cell_type": "code",
   "execution_count": 36,
   "metadata": {
    "collapsed": true
   },
   "outputs": [],
   "source": [
    "comp_id1_trans = enc_comp_typeid.transform(test.component_type_id_1.values)\n",
    "comp_id2_trans = enc_comp_typeid.transform(test.component_type_id_2.values)\n",
    "comp_id3_trans = enc_comp_typeid.transform(test.component_type_id_3.values)\n",
    "matid_trans = enc_mat_id.transform(test.material_id.values)\n",
    "splr_trans = enc_splr_id.transform(test.supplier.values)\n",
    "end_a_trans = enc_end.transform(test.end_a.values)\n",
    "end_x_trans = enc_end.transform(test.end_x.values)\n",
    "end_form_id1_trans = enc_end_form_id.transform(test.end_form_id_1_1.values)\n",
    "end_form_id2_trans = enc_end_form_id.transform(test.end_form_id_2_1.values)\n",
    "conn_type_id_trans = enc_connection_type_id.transform(test.connection_type_id_2.values)\n",
    "\n",
    "end_x_1x_vals = [1 if x=='Y' else 0 for x in test.end_x_1x.values]\n",
    "end_a_1x_vals = [1 if x=='Y' else 0 for x in test.end_a_1x.values]\n",
    "end_x_2x_vals = [1 if x=='Y' else 0 for x in test.end_x_2x.values]\n",
    "end_a_2x_vals = [1 if x=='Y' else 0 for x in test.end_a_2x.values]\n",
    "brack_price_vals = [1 if x=='Yes' else 0 for x in test.bracket_pricing.values]\n",
    "orient_1_vals = [1 if x=='Yes' else 0 for x in test.orientation_1.values]\n",
    "orient_2_vals = [1 if x=='Yes' else 0 for x in test.orientation_2.values]\n",
    "orient_3_vals = [1 if x=='Yes' else 0 for x in test.orientation_3.values]"
   ]
  },
  {
   "cell_type": "code",
   "execution_count": 37,
   "metadata": {
    "collapsed": false
   },
   "outputs": [
    {
     "data": {
      "text/plain": [
       "Index([             u'supplier',                  u'year',\n",
       "                       u'month',                   u'day',\n",
       "                u'annual_usage',    u'min_order_quantity',\n",
       "             u'bracket_pricing',              u'quantity',\n",
       "                 u'material_id',              u'diameter',\n",
       "                        u'wall',                u'length',\n",
       "                   u'num_bends',           u'bend_radius',\n",
       "                    u'end_a_2x',              u'end_x_1x',\n",
       "                    u'end_x_2x',                 u'end_a',\n",
       "                       u'end_x',              u'num_boss',\n",
       "                       u'other',            u'quantity_1',\n",
       "                  u'quantity_2',            u'quantity_3',\n",
       "        u'connection_type_id_2',       u'end_form_id_1_1',\n",
       "             u'end_form_id_2_1',        u'hex_nut_size_1',\n",
       "                  u'hex_size_1',            u'hex_size_3',\n",
       "       u'intended_nut_thread_1',              u'length_1',\n",
       "                    u'length_2',        u'thread_pitch_1',\n",
       "             u'thread_size_1_1',       u'thread_size_1_3',\n",
       "               u'orientation_1',      u'overall_length_1'],\n",
       "      dtype='object')"
      ]
     },
     "execution_count": 37,
     "metadata": {},
     "output_type": "execute_result"
    }
   ],
   "source": [
    "testp = test.loc[:,[#u'supplier', \n",
    "       'year','month','day', u'annual_usage',\n",
    "       'min_order_quantity', #u'bracket_pricing',\n",
    "       'quantity', \n",
    "       #'material_id', \n",
    "       'diameter', u'wall', u'length', u'num_bends',\n",
    "       'bend_radius',\n",
    "       #'end_a_1x', u'end_a_2x', u'end_x_1x', u'end_x_2x','end_a', u'end_x',\n",
    "       'num_boss', u'num_bracket', u'other',\n",
    "       ##'part_name_1','part_name_2','part_name_3', \n",
    "       #'component_type_id_1','component_type_id_2','component_type_id_3',\n",
    "       'quantity_1','quantity_2','quantity_3',\n",
    "       #'connection_type_id_2',\n",
    "       #'end_form_id_1_1','end_form_id_2_1',\n",
    "       'hex_nut_size_1','hex_size_1','hex_size_3',\n",
    "       'intended_nut_thread_1','length_1','length_2',\n",
    "       'thread_pitch_1','thread_size_1_1','thread_size_1_3',\n",
    "       #'orientation_1','orientation_2','orientation_3',\n",
    "       'overall_length_1'\n",
    "       ]]\n",
    "# Reencode the categorical variables\n",
    "testp.insert(0, 'supplier', splr_trans, allow_duplicates=False)\n",
    "testp.insert(6, 'bracket_pricing', brack_price_vals, allow_duplicates=False)\n",
    "testp.insert(8, 'material_id', matid_trans, allow_duplicates=False)\n",
    "testp.insert(14, 'end_a_1x', end_a_1x_vals, allow_duplicates=False)\n",
    "testp.insert(15, 'end_a_2x', end_a_2x_vals, allow_duplicates=False)\n",
    "testp.insert(16, 'end_x_1x', end_x_1x_vals, allow_duplicates=False)\n",
    "testp.insert(17, 'end_x_2x', end_x_2x_vals, allow_duplicates=False)\n",
    "testp.insert(18, 'end_a', end_a_trans, allow_duplicates=False)\n",
    "testp.insert(19, 'end_x', end_x_trans, allow_duplicates=False)\n",
    "testp.insert(23, 'component_type_id_1', comp_id1_trans, allow_duplicates=False)\n",
    "testp.insert(24, 'component_type_id_2', comp_id2_trans, allow_duplicates=False)\n",
    "testp.insert(25, 'component_type_id_3', comp_id3_trans, allow_duplicates=False)\n",
    "testp.insert(29, 'connection_type_id_2', conn_type_id_trans, allow_duplicates=False)\n",
    "testp.insert(30, 'end_form_id_1_1', end_form_id1_trans, allow_duplicates=False)\n",
    "testp.insert(31, 'end_form_id_2_1', end_form_id2_trans, allow_duplicates=False)\n",
    "testp.insert(41, 'orientation_1', orient_1_vals, allow_duplicates=False)\n",
    "testp.insert(42, 'orientation_2', orient_2_vals, allow_duplicates=False)\n",
    "testp.insert(43, 'orientation_3', orient_3_vals, allow_duplicates=False)\n",
    "testp = testp.drop('end_a_1x',1)\n",
    "testp = testp.drop('num_bracket',1)\n",
    "testp = testp.drop('component_type_id_1',1)\n",
    "testp = testp.drop('component_type_id_2',1)\n",
    "testp = testp.drop('component_type_id_3',1)\n",
    "testp = testp.drop('intended_nut_thread_1',1)\n",
    "testp = testp.drop('thread_pitch_1',1)\n",
    "testp = testp.drop('thread_size_1_1',1)\n",
    "testp = testp.drop('thread_size_1_3',1)\n",
    "testp = testp.drop('orientation_1',1)\n",
    "testp = testp.drop('orientation_2',1)\n",
    "testp = testp.drop('orientation_3',1)\n",
    "\n",
    "testp.columns"
   ]
  },
  {
   "cell_type": "code",
   "execution_count": 38,
   "metadata": {
    "collapsed": false
   },
   "outputs": [],
   "source": [
    "for column in testp.columns:\n",
    "    no_null = np.sum(testp[column].isnull())\n",
    "    if no_null:\n",
    "        print column, no_null"
   ]
  },
  {
   "cell_type": "code",
   "execution_count": 39,
   "metadata": {
    "collapsed": false
   },
   "outputs": [
    {
     "data": {
      "text/plain": [
       "(30235, 38)"
      ]
     },
     "execution_count": 39,
     "metadata": {},
     "output_type": "execute_result"
    }
   ],
   "source": [
    "test_X = testp.as_matrix(testp.columns)\n",
    "test_X.shape"
   ]
  },
  {
   "cell_type": "code",
   "execution_count": 40,
   "metadata": {
    "collapsed": false
   },
   "outputs": [],
   "source": [
    "test_y_pred = gbr_opt.predict(test_X)\n",
    "test_y_pred[test_y_pred<0] = 0.1\n",
    "test_y_pred_ser = pd.Series(data=test_y_pred,name='cost')\n",
    "test_y_pred_ser.to_csv(os.path.join('..','competition_data','cost_predicted_model11.csv'))\n"
   ]
  }
 ],
 "metadata": {
  "kernelspec": {
   "display_name": "Python 2",
   "language": "python",
   "name": "python2"
  },
  "language_info": {
   "codemirror_mode": {
    "name": "ipython",
    "version": 2
   },
   "file_extension": ".py",
   "mimetype": "text/x-python",
   "name": "python",
   "nbconvert_exporter": "python",
   "pygments_lexer": "ipython2",
   "version": "2.7.5"
  }
 },
 "nbformat": 4,
 "nbformat_minor": 0
}
