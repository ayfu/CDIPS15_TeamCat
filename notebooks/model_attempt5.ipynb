{
 "cells": [
  {
   "cell_type": "markdown",
   "metadata": {},
   "source": [
    "# Gradient boosting\n",
    "In this model generation, I explore gradient boosting\n",
    "\n",
    "In addition, the component ids are decomposed by Jingyi into component types \n",
    "and the related info."
   ]
  },
  {
   "cell_type": "code",
   "execution_count": 2,
   "metadata": {
    "collapsed": false
   },
   "outputs": [],
   "source": [
    "%matplotlib inline\n",
    "import os, glob\n",
    "import pandas as pd\n",
    "import numpy as np\n",
    "from sklearn import linear_model\n",
    "from sklearn.preprocessing import OneHotEncoder, LabelEncoder\n",
    "from sklearn.ensemble import GradientBoostingRegressor\n",
    "import matplotlib.pyplot as plt\n",
    "from IPython.display import display\n",
    "#from pyearth import Earth"
   ]
  },
  {
   "cell_type": "code",
   "execution_count": 3,
   "metadata": {
    "collapsed": false
   },
   "outputs": [],
   "source": [
    "train = pd.read_csv(os.path.join('..','competition_data','train2.csv'),header=0,index_col=1)"
   ]
  },
  {
   "cell_type": "code",
   "execution_count": 33,
   "metadata": {
    "collapsed": false
   },
   "outputs": [
    {
     "data": {
      "text/plain": [
       "Index([u'Unnamed: 0', u'tube_assembly_id', u'supplier', u'bracket_pricing',\n",
       "       u'quantity', u'cost', u'component_id_1_name', u'quantity_1',\n",
       "       u'component_id_2_name', u'quantity_2', u'component_id_3_name',\n",
       "       u'quantity_3', u'material_id', u'diameter', u'wall', u'length',\n",
       "       u'num_bends', u'bend_radius', u'end_a_2x', u'end_x_2x', u'end_a',\n",
       "       u'end_x', u'year', u'month', u'day'],\n",
       "      dtype='object')"
      ]
     },
     "execution_count": 33,
     "metadata": {},
     "output_type": "execute_result"
    }
   ],
   "source": [
    "train.columns"
   ]
  },
  {
   "cell_type": "code",
   "execution_count": 34,
   "metadata": {
    "collapsed": false
   },
   "outputs": [
    {
     "data": {
      "text/html": [
       "<div>\n",
       "<table border=\"1\" class=\"dataframe\">\n",
       "  <thead>\n",
       "    <tr style=\"text-align: right;\">\n",
       "      <th></th>\n",
       "      <th>Unnamed: 0</th>\n",
       "      <th>tube_assembly_id</th>\n",
       "      <th>supplier</th>\n",
       "      <th>bracket_pricing</th>\n",
       "      <th>quantity</th>\n",
       "      <th>cost</th>\n",
       "      <th>component_id_1_name</th>\n",
       "      <th>quantity_1</th>\n",
       "      <th>component_id_2_name</th>\n",
       "      <th>quantity_2</th>\n",
       "      <th>...</th>\n",
       "      <th>length</th>\n",
       "      <th>num_bends</th>\n",
       "      <th>bend_radius</th>\n",
       "      <th>end_a_2x</th>\n",
       "      <th>end_x_2x</th>\n",
       "      <th>end_a</th>\n",
       "      <th>end_x</th>\n",
       "      <th>year</th>\n",
       "      <th>month</th>\n",
       "      <th>day</th>\n",
       "    </tr>\n",
       "  </thead>\n",
       "  <tbody>\n",
       "    <tr>\n",
       "      <th>0</th>\n",
       "      <td>0</td>\n",
       "      <td>TA-00002</td>\n",
       "      <td>S-0066</td>\n",
       "      <td>Yes</td>\n",
       "      <td>1</td>\n",
       "      <td>21.905933</td>\n",
       "      <td>NUT-FLARED</td>\n",
       "      <td>2</td>\n",
       "      <td>NaN</td>\n",
       "      <td>0</td>\n",
       "      <td>...</td>\n",
       "      <td>137</td>\n",
       "      <td>8</td>\n",
       "      <td>19.05</td>\n",
       "      <td>N</td>\n",
       "      <td>N</td>\n",
       "      <td>EF-008</td>\n",
       "      <td>EF-008</td>\n",
       "      <td>2013</td>\n",
       "      <td>7</td>\n",
       "      <td>919</td>\n",
       "    </tr>\n",
       "  </tbody>\n",
       "</table>\n",
       "<p>1 rows × 25 columns</p>\n",
       "</div>"
      ],
      "text/plain": [
       "   Unnamed: 0 tube_assembly_id supplier bracket_pricing  quantity       cost  \\\n",
       "0           0         TA-00002   S-0066             Yes         1  21.905933   \n",
       "\n",
       "  component_id_1_name  quantity_1 component_id_2_name  quantity_2 ...  length  \\\n",
       "0          NUT-FLARED           2                 NaN           0 ...     137   \n",
       "\n",
       "   num_bends bend_radius  end_a_2x  end_x_2x   end_a   end_x  year month  day  \n",
       "0          8       19.05         N         N  EF-008  EF-008  2013     7  919  \n",
       "\n",
       "[1 rows x 25 columns]"
      ]
     },
     "execution_count": 34,
     "metadata": {},
     "output_type": "execute_result"
    }
   ],
   "source": [
    "train[0:1]"
   ]
  },
  {
   "cell_type": "markdown",
   "metadata": {},
   "source": [
    "In the predictor data, the first two columns are unnecessary."
   ]
  },
  {
   "cell_type": "code",
   "execution_count": 4,
   "metadata": {
    "collapsed": false
   },
   "outputs": [],
   "source": [
    "trainp = train.loc[:,['quantity', \n",
    "                      'component_id_1_name','quantity_1',\n",
    "                      'component_id_2_name','quantity_2',\n",
    "                      'component_id_3_name','quantity_3',\n",
    "                      'material_id','diameter','wall','length',\n",
    "                      'num_bends','bend_radius','end_a_2x',\n",
    "                      'end_x_2x','end_a','end_x','year',\n",
    "                      'month','day','cost']]"
   ]
  },
  {
   "cell_type": "markdown",
   "metadata": {},
   "source": [
    "## Categorical variables pruning\n",
    "The categorical variables such as material_id, component_id_x_name, \n",
    "end_x, end_a with string categories are converted to integer\n",
    "labels. The values with high frequencies are retained and the low\n",
    "frequency values (<100) are all combined into a single value"
   ]
  },
  {
   "cell_type": "code",
   "execution_count": 41,
   "metadata": {
    "collapsed": false
   },
   "outputs": [
    {
     "name": "stdout",
     "output_type": "stream",
     "text": [
      "NUT-SWIVEL         9364\n",
      "NUT-FLARED         4774\n",
      "CONNECTOR-SEAL     1131\n",
      "NUT                1130\n",
      "NUT-INV FLARED      758\n",
      "SLEEVE-ORFS         174\n",
      "CONNECTOR           159\n",
      "FLANGE              135\n",
      "HEAD-FLANGED         96\n",
      "BOSS                 93\n",
      "ELBOW                85\n",
      "SLEEVE               85\n",
      "SLEEVE-FITTING       79\n",
      "FLANGE-ONE PIEC      66\n",
      "ELBOW-90 DEG         62\n",
      "ELBOW-FLARED         48\n",
      "dtype: int64\n",
      "SLEEVE-ORFS         8873\n",
      "SLEEVE-FLARED        886\n",
      "SLEEVE               860\n",
      "NUT-SWIVEL           564\n",
      "CONNECTOR-SEAL       322\n",
      "ELBOW-90 DEG         149\n",
      "SLEEVE-FACE SEAL     132\n",
      "NUT                  109\n",
      "NUT-FITTING           79\n",
      "dtype: int64\n",
      "CONNECTOR-SEAL    2727\n",
      "SLEEVE-ORFS        445\n",
      "ELBOW-90 DEG       271\n",
      "CONNECTOR          144\n",
      "SLEEVE-REDUCER      91\n",
      "dtype: int64\n"
     ]
    }
   ],
   "source": [
    "print trainp.component_id_1_name.value_counts()[0:16]\n",
    "print trainp.component_id_2_name.value_counts()[0:9]\n",
    "print trainp.component_id_3_name.value_counts()[0:5]"
   ]
  },
  {
   "cell_type": "code",
   "execution_count": 37,
   "metadata": {
    "collapsed": false
   },
   "outputs": [
    {
     "name": "stdout",
     "output_type": "stream",
     "text": [
      "477\n",
      "6321\n",
      "14741\n"
     ]
    }
   ],
   "source": [
    "print sum(trainp.component_id_1_name.isnull().values)\n",
    "print sum(trainp.component_id_2_name.isnull().values)\n",
    "print sum(trainp.component_id_3_name.isnull().values)"
   ]
  },
  {
   "cell_type": "code",
   "execution_count": null,
   "metadata": {
    "collapsed": true
   },
   "outputs": [],
   "source": []
  },
  {
   "cell_type": "code",
   "execution_count": 5,
   "metadata": {
    "collapsed": false
   },
   "outputs": [
    {
     "name": "stdout",
     "output_type": "stream",
     "text": [
      "[nan 'ADAPTER' 'ADAPTER-EXH PIP' 'ADAPTER-INLET' 'ADAPTER-O DRAIN'\n",
      " 'ADAPTER-SUPPLY' 'BAR' 'BLOCK' 'BLOCK-DRAIN' 'BOSS' 'COLLAR' 'CONNECTOR'\n",
      " 'CONNECTOR-FLARE' 'CONNECTOR-ORFS' 'CONNECTOR-SEAL' 'CONNECTOR-SPL'\n",
      " 'CONNECTOR-WELD' 'COUPLET' 'COUPLET-WELD' 'COUPLING (1\"BSP)' 'COUPLING AS'\n",
      " 'ELBOW' 'ELBOW-90 DEG' 'ELBOW-90 DEGREE' 'ELBOW-FLARED' 'ELBOW-HYDRAULIC'\n",
      " 'ELBOW-MANF IN' 'ELBOW-WATER' 'FITTING' 'FITTING-NUT' 'FLANGE'\n",
      " 'FLANGE-ONE PIEC' 'FLANGE-ONE PIECE' 'FLANGE-SPL' 'HEAD-FLANGED' 'LINK'\n",
      " 'MANIFOLD' 'NUT' 'NUT-45 (DEG)' 'NUT-A/C' 'NUT-FITTING' 'NUT-FLARED'\n",
      " 'NUT-INV FLARED' 'NUT-SWIVEL' 'ORIFICE' 'PLATE' 'SEAL-O-RING' 'SLEEVE'\n",
      " 'SLEEVE-FITTING' 'SLEEVE-ORFS' 'TEE-UNION' 'WASHER']\n",
      "defaultdict(<type 'int'>, {0: 477, 1: 26, 2: 2, 3: 1, 4: 3, 5: 8, 6: 3, 7: 1, 8: 3, 9: 93, 10: 4, 11: 159, 12: 32, 13: 8, 14: 1131, 15: 8, 16: 40, 17: 3, 18: 6, 19: 4, 20: 13, 21: 85, 22: 62, 23: 8, 24: 48, 25: 16, 26: 2, 27: 1, 28: 43, 29: 8, 30: 135, 31: 66, 32: 4, 33: 8, 34: 96, 35: 1, 36: 8, 37: 1130, 38: 40, 39: 8, 40: 24, 41: 4774, 42: 758, 43: 9364, 44: 6, 45: 10, 46: 2, 47: 85, 48: 79, 49: 174, 50: 8, 51: 8})\n",
      "defaultdict(<type 'int'>, {0: 477, 1: 984, 11: 159, 37: 1130, 41: 4774, 42: 758, 43: 9364, 14: 1131, 49: 174, 30: 135})\n"
     ]
    },
    {
     "name": "stderr",
     "output_type": "stream",
     "text": [
      "/home/mbkumar/venv1/lib/python2.7/site-packages/numpy-1.9.2-py2.7-linux-x86_64.egg/numpy/lib/arraysetops.py:198: FutureWarning: numpy not_equal will not check object identity in the future. The comparison did not return the same result as suggested by the identity (`is`)) and will change.\n",
      "  flag = np.concatenate(([True], aux[1:] != aux[:-1]))\n",
      "/home/mbkumar/venv1/lib/python2.7/site-packages/numpy-1.9.2-py2.7-linux-x86_64.egg/numpy/lib/arraysetops.py:251: FutureWarning: numpy equal will not check object identity in the future. The comparison did not return the same result as suggested by the identity (`is`)) and will change.\n",
      "  return aux[:-1][aux[1:] == aux[:-1]]\n"
     ]
    }
   ],
   "source": [
    "lbl_enc = LabelEncoder()\n",
    "lbl_enc.fit(trainp.component_id_1_name.values)  \n",
    "print lbl_enc.classes_\n",
    "comp_id1_trans = lbl_enc.transform(trainp.component_id_1_name.values)\n",
    "from collections import defaultdict\n",
    "d = defaultdict(int)\n",
    "for i in comp_id1_trans:\n",
    "    d[i] += 1\n",
    "print d\n",
    "\n",
    "\n",
    "for i in range(len(comp_id1_trans)):\n",
    "    if d[comp_id1_trans[i]] < 135:\n",
    "        comp_id1_trans[i] = 1 \n",
    "\n",
    "d1 = defaultdict(int)\n",
    "for i in comp_id1_trans:\n",
    "    d1[i] += 1\n",
    "\n",
    "print d1\n",
    "\n",
    "lbl1_map = {}\n",
    "for i, lbl in enumerate(list(lbl_enc.classes_)):\n",
    "    lbl1_map[lbl] = i"
   ]
  },
  {
   "cell_type": "code",
   "execution_count": 6,
   "metadata": {
    "collapsed": false
   },
   "outputs": [
    {
     "name": "stdout",
     "output_type": "stream",
     "text": [
      "[nan 'ADAPTER' 'ADAPTER-INLET' 'ADAPTER-O RING' 'BLOCK' 'BOSS'\n",
      " 'BOSS-FITTING' 'CONNECTOR' 'CONNECTOR-BHD' 'CONNECTOR-FLARE'\n",
      " 'CONNECTOR-O-RIN' 'CONNECTOR-ORFS' 'CONNECTOR-SEAL' 'CONNECTOR-SPL'\n",
      " 'CONNECTOR-SWIVEL' 'CONNECTOR-WELD' 'ELBOW' 'ELBOW-90 DEG'\n",
      " 'ELBOW-90 DEGREE' 'ELBOW-90 DEGREES' 'ELBOW-HYDRAULIC' 'FLANGE'\n",
      " 'FLANGE-4 BOLT' 'FLANGE-CAPTIVE' 'FLANGE-ONE PIEC' 'FLANGE-SADDLE'\n",
      " 'FLANGE-WELD' 'HEAD O-RING' 'HEAD-FLANGED' 'LINK' 'NUT' 'NUT-45 (DEG)'\n",
      " 'NUT-A/C' 'NUT-FITTING' 'NUT-FLARED' 'NUT-SWIVEL' 'PIN-DOWEL' 'PLATE'\n",
      " 'PLUG' 'PLUG-O-RING' 'REDUCER' 'SLEEEVE-REDUCER' 'SLEEVE'\n",
      " 'SLEEVE-FACE SEAL' 'SLEEVE-FITTING' 'SLEEVE-FLARED' 'SLEEVE-ORFS'\n",
      " 'SLEEVE-REDUCER' 'STUD-WELD' 'TEE-ORFS TO BRA' 'TUBE' 'TUBE AS']\n",
      "SLEEVE-ORFS         8873\n",
      "SLEEVE-FLARED        886\n",
      "SLEEVE               860\n",
      "NUT-SWIVEL           564\n",
      "CONNECTOR-SEAL       322\n",
      "ELBOW-90 DEG         149\n",
      "SLEEVE-FACE SEAL     132\n",
      "NUT                  109\n",
      "NUT-FITTING           79\n",
      "SLEEVE-REDUCER        72\n",
      "CONNECTOR             72\n",
      "CONNECTOR-FLARE       56\n",
      "ELBOW                 55\n",
      "NUT-FLARED            48\n",
      "CONNECTOR-SWIVEL      40\n",
      "SLEEEVE-REDUCER       38\n",
      "HEAD-FLANGED          38\n",
      "FLANGE                38\n",
      "ADAPTER               32\n",
      "CONNECTOR-WELD        29\n",
      "SLEEVE-FITTING        24\n",
      "BOSS                  23\n",
      "CONNECTOR-SPL         19\n",
      "CONNECTOR-BHD         19\n",
      "FLANGE-ONE PIEC       18\n",
      "CONNECTOR-ORFS        16\n",
      "ELBOW-90 DEGREE       16\n",
      "TUBE AS                8\n",
      "ELBOW-HYDRAULIC        8\n",
      "ADAPTER-O RING         8\n",
      "NUT-A/C                8\n",
      "PIN-DOWEL              8\n",
      "FLANGE-CAPTIVE         8\n",
      "HEAD O-RING            8\n",
      "NUT-45 (DEG)           8\n",
      "BLOCK                  8\n",
      "TEE-ORFS TO BRA        8\n",
      "LINK                   6\n",
      "CONNECTOR-O-RIN        6\n",
      "BOSS-FITTING           6\n",
      "FLANGE-4 BOLT          6\n",
      "FLANGE-WELD            5\n",
      "PLUG                   4\n",
      "REDUCER                4\n",
      "PLATE                  4\n",
      "TUBE                   4\n",
      "FLANGE-SADDLE          3\n",
      "ADAPTER-INLET          3\n",
      "STUD-WELD              3\n",
      "ELBOW-90 DEGREES       2\n",
      "PLUG-O-RING            2\n",
      "dtype: int64\n",
      "46\n",
      "defaultdict(<type 'int'>, {0: 6321, 1: 32, 2: 3, 3: 8, 4: 8, 5: 23, 6: 6, 7: 72, 8: 19, 9: 56, 10: 6, 11: 16, 12: 322, 13: 19, 14: 40, 15: 29, 16: 55, 17: 149, 18: 16, 19: 2, 20: 8, 21: 38, 22: 6, 23: 8, 24: 18, 25: 3, 26: 5, 27: 8, 28: 38, 29: 6, 30: 109, 31: 8, 32: 8, 33: 79, 34: 48, 35: 564, 36: 8, 37: 4, 38: 4, 39: 2, 40: 4, 41: 38, 42: 860, 43: 132, 44: 24, 45: 886, 46: 8873, 47: 72, 48: 3, 49: 8, 50: 4, 51: 8})\n",
      "defaultdict(<type 'int'>, {0: 6321, 1: 870, 35: 564, 42: 860, 43: 132, 12: 322, 45: 886, 46: 8873, 17: 149, 30: 109})\n"
     ]
    }
   ],
   "source": [
    "lbl_enc = LabelEncoder()\n",
    "lbl_enc.fit(trainp.component_id_2_name.values)  \n",
    "print lbl_enc.classes_\n",
    "print trainp.component_id_2_name.value_counts()\n",
    "print list(lbl_enc.classes_).index('SLEEVE-ORFS')\n",
    "comp_id2_trans = lbl_enc.transform(trainp.component_id_2_name.values)\n",
    "from collections import defaultdict\n",
    "d = defaultdict(int)\n",
    "for i in comp_id2_trans:\n",
    "    d[i] += 1\n",
    "print d\n",
    "for i in range(len(comp_id2_trans)):\n",
    "    if d[comp_id2_trans[i]] < 109:\n",
    "        comp_id2_trans[i] = 1 \n",
    "\n",
    "d2 = defaultdict(int)\n",
    "for i in comp_id2_trans:\n",
    "    d2[i] += 1\n",
    "\n",
    "print d2\n",
    "\n",
    "lbl2_map = {}\n",
    "for i, lbl in enumerate(list(lbl_enc.classes_)):\n",
    "    lbl2_map[lbl] = i"
   ]
  },
  {
   "cell_type": "code",
   "execution_count": 7,
   "metadata": {
    "collapsed": false
   },
   "outputs": [
    {
     "name": "stdout",
     "output_type": "stream",
     "text": [
      "[nan 'ADAPTER' 'ADAPTER-O LINE' 'ADAPTER-O SUPPL' 'ADAPTER-OIL LIN' 'BLOCK'\n",
      " 'BLOCK-HYD' 'BOSS' 'CONNECTOR' 'CONNECTOR-BHD' 'CONNECTOR-ORFS'\n",
      " 'CONNECTOR-SEAL' 'CONNECTOR-SPL' 'CONNECTOR-WELD' 'ELBOW' 'ELBOW-37 (DEG)'\n",
      " 'ELBOW-90 (DEG)' 'ELBOW-90 DEG' 'ELBOW-90 DEGREE' 'ELBOW-HYDRAULIC'\n",
      " 'FITTING' 'FLANGE' 'FLANGE-ONE PC' 'FLANGE-ONE PIEC' 'FLANGE-ONE PIECE'\n",
      " 'HEAD FLANGED' 'HEAD-FLANGED' 'NUT-ORFS' 'NUT-SWIVEL' 'PLATE' 'PLUG-STOR'\n",
      " 'SLEEVE' 'SLEEVE-FLARED' 'SLEEVE-ORFS' 'SLEEVE-REDUCER' 'TEE-FLARED'\n",
      " 'TUBE' 'TUBE AS.']\n",
      "defaultdict(<type 'int'>, {0: 14741, 1: 8, 2: 8, 3: 8, 4: 7, 5: 47, 6: 8, 7: 40, 8: 144, 9: 71, 10: 72, 11: 2727, 12: 16, 13: 64, 14: 35, 15: 16, 16: 20, 17: 271, 18: 24, 19: 4, 20: 8, 21: 32, 22: 2, 23: 1, 24: 4, 25: 8, 26: 16, 27: 7, 28: 48, 29: 5, 30: 2, 31: 35, 32: 32, 33: 445, 34: 91, 35: 8, 36: 3, 37: 8})\n",
      "defaultdict(<type 'int'>, {0: 14741, 33: 445, 1: 758, 8: 144, 11: 2727, 17: 271})\n"
     ]
    }
   ],
   "source": [
    "lbl_enc3 = LabelEncoder()\n",
    "lbl_enc3.fit(trainp.component_id_3_name.values)  \n",
    "print lbl_enc3.classes_\n",
    "comp_id3_trans = lbl_enc3.transform(trainp.component_id_3_name.values)\n",
    "from collections import defaultdict\n",
    "d = defaultdict(int)\n",
    "for i in comp_id3_trans:\n",
    "    d[i] += 1\n",
    "print d\n",
    "for i in range(len(comp_id3_trans)):\n",
    "    if d[comp_id3_trans[i]] < 100:\n",
    "        comp_id3_trans[i] = 1 \n",
    "\n",
    "d3 = defaultdict(int)\n",
    "for i in comp_id3_trans:\n",
    "    d3[i] += 1\n",
    "\n",
    "print d3\n",
    "\n",
    "lbl3_map = {}\n",
    "for i, lbl in enumerate(list(lbl_enc3.classes_)):\n",
    "    lbl3_map[lbl] = i"
   ]
  },
  {
   "cell_type": "code",
   "execution_count": 8,
   "metadata": {
    "collapsed": true
   },
   "outputs": [],
   "source": [
    "comp_id1_trans = np.expand_dims(comp_id1_trans,axis=1)\n",
    "comp_id2_trans = np.expand_dims(comp_id2_trans,axis=1)\n",
    "comp_id3_trans = np.expand_dims(comp_id3_trans,axis=1)\n",
    "#enc_comp_id1 = OneHotEncoder()\n",
    "#enc_comp_id1.fit(  \n",
    "#print enc_comp_id1.n_values_\n",
    "#enc_end.feature_indices_\n",
    "#end_trans = enc_end.transform(end_vals).toarray()\n",
    "#np.shape(end_trans)"
   ]
  },
  {
   "cell_type": "code",
   "execution_count": 45,
   "metadata": {
    "collapsed": false
   },
   "outputs": [
    {
     "data": {
      "text/plain": [
       "SP-0029    10117\n",
       "SP-0035     3222\n",
       "SP-0039     2614\n",
       "SP-0019     2407\n",
       "SP-0028      572\n",
       "SP-0036       48\n",
       "SP-0046       29\n",
       "SP-0048        9\n",
       "SP-0033        6\n",
       "SP-0030        6\n",
       "SP-0038        2\n",
       "SP-0031        2\n",
       "SP-0037        2\n",
       "dtype: int64"
      ]
     },
     "execution_count": 45,
     "metadata": {},
     "output_type": "execute_result"
    }
   ],
   "source": [
    "trainp.material_id.value_counts()"
   ]
  },
  {
   "cell_type": "markdown",
   "metadata": {},
   "source": [
    "The first four material ids have high frequencies. Its better to assign those 4 to \n",
    "different values and group the rest into a single value"
   ]
  },
  {
   "cell_type": "code",
   "execution_count": 9,
   "metadata": {
    "collapsed": false
   },
   "outputs": [
    {
     "name": "stderr",
     "output_type": "stream",
     "text": [
      "/usr/lib/python2.7/site-packages/IPython/kernel/__main__.py:9: SettingWithCopyWarning: \n",
      "A value is trying to be set on a copy of a slice from a DataFrame\n",
      "\n",
      "See the the caveats in the documentation: http://pandas.pydata.org/pandas-docs/stable/indexing.html#indexing-view-versus-copy\n",
      "/usr/lib/python2.7/site-packages/IPython/kernel/__main__.py:10: SettingWithCopyWarning: \n",
      "A value is trying to be set on a copy of a slice from a DataFrame\n",
      "\n",
      "See the the caveats in the documentation: http://pandas.pydata.org/pandas-docs/stable/indexing.html#indexing-view-versus-copy\n"
     ]
    }
   ],
   "source": [
    "material_id_map = {'SP-0029': 0, 'SP-0035': 1, 'SP-0039': 2,\n",
    "                   'SP-0019': 3, 'SP-0028': 5, 'SP-0036': 4,\n",
    "                   'SP-0046': 4, 'SP-0048': 4, 'SP-0033': 4,\n",
    "                   'SP-0030': 4, 'SP-0038': 4, 'SP-0031': 4, \n",
    "                   'SP-0037': 4, \n",
    "                  }\n",
    "trainp1 = trainp.copy()\n",
    "for key,value in material_id_map.items():\n",
    "    trainp1.material_id[trainp1.material_id==key] = value\n",
    "trainp1.material_id[trainp1.material_id.isnull()] = 4"
   ]
  },
  {
   "cell_type": "code",
   "execution_count": 10,
   "metadata": {
    "collapsed": false
   },
   "outputs": [
    {
     "data": {
      "text/plain": [
       "array([[3],\n",
       "       [3],\n",
       "       [3],\n",
       "       ..., \n",
       "       [1],\n",
       "       [1],\n",
       "       [1]], dtype=object)"
      ]
     },
     "execution_count": 10,
     "metadata": {},
     "output_type": "execute_result"
    }
   ],
   "source": [
    "material_id_vals = trainp1.material_id.values\n",
    "#preprocessing.OneHotEncoder\n",
    "material_id_vals = np.reshape(material_id_vals,(len(material_id_vals),1))\n",
    "material_id_vals"
   ]
  },
  {
   "cell_type": "code",
   "execution_count": 13,
   "metadata": {
    "collapsed": false
   },
   "outputs": [],
   "source": [
    "#enc = OneHotEncoder()\n",
    "#enc.fit(material_id_vals)  \n",
    "#enc.n_values_\n",
    "#enc.feature_indices_\n",
    "#mat_id_trans = enc.transform(material_id_vals).toarray()\n",
    "#mat_id_trans"
   ]
  },
  {
   "cell_type": "code",
   "execution_count": 48,
   "metadata": {
    "collapsed": false
   },
   "outputs": [
    {
     "data": {
      "text/plain": [
       "EF-003    11252\n",
       "EF-008     4920\n",
       "EF-018     1854\n",
       "NONE        421\n",
       "EF-017      246\n",
       "EF-009      151\n",
       "EF-023      151\n",
       "EF-012       32\n",
       "EF-013       17\n",
       "EF-021       12\n",
       "EF-016       12\n",
       "EF-006        8\n",
       "EF-002        4\n",
       "EF-010        2\n",
       "EF-019        2\n",
       "EF-022        1\n",
       "EF-007        1\n",
       "dtype: int64"
      ]
     },
     "execution_count": 48,
     "metadata": {},
     "output_type": "execute_result"
    }
   ],
   "source": [
    "trainp1.end_a.value_counts()"
   ]
  },
  {
   "cell_type": "code",
   "execution_count": 16,
   "metadata": {
    "collapsed": false
   },
   "outputs": [
    {
     "data": {
      "text/plain": [
       "EF-003    10975\n",
       "EF-008     4911\n",
       "EF-018     1824\n",
       "NONE        562\n",
       "EF-017      380\n",
       "EF-023      173\n",
       "EF-009      132\n",
       "EF-006       38\n",
       "EF-012       26\n",
       "EF-013       24\n",
       "EF-021       12\n",
       "EF-016       11\n",
       "EF-010        6\n",
       "EF-004        5\n",
       "EF-002        4\n",
       "9999          2\n",
       "EF-019        1\n",
       "dtype: int64"
      ]
     },
     "execution_count": 16,
     "metadata": {},
     "output_type": "execute_result"
    }
   ],
   "source": [
    "trainp1.end_x.value_counts()"
   ]
  },
  {
   "cell_type": "code",
   "execution_count": 11,
   "metadata": {
    "collapsed": true
   },
   "outputs": [],
   "source": [
    "end_map = {'EF-003': 0, 'EF-008': 1, 'EF-018': 2, 'NONE': 4, \n",
    "           'EF-017': 5, 'EF-009': 6, 'EF-023': 7, 'EF-012': 3, \n",
    "           'EF-013': 3, 'EF-021': 3, 'EF-016':  3, 'EF-006': 3, \n",
    "           'EF-002': 3, 'EF-010': 3, 'EF-019': 3, 'EF-022': 3,\n",
    "           'EF-007': 3, 'EF-004': 3, 'EF-015': 3, 'EF-005': 3,\n",
    "           'EF-014': 3, 'EF-001': 3, 'EF-025': 3, '9999': 3,\n",
    "           'EF-024': 3, 'EF-026': 3, 'EF-011': 3}"
   ]
  },
  {
   "cell_type": "code",
   "execution_count": 12,
   "metadata": {
    "collapsed": false
   },
   "outputs": [
    {
     "name": "stderr",
     "output_type": "stream",
     "text": [
      "/usr/lib/python2.7/site-packages/IPython/kernel/__main__.py:3: SettingWithCopyWarning: \n",
      "A value is trying to be set on a copy of a slice from a DataFrame\n",
      "\n",
      "See the the caveats in the documentation: http://pandas.pydata.org/pandas-docs/stable/indexing.html#indexing-view-versus-copy\n",
      "  app.launch_new_instance()\n",
      "/usr/lib/python2.7/site-packages/IPython/kernel/__main__.py:4: SettingWithCopyWarning: \n",
      "A value is trying to be set on a copy of a slice from a DataFrame\n",
      "\n",
      "See the the caveats in the documentation: http://pandas.pydata.org/pandas-docs/stable/indexing.html#indexing-view-versus-copy\n",
      "/usr/lib/python2.7/site-packages/IPython/kernel/__main__.py:5: SettingWithCopyWarning: \n",
      "A value is trying to be set on a copy of a slice from a DataFrame\n",
      "\n",
      "See the the caveats in the documentation: http://pandas.pydata.org/pandas-docs/stable/indexing.html#indexing-view-versus-copy\n",
      "/usr/lib/python2.7/site-packages/IPython/kernel/__main__.py:6: SettingWithCopyWarning: \n",
      "A value is trying to be set on a copy of a slice from a DataFrame\n",
      "\n",
      "See the the caveats in the documentation: http://pandas.pydata.org/pandas-docs/stable/indexing.html#indexing-view-versus-copy\n"
     ]
    }
   ],
   "source": [
    "trainp2 = trainp1.copy()\n",
    "for key,value in end_map.items():\n",
    "    trainp2.end_a[trainp2.end_a==key] = value\n",
    "    trainp2.end_x[trainp2.end_x==key] = value\n",
    "trainp2.end_a[trainp2.end_a.isnull()] = 4\n",
    "trainp2.end_x[trainp2.end_x.isnull()] = 4\n",
    "end_a_vals = trainp2.end_a.values\n",
    "#preprocessing.OneHotEncoder\n",
    "end_a_vals = np.reshape(end_a_vals,(len(end_a_vals),1))\n",
    "end_x_vals = trainp2.end_x.values\n",
    "end_x_vals = np.reshape(end_x_vals,(len(end_x_vals),1))\n"
   ]
  },
  {
   "cell_type": "code",
   "execution_count": 58,
   "metadata": {
    "collapsed": false
   },
   "outputs": [],
   "source": [
    "#enc_end = OneHotEncoder()\n",
    "#enc_end.fit(end_vals)  \n",
    "#print enc_end.n_values_\n",
    "#enc_end.feature_indices_\n",
    "#end_trans = enc_end.transform(end_vals).toarray()\n",
    "#np.shape(end_trans)"
   ]
  },
  {
   "cell_type": "code",
   "execution_count": 13,
   "metadata": {
    "collapsed": false
   },
   "outputs": [
    {
     "name": "stderr",
     "output_type": "stream",
     "text": [
      "/usr/lib/python2.7/site-packages/IPython/kernel/__main__.py:3: SettingWithCopyWarning: \n",
      "A value is trying to be set on a copy of a slice from a DataFrame\n",
      "\n",
      "See the the caveats in the documentation: http://pandas.pydata.org/pandas-docs/stable/indexing.html#indexing-view-versus-copy\n",
      "  app.launch_new_instance()\n",
      "/usr/lib/python2.7/site-packages/IPython/kernel/__main__.py:4: SettingWithCopyWarning: \n",
      "A value is trying to be set on a copy of a slice from a DataFrame\n",
      "\n",
      "See the the caveats in the documentation: http://pandas.pydata.org/pandas-docs/stable/indexing.html#indexing-view-versus-copy\n",
      "/usr/lib/python2.7/site-packages/IPython/kernel/__main__.py:5: SettingWithCopyWarning: \n",
      "A value is trying to be set on a copy of a slice from a DataFrame\n",
      "\n",
      "See the the caveats in the documentation: http://pandas.pydata.org/pandas-docs/stable/indexing.html#indexing-view-versus-copy\n",
      "/usr/lib/python2.7/site-packages/IPython/kernel/__main__.py:6: SettingWithCopyWarning: \n",
      "A value is trying to be set on a copy of a slice from a DataFrame\n",
      "\n",
      "See the the caveats in the documentation: http://pandas.pydata.org/pandas-docs/stable/indexing.html#indexing-view-versus-copy\n"
     ]
    },
    {
     "data": {
      "text/html": [
       "<div>\n",
       "<table border=\"1\" class=\"dataframe\">\n",
       "  <thead>\n",
       "    <tr style=\"text-align: right;\">\n",
       "      <th></th>\n",
       "      <th>quantity</th>\n",
       "      <th>component_id_1_name</th>\n",
       "      <th>quantity_1</th>\n",
       "      <th>component_id_2_name</th>\n",
       "      <th>quantity_2</th>\n",
       "      <th>component_id_3_name</th>\n",
       "      <th>quantity_3</th>\n",
       "      <th>material_id</th>\n",
       "      <th>diameter</th>\n",
       "      <th>wall</th>\n",
       "      <th>...</th>\n",
       "      <th>num_bends</th>\n",
       "      <th>bend_radius</th>\n",
       "      <th>end_a_2x</th>\n",
       "      <th>end_x_2x</th>\n",
       "      <th>end_a</th>\n",
       "      <th>end_x</th>\n",
       "      <th>year</th>\n",
       "      <th>month</th>\n",
       "      <th>day</th>\n",
       "      <th>cost</th>\n",
       "    </tr>\n",
       "  </thead>\n",
       "  <tbody>\n",
       "    <tr>\n",
       "      <th>0</th>\n",
       "      <td>1</td>\n",
       "      <td>NUT-FLARED</td>\n",
       "      <td>2</td>\n",
       "      <td>NaN</td>\n",
       "      <td>0</td>\n",
       "      <td>NaN</td>\n",
       "      <td>0</td>\n",
       "      <td>3</td>\n",
       "      <td>6.35</td>\n",
       "      <td>0.71</td>\n",
       "      <td>...</td>\n",
       "      <td>8</td>\n",
       "      <td>19.05</td>\n",
       "      <td>0</td>\n",
       "      <td>0</td>\n",
       "      <td>1</td>\n",
       "      <td>1</td>\n",
       "      <td>2013</td>\n",
       "      <td>7</td>\n",
       "      <td>919</td>\n",
       "      <td>21.905933</td>\n",
       "    </tr>\n",
       "    <tr>\n",
       "      <th>1</th>\n",
       "      <td>2</td>\n",
       "      <td>NUT-FLARED</td>\n",
       "      <td>2</td>\n",
       "      <td>NaN</td>\n",
       "      <td>0</td>\n",
       "      <td>NaN</td>\n",
       "      <td>0</td>\n",
       "      <td>3</td>\n",
       "      <td>6.35</td>\n",
       "      <td>0.71</td>\n",
       "      <td>...</td>\n",
       "      <td>8</td>\n",
       "      <td>19.05</td>\n",
       "      <td>0</td>\n",
       "      <td>0</td>\n",
       "      <td>1</td>\n",
       "      <td>1</td>\n",
       "      <td>2013</td>\n",
       "      <td>7</td>\n",
       "      <td>919</td>\n",
       "      <td>12.341214</td>\n",
       "    </tr>\n",
       "    <tr>\n",
       "      <th>2</th>\n",
       "      <td>5</td>\n",
       "      <td>NUT-FLARED</td>\n",
       "      <td>2</td>\n",
       "      <td>NaN</td>\n",
       "      <td>0</td>\n",
       "      <td>NaN</td>\n",
       "      <td>0</td>\n",
       "      <td>3</td>\n",
       "      <td>6.35</td>\n",
       "      <td>0.71</td>\n",
       "      <td>...</td>\n",
       "      <td>8</td>\n",
       "      <td>19.05</td>\n",
       "      <td>0</td>\n",
       "      <td>0</td>\n",
       "      <td>1</td>\n",
       "      <td>1</td>\n",
       "      <td>2013</td>\n",
       "      <td>7</td>\n",
       "      <td>919</td>\n",
       "      <td>6.601826</td>\n",
       "    </tr>\n",
       "    <tr>\n",
       "      <th>3</th>\n",
       "      <td>10</td>\n",
       "      <td>NUT-FLARED</td>\n",
       "      <td>2</td>\n",
       "      <td>NaN</td>\n",
       "      <td>0</td>\n",
       "      <td>NaN</td>\n",
       "      <td>0</td>\n",
       "      <td>3</td>\n",
       "      <td>6.35</td>\n",
       "      <td>0.71</td>\n",
       "      <td>...</td>\n",
       "      <td>8</td>\n",
       "      <td>19.05</td>\n",
       "      <td>0</td>\n",
       "      <td>0</td>\n",
       "      <td>1</td>\n",
       "      <td>1</td>\n",
       "      <td>2013</td>\n",
       "      <td>7</td>\n",
       "      <td>919</td>\n",
       "      <td>4.687770</td>\n",
       "    </tr>\n",
       "    <tr>\n",
       "      <th>4</th>\n",
       "      <td>25</td>\n",
       "      <td>NUT-FLARED</td>\n",
       "      <td>2</td>\n",
       "      <td>NaN</td>\n",
       "      <td>0</td>\n",
       "      <td>NaN</td>\n",
       "      <td>0</td>\n",
       "      <td>3</td>\n",
       "      <td>6.35</td>\n",
       "      <td>0.71</td>\n",
       "      <td>...</td>\n",
       "      <td>8</td>\n",
       "      <td>19.05</td>\n",
       "      <td>0</td>\n",
       "      <td>0</td>\n",
       "      <td>1</td>\n",
       "      <td>1</td>\n",
       "      <td>2013</td>\n",
       "      <td>7</td>\n",
       "      <td>919</td>\n",
       "      <td>3.541561</td>\n",
       "    </tr>\n",
       "    <tr>\n",
       "      <th>5</th>\n",
       "      <td>50</td>\n",
       "      <td>NUT-FLARED</td>\n",
       "      <td>2</td>\n",
       "      <td>NaN</td>\n",
       "      <td>0</td>\n",
       "      <td>NaN</td>\n",
       "      <td>0</td>\n",
       "      <td>3</td>\n",
       "      <td>6.35</td>\n",
       "      <td>0.71</td>\n",
       "      <td>...</td>\n",
       "      <td>8</td>\n",
       "      <td>19.05</td>\n",
       "      <td>0</td>\n",
       "      <td>0</td>\n",
       "      <td>1</td>\n",
       "      <td>1</td>\n",
       "      <td>2013</td>\n",
       "      <td>7</td>\n",
       "      <td>919</td>\n",
       "      <td>3.224406</td>\n",
       "    </tr>\n",
       "    <tr>\n",
       "      <th>6</th>\n",
       "      <td>100</td>\n",
       "      <td>NUT-FLARED</td>\n",
       "      <td>2</td>\n",
       "      <td>NaN</td>\n",
       "      <td>0</td>\n",
       "      <td>NaN</td>\n",
       "      <td>0</td>\n",
       "      <td>3</td>\n",
       "      <td>6.35</td>\n",
       "      <td>0.71</td>\n",
       "      <td>...</td>\n",
       "      <td>8</td>\n",
       "      <td>19.05</td>\n",
       "      <td>0</td>\n",
       "      <td>0</td>\n",
       "      <td>1</td>\n",
       "      <td>1</td>\n",
       "      <td>2013</td>\n",
       "      <td>7</td>\n",
       "      <td>919</td>\n",
       "      <td>3.082521</td>\n",
       "    </tr>\n",
       "    <tr>\n",
       "      <th>7</th>\n",
       "      <td>250</td>\n",
       "      <td>NUT-FLARED</td>\n",
       "      <td>2</td>\n",
       "      <td>NaN</td>\n",
       "      <td>0</td>\n",
       "      <td>NaN</td>\n",
       "      <td>0</td>\n",
       "      <td>3</td>\n",
       "      <td>6.35</td>\n",
       "      <td>0.71</td>\n",
       "      <td>...</td>\n",
       "      <td>8</td>\n",
       "      <td>19.05</td>\n",
       "      <td>0</td>\n",
       "      <td>0</td>\n",
       "      <td>1</td>\n",
       "      <td>1</td>\n",
       "      <td>2013</td>\n",
       "      <td>7</td>\n",
       "      <td>919</td>\n",
       "      <td>2.999060</td>\n",
       "    </tr>\n",
       "    <tr>\n",
       "      <th>8</th>\n",
       "      <td>1</td>\n",
       "      <td>NUT-FLARED</td>\n",
       "      <td>2</td>\n",
       "      <td>NaN</td>\n",
       "      <td>0</td>\n",
       "      <td>NaN</td>\n",
       "      <td>0</td>\n",
       "      <td>3</td>\n",
       "      <td>6.35</td>\n",
       "      <td>0.71</td>\n",
       "      <td>...</td>\n",
       "      <td>9</td>\n",
       "      <td>19.05</td>\n",
       "      <td>0</td>\n",
       "      <td>0</td>\n",
       "      <td>1</td>\n",
       "      <td>1</td>\n",
       "      <td>2013</td>\n",
       "      <td>7</td>\n",
       "      <td>919</td>\n",
       "      <td>21.972702</td>\n",
       "    </tr>\n",
       "    <tr>\n",
       "      <th>9</th>\n",
       "      <td>2</td>\n",
       "      <td>NUT-FLARED</td>\n",
       "      <td>2</td>\n",
       "      <td>NaN</td>\n",
       "      <td>0</td>\n",
       "      <td>NaN</td>\n",
       "      <td>0</td>\n",
       "      <td>3</td>\n",
       "      <td>6.35</td>\n",
       "      <td>0.71</td>\n",
       "      <td>...</td>\n",
       "      <td>9</td>\n",
       "      <td>19.05</td>\n",
       "      <td>0</td>\n",
       "      <td>0</td>\n",
       "      <td>1</td>\n",
       "      <td>1</td>\n",
       "      <td>2013</td>\n",
       "      <td>7</td>\n",
       "      <td>919</td>\n",
       "      <td>12.407983</td>\n",
       "    </tr>\n",
       "  </tbody>\n",
       "</table>\n",
       "<p>10 rows × 21 columns</p>\n",
       "</div>"
      ],
      "text/plain": [
       "   quantity component_id_1_name  quantity_1 component_id_2_name  quantity_2  \\\n",
       "0         1          NUT-FLARED           2                 NaN           0   \n",
       "1         2          NUT-FLARED           2                 NaN           0   \n",
       "2         5          NUT-FLARED           2                 NaN           0   \n",
       "3        10          NUT-FLARED           2                 NaN           0   \n",
       "4        25          NUT-FLARED           2                 NaN           0   \n",
       "5        50          NUT-FLARED           2                 NaN           0   \n",
       "6       100          NUT-FLARED           2                 NaN           0   \n",
       "7       250          NUT-FLARED           2                 NaN           0   \n",
       "8         1          NUT-FLARED           2                 NaN           0   \n",
       "9         2          NUT-FLARED           2                 NaN           0   \n",
       "\n",
       "  component_id_3_name  quantity_3 material_id  diameter  wall    ...      \\\n",
       "0                 NaN           0           3      6.35  0.71    ...       \n",
       "1                 NaN           0           3      6.35  0.71    ...       \n",
       "2                 NaN           0           3      6.35  0.71    ...       \n",
       "3                 NaN           0           3      6.35  0.71    ...       \n",
       "4                 NaN           0           3      6.35  0.71    ...       \n",
       "5                 NaN           0           3      6.35  0.71    ...       \n",
       "6                 NaN           0           3      6.35  0.71    ...       \n",
       "7                 NaN           0           3      6.35  0.71    ...       \n",
       "8                 NaN           0           3      6.35  0.71    ...       \n",
       "9                 NaN           0           3      6.35  0.71    ...       \n",
       "\n",
       "   num_bends  bend_radius  end_a_2x end_x_2x end_a end_x  year  month  day  \\\n",
       "0          8        19.05         0        0     1     1  2013      7  919   \n",
       "1          8        19.05         0        0     1     1  2013      7  919   \n",
       "2          8        19.05         0        0     1     1  2013      7  919   \n",
       "3          8        19.05         0        0     1     1  2013      7  919   \n",
       "4          8        19.05         0        0     1     1  2013      7  919   \n",
       "5          8        19.05         0        0     1     1  2013      7  919   \n",
       "6          8        19.05         0        0     1     1  2013      7  919   \n",
       "7          8        19.05         0        0     1     1  2013      7  919   \n",
       "8          9        19.05         0        0     1     1  2013      7  919   \n",
       "9          9        19.05         0        0     1     1  2013      7  919   \n",
       "\n",
       "        cost  \n",
       "0  21.905933  \n",
       "1  12.341214  \n",
       "2   6.601826  \n",
       "3   4.687770  \n",
       "4   3.541561  \n",
       "5   3.224406  \n",
       "6   3.082521  \n",
       "7   2.999060  \n",
       "8  21.972702  \n",
       "9  12.407983  \n",
       "\n",
       "[10 rows x 21 columns]"
      ]
     },
     "execution_count": 13,
     "metadata": {},
     "output_type": "execute_result"
    }
   ],
   "source": [
    "#trainp1.end_x_2x.value_counts()\n",
    "trainp3 = trainp2.copy()\n",
    "trainp3.end_x_2x[trainp3.end_x_2x=='N'] = 0\n",
    "trainp3.end_x_2x[trainp3.end_x_2x=='Y'] = 1\n",
    "trainp3.end_a_2x[trainp3.end_a_2x=='N'] = 0\n",
    "trainp3.end_a_2x[trainp3.end_a_2x=='Y'] = 1\n",
    "trainp3[0:10]"
   ]
  },
  {
   "cell_type": "code",
   "execution_count": 52,
   "metadata": {
    "collapsed": false
   },
   "outputs": [
    {
     "data": {
      "text/plain": [
       "Index([u'quantity', u'component_id_1_name', u'quantity_1',\n",
       "       u'component_id_2_name', u'quantity_2', u'component_id_3_name',\n",
       "       u'quantity_3', u'material_id', u'diameter', u'wall', u'length',\n",
       "       u'num_bends', u'bend_radius', u'end_a_2x', u'end_x_2x', u'end_a',\n",
       "       u'end_x', u'year', u'month', u'day', u'cost'],\n",
       "      dtype='object')"
      ]
     },
     "execution_count": 52,
     "metadata": {},
     "output_type": "execute_result"
    }
   ],
   "source": [
    "trainp3.columns"
   ]
  },
  {
   "cell_type": "code",
   "execution_count": 14,
   "metadata": {
    "collapsed": false
   },
   "outputs": [
    {
     "data": {
      "text/plain": [
       "Index([           u'quantity', u'component_id_1_name',         u'material_id',\n",
       "                u'quantity_1', u'component_id_2_name',          u'quantity_2',\n",
       "       u'component_id_3_name',          u'quantity_3',            u'diameter',\n",
       "                     u'end_a',               u'end_x',                u'wall',\n",
       "                    u'length',           u'num_bends',         u'bend_radius',\n",
       "                  u'end_a_2x',            u'end_x_2x',                u'year',\n",
       "                     u'month',                 u'day',                u'cost'],\n",
       "      dtype='object')"
      ]
     },
     "execution_count": 14,
     "metadata": {},
     "output_type": "execute_result"
    }
   ],
   "source": [
    "trainp4 = trainp3.loc[:,[u'quantity', \n",
    "       'quantity_1','quantity_2','quantity_3', \n",
    "       'diameter', u'wall', u'length',\n",
    "       'num_bends', u'bend_radius', u'end_a_2x', u'end_x_2x',\n",
    "       'year', u'month', u'day', u'cost']]\n",
    "# Reencode the categorical variables\n",
    "trainp4.insert(1, 'component_id_1_name', comp_id1_trans, allow_duplicates=False)\n",
    "trainp4.insert(3, 'component_id_2_name', comp_id2_trans, allow_duplicates=False)\n",
    "trainp4.insert(5, 'component_id_3_name', comp_id3_trans, allow_duplicates=False)\n",
    "trainp4.insert(2, 'material_id', material_id_vals, allow_duplicates=False)\n",
    "trainp4.insert(9, 'end_a', end_a_vals, allow_duplicates=False)\n",
    "trainp4.insert(10, 'end_x', end_x_vals, allow_duplicates=False)\n",
    "trainp4.columns\n"
   ]
  },
  {
   "cell_type": "code",
   "execution_count": null,
   "metadata": {
    "collapsed": true
   },
   "outputs": [],
   "source": [
    "#trainp4.to_csv(os.path.join('..','competition_data','train_model_attempt2_final_data.csv'))"
   ]
  },
  {
   "cell_type": "code",
   "execution_count": 15,
   "metadata": {
    "collapsed": false
   },
   "outputs": [
    {
     "name": "stdout",
     "output_type": "stream",
     "text": [
      "Index([           u'quantity', u'component_id_1_name',         u'material_id',\n",
      "                u'quantity_1', u'component_id_2_name',          u'quantity_2',\n",
      "       u'component_id_3_name',          u'quantity_3',            u'diameter',\n",
      "                     u'end_a',               u'end_x',                u'wall',\n",
      "                    u'length',           u'num_bends',         u'bend_radius',\n",
      "                  u'end_a_2x',            u'end_x_2x',                u'year',\n",
      "                     u'month',                 u'day'],\n",
      "      dtype='object')\n",
      "19086\n"
     ]
    }
   ],
   "source": [
    "X_cols = trainp4.columns[:-1]\n",
    "print X_cols\n",
    "print len(trainp4)\n"
   ]
  },
  {
   "cell_type": "code",
   "execution_count": 16,
   "metadata": {
    "collapsed": true
   },
   "outputs": [],
   "source": [
    "from sklearn import cross_validation"
   ]
  },
  {
   "cell_type": "markdown",
   "metadata": {},
   "source": [
    "# Randomize the data"
   ]
  },
  {
   "cell_type": "code",
   "execution_count": 17,
   "metadata": {
    "collapsed": true
   },
   "outputs": [],
   "source": [
    "trainp5 = trainp4.iloc[np.random.permutation(len(trainp4))]"
   ]
  },
  {
   "cell_type": "code",
   "execution_count": 18,
   "metadata": {
    "collapsed": false
   },
   "outputs": [],
   "source": [
    "#X_cols = ['diameter','wall','length','num_bends','bend_radius',\n",
    "#          'quantity','year','month','day']\n",
    "train_X = trainp5.as_matrix(trainp5.columns[:-1])\n",
    "train_y = trainp5.as_matrix(['cost'])[:,0]\n",
    "#print train_X[0]\n",
    "#train_y\n"
   ]
  },
  {
   "cell_type": "code",
   "execution_count": 20,
   "metadata": {
    "collapsed": false
   },
   "outputs": [],
   "source": [
    "gbr = GradientBoostingRegressor(n_estimators=1000,max_depth=4)"
   ]
  },
  {
   "cell_type": "code",
   "execution_count": 23,
   "metadata": {
    "collapsed": false
   },
   "outputs": [],
   "source": [
    "from sklearn.grid_search import GridSearchCV"
   ]
  },
  {
   "cell_type": "code",
   "execution_count": 24,
   "metadata": {
    "collapsed": false
   },
   "outputs": [
    {
     "data": {
      "text/plain": [
       "{'alpha': 0.9,\n",
       " 'init': None,\n",
       " 'learning_rate': 0.1,\n",
       " 'loss': 'ls',\n",
       " 'max_depth': 4,\n",
       " 'max_features': None,\n",
       " 'max_leaf_nodes': None,\n",
       " 'min_samples_leaf': 1,\n",
       " 'min_samples_split': 2,\n",
       " 'min_weight_fraction_leaf': 0.0,\n",
       " 'n_estimators': 1000,\n",
       " 'random_state': None,\n",
       " 'subsample': 1.0,\n",
       " 'verbose': 0,\n",
       " 'warm_start': False}"
      ]
     },
     "execution_count": 24,
     "metadata": {},
     "output_type": "execute_result"
    }
   ],
   "source": [
    "gbr.get_params()"
   ]
  },
  {
   "cell_type": "code",
   "execution_count": 26,
   "metadata": {
    "collapsed": true
   },
   "outputs": [],
   "source": [
    "param_grids = {'max_depth': [3,4,5,7], 'min_samples_split': [2,4,6], \n",
    "               'n_estimators': [1200] }"
   ]
  },
  {
   "cell_type": "code",
   "execution_count": 29,
   "metadata": {
    "collapsed": true
   },
   "outputs": [],
   "source": [
    "gs_clf = GridSearchCV(gbr,param_grids,scoring='mean_absolute_error', cv=10)"
   ]
  },
  {
   "cell_type": "code",
   "execution_count": 30,
   "metadata": {
    "collapsed": false
   },
   "outputs": [
    {
     "data": {
      "text/plain": [
       "GridSearchCV(cv=10, error_score='raise',\n",
       "       estimator=GradientBoostingRegressor(alpha=0.9, init=None, learning_rate=0.1, loss='ls',\n",
       "             max_depth=4, max_features=None, max_leaf_nodes=None,\n",
       "             min_samples_leaf=1, min_samples_split=2,\n",
       "             min_weight_fraction_leaf=0.0, n_estimators=1000,\n",
       "             random_state=None, subsample=1.0, verbose=0, warm_start=False),\n",
       "       fit_params={}, iid=True, loss_func=None, n_jobs=1,\n",
       "       param_grid={'min_samples_split': [2, 4, 6], 'n_estimators': [1200], 'max_depth': [3, 4, 5, 7]},\n",
       "       pre_dispatch='2*n_jobs', refit=True, score_func=None,\n",
       "       scoring='mean_absolute_error', verbose=0)"
      ]
     },
     "execution_count": 30,
     "metadata": {},
     "output_type": "execute_result"
    }
   ],
   "source": [
    "gs_clf.fit(train_X,train_y)"
   ]
  },
  {
   "cell_type": "code",
   "execution_count": 33,
   "metadata": {
    "collapsed": false
   },
   "outputs": [
    {
     "data": {
      "text/plain": [
       "{'max_depth': 7, 'min_samples_split': 6, 'n_estimators': 1200}"
      ]
     },
     "execution_count": 33,
     "metadata": {},
     "output_type": "execute_result"
    }
   ],
   "source": [
    "gs_clf.best_params_"
   ]
  },
  {
   "cell_type": "code",
   "execution_count": 34,
   "metadata": {
    "collapsed": false
   },
   "outputs": [
    {
     "data": {
      "text/plain": [
       "-0.92218723767427391"
      ]
     },
     "execution_count": 34,
     "metadata": {},
     "output_type": "execute_result"
    }
   ],
   "source": [
    "gs_clf.best_score_"
   ]
  },
  {
   "cell_type": "code",
   "execution_count": 19,
   "metadata": {
    "collapsed": true
   },
   "outputs": [],
   "source": [
    "gbr_opt = GradientBoostingRegressor(n_estimators=1200,min_samples_split=6,max_depth=7)"
   ]
  },
  {
   "cell_type": "code",
   "execution_count": 38,
   "metadata": {
    "collapsed": false
   },
   "outputs": [
    {
     "data": {
      "text/plain": [
       "array([ 0.79615269,  0.80059753,  0.71352607,  0.71330183,  0.67430867,\n",
       "        0.13214368,  0.6454052 ,  0.73145402,  0.56947398,  0.54624184])"
      ]
     },
     "execution_count": 38,
     "metadata": {},
     "output_type": "execute_result"
    }
   ],
   "source": [
    "scores = cross_validation.cross_val_score(gbr_opt, train_X, train_y, cv=10)\n",
    "scores"
   ]
  },
  {
   "cell_type": "code",
   "execution_count": null,
   "metadata": {
    "collapsed": true
   },
   "outputs": [],
   "source": []
  },
  {
   "cell_type": "code",
   "execution_count": 39,
   "metadata": {
    "collapsed": false
   },
   "outputs": [
    {
     "name": "stdout",
     "output_type": "stream",
     "text": [
      "Accuracy: 0.63 (+/- 0.37)\n"
     ]
    }
   ],
   "source": [
    "print(\"Accuracy: %0.2f (+/- %0.2f)\" % (scores.mean(), scores.std() * 2))"
   ]
  },
  {
   "cell_type": "code",
   "execution_count": 24,
   "metadata": {
    "collapsed": false
   },
   "outputs": [
    {
     "data": {
      "text/plain": [
       "GradientBoostingRegressor(alpha=0.9, init=None, learning_rate=0.1, loss='ls',\n",
       "             max_depth=7, max_features=None, max_leaf_nodes=None,\n",
       "             min_samples_leaf=1, min_samples_split=6,\n",
       "             min_weight_fraction_leaf=0.0, n_estimators=1200,\n",
       "             random_state=None, subsample=1.0, verbose=0, warm_start=False)"
      ]
     },
     "execution_count": 24,
     "metadata": {},
     "output_type": "execute_result"
    }
   ],
   "source": [
    "gbr_opt.fit(train_X,train_y)"
   ]
  },
  {
   "cell_type": "code",
   "execution_count": 21,
   "metadata": {
    "collapsed": false
   },
   "outputs": [
    {
     "data": {
      "image/png": "[encoded data removed]",
      "text/plain": [
       "<matplotlib.figure.Figure at 0x7f13c9428e10>"
      ]
     },
     "metadata": {},
     "output_type": "display_data"
    }
   ],
   "source": [
    "pred_y = cross_validation.cross_val_predict(gbr_opt,train_X,train_y,cv=10)\n",
    "#pred_y = cross_validation.cross_val_predict?\n",
    "plt.scatter(train_y, pred_y,  color='black')\n",
    "plt.xlim((0,150))\n",
    "plt.ylim ((0,150))\n",
    "\n",
    "plt.show()"
   ]
  },
  {
   "cell_type": "code",
   "execution_count": 25,
   "metadata": {
    "collapsed": false
   },
   "outputs": [
    {
     "data": {
      "text/plain": [
       "array([ 0.25940479,  0.03014434,  0.02341929,  0.0133148 ,  0.03103906,\n",
       "        0.01922773,  0.02717154,  0.00979156,  0.05484876,  0.01897478,\n",
       "        0.03230741,  0.06325135,  0.16707332,  0.05070555,  0.05057692,\n",
       "        0.01528155,  0.01430774,  0.00724361,  0.0482879 ,  0.063628  ])"
      ]
     },
     "execution_count": 25,
     "metadata": {},
     "output_type": "execute_result"
    }
   ],
   "source": [
    "gbr_opt.feature_importances_"
   ]
  },
  {
   "cell_type": "code",
   "execution_count": 26,
   "metadata": {
    "collapsed": false
   },
   "outputs": [],
   "source": [
    "test_set = pd.read_csv(os.path.join('..','competition_data','test_set.csv'))"
   ]
  },
  {
   "cell_type": "code",
   "execution_count": 50,
   "metadata": {
    "collapsed": false
   },
   "outputs": [
    {
     "data": {
      "text/plain": [
       "Index([u'id', u'tube_assembly_id', u'supplier', u'quote_date', u'annual_usage',\n",
       "       u'min_order_quantity', u'bracket_pricing', u'quantity'],\n",
       "      dtype='object')"
      ]
     },
     "execution_count": 50,
     "metadata": {},
     "output_type": "execute_result"
    }
   ],
   "source": [
    "test_set.columns"
   ]
  },
  {
   "cell_type": "code",
   "execution_count": 27,
   "metadata": {
    "collapsed": false
   },
   "outputs": [
    {
     "name": "stdout",
     "output_type": "stream",
     "text": [
      "Index([u'material_id', u'diameter', u'wall', u'length', u'num_bends',\n",
      "       u'bend_radius', u'end_a_1x', u'end_a_2x', u'end_x_1x', u'end_x_2x',\n",
      "       u'end_a', u'end_x', u'num_boss', u'num_bracket', u'other'],\n",
      "      dtype='object')\n"
     ]
    }
   ],
   "source": [
    "# Merge the tube.csv and bill of sale with train_set.csv to get the parameter\n",
    "tubedf = pd.read_csv(os.path.join('..','competition_data','tube.csv'), index_col=0, header=0)\n",
    "compdf = pd.read_csv(os.path.join('..','competition_data','components.csv'),index_col=0, header=0)\n",
    "billdf = pd.read_csv(os.path.join('..','competition_data','bill_of_materials.csv'),index_col=0, header=0)\n",
    "\n",
    "print tubedf.columns"
   ]
  },
  {
   "cell_type": "code",
   "execution_count": 28,
   "metadata": {
    "collapsed": false
   },
   "outputs": [],
   "source": [
    "comp1, quant1, comp2, quant2, comp3, quant3, mat_id = [], [], [], [], [], [], []\n",
    "\n",
    "for tubeid in test_set.tube_assembly_id.values:\n",
    "    comp_id1 = billdf.loc[tubeid]['component_id_1']\n",
    "    #print comp_id1\n",
    "    try:\n",
    "        if not isinstance(comp_id1,str):\n",
    "            comp1.append(np.nan)\n",
    "        else:\n",
    "            #print compdf.loc[comp_id1]['name']\n",
    "            comp1.append(compdf.loc[comp_id1]['name'])\n",
    "    except:\n",
    "        print comp_id1\n",
    "    comp_id2 = billdf.loc[tubeid]['component_id_2']\n",
    "    if not isinstance(comp_id2,str):\n",
    "        comp2.append(np.nan)\n",
    "    else:\n",
    "        comp2.append(compdf.loc[comp_id2]['name'])\n",
    "    comp_id3 = billdf.loc[tubeid]['component_id_3']\n",
    "    if not isinstance(comp_id3,str):\n",
    "        comp3.append(np.nan)\n",
    "    else:\n",
    "        comp3.append(compdf.loc[comp_id3]['name'])\n",
    "    if not np.isnan(billdf.loc[tubeid]['quantity_1']):\n",
    "        quant1.append(billdf.loc[tubeid]['quantity_1'])\n",
    "    else:\n",
    "        quant1.append(0)\n",
    "    if not np.isnan(billdf.loc[tubeid]['quantity_2']):\n",
    "        quant2.append(billdf.loc[tubeid]['quantity_2'])\n",
    "    else:\n",
    "        quant2.append(0)\n",
    "    if not np.isnan(billdf.loc[tubeid]['quantity_3']):\n",
    "        quant3.append(billdf.loc[tubeid]['quantity_3'])\n",
    "    else:\n",
    "        quant3.append(0)\n",
    "#    quant3.append(billdf.loc[tubeid]['quantity_3'])\n"
   ]
  },
  {
   "cell_type": "code",
   "execution_count": 29,
   "metadata": {
    "collapsed": false
   },
   "outputs": [],
   "source": [
    "matid, dia, wall, length, n_bends, bend_rad = [], [], [], [], [], []\n",
    "for tubeid in test_set.tube_assembly_id.values:\n",
    "    matid.append(tubedf.loc[tubeid]['material_id'])\n",
    "    dia.append(tubedf.loc[tubeid]['diameter'])\n",
    "    wall.append(tubedf.loc[tubeid]['wall'])\n",
    "    length.append(tubedf.loc[tubeid]['length'])\n",
    "    n_bends.append(tubedf.loc[tubeid]['num_bends'])\n",
    "    bend_rad.append(tubedf.loc[tubeid]['bend_radius'])"
   ]
  },
  {
   "cell_type": "code",
   "execution_count": 30,
   "metadata": {
    "collapsed": true
   },
   "outputs": [],
   "source": [
    "end_a_2x, end_x_2x, end_a, end_x = [], [], [], []\n",
    "for tubeid in test_set.tube_assembly_id.values:\n",
    "    end_a_2x.append(tubedf.loc[tubeid]['end_a_2x'])\n",
    "    end_x_2x.append(tubedf.loc[tubeid]['end_x_2x'])\n",
    "    end_a.append(tubedf.loc[tubeid]['end_a'])\n",
    "    end_x.append(tubedf.loc[tubeid]['end_x'])"
   ]
  },
  {
   "cell_type": "code",
   "execution_count": 31,
   "metadata": {
    "collapsed": true
   },
   "outputs": [],
   "source": [
    "comp1x, comp2x, comp3x, quant1x, quant2x, quant3x = map(np.array, [comp1, comp2, comp3, quant1, quant2, quant3])\n",
    "matidx, diax, wallx, lengthx, n_bendsx, bend_radx = map(np.array, [matid, dia, wall, length, n_bends, bend_rad])\n",
    "end_a_2xx, end_x_2xx, end_ax, end_xx = map(np.array, [end_a_2x, end_x_2x, end_a, end_x])"
   ]
  },
  {
   "cell_type": "code",
   "execution_count": 32,
   "metadata": {
    "collapsed": false
   },
   "outputs": [],
   "source": [
    "year, month, ofsetdate = [], [], []\n",
    "for id1 in test_set.id:\n",
    "    qdate = pd.to_datetime(test_set.iloc[id1-1]['quote_date'])\n",
    "    year.append(qdate.year)\n",
    "    month.append(qdate.month)\n",
    "    ofsetdate.append( (qdate-pd.to_datetime('2010-12-31')).days)"
   ]
  },
  {
   "cell_type": "code",
   "execution_count": 33,
   "metadata": {
    "collapsed": true
   },
   "outputs": [],
   "source": [
    "testp = test_set.loc[:,['quantity']]\n",
    "testp.insert(1,'component_id_1_name', comp1x,allow_duplicates=False)\n",
    "testp.insert(2,'quantity_1', quant1x, allow_duplicates=False)\n",
    "testp.insert(3,'component_id_2_name', comp1x,allow_duplicates=False)\n",
    "testp.insert(4,'quantity_2', quant1x, allow_duplicates=False)\n",
    "testp.insert(5,'component_id_3_name', comp1x,allow_duplicates=False)\n",
    "testp.insert(6,'quantity_3', quant1x, allow_duplicates=False)\n",
    "testp.insert(7,'material_id',matidx,  allow_duplicates=False)\n",
    "testp.insert(8,'diameter', diax, allow_duplicates=False)\n",
    "testp.insert(9,'wall', wallx, allow_duplicates=False)\n",
    "testp.insert(10,'length', lengthx, allow_duplicates=False)\n",
    "testp.insert(11,'num_bends',n_bendsx, allow_duplicates=False)\n",
    "testp.insert(12,'bend_radius', bend_radx, allow_duplicates=False)\n",
    "testp.insert(13,'end_a_2x', end_a_2xx, allow_duplicates=False)\n",
    "testp.insert(14,'end_x_2x', end_x_2xx, allow_duplicates=False)\n",
    "testp.insert(15,'end_a', end_ax, allow_duplicates=False)\n",
    "testp.insert(16,'end_x', end_xx, allow_duplicates=False)\n",
    "testp.insert(17,'year', year, allow_duplicates=False)\n",
    "testp.insert(18,'month', month, allow_duplicates=False)\n",
    "testp.insert(19,'day',ofsetdate, allow_duplicates=False)\n"
   ]
  },
  {
   "cell_type": "code",
   "execution_count": 34,
   "metadata": {
    "collapsed": false
   },
   "outputs": [
    {
     "name": "stderr",
     "output_type": "stream",
     "text": [
      "/usr/lib/python2.7/site-packages/IPython/kernel/__main__.py:3: SettingWithCopyWarning: \n",
      "A value is trying to be set on a copy of a slice from a DataFrame\n",
      "\n",
      "See the the caveats in the documentation: http://pandas.pydata.org/pandas-docs/stable/indexing.html#indexing-view-versus-copy\n",
      "  app.launch_new_instance()\n",
      "/usr/lib/python2.7/site-packages/IPython/kernel/__main__.py:4: SettingWithCopyWarning: \n",
      "A value is trying to be set on a copy of a slice from a DataFrame\n",
      "\n",
      "See the the caveats in the documentation: http://pandas.pydata.org/pandas-docs/stable/indexing.html#indexing-view-versus-copy\n"
     ]
    }
   ],
   "source": [
    "testp1 = testp.copy()\n",
    "for key,value in material_id_map.items():\n",
    "    testp1.material_id[testp1.material_id==key] = value\n",
    "testp1.material_id[testp1.material_id.isnull()] = 4"
   ]
  },
  {
   "cell_type": "code",
   "execution_count": 35,
   "metadata": {
    "collapsed": false
   },
   "outputs": [
    {
     "name": "stderr",
     "output_type": "stream",
     "text": [
      "/usr/lib/python2.7/site-packages/IPython/kernel/__main__.py:3: SettingWithCopyWarning: \n",
      "A value is trying to be set on a copy of a slice from a DataFrame\n",
      "\n",
      "See the the caveats in the documentation: http://pandas.pydata.org/pandas-docs/stable/indexing.html#indexing-view-versus-copy\n",
      "  app.launch_new_instance()\n",
      "/usr/lib/python2.7/site-packages/IPython/kernel/__main__.py:4: SettingWithCopyWarning: \n",
      "A value is trying to be set on a copy of a slice from a DataFrame\n",
      "\n",
      "See the the caveats in the documentation: http://pandas.pydata.org/pandas-docs/stable/indexing.html#indexing-view-versus-copy\n",
      "/usr/lib/python2.7/site-packages/IPython/kernel/__main__.py:5: SettingWithCopyWarning: \n",
      "A value is trying to be set on a copy of a slice from a DataFrame\n",
      "\n",
      "See the the caveats in the documentation: http://pandas.pydata.org/pandas-docs/stable/indexing.html#indexing-view-versus-copy\n",
      "/usr/lib/python2.7/site-packages/IPython/kernel/__main__.py:6: SettingWithCopyWarning: \n",
      "A value is trying to be set on a copy of a slice from a DataFrame\n",
      "\n",
      "See the the caveats in the documentation: http://pandas.pydata.org/pandas-docs/stable/indexing.html#indexing-view-versus-copy\n"
     ]
    }
   ],
   "source": [
    "testp2 = testp1.copy()\n",
    "for key,value in end_map.items():\n",
    "    testp2.end_a[testp2.end_a==key] = value\n",
    "    testp2.end_x[testp2.end_x==key] = value\n",
    "testp2.end_a[testp2.end_a.isnull()] = 4\n",
    "testp2.end_x[testp2.end_x.isnull()] = 4"
   ]
  },
  {
   "cell_type": "code",
   "execution_count": 36,
   "metadata": {
    "collapsed": false
   },
   "outputs": [
    {
     "name": "stderr",
     "output_type": "stream",
     "text": [
      "/usr/lib/python2.7/site-packages/IPython/kernel/__main__.py:2: SettingWithCopyWarning: \n",
      "A value is trying to be set on a copy of a slice from a DataFrame\n",
      "\n",
      "See the the caveats in the documentation: http://pandas.pydata.org/pandas-docs/stable/indexing.html#indexing-view-versus-copy\n",
      "  from IPython.kernel.zmq import kernelapp as app\n",
      "/usr/lib/python2.7/site-packages/IPython/kernel/__main__.py:3: SettingWithCopyWarning: \n",
      "A value is trying to be set on a copy of a slice from a DataFrame\n",
      "\n",
      "See the the caveats in the documentation: http://pandas.pydata.org/pandas-docs/stable/indexing.html#indexing-view-versus-copy\n",
      "  app.launch_new_instance()\n",
      "/usr/lib/python2.7/site-packages/IPython/kernel/__main__.py:4: SettingWithCopyWarning: \n",
      "A value is trying to be set on a copy of a slice from a DataFrame\n",
      "\n",
      "See the the caveats in the documentation: http://pandas.pydata.org/pandas-docs/stable/indexing.html#indexing-view-versus-copy\n",
      "/usr/lib/python2.7/site-packages/IPython/kernel/__main__.py:5: SettingWithCopyWarning: \n",
      "A value is trying to be set on a copy of a slice from a DataFrame\n",
      "\n",
      "See the the caveats in the documentation: http://pandas.pydata.org/pandas-docs/stable/indexing.html#indexing-view-versus-copy\n"
     ]
    }
   ],
   "source": [
    "testp3 = testp2.copy()\n",
    "testp3.end_x_2x[testp3.end_x_2x=='N'] = 0\n",
    "testp3.end_x_2x[testp3.end_x_2x=='Y'] = 1\n",
    "testp3.end_a_2x[testp3.end_a_2x=='N'] = 0\n",
    "testp3.end_a_2x[testp3.end_a_2x=='Y'] = 1"
   ]
  },
  {
   "cell_type": "code",
   "execution_count": 189,
   "metadata": {
    "collapsed": false
   },
   "outputs": [
    {
     "name": "stdout",
     "output_type": "stream",
     "text": [
      "{nan: 0, 'ELBOW-90 DEG': 17, 'HEAD FLANGED': 25, 'ELBOW-90 DEGREE': 18, 'BLOCK-HYD': 6, 'NUT-SWIVEL': 28, 'FLANGE': 21, 'CONNECTOR': 8, 'ELBOW': 14, 'ELBOW-37 (DEG)': 15, 'CONNECTOR-WELD': 13, 'BLOCK': 5, 'CONNECTOR-ORFS': 10, 'ADAPTER-O SUPPL': 3, 'HEAD-FLANGED': 26, 'ADAPTER-O LINE': 2, 'FLANGE-ONE PIEC': 23, 'TEE-FLARED': 35, 'ELBOW-HYDRAULIC': 19, 'SLEEVE-FLARED': 32, 'ADAPTER': 1, 'SLEEVE-REDUCER': 34, 'CONNECTOR-BHD': 9, 'FLANGE-ONE PC': 22, 'BOSS': 7, 'NUT-ORFS': 27, 'FITTING': 20, 'CONNECTOR-SPL': 12, 'CONNECTOR-SEAL': 11, 'PLATE': 29, 'FLANGE-ONE PIECE': 24, 'SLEEVE': 31, 'TUBE': 36, 'TUBE AS.': 37, 'SLEEVE-ORFS': 33, 'PLUG-STOR': 30, 'ELBOW-90 (DEG)': 16, 'ADAPTER-OIL LIN': 4}\n"
     ]
    }
   ],
   "source": [
    "print lbl3_map"
   ]
  },
  {
   "cell_type": "code",
   "execution_count": 57,
   "metadata": {
    "collapsed": false
   },
   "outputs": [
    {
     "name": "stderr",
     "output_type": "stream",
     "text": [
      "/usr/lib/python2.7/site-packages/IPython/kernel/__main__.py:8: SettingWithCopyWarning: \n",
      "A value is trying to be set on a copy of a slice from a DataFrame\n",
      "\n",
      "See the the caveats in the documentation: http://pandas.pydata.org/pandas-docs/stable/indexing.html#indexing-view-versus-copy\n",
      "/usr/lib/python2.7/site-packages/IPython/kernel/__main__.py:12: SettingWithCopyWarning: \n",
      "A value is trying to be set on a copy of a slice from a DataFrame\n",
      "\n",
      "See the the caveats in the documentation: http://pandas.pydata.org/pandas-docs/stable/indexing.html#indexing-view-versus-copy\n",
      "/usr/lib/python2.7/site-packages/IPython/kernel/__main__.py:16: SettingWithCopyWarning: \n",
      "A value is trying to be set on a copy of a slice from a DataFrame\n",
      "\n",
      "See the the caveats in the documentation: http://pandas.pydata.org/pandas-docs/stable/indexing.html#indexing-view-versus-copy\n"
     ]
    }
   ],
   "source": [
    "testp4 = testp3.copy()\n",
    "k1 = lbl1_map.keys()\n",
    "val = testp4.component_id_1_name.values\n",
    "mask = [x not in k1 for x in val] \n",
    "#for i in range(len(testp4.component_id_1_name)):\n",
    "#    if testp4.component_id_1_name[i] not in lbl1_map:\n",
    "#        testp4.component_id_1_name[i] = 1\n",
    "testp4.component_id_1_name[mask] = 1\n",
    "k2 = lbl2_map.keys()\n",
    "val = testp4.component_id_2_name.values\n",
    "mask = [x not in k2 for x in val] \n",
    "testp4.component_id_2_name[mask] = 1\n",
    "k3 = lbl3_map.keys()\n",
    "val = testp4.component_id_3_name.values\n",
    "mask = [x not in k3 for x in val] \n",
    "testp4.component_id_3_name[mask] = 1\n",
    "\n",
    "#for i in range(len(testp4.component_id_2_name)):\n",
    "#    if testp4.component_id_2_name[i] not in lbl2_map:\n",
    "#        testp4.component_id_2_name[i] = 1\n",
    "#for i in range(len(testp4.component_id_3_name)):\n",
    "#    if testp4.component_id_3_name[i] not in lbl3_map:\n",
    "#        testp4.component_id_3_name[i] = 1\n"
   ]
  },
  {
   "cell_type": "code",
   "execution_count": 58,
   "metadata": {
    "collapsed": false
   },
   "outputs": [
    {
     "name": "stderr",
     "output_type": "stream",
     "text": [
      "/usr/lib/python2.7/site-packages/IPython/kernel/__main__.py:3: SettingWithCopyWarning: \n",
      "A value is trying to be set on a copy of a slice from a DataFrame\n",
      "\n",
      "See the the caveats in the documentation: http://pandas.pydata.org/pandas-docs/stable/indexing.html#indexing-view-versus-copy\n",
      "  app.launch_new_instance()\n",
      "/usr/lib/python2.7/site-packages/IPython/kernel/__main__.py:4: SettingWithCopyWarning: \n",
      "A value is trying to be set on a copy of a slice from a DataFrame\n",
      "\n",
      "See the the caveats in the documentation: http://pandas.pydata.org/pandas-docs/stable/indexing.html#indexing-view-versus-copy\n",
      "/usr/lib/python2.7/site-packages/IPython/kernel/__main__.py:6: SettingWithCopyWarning: \n",
      "A value is trying to be set on a copy of a slice from a DataFrame\n",
      "\n",
      "See the the caveats in the documentation: http://pandas.pydata.org/pandas-docs/stable/indexing.html#indexing-view-versus-copy\n",
      "/usr/lib/python2.7/site-packages/IPython/kernel/__main__.py:7: SettingWithCopyWarning: \n",
      "A value is trying to be set on a copy of a slice from a DataFrame\n",
      "\n",
      "See the the caveats in the documentation: http://pandas.pydata.org/pandas-docs/stable/indexing.html#indexing-view-versus-copy\n",
      "/usr/lib/python2.7/site-packages/IPython/kernel/__main__.py:9: SettingWithCopyWarning: \n",
      "A value is trying to be set on a copy of a slice from a DataFrame\n",
      "\n",
      "See the the caveats in the documentation: http://pandas.pydata.org/pandas-docs/stable/indexing.html#indexing-view-versus-copy\n",
      "/usr/lib/python2.7/site-packages/IPython/kernel/__main__.py:10: SettingWithCopyWarning: \n",
      "A value is trying to be set on a copy of a slice from a DataFrame\n",
      "\n",
      "See the the caveats in the documentation: http://pandas.pydata.org/pandas-docs/stable/indexing.html#indexing-view-versus-copy\n"
     ]
    }
   ],
   "source": [
    "\n",
    "for key,value in lbl1_map.items():\n",
    "    testp4.component_id_1_name[testp4.component_id_1_name==key] = value\n",
    "testp4.component_id_1_name[testp4.component_id_1_name.isnull()] = 0\n",
    "for key,value in lbl2_map.items():\n",
    "    testp4.component_id_2_name[testp4.component_id_2_name==key] = value\n",
    "testp4.component_id_2_name[testp4.component_id_2_name.isnull()] = 0\n",
    "for key,value in lbl3_map.items():\n",
    "    testp4.component_id_3_name[testp4.component_id_3_name==key] = value\n",
    "testp4.component_id_3_name[testp4.component_id_3_name.isnull()] = 0\n"
   ]
  },
  {
   "cell_type": "code",
   "execution_count": 70,
   "metadata": {
    "collapsed": false
   },
   "outputs": [
    {
     "name": "stderr",
     "output_type": "stream",
     "text": [
      "/usr/lib/python2.7/site-packages/IPython/kernel/__main__.py:5: SettingWithCopyWarning: \n",
      "A value is trying to be set on a copy of a slice from a DataFrame\n",
      "\n",
      "See the the caveats in the documentation: http://pandas.pydata.org/pandas-docs/stable/indexing.html#indexing-view-versus-copy\n",
      "/usr/lib/python2.7/site-packages/IPython/kernel/__main__.py:9: SettingWithCopyWarning: \n",
      "A value is trying to be set on a copy of a slice from a DataFrame\n",
      "\n",
      "See the the caveats in the documentation: http://pandas.pydata.org/pandas-docs/stable/indexing.html#indexing-view-versus-copy\n",
      "/usr/lib/python2.7/site-packages/IPython/kernel/__main__.py:13: SettingWithCopyWarning: \n",
      "A value is trying to be set on a copy of a slice from a DataFrame\n",
      "\n",
      "See the the caveats in the documentation: http://pandas.pydata.org/pandas-docs/stable/indexing.html#indexing-view-versus-copy\n"
     ]
    }
   ],
   "source": [
    "testp5 = testp4.copy()\n",
    "k1 = d1.keys()\n",
    "val = testp5.component_id_1_name.values\n",
    "mask = [x not in k1 for x in val] \n",
    "testp5.component_id_1_name[mask] = 1\n",
    "k2 = d2.keys()\n",
    "val = testp5.component_id_2_name.values\n",
    "mask = [x not in k2 for x in val] \n",
    "testp5.component_id_2_name[mask] = 1\n",
    "k3 = d3.keys()\n",
    "val = testp5.component_id_3_name.values\n",
    "mask = [x not in k3 for x in val] \n",
    "testp5.component_id_3_name[mask] = 1"
   ]
  },
  {
   "cell_type": "code",
   "execution_count": 71,
   "metadata": {
    "collapsed": false
   },
   "outputs": [
    {
     "name": "stdout",
     "output_type": "stream",
     "text": [
      "[4, 4, 4, 1, 4, 4, 4, 4, 3, 4, 2, 0, 5]\n"
     ]
    },
    {
     "name": "stderr",
     "output_type": "stream",
     "text": [
      "/usr/lib/python2.7/site-packages/IPython/kernel/__main__.py:6: SettingWithCopyWarning: \n",
      "A value is trying to be set on a copy of a slice from a DataFrame\n",
      "\n",
      "See the the caveats in the documentation: http://pandas.pydata.org/pandas-docs/stable/indexing.html#indexing-view-versus-copy\n"
     ]
    }
   ],
   "source": [
    "#testp5 = testp4.copy()\n",
    "k1 = material_id_map.values()\n",
    "print k1\n",
    "val = testp5.material_id.values\n",
    "mask = [x not in k1 for x in val] \n",
    "testp5.material_id[mask] = 4"
   ]
  },
  {
   "cell_type": "code",
   "execution_count": 60,
   "metadata": {
    "collapsed": false
   },
   "outputs": [
    {
     "data": {
      "text/plain": [
       "43    14579\n",
       "41     5802\n",
       "37     2038\n",
       "1      1987\n",
       "14     1675\n",
       "42      848\n",
       "30      551\n",
       "48      452\n",
       "49      365\n",
       "9       297\n",
       "11      269\n",
       "34      229\n",
       "21      184\n",
       "31      155\n",
       "22      104\n",
       "47      100\n",
       "28       75\n",
       "16       62\n",
       "13       56\n",
       "10       41\n",
       "29       36\n",
       "38       36\n",
       "39       35\n",
       "24       32\n",
       "23       30\n",
       "32       24\n",
       "45       24\n",
       "7        21\n",
       "25       18\n",
       "2        13\n",
       "18       13\n",
       "51       12\n",
       "44       11\n",
       "4        11\n",
       "15       10\n",
       "35       10\n",
       "12        8\n",
       "46        5\n",
       "20        4\n",
       "17        3\n",
       "8         3\n",
       "40        2\n",
       "36        2\n",
       "33        2\n",
       "3         1\n",
       "dtype: int64"
      ]
     },
     "execution_count": 60,
     "metadata": {},
     "output_type": "execute_result"
    }
   ],
   "source": [
    "testp4.component_id_1_name.value_counts()"
   ]
  },
  {
   "cell_type": "code",
   "execution_count": 52,
   "metadata": {
    "collapsed": false
   },
   "outputs": [
    {
     "data": {
      "text/plain": [
       "43    14579\n",
       "41     5802\n",
       "1      4108\n",
       "37     2038\n",
       "14     1675\n",
       "42      848\n",
       "30      551\n",
       "49      365\n",
       "11      269\n",
       "dtype: int64"
      ]
     },
     "execution_count": 52,
     "metadata": {},
     "output_type": "execute_result"
    }
   ],
   "source": [
    "testp5.component_id_1_name.value_counts()"
   ]
  },
  {
   "cell_type": "code",
   "execution_count": 61,
   "metadata": {
    "collapsed": false
   },
   "outputs": [
    {
     "data": {
      "text/plain": [
       "1     27822\n",
       "11     1675\n",
       "33      365\n",
       "8       269\n",
       "17      104\n",
       "dtype: int64"
      ]
     },
     "execution_count": 61,
     "metadata": {},
     "output_type": "execute_result"
    }
   ],
   "source": [
    "testp5.component_id_3_name.value_counts()"
   ]
  },
  {
   "cell_type": "code",
   "execution_count": 72,
   "metadata": {
    "collapsed": false
   },
   "outputs": [
    {
     "data": {
      "text/plain": [
       "0    16051\n",
       "1     5728\n",
       "2     2947\n",
       "3     2750\n",
       "5     1559\n",
       "4     1200\n",
       "dtype: int64"
      ]
     },
     "execution_count": 72,
     "metadata": {},
     "output_type": "execute_result"
    }
   ],
   "source": [
    "testp5.material_id.value_counts()"
   ]
  },
  {
   "cell_type": "code",
   "execution_count": 64,
   "metadata": {
    "collapsed": false
   },
   "outputs": [
    {
     "data": {
      "text/html": [
       "<div>\n",
       "<table border=\"1\" class=\"dataframe\">\n",
       "  <thead>\n",
       "    <tr style=\"text-align: right;\">\n",
       "      <th></th>\n",
       "      <th>quantity</th>\n",
       "      <th>component_id_1_name</th>\n",
       "      <th>quantity_1</th>\n",
       "      <th>component_id_2_name</th>\n",
       "      <th>quantity_2</th>\n",
       "      <th>component_id_3_name</th>\n",
       "      <th>quantity_3</th>\n",
       "      <th>material_id</th>\n",
       "      <th>diameter</th>\n",
       "      <th>wall</th>\n",
       "      <th>length</th>\n",
       "      <th>num_bends</th>\n",
       "      <th>bend_radius</th>\n",
       "      <th>end_a_2x</th>\n",
       "      <th>end_x_2x</th>\n",
       "      <th>end_a</th>\n",
       "      <th>end_x</th>\n",
       "      <th>year</th>\n",
       "      <th>month</th>\n",
       "      <th>day</th>\n",
       "    </tr>\n",
       "  </thead>\n",
       "  <tbody>\n",
       "    <tr>\n",
       "      <th>0</th>\n",
       "      <td>1</td>\n",
       "      <td>43</td>\n",
       "      <td>2</td>\n",
       "      <td>35</td>\n",
       "      <td>2</td>\n",
       "      <td>1</td>\n",
       "      <td>2</td>\n",
       "      <td>1</td>\n",
       "      <td>12.7</td>\n",
       "      <td>1.65</td>\n",
       "      <td>164</td>\n",
       "      <td>5</td>\n",
       "      <td>38.1</td>\n",
       "      <td>0</td>\n",
       "      <td>0</td>\n",
       "      <td>0</td>\n",
       "      <td>0</td>\n",
       "      <td>2013</td>\n",
       "      <td>6</td>\n",
       "      <td>905</td>\n",
       "    </tr>\n",
       "  </tbody>\n",
       "</table>\n",
       "</div>"
      ],
      "text/plain": [
       "   quantity component_id_1_name  quantity_1 component_id_2_name  quantity_2  \\\n",
       "0         1                  43           2                  35           2   \n",
       "\n",
       "  component_id_3_name  quantity_3 material_id  diameter  wall  length  \\\n",
       "0                   1           2           1      12.7  1.65     164   \n",
       "\n",
       "   num_bends  bend_radius end_a_2x end_x_2x end_a end_x  year  month  day  \n",
       "0          5         38.1        0        0     0     0  2013      6  905  "
      ]
     },
     "execution_count": 64,
     "metadata": {},
     "output_type": "execute_result"
    }
   ],
   "source": [
    "testp5[0:1]"
   ]
  },
  {
   "cell_type": "code",
   "execution_count": 65,
   "metadata": {
    "collapsed": false
   },
   "outputs": [
    {
     "name": "stdout",
     "output_type": "stream",
     "text": [
      "quantity\n",
      "1       7018\n",
      "5       3160\n",
      "10      2992\n",
      "2       2741\n",
      "25      2523\n",
      "50      2513\n",
      "100     2348\n",
      "250     2218\n",
      "20      1289\n",
      "6        828\n",
      "3        507\n",
      "4        264\n",
      "15       253\n",
      "8        137\n",
      "12       135\n",
      "30       135\n",
      "9        128\n",
      "40       113\n",
      "7        103\n",
      "19       102\n",
      "24        51\n",
      "16        50\n",
      "35        49\n",
      "75        42\n",
      "60        39\n",
      "70        35\n",
      "55        31\n",
      "80        31\n",
      "18        26\n",
      "36        22\n",
      "        ... \n",
      "1034       1\n",
      "305        1\n",
      "225        1\n",
      "39         1\n",
      "65         1\n",
      "78         1\n",
      "71         1\n",
      "829        1\n",
      "110        1\n",
      "206        1\n",
      "160        1\n",
      "41         1\n",
      "46         1\n",
      "297        1\n",
      "59         1\n",
      "205        1\n",
      "550        1\n",
      "74         1\n",
      "51         1\n",
      "67         1\n",
      "83         1\n",
      "99         1\n",
      "1500       1\n",
      "92         1\n",
      "104        1\n",
      "170        1\n",
      "2500       1\n",
      "155        1\n",
      "165        1\n",
      "44         1\n",
      "dtype: int64\n",
      "component_id_1_name\n",
      "43    14579\n",
      "41     5802\n",
      "1      4108\n",
      "37     2038\n",
      "14     1675\n",
      "42      848\n",
      "30      551\n",
      "49      365\n",
      "11      269\n",
      "dtype: int64\n",
      "quantity_1\n",
      "2    18629\n",
      "1    10114\n",
      "0     1453\n",
      "4       21\n",
      "6        8\n",
      "3        8\n",
      "5        2\n",
      "dtype: int64\n",
      "component_id_2_name\n",
      "35    14579\n",
      "1     11363\n",
      "30     2038\n",
      "12     1675\n",
      "46      365\n",
      "17      104\n",
      "42      100\n",
      "45       11\n",
      "dtype: int64\n",
      "quantity_2\n",
      "2    18629\n",
      "1    10114\n",
      "0     1453\n",
      "4       21\n",
      "6        8\n",
      "3        8\n",
      "5        2\n",
      "dtype: int64\n",
      "component_id_3_name\n",
      "1     27822\n",
      "11     1675\n",
      "33      365\n",
      "8       269\n",
      "17      104\n",
      "dtype: int64\n",
      "quantity_3\n",
      "2    18629\n",
      "1    10114\n",
      "0     1453\n",
      "4       21\n",
      "6        8\n",
      "3        8\n",
      "5        2\n",
      "dtype: int64\n",
      "material_id\n",
      "0          16051\n",
      "1           5728\n",
      "2           2947\n",
      "3           2750\n",
      "5           1559\n",
      "4            879\n",
      "nan          226\n",
      "SP-0008       52\n",
      "SP-0041       34\n",
      "SP-0032        5\n",
      "SP-0034        4\n",
      "dtype: int64\n",
      "diameter\n",
      "6.35      6423\n",
      "9.52      6232\n",
      "12.70     4627\n",
      "15.88     3509\n",
      "19.05     3506\n",
      "25.40     2767\n",
      "7.94       461\n",
      "63.50      411\n",
      "22.22      269\n",
      "76.20      241\n",
      "31.75      232\n",
      "101.60     230\n",
      "88.90      204\n",
      "38.10      203\n",
      "50.80      169\n",
      "127.00     156\n",
      "57.15       65\n",
      "3.18        64\n",
      "152.40      64\n",
      "66.70       58\n",
      "34.92       47\n",
      "44.45       42\n",
      "41.28       41\n",
      "4.76        33\n",
      "42.70       30\n",
      "69.85       24\n",
      "114.30      22\n",
      "27.20       19\n",
      "28.58       18\n",
      "17.48       15\n",
      "139.70      11\n",
      "34.00       10\n",
      "33.40        7\n",
      "10.00        6\n",
      "203.20       4\n",
      "47.62        4\n",
      "82.55        3\n",
      "6.00         3\n",
      "48.60        2\n",
      "26.70        1\n",
      "141.30       1\n",
      "8.00         1\n",
      "dtype: int64\n",
      "wall\n",
      "1.650    9977\n",
      "0.710    6114\n",
      "0.890    5783\n",
      "1.240    4574\n",
      "2.110    1552\n",
      "3.050    1157\n",
      "2.410     767\n",
      "7.900      58\n",
      "2.260      48\n",
      "4.780      36\n",
      "2.375      31\n",
      "4.800      30\n",
      "3.960      22\n",
      "3.200      19\n",
      "3.400      16\n",
      "4.000      10\n",
      "3.250       9\n",
      "2.000       9\n",
      "3.500       6\n",
      "2.185       5\n",
      "1.900       4\n",
      "1.000       3\n",
      "5.700       2\n",
      "6.550       1\n",
      "1.500       1\n",
      "2.900       1\n",
      "dtype: int64\n",
      "length\n",
      "44.00     297\n",
      "39.00     292\n",
      "56.00     270\n",
      "66.00     269\n",
      "33.00     268\n",
      "42.00     267\n",
      "32.00     261\n",
      "29.00     256\n",
      "30.00     248\n",
      "69.00     246\n",
      "51.00     246\n",
      "55.00     244\n",
      "58.00     243\n",
      "45.00     243\n",
      "23.00     239\n",
      "100.00    235\n",
      "96.00     234\n",
      "77.00     234\n",
      "43.00     234\n",
      "36.00     232\n",
      "94.00     225\n",
      "40.00     222\n",
      "89.00     221\n",
      "47.00     221\n",
      "74.00     220\n",
      "62.00     220\n",
      "107.00    219\n",
      "98.00     218\n",
      "48.00     218\n",
      "63.00     217\n",
      "         ... \n",
      "587.00      1\n",
      "282.00      1\n",
      "72.12       1\n",
      "286.00      1\n",
      "103.50      1\n",
      "426.00      1\n",
      "382.00      1\n",
      "408.00      1\n",
      "347.00      1\n",
      "298.00      1\n",
      "313.00      1\n",
      "314.00      1\n",
      "319.00      1\n",
      "320.00      1\n",
      "296.00      1\n",
      "332.00      1\n",
      "338.00      1\n",
      "343.00      1\n",
      "348.00      1\n",
      "404.00      1\n",
      "351.00      1\n",
      "361.00      1\n",
      "375.00      1\n",
      "378.00      1\n",
      "300.00      1\n",
      "385.00      1\n",
      "387.00      1\n",
      "392.00      1\n",
      "394.00      1\n",
      "334.00      1\n",
      "dtype: int64\n",
      "num_bends\n",
      "2     6934\n",
      "4     5381\n",
      "3     5019\n",
      "5     3395\n",
      "6     2788\n",
      "1     2060\n",
      "7     1752\n",
      "8     1036\n",
      "0      849\n",
      "9      504\n",
      "10     326\n",
      "11     100\n",
      "12      63\n",
      "13      13\n",
      "14       9\n",
      "15       3\n",
      "16       2\n",
      "17       1\n",
      "dtype: int64\n",
      "bend_radius\n",
      "19.05      7718\n",
      "38.10      6198\n",
      "50.80      5020\n",
      "31.75      3553\n",
      "25.40      2746\n",
      "63.50      1430\n",
      "0.00        849\n",
      "101.60      586\n",
      "76.20       410\n",
      "152.40      355\n",
      "127.00      306\n",
      "12.70       273\n",
      "31.80       103\n",
      "88.90        98\n",
      "19.00        73\n",
      "139.70       59\n",
      "177.80       43\n",
      "114.30       40\n",
      "110.00       29\n",
      "19.10        24\n",
      "20.00        23\n",
      "180.00       20\n",
      "70.00        19\n",
      "9999.00      18\n",
      "254.00       18\n",
      "90.00        18\n",
      "35.00        17\n",
      "203.20       16\n",
      "30.00        13\n",
      "154.20       12\n",
      "           ... \n",
      "31.50         2\n",
      "130.00        2\n",
      "171.45        2\n",
      "41.00         1\n",
      "23.00         1\n",
      "17.50         1\n",
      "53.50         1\n",
      "4.00          1\n",
      "38.00         1\n",
      "32.00         1\n",
      "74.20         1\n",
      "57.00         1\n",
      "15.88         1\n",
      "150.40        1\n",
      "153.40        1\n",
      "215.90        1\n",
      "62.70         1\n",
      "88.60         1\n",
      "114.60        1\n",
      "50.81         1\n",
      "17.46         1\n",
      "65.00         1\n",
      "41.28         1\n",
      "17.53         1\n",
      "101.30        1\n",
      "57.15         1\n",
      "203.60        1\n",
      "17.69         1\n",
      "150.00        1\n",
      "38.41         1\n",
      "dtype: int64\n",
      "end_a_2x\n",
      "0    27615\n",
      "1     2620\n",
      "dtype: int64\n",
      "end_x_2x\n",
      "0    28246\n",
      "1     1989\n",
      "dtype: int64\n",
      "end_a\n",
      "0    17831\n",
      "1     5763\n",
      "2     3278\n",
      "4      937\n",
      "5      848\n",
      "3      569\n",
      "6      545\n",
      "7      464\n",
      "dtype: int64\n",
      "end_x\n",
      "0    17505\n",
      "1     5617\n",
      "2     3069\n",
      "5     1488\n",
      "4     1157\n",
      "3      603\n",
      "6      507\n",
      "7      289\n",
      "dtype: int64\n",
      "year\n",
      "2013    20051\n",
      "2012     3297\n",
      "2014     1986\n",
      "2011     1640\n",
      "2010      508\n",
      "2007      486\n",
      "2008      439\n",
      "2009      373\n",
      "2006      230\n",
      "2002      189\n",
      "2005      186\n",
      "2000      158\n",
      "2004      147\n",
      "2001      130\n",
      "2003      120\n",
      "1999       94\n",
      "1998       54\n",
      "1997       51\n",
      "1995       29\n",
      "1996       18\n",
      "2015       13\n",
      "1992       11\n",
      "1987        8\n",
      "1993        6\n",
      "1994        5\n",
      "2016        2\n",
      "1988        1\n",
      "1989        1\n",
      "2017        1\n",
      "1985        1\n",
      "dtype: int64\n",
      "month\n",
      "8     5459\n",
      "9     4365\n",
      "7     4297\n",
      "6     4025\n",
      "10    3710\n",
      "2     1562\n",
      "5     1497\n",
      "4     1167\n",
      "1     1106\n",
      "11    1101\n",
      "3     1100\n",
      "12     846\n",
      "dtype: int64\n",
      "day\n",
      " 975     2992\n",
      " 1005    2908\n",
      " 883     2136\n",
      " 944     2030\n",
      " 913     1595\n",
      " 933     1008\n",
      " 954      912\n",
      " 947      632\n",
      " 213      590\n",
      " 610      577\n",
      " 852      575\n",
      " 1128     466\n",
      " 835      392\n",
      " 1037     384\n",
      " 912      376\n",
      " 1067     360\n",
      " 518      330\n",
      " 591      311\n",
      " 940      240\n",
      " 948      235\n",
      " 926      232\n",
      " 905      232\n",
      " 690      228\n",
      " 919      224\n",
      " 747      216\n",
      " 121      202\n",
      " 898      200\n",
      " 782      161\n",
      " 821      120\n",
      " 984      116\n",
      "         ... \n",
      "-1241       1\n",
      "-1353       1\n",
      "-2599       1\n",
      "-3402       1\n",
      "-2583       1\n",
      "-4550       1\n",
      " 408        1\n",
      "-2439       1\n",
      " 376        1\n",
      "-344        1\n",
      "-2391       1\n",
      "-4406       1\n",
      "-2279       1\n",
      "-200        1\n",
      "-8340       1\n",
      " 136        1\n",
      " 104        1\n",
      " 88         1\n",
      " 40         1\n",
      "-2087       1\n",
      "-2025       1\n",
      "-2009       1\n",
      "-1977       1\n",
      "-2017       1\n",
      "-1801       1\n",
      "-1753       1\n",
      "-1737       1\n",
      "-1577       1\n",
      " 1431       1\n",
      "-32         1\n",
      "dtype: int64\n"
     ]
    }
   ],
   "source": [
    "for column in testp5.columns:\n",
    "    print column\n",
    "    print testp5[column].value_counts()"
   ]
  },
  {
   "cell_type": "code",
   "execution_count": 73,
   "metadata": {
    "collapsed": true
   },
   "outputs": [],
   "source": [
    "test_X = testp5.as_matrix(testp5.columns)"
   ]
  },
  {
   "cell_type": "code",
   "execution_count": 74,
   "metadata": {
    "collapsed": false
   },
   "outputs": [],
   "source": [
    "test_y_pred = gbr_opt.predict(test_X)"
   ]
  },
  {
   "cell_type": "code",
   "execution_count": 75,
   "metadata": {
    "collapsed": false
   },
   "outputs": [
    {
     "data": {
      "text/plain": [
       "array([  62.44401327,   19.37398556,    7.29879101, ...,   10.31148402,\n",
       "        239.04804792,  240.71592552])"
      ]
     },
     "execution_count": 75,
     "metadata": {},
     "output_type": "execute_result"
    }
   ],
   "source": [
    "test_y_pred\n"
   ]
  },
  {
   "cell_type": "code",
   "execution_count": 80,
   "metadata": {
    "collapsed": true
   },
   "outputs": [],
   "source": [
    "test_y_pred[test_y_pred<0] = 0.1"
   ]
  },
  {
   "cell_type": "code",
   "execution_count": 81,
   "metadata": {
    "collapsed": true
   },
   "outputs": [],
   "source": [
    "test_y_pred_ser = pd.Series(data=test_y_pred,name='cost')\n",
    "#pd.Series?"
   ]
  },
  {
   "cell_type": "code",
   "execution_count": 82,
   "metadata": {
    "collapsed": true
   },
   "outputs": [],
   "source": [
    "test_y_pred_ser.to_csv(os.path.join('..','competition_data','cost_predicted.csv'))"
   ]
  },
  {
   "cell_type": "code",
   "execution_count": null,
   "metadata": {
    "collapsed": true
   },
   "outputs": [],
   "source": []
  }
 ],
 "metadata": {
  "kernelspec": {
   "display_name": "Python 2",
   "language": "python",
   "name": "python2"
  },
  "language_info": {
   "codemirror_mode": {
    "name": "ipython",
    "version": 2
   },
   "file_extension": ".py",
   "mimetype": "text/x-python",
   "name": "python",
   "nbconvert_exporter": "python",
   "pygments_lexer": "ipython2",
   "version": "2.7.9"
  }
 },
 "nbformat": 4,
 "nbformat_minor": 0
}
