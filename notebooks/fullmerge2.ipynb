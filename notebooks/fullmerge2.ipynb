{
 "cells": [
  {
   "cell_type": "code",
   "execution_count": 1,
   "metadata": {
    "collapsed": true
   },
   "outputs": [],
   "source": [
    "%matplotlib inline\n",
    "import os, glob, sys\n",
    "import pandas as pd\n",
    "import numpy as np\n",
    "import datetime as dt\n",
    "from math import sqrt\n",
    "from collections import Counter\n",
    "import copy"
   ]
  },
  {
   "cell_type": "code",
   "execution_count": 2,
   "metadata": {
    "collapsed": true
   },
   "outputs": [],
   "source": [
    "## Read in files\n",
    "\n",
    "allfiles = glob.glob(os.path.join('..','competition_data','*.csv'))\n",
    "comp_files = glob.glob(os.path.join('..','competition_data','comp_*'))\n",
    "newtrain_df = pd.read_csv(os.path.join('..','train.csv'),index_col = 0)\n",
    "\n",
    "all_files = {}\n",
    "for afile in allfiles:\n",
    "    key = afile.split('\\\\')[-1].split('.')[0]\n",
    "    all_files[key] = pd.read_csv(afile, header = 0)\n",
    "all_files['train_set'] = pd.read_csv('../competition_data/train_set.csv', header = 0, parse_dates = ['quote_date'])\n",
    "all_files['test_set'] = pd.read_csv('../competition_data/test_set.csv', header = 0, parse_dates = ['quote_date'])\n",
    "\n",
    "# Components\n",
    "comp_dict = {}\n",
    "for compfile in comp_files:\n",
    "    key = compfile.split('\\\\')[-1].split('.')[0]\n",
    "    comp_dict[key] = pd.read_csv(compfile,header=0, index_col=0)\n",
    "\n",
    "# The rest of the files\n",
    "rest = ['components.csv','specs.csv','tube_end_form.csv','type_component.csv','type_connection.csv','type_end_form.csv']\n",
    "restfile = []\n",
    "for x in rest:\n",
    "    restfile += [os.path.join('..','competition_data',x)]\n",
    "rest_files = {}\n",
    "for r in restfile:\n",
    "    key = r.split('\\\\')[-1].split('.')[0]\n",
    "    rest_files[key] = pd.read_csv(r ,header=0)"
   ]
  },
  {
   "cell_type": "code",
   "execution_count": 3,
   "metadata": {
    "collapsed": false
   },
   "outputs": [
    {
     "name": "stdout",
     "output_type": "stream",
     "text": [
      "# of observations train: 30213\n",
      "# of observations test: 30235\n"
     ]
    }
   ],
   "source": [
    "temptrain = all_files['train_set']\n",
    "temptest = all_files['test_set'].drop('id',axis=1)\n",
    "print '# of observations train:', len(temptrain['supplier'])\n",
    "print '# of observations test:', len(temptest['supplier'])\n",
    "temptest['cost'] = [np.nan]*len(temptest['supplier'])\n",
    "traintest = pd.concat([temptrain,temptest], ignore_index = True)\n",
    "\n",
    "traintest = pd.merge(traintest, all_files['bill_of_materials'], on = 'tube_assembly_id')\n",
    "traintest = pd.merge(traintest, all_files['tube'], on = 'tube_assembly_id')\n",
    "\n",
    "\n",
    "# Deal with dates - 1/1/1982 is used as the reference date\n",
    "\n",
    "traintest['year'] = traintest['quote_date'].dt.year\n",
    "traintest['month'] = traintest['quote_date'].dt.month\n",
    "traintest['day'] = [date.days for date in traintest['quote_date'] - dt.date(1982,1,1)]\n",
    "\n",
    "\n",
    "# Add weight\n",
    "comp_id = ['component_id_'+str(i) for i in range(1,9)]\n",
    "weight_id = ['weight_id_'+str(i) for i in range(1,9)]\n",
    "\n",
    "for key1 in comp_id:\n",
    "    i = comp_id.index(key1)\n",
    "    weight = []\n",
    "    for key2 in sorted(traintest[key1].unique(),reverse = True):\n",
    "        if pd.isnull(key2) or key2 == '9999':\n",
    "            weight += [np.nan]\n",
    "        for filename in comp_dict:\n",
    "            if key2 in comp_dict[filename].index:\n",
    "                weight.append(comp_dict[filename].loc[key2]['weight'])\n",
    "    #else:\n",
    "        #weight.append(np.nan)\n",
    "    dfTemp = pd.DataFrame({key1 : sorted(traintest[key1].unique(),reverse = True),weight_id[i]: weight})\n",
    "    traintest = pd.merge(traintest,dfTemp, how = 'left', on = key1)\n",
    "\n",
    "traintest = traintest[['tube_assembly_id', 'supplier','year','month','day', 'annual_usage', 'min_order_quantity', 'bracket_pricing', 'quantity', 'cost', 'component_id_1', 'quantity_1','weight_id_1', 'component_id_2', 'quantity_2', 'weight_id_2', 'component_id_3', 'quantity_3', 'weight_id_3', 'component_id_4', 'quantity_4','weight_id_4', 'component_id_5', 'quantity_5', 'weight_id_5', 'component_id_6', 'quantity_6', 'weight_id_6', 'component_id_7', 'quantity_7', 'weight_id_7', 'component_id_8', 'quantity_8', 'weight_id_8', 'material_id', 'diameter', 'wall', 'length', 'num_bends', 'bend_radius', 'end_a_1x', 'end_a_2x', 'end_x_1x', 'end_x_2x', 'end_a', 'end_x', 'num_boss', 'num_bracket', 'other']]\n",
    "\n",
    "\n",
    "# ADDING comp_*.csv files\n",
    "'''\n",
    "## MERGING COMP_*.CSV information\n",
    "**Add component columns to each `component_id_*`**\n",
    "'''\n",
    "\n",
    "def comp_column(name):\n",
    "    if name not in ['component_id_'+str(i) for i in range(1,9)]:\n",
    "        return \"Error\"\n",
    "    else:\n",
    "        temp = pd.DataFrame({name: []})\n",
    "        for filename in comp_dict:\n",
    "            tempdict = {x: [] for x in comp_dict[filename].drop('weight',axis = 1).columns}\n",
    "            for key in sorted(traintest[name].unique(),reverse = True):\n",
    "                i = sorted(traintest[name].unique(),reverse = True).index(key)\n",
    "                if key in comp_dict[filename].index:\n",
    "                    for col in tempdict.keys():\n",
    "                        temp.loc[i,name] = key\n",
    "                        temp.loc[i,col] = comp_dict[filename].drop('weight',axis = 1).loc[key][col]\n",
    "        \n",
    "        # Dropping any pure NaN columns\n",
    "        tempcol = temp.columns.copy()\n",
    "        dropcol = []\n",
    "        for x in tempcol:\n",
    "            if sum(pd.isnull(temp[x])) == len(temp[x]):\n",
    "                dropcol.append(x)\n",
    "        temp = temp.drop(dropcol,axis=1)\n",
    "        \n",
    "        # rename columns for number\n",
    "        c = name.split('_')[-1]\n",
    "        temp.columns = [temp.columns[i] + '_comp' + c if i > 0 else temp.columns[i] for i in range(len(temp.columns))]\n",
    "        return temp\n",
    "    \n",
    "def mergeframe(comp_num):\n",
    "    global traintest\n",
    "    \n",
    "    # Call comp_column()\n",
    "    comp = 'component_id_'+str(comp_num)\n",
    "    merge = comp_column(comp)\n",
    "       \n",
    "    traintest = pd.merge(traintest,merge, how = 'left', on = comp)\n",
    "    startIndex = list(traintest.columns).index('weight_id_'+str(comp_num))\n",
    "    x = list(traintest.columns.copy())\n",
    "    newColOrder = []\n",
    "    for i in range(len(x)):\n",
    "        if i <= startIndex:\n",
    "            newColOrder += [x[i]]\n",
    "        elif i > startIndex and i < startIndex+len(merge.columns):\n",
    "            newColOrder += [x[-len(merge.columns)+i-startIndex]]\n",
    "        else:\n",
    "            newColOrder += [x[i-len(merge.columns)+1]]\n",
    "    return traintest[newColOrder] \n",
    "\n",
    "for i in range(1,9):\n",
    "    traintest = mergeframe(i)\n",
    "\n",
    "'''\n",
    "Checking for full null columns in test\n",
    "\n",
    "Any fully null column will be dropped\n",
    "\n",
    "print statements are there to check if script works\n",
    "'''\n",
    "    \n",
    "\n",
    "droptraincol = []\n",
    "for x in traintest.columns:\n",
    "    if sum(pd.isnull(traintest[x])) == len(traintest[x]):\n",
    "        droptraincol += [x]\n",
    "        # print x\n",
    "traintest = traintest.drop(droptraincol, axis = 1)\n",
    "# print '# of traintest columns:', len(traintest.columns)"
   ]
  },
  {
   "cell_type": "code",
   "execution_count": 4,
   "metadata": {
    "collapsed": false
   },
   "outputs": [],
   "source": [
    "'''\n",
    "**TUBE_END_FORM** incorporation\n",
    "\n",
    "taking care of the 'end_a' and 'end_x' columns\n",
    "'''\n",
    "\n",
    "def tube_end(col):\n",
    "    global traintest\n",
    "    train2 = traintest.copy()\n",
    "    re = rest_files['tube_end_form'].copy()\n",
    "    tem = []\n",
    "    if col not in ['end_a','end_x']:\n",
    "        return 'Error'\n",
    "    else:\n",
    "        for i in train2[col]:\n",
    "            if i == 'NONE':\n",
    "                tem += [np.nan]\n",
    "            else:\n",
    "                t = re[re['end_form_id'] == i]['forming']\n",
    "                tem += [t.reset_index()['forming'][0]]\n",
    "    traintest[col] = tem\n",
    "    return traintest\n",
    "\n",
    "traintest = tube_end('end_a')\n",
    "traintest = tube_end('end_x')"
   ]
  },
  {
   "cell_type": "code",
   "execution_count": 5,
   "metadata": {
    "collapsed": true
   },
   "outputs": [],
   "source": [
    "'''\n",
    "TYPE_END_FORM incorporation\n",
    "\n",
    "'''\n",
    "\n",
    "\n",
    "endformtype = traintest.columns[traintest.columns.str.contains('end_form')]\n",
    "\n",
    "def type_end(col):\n",
    "    train2 = traintest.copy()\n",
    "    re = rest_files['type_end_form'].copy()\n",
    "    typeEnd = []\n",
    "    if col not in endformtype:\n",
    "        return 'Error'\n",
    "    else:\n",
    "        for i in train2[col]:\n",
    "            if i == 'NONE' or i == np.nan or pd.isnull(i):\n",
    "                typeEnd += [np.nan]\n",
    "            else:\n",
    "                t = re[re['end_form_id'] == i]['name']\n",
    "                typeEnd += [t.reset_index()['name'][0]]\n",
    "    return typeEnd\n",
    "\n",
    "\n",
    "\n",
    "for i in endformtype:\n",
    "    traintest[i] = type_end(i)"
   ]
  },
  {
   "cell_type": "code",
   "execution_count": 6,
   "metadata": {
    "collapsed": true
   },
   "outputs": [],
   "source": [
    "'''\n",
    "CONNECTION_TYPE_ incorporation\n",
    "\n",
    "'''\n",
    "\n",
    "contype = traintest.columns[traintest.columns.str.contains('conn')]\n",
    "def conn_type(col):\n",
    "    train2 = traintest.copy()\n",
    "    re = rest_files['type_connection'].copy()\n",
    "    conn = []\n",
    "    if col not in contype:\n",
    "        return 'Error'\n",
    "    else:\n",
    "        for i in train2[col]:\n",
    "            if i == 'NONE' or i == np.nan or pd.isnull(i):\n",
    "                conn += [np.nan]\n",
    "            else:\n",
    "                t = re[re['connection_type_id'] == i]['name']\n",
    "                conn += [t.reset_index()['name'][0]]\n",
    "    return conn\n",
    "\n",
    "\n",
    "\n",
    "# train3 = traintest.copy()\n",
    "\n",
    "for i in contype:\n",
    "    traintest[i] = conn_type(i)"
   ]
  },
  {
   "cell_type": "code",
   "execution_count": 7,
   "metadata": {
    "collapsed": true
   },
   "outputs": [],
   "source": [
    "'''\n",
    "TYPE_COMPONENT incorporation\n",
    "'''\n",
    "\n",
    "comptype = traintest.columns[traintest.columns.str.contains('component_type')]\n",
    "def comp_type(col):\n",
    "    train2 = traintest.copy()\n",
    "    re = rest_files['type_component'].copy()\n",
    "    comp = []\n",
    "    if col not in comptype:\n",
    "        return 'Error'\n",
    "    else:\n",
    "        for i in train2[col]:\n",
    "            if i == 'NONE' or i == np.nan or pd.isnull(i) or i == 'OTHER':\n",
    "                comp += [np.nan]\n",
    "            else:\n",
    "                t = re[re['component_type_id'] == i]['name']\n",
    "                comp += [t.reset_index()['name'][0]]\n",
    "    return comp\n",
    "\n",
    "#train3 = traintest.copy()\n",
    "\n",
    "for i in comptype:\n",
    "    traintest[i] = comp_type(i)"
   ]
  },
  {
   "cell_type": "code",
   "execution_count": 8,
   "metadata": {
    "collapsed": true
   },
   "outputs": [],
   "source": [
    "'''\n",
    "Add SPECS data frame by merging\n",
    "'''\n",
    "\n",
    "spc = rest_files['specs'].copy()\n",
    "specstrain = spc[spc['tube_assembly_id'].isin(traintest['tube_assembly_id'])]\n",
    "\n",
    "#train3 = traintest.copy()\n",
    "\n",
    "traintest = pd.merge(traintest,specstrain, how = 'left', on = 'tube_assembly_id')"
   ]
  },
  {
   "cell_type": "code",
   "execution_count": 9,
   "metadata": {
    "collapsed": true
   },
   "outputs": [],
   "source": [
    "'''\n",
    "Add COMPONENT NAMES to test and traintest\n",
    "'''\n",
    "\n",
    "\n",
    "componName = traintest.columns[traintest.columns.str.contains('component_id')]\n",
    "\n",
    "def comp_name(col):\n",
    "    train2 = traintest.copy()\n",
    "    re = rest_files['components'].copy()\n",
    "    compName = []\n",
    "    if col not in componName:\n",
    "\n",
    "        return 'Error'\n",
    "    else:\n",
    "        for i in train2[col]:\n",
    "            if i == 'NONE' or i == np.nan or pd.isnull(i) or i == 'OTHER':\n",
    "                compName += [np.nan]\n",
    "            else:\n",
    "                t = re[re['component_id'] == i]['name']\n",
    "                compName += [t.reset_index()['name'][0]]\n",
    "    return compName\n",
    "\n",
    "#train3 = traintest.copy()\n",
    "\n",
    "for i in componName:\n",
    "    traintest[i] = comp_name(i)"
   ]
  },
  {
   "cell_type": "code",
   "execution_count": null,
   "metadata": {
    "collapsed": true
   },
   "outputs": [],
   "source": [
    "'''\n",
    "CLEAN OUT DIRTY COLUMN\n",
    "'''\n",
    "\n",
    "c = traintest['nominal_size_1_comp1'].copy()\n",
    "print \"# of 'See Drawing' observations:\", len(c[c == 'See Drawing'])\n",
    "\n",
    "for x in range(len(c)):\n",
    "    if pd.isnull(c[x]):\n",
    "        continue\n",
    "    else:\n",
    "        try:\n",
    "            c[x] = float(c[x])\n",
    "        except:\n",
    "            c[x] = np.nan\n",
    "\n",
    "traintest['nominal_size_1_comp1'] = c"
   ]
  },
  {
   "cell_type": "code",
   "execution_count": 52,
   "metadata": {
    "collapsed": true
   },
   "outputs": [],
   "source": [
    "traintest.to_csv('traintest.csv', index = False)"
   ]
  },
  {
   "cell_type": "markdown",
   "metadata": {},
   "source": [
    "# Testing traintest features"
   ]
  },
  {
   "cell_type": "code",
   "execution_count": 46,
   "metadata": {
    "collapsed": true
   },
   "outputs": [
    {
     "data": {
      "text/plain": [
       "['tube_assembly_id',\n",
       " 'supplier',\n",
       " 'year',\n",
       " 'month',\n",
       " 'day',\n",
       " 'annual_usage',\n",
       " 'min_order_quantity',\n",
       " 'bracket_pricing',\n",
       " 'quantity',\n",
       " 'cost',\n",
       " 'component_id_1',\n",
       " 'quantity_1',\n",
       " 'weight_id_1',\n",
       " 'component_type_id_comp1',\n",
       " 'plating_comp1',\n",
       " 'orientation_comp1',\n",
       " 'intended_nut_thread_comp1',\n",
       " 'unique_feature_comp1',\n",
       " 'connection_type_id_comp1',\n",
       " 'intended_nut_pitch_comp1',\n",
       " 'length_comp1',\n",
       " 'blind_hole_comp1',\n",
       " 'diameter_comp1',\n",
       " 'seat_angle_comp1',\n",
       " 'thread_pitch_comp1',\n",
       " 'hex_nut_size_comp1',\n",
       " 'thread_size_comp1',\n",
       " 'end_form_id_2_comp1',\n",
       " 'overall_length_comp1',\n",
       " 'end_form_id_1_comp1',\n",
       " 'nominal_size_2_comp1',\n",
       " 'nominal_size_1_comp1',\n",
       " 'thread_pitch_1_comp1',\n",
       " 'length_1_comp1',\n",
       " 'adaptor_angle_comp1',\n",
       " 'length_2_comp1',\n",
       " 'thread_pitch_2_comp1',\n",
       " 'connection_type_id_1_comp1',\n",
       " 'connection_type_id_2_comp1',\n",
       " 'thread_size_1_comp1',\n",
       " 'thread_size_2_comp1',\n",
       " 'hex_size_comp1',\n",
       " 'extension_length_comp1',\n",
       " 'mj_class_code_comp1',\n",
       " 'bolt_pattern_wide_comp1',\n",
       " 'thickness_comp1',\n",
       " 'mj_plug_class_code_comp1',\n",
       " 'elbow_angle_comp1',\n",
       " 'bolt_pattern_long_comp1',\n",
       " 'plug_diameter_comp1',\n",
       " 'groove_comp1',\n",
       " 'drop_length_comp1',\n",
       " 'part_name_comp1',\n",
       " 'connection_type_id_3_comp1',\n",
       " 'thread_size_3_comp1',\n",
       " 'end_form_id_3_comp1',\n",
       " 'length_3_comp1',\n",
       " 'thread_pitch_3_comp1',\n",
       " 'head_diameter_comp1',\n",
       " 'height_over_tube_comp1',\n",
       " 'base_type_comp1',\n",
       " 'outside_shape_comp1',\n",
       " 'type_comp1',\n",
       " 'base_diameter_comp1',\n",
       " 'shoulder_diameter_comp1',\n",
       " 'component_id_2',\n",
       " 'quantity_2',\n",
       " 'weight_id_2',\n",
       " 'component_type_id_comp2',\n",
       " 'plating_comp2',\n",
       " 'orientation_comp2',\n",
       " 'intended_nut_thread_comp2',\n",
       " 'unique_feature_comp2',\n",
       " 'connection_type_id_comp2',\n",
       " 'intended_nut_pitch_comp2',\n",
       " 'length_comp2',\n",
       " 'blind_hole_comp2',\n",
       " 'diameter_comp2',\n",
       " 'seat_angle_comp2',\n",
       " 'thread_pitch_comp2',\n",
       " 'hex_nut_size_comp2',\n",
       " 'thread_size_comp2',\n",
       " 'end_form_id_2_comp2',\n",
       " 'overall_length_comp2',\n",
       " 'end_form_id_1_comp2',\n",
       " 'nominal_size_2_comp2',\n",
       " 'nominal_size_1_comp2',\n",
       " 'thread_pitch_1_comp2',\n",
       " 'length_1_comp2',\n",
       " 'adaptor_angle_comp2',\n",
       " 'length_2_comp2',\n",
       " 'thread_pitch_2_comp2',\n",
       " 'connection_type_id_1_comp2',\n",
       " 'connection_type_id_2_comp2',\n",
       " 'thread_size_1_comp2',\n",
       " 'thread_size_2_comp2',\n",
       " 'hex_size_comp2',\n",
       " 'extension_length_comp2',\n",
       " 'mj_class_code_comp2',\n",
       " 'bolt_pattern_wide_comp2',\n",
       " 'thickness_comp2',\n",
       " 'mj_plug_class_code_comp2',\n",
       " 'elbow_angle_comp2',\n",
       " 'bolt_pattern_long_comp2',\n",
       " 'plug_diameter_comp2',\n",
       " 'groove_comp2',\n",
       " 'drop_length_comp2',\n",
       " 'part_name_comp2',\n",
       " 'nominal_size_3_comp2',\n",
       " 'connection_type_id_3_comp2',\n",
       " 'thread_size_3_comp2',\n",
       " 'end_form_id_3_comp2',\n",
       " 'length_3_comp2',\n",
       " 'thread_pitch_3_comp2',\n",
       " 'head_diameter_comp2',\n",
       " 'height_over_tube_comp2',\n",
       " 'base_type_comp2',\n",
       " 'outside_shape_comp2',\n",
       " 'type_comp2',\n",
       " 'base_diameter_comp2',\n",
       " 'shoulder_diameter_comp2',\n",
       " 'component_id_3',\n",
       " 'quantity_3',\n",
       " 'weight_id_3',\n",
       " 'component_type_id_comp3',\n",
       " 'plating_comp3',\n",
       " 'orientation_comp3',\n",
       " 'intended_nut_thread_comp3',\n",
       " 'unique_feature_comp3',\n",
       " 'connection_type_id_comp3',\n",
       " 'intended_nut_pitch_comp3',\n",
       " 'length_comp3',\n",
       " 'blind_hole_comp3',\n",
       " 'diameter_comp3',\n",
       " 'seat_angle_comp3',\n",
       " 'thread_pitch_comp3',\n",
       " 'hex_nut_size_comp3',\n",
       " 'thread_size_comp3',\n",
       " 'end_form_id_2_comp3',\n",
       " 'overall_length_comp3',\n",
       " 'end_form_id_1_comp3',\n",
       " 'nominal_size_2_comp3',\n",
       " 'nominal_size_1_comp3',\n",
       " 'thread_pitch_1_comp3',\n",
       " 'length_1_comp3',\n",
       " 'adaptor_angle_comp3',\n",
       " 'length_2_comp3',\n",
       " 'thread_pitch_2_comp3',\n",
       " 'connection_type_id_1_comp3',\n",
       " 'connection_type_id_2_comp3',\n",
       " 'thread_size_1_comp3',\n",
       " 'thread_size_2_comp3',\n",
       " 'hex_size_comp3',\n",
       " 'extension_length_comp3',\n",
       " 'mj_class_code_comp3',\n",
       " 'bolt_pattern_wide_comp3',\n",
       " 'thickness_comp3',\n",
       " 'mj_plug_class_code_comp3',\n",
       " 'elbow_angle_comp3',\n",
       " 'bolt_pattern_long_comp3',\n",
       " 'plug_diameter_comp3',\n",
       " 'groove_comp3',\n",
       " 'drop_length_comp3',\n",
       " 'part_name_comp3',\n",
       " 'nominal_size_3_comp3',\n",
       " 'thread_size_4_comp3',\n",
       " 'connection_type_id_3_comp3',\n",
       " 'connection_type_id_4_comp3',\n",
       " 'thread_size_3_comp3',\n",
       " 'end_form_id_4_comp3',\n",
       " 'end_form_id_3_comp3',\n",
       " 'length_3_comp3',\n",
       " 'length_4_comp3',\n",
       " 'thread_pitch_4_comp3',\n",
       " 'thread_pitch_3_comp3',\n",
       " 'hose_diameter_comp3',\n",
       " 'material_comp3',\n",
       " 'corresponding_shell_comp3',\n",
       " 'coupling_class_comp3',\n",
       " 'head_diameter_comp3',\n",
       " 'height_over_tube_comp3',\n",
       " 'base_type_comp3',\n",
       " 'outside_shape_comp3',\n",
       " 'type_comp3',\n",
       " 'base_diameter_comp3',\n",
       " 'shoulder_diameter_comp3',\n",
       " 'component_id_4',\n",
       " 'quantity_4',\n",
       " 'weight_id_4',\n",
       " 'component_type_id_comp4',\n",
       " 'plating_comp4',\n",
       " 'orientation_comp4',\n",
       " 'intended_nut_thread_comp4',\n",
       " 'unique_feature_comp4',\n",
       " 'connection_type_id_comp4',\n",
       " 'intended_nut_pitch_comp4',\n",
       " 'length_comp4',\n",
       " 'thread_pitch_comp4',\n",
       " 'hex_nut_size_comp4',\n",
       " 'thread_size_comp4',\n",
       " 'end_form_id_2_comp4',\n",
       " 'overall_length_comp4',\n",
       " 'end_form_id_1_comp4',\n",
       " 'nominal_size_2_comp4',\n",
       " 'nominal_size_1_comp4',\n",
       " 'thread_pitch_1_comp4',\n",
       " 'length_1_comp4',\n",
       " 'adaptor_angle_comp4',\n",
       " 'length_2_comp4',\n",
       " 'thread_pitch_2_comp4',\n",
       " 'connection_type_id_1_comp4',\n",
       " 'connection_type_id_2_comp4',\n",
       " 'thread_size_1_comp4',\n",
       " 'thread_size_2_comp4',\n",
       " 'hex_size_comp4',\n",
       " 'extension_length_comp4',\n",
       " 'mj_class_code_comp4',\n",
       " 'bolt_pattern_wide_comp4',\n",
       " 'thickness_comp4',\n",
       " 'mj_plug_class_code_comp4',\n",
       " 'elbow_angle_comp4',\n",
       " 'bolt_pattern_long_comp4',\n",
       " 'groove_comp4',\n",
       " 'drop_length_comp4',\n",
       " 'part_name_comp4',\n",
       " 'nominal_size_3_comp4',\n",
       " 'connection_type_id_3_comp4',\n",
       " 'thread_size_3_comp4',\n",
       " 'end_form_id_3_comp4',\n",
       " 'length_3_comp4',\n",
       " 'thread_pitch_3_comp4',\n",
       " 'hose_diameter_comp4',\n",
       " 'material_comp4',\n",
       " 'corresponding_shell_comp4',\n",
       " 'coupling_class_comp4',\n",
       " 'head_diameter_comp4',\n",
       " 'height_over_tube_comp4',\n",
       " 'base_type_comp4',\n",
       " 'outside_shape_comp4',\n",
       " 'type_comp4',\n",
       " 'base_diameter_comp4',\n",
       " 'shoulder_diameter_comp4',\n",
       " 'component_id_5',\n",
       " 'quantity_5',\n",
       " 'weight_id_5',\n",
       " 'component_type_id_comp5',\n",
       " 'end_form_id_2_comp5',\n",
       " 'overall_length_comp5',\n",
       " 'orientation_comp5',\n",
       " 'end_form_id_1_comp5',\n",
       " 'nominal_size_2_comp5',\n",
       " 'nominal_size_1_comp5',\n",
       " 'unique_feature_comp5',\n",
       " 'thread_pitch_1_comp5',\n",
       " 'length_1_comp5',\n",
       " 'adaptor_angle_comp5',\n",
       " 'length_2_comp5',\n",
       " 'thread_pitch_2_comp5',\n",
       " 'connection_type_id_1_comp5',\n",
       " 'connection_type_id_2_comp5',\n",
       " 'thread_size_1_comp5',\n",
       " 'thread_size_2_comp5',\n",
       " 'hex_size_comp5',\n",
       " 'extension_length_comp5',\n",
       " 'mj_class_code_comp5',\n",
       " 'bolt_pattern_wide_comp5',\n",
       " 'thickness_comp5',\n",
       " 'mj_plug_class_code_comp5',\n",
       " 'bolt_pattern_long_comp5',\n",
       " 'groove_comp5',\n",
       " 'drop_length_comp5',\n",
       " 'part_name_comp5',\n",
       " 'plating_comp5',\n",
       " 'hose_diameter_comp5',\n",
       " 'material_comp5',\n",
       " 'corresponding_shell_comp5',\n",
       " 'coupling_class_comp5',\n",
       " 'head_diameter_comp5',\n",
       " 'height_over_tube_comp5',\n",
       " 'connection_type_id_comp5',\n",
       " 'base_type_comp5',\n",
       " 'outside_shape_comp5',\n",
       " 'type_comp5',\n",
       " 'component_id_6',\n",
       " 'quantity_6',\n",
       " 'weight_id_6',\n",
       " 'part_name_comp6',\n",
       " 'orientation_comp6',\n",
       " 'nominal_size_2_comp6',\n",
       " 'adaptor_angle_comp6',\n",
       " 'component_type_id_comp6',\n",
       " 'hex_size_comp6',\n",
       " 'connection_type_id_1_comp6',\n",
       " 'thread_size_1_comp6',\n",
       " 'end_form_id_1_comp6',\n",
       " 'end_form_id_2_comp6',\n",
       " 'overall_length_comp6',\n",
       " 'unique_feature_comp6',\n",
       " 'length_1_comp6',\n",
       " 'length_2_comp6',\n",
       " 'thread_pitch_1_comp6',\n",
       " 'mj_class_code_comp6',\n",
       " 'bolt_pattern_wide_comp6',\n",
       " 'thickness_comp6',\n",
       " 'bolt_pattern_long_comp6',\n",
       " 'groove_comp6',\n",
       " 'height_over_tube_comp6',\n",
       " 'connection_type_id_comp6',\n",
       " 'base_type_comp6',\n",
       " 'outside_shape_comp6',\n",
       " 'type_comp6',\n",
       " 'base_diameter_comp6',\n",
       " 'component_id_7',\n",
       " 'quantity_7',\n",
       " 'weight_id_7',\n",
       " 'part_name_comp7',\n",
       " 'component_id_8',\n",
       " 'quantity_8',\n",
       " 'weight_id_8',\n",
       " 'part_name_comp8',\n",
       " 'material_id',\n",
       " 'diameter',\n",
       " 'wall',\n",
       " 'length',\n",
       " 'num_bends',\n",
       " 'bend_radius',\n",
       " 'end_a_1x',\n",
       " 'end_a_2x',\n",
       " 'end_x_1x',\n",
       " 'end_x_2x',\n",
       " 'end_a',\n",
       " 'end_x',\n",
       " 'num_boss',\n",
       " 'num_bracket',\n",
       " 'other']"
      ]
     },
     "execution_count": 46,
     "metadata": {},
     "output_type": "execute_result"
    }
   ],
   "source": [
    "list(traintest.columns)"
   ]
  },
  {
   "cell_type": "code",
   "execution_count": 10,
   "metadata": {
    "collapsed": false
   },
   "outputs": [
    {
     "data": {
      "text/plain": [
       "60448"
      ]
     },
     "execution_count": 10,
     "metadata": {},
     "output_type": "execute_result"
    }
   ],
   "source": [
    "len(traintest.iloc[:,0])"
   ]
  },
  {
   "cell_type": "code",
   "execution_count": 11,
   "metadata": {
    "collapsed": false
   },
   "outputs": [
    {
     "name": "stdout",
     "output_type": "stream",
     "text": [
      "# of traintest columns: 345\n"
     ]
    }
   ],
   "source": [
    "print '# of traintest columns:', len(traintest.columns)"
   ]
  },
  {
   "cell_type": "code",
   "execution_count": 13,
   "metadata": {
    "collapsed": false
   },
   "outputs": [],
   "source": [
    "what = pd.read_csv('traintest.csv',header = 0)\n",
    "what = what.drop('id', axis = 1)"
   ]
  },
  {
   "cell_type": "code",
   "execution_count": 26,
   "metadata": {
    "collapsed": false
   },
   "outputs": [
    {
     "name": "stdout",
     "output_type": "stream",
     "text": [
      "0\n"
     ]
    }
   ],
   "source": [
    "counter = 0\n",
    "for i in what.columns:\n",
    "    if i not in traintest.columns:\n",
    "        counter += 1\n",
    "print counter"
   ]
  },
  {
   "cell_type": "code",
   "execution_count": 23,
   "metadata": {
    "collapsed": false
   },
   "outputs": [
    {
     "name": "stdout",
     "output_type": "stream",
     "text": [
      "18181684\n"
     ]
    }
   ],
   "source": [
    "print sum(counter)"
   ]
  },
  {
   "cell_type": "code",
   "execution_count": 40,
   "metadata": {
    "collapsed": false
   },
   "outputs": [
    {
     "data": {
      "text/plain": [
       "60398"
      ]
     },
     "execution_count": 40,
     "metadata": {},
     "output_type": "execute_result"
    }
   ],
   "source": [
    "sum(traintest['cost'] != what['cost'])"
   ]
  },
  {
   "cell_type": "code",
   "execution_count": 51,
   "metadata": {
    "collapsed": false
   },
   "outputs": [
    {
     "name": "stdout",
     "output_type": "stream",
     "text": [
      "0    21.905933\n",
      "1    12.341214\n",
      "2     6.601826\n",
      "3     4.687770\n",
      "4     3.541561\n",
      "Name: cost, dtype: float64\n",
      "0    21.905933\n",
      "1    12.341214\n",
      "2     6.601826\n",
      "3     4.687770\n",
      "4     3.541561\n",
      "Name: cost, dtype: float64\n"
     ]
    }
   ],
   "source": [
    "print what[traintest['cost'] != what['cost']]['cost'].head()\n",
    "print traintest[traintest['cost'] != what['cost']]['cost'].head()"
   ]
  },
  {
   "cell_type": "code",
   "execution_count": 53,
   "metadata": {
    "collapsed": false
   },
   "outputs": [
    {
     "name": "stdout",
     "output_type": "stream",
     "text": [
      "False\n",
      "21.9059330191\n",
      "21.9059330191\n"
     ]
    }
   ],
   "source": [
    "print traintest['cost'][0] == what['cost'][0]\n",
    "print traintest['cost'][0]\n",
    "print what['cost'][0]"
   ]
  },
  {
   "cell_type": "code",
   "execution_count": 55,
   "metadata": {
    "collapsed": false
   },
   "outputs": [
    {
     "data": {
      "text/plain": [
       "0"
      ]
     },
     "execution_count": 55,
     "metadata": {},
     "output_type": "execute_result"
    }
   ],
   "source": [
    "l = len(temptrain['cost'])\n",
    "sum(pd.notnull(traintest['cost'][l:]))"
   ]
  },
  {
   "cell_type": "code",
   "execution_count": null,
   "metadata": {
    "collapsed": true
   },
   "outputs": [],
   "source": []
  }
 ],
 "metadata": {
  "kernelspec": {
   "display_name": "Python 2",
   "language": "python",
   "name": "python2"
  },
  "language_info": {
   "codemirror_mode": {
    "name": "ipython",
    "version": 2
   },
   "file_extension": ".py",
   "mimetype": "text/x-python",
   "name": "python",
   "nbconvert_exporter": "python",
   "pygments_lexer": "ipython2",
   "version": "2.7.9"
  }
 },
 "nbformat": 4,
 "nbformat_minor": 0
}
