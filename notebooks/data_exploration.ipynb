{
 "cells": [
  {
   "cell_type": "markdown",
   "metadata": {},
   "source": [
    "In this Notebook we will explore the Caterpillar tube data"
   ]
  },
  {
   "cell_type": "code",
   "execution_count": 2,
   "metadata": {
    "collapsed": true
   },
   "outputs": [],
   "source": [
    "import os, glob, sys\n",
    "\n",
    "import pandas as pd\n",
    "import numpy as np\n",
    "import matplotlib as mpl"
   ]
  },
  {
   "cell_type": "markdown",
   "metadata": {},
   "source": [
    "Please download and put the data.zip file in the CDIPS15_TeamCat git folder.\n",
    "Unzipping the file will create competition_data folder, where all the data resides."
   ]
  },
  {
   "cell_type": "code",
   "execution_count": 5,
   "metadata": {
    "collapsed": false
   },
   "outputs": [
    {
     "name": "stdout",
     "output_type": "stream",
     "text": [
      "bill_of_materials.csv\n",
      "comp_adaptor.csv\n",
      "comp_boss.csv\n",
      "comp_elbow.csv\n",
      "comp_float.csv\n",
      "comp_hfl.csv\n",
      "comp_nut.csv\n",
      "comp_other.csv\n",
      "comp_sleeve.csv\n",
      "comp_straight.csv\n",
      "comp_tee.csv\n",
      "comp_threaded.csv\n",
      "components.csv\n",
      "specs.csv\n",
      "test_set.csv\n",
      "train_set.csv\n",
      "tube.csv\n",
      "tube_end_form.csv\n",
      "type_component.csv\n",
      "type_connection.csv\n",
      "type_end_form.csv\n"
     ]
    }
   ],
   "source": [
    "data_files = glob.glob(os.path.join('..','competition_data','*.csv'))\n",
    "for file_name in data_files:\n",
    "    print os.path.split(file_name)[-1]"
   ]
  },
  {
   "cell_type": "markdown",
   "metadata": {},
   "source": [
    "The files tube.csv and tube_end_form.csv look promising to get an understanding of the tubes used by Caterpillar. Lets investigate them first."
   ]
  },
  {
   "cell_type": "code",
   "execution_count": 64,
   "metadata": {
    "collapsed": true
   },
   "outputs": [],
   "source": [
    "tube_df = pd.read_csv(os.path.join('..','competition_data','tube.csv'))\n",
    "tube_end_df = pd.read_csv(os.path.join('..','competition_data','tube_end_form.csv'))\n",
    "comp_df = pd.read_csv(os.path.join('..','competition_data','components.csv'))\n"
   ]
  },
  {
   "cell_type": "markdown",
   "metadata": {},
   "source": [
    "Lets look at the attributes in the tube data file"
   ]
  },
  {
   "cell_type": "code",
   "execution_count": 100,
   "metadata": {
    "collapsed": false
   },
   "outputs": [
    {
     "data": {
      "text/html": [
       "<div>\n",
       "<table border=\"1\" class=\"dataframe\">\n",
       "  <thead>\n",
       "    <tr style=\"text-align: right;\">\n",
       "      <th></th>\n",
       "      <th>tube_assembly_id</th>\n",
       "      <th>material_id</th>\n",
       "      <th>diameter</th>\n",
       "      <th>wall</th>\n",
       "      <th>length</th>\n",
       "      <th>num_bends</th>\n",
       "      <th>bend_radius</th>\n",
       "      <th>end_a_1x</th>\n",
       "      <th>end_a_2x</th>\n",
       "      <th>end_x_1x</th>\n",
       "      <th>end_x_2x</th>\n",
       "      <th>end_a</th>\n",
       "      <th>end_x</th>\n",
       "      <th>num_boss</th>\n",
       "      <th>num_bracket</th>\n",
       "      <th>other</th>\n",
       "    </tr>\n",
       "  </thead>\n",
       "  <tbody>\n",
       "    <tr>\n",
       "      <th>0</th>\n",
       "      <td>TA-00001</td>\n",
       "      <td>SP-0035</td>\n",
       "      <td>12.7</td>\n",
       "      <td>1.65</td>\n",
       "      <td>164</td>\n",
       "      <td>5</td>\n",
       "      <td>38.1</td>\n",
       "      <td>N</td>\n",
       "      <td>N</td>\n",
       "      <td>N</td>\n",
       "      <td>N</td>\n",
       "      <td>EF-003</td>\n",
       "      <td>EF-003</td>\n",
       "      <td>0</td>\n",
       "      <td>0</td>\n",
       "      <td>0</td>\n",
       "    </tr>\n",
       "  </tbody>\n",
       "</table>\n",
       "</div>"
      ],
      "text/plain": [
       "  tube_assembly_id material_id  diameter  wall  length  num_bends  \\\n",
       "0         TA-00001     SP-0035      12.7  1.65     164          5   \n",
       "\n",
       "   bend_radius end_a_1x end_a_2x end_x_1x end_x_2x   end_a   end_x  num_boss  \\\n",
       "0         38.1        N        N        N        N  EF-003  EF-003         0   \n",
       "\n",
       "   num_bracket  other  \n",
       "0            0      0  "
      ]
     },
     "execution_count": 100,
     "metadata": {},
     "output_type": "execute_result"
    }
   ],
   "source": [
    "tube_df[0:1]"
   ]
  },
  {
   "cell_type": "markdown",
   "metadata": {},
   "source": [
    "Similary the attributes of the tube end form are"
   ]
  },
  {
   "cell_type": "code",
   "execution_count": 69,
   "metadata": {
    "collapsed": false
   },
   "outputs": [
    {
     "data": {
      "text/plain": [
       "298"
      ]
     },
     "execution_count": 69,
     "metadata": {},
     "output_type": "execute_result"
    }
   ],
   "source": [
    "len(comp_df['name'].unique())"
   ]
  },
  {
   "cell_type": "code",
   "execution_count": 75,
   "metadata": {
    "collapsed": true
   },
   "outputs": [],
   "source": [
    "specs_df = pd.read_csv(os.path.join('..','competition_data','specs.csv'))"
   ]
  },
  {
   "cell_type": "code",
   "execution_count": 80,
   "metadata": {
    "collapsed": false
   },
   "outputs": [
    {
     "data": {
      "text/html": [
       "<div>\n",
       "<table border=\"1\" class=\"dataframe\">\n",
       "  <thead>\n",
       "    <tr style=\"text-align: right;\">\n",
       "      <th></th>\n",
       "      <th>tube_assembly_id</th>\n",
       "      <th>spec1</th>\n",
       "      <th>spec2</th>\n",
       "      <th>spec3</th>\n",
       "      <th>spec4</th>\n",
       "      <th>spec5</th>\n",
       "      <th>spec6</th>\n",
       "      <th>spec7</th>\n",
       "      <th>spec8</th>\n",
       "      <th>spec9</th>\n",
       "      <th>spec10</th>\n",
       "    </tr>\n",
       "  </thead>\n",
       "  <tbody>\n",
       "    <tr>\n",
       "      <th>count</th>\n",
       "      <td>21198</td>\n",
       "      <td>7129</td>\n",
       "      <td>6844</td>\n",
       "      <td>5840</td>\n",
       "      <td>4154</td>\n",
       "      <td>2921</td>\n",
       "      <td>2071</td>\n",
       "      <td>535</td>\n",
       "      <td>106</td>\n",
       "      <td>20</td>\n",
       "      <td>1</td>\n",
       "    </tr>\n",
       "    <tr>\n",
       "      <th>unique</th>\n",
       "      <td>21198</td>\n",
       "      <td>45</td>\n",
       "      <td>51</td>\n",
       "      <td>49</td>\n",
       "      <td>38</td>\n",
       "      <td>37</td>\n",
       "      <td>24</td>\n",
       "      <td>13</td>\n",
       "      <td>4</td>\n",
       "      <td>3</td>\n",
       "      <td>1</td>\n",
       "    </tr>\n",
       "    <tr>\n",
       "      <th>top</th>\n",
       "      <td>TA-08945</td>\n",
       "      <td>SP-0007</td>\n",
       "      <td>SP-0012</td>\n",
       "      <td>SP-0080</td>\n",
       "      <td>SP-0026</td>\n",
       "      <td>SP-0080</td>\n",
       "      <td>SP-0082</td>\n",
       "      <td>SP-0082</td>\n",
       "      <td>SP-0082</td>\n",
       "      <td>SP-0088</td>\n",
       "      <td>SP-0080</td>\n",
       "    </tr>\n",
       "    <tr>\n",
       "      <th>freq</th>\n",
       "      <td>1</td>\n",
       "      <td>3002</td>\n",
       "      <td>1736</td>\n",
       "      <td>1798</td>\n",
       "      <td>1492</td>\n",
       "      <td>1780</td>\n",
       "      <td>1167</td>\n",
       "      <td>322</td>\n",
       "      <td>73</td>\n",
       "      <td>18</td>\n",
       "      <td>1</td>\n",
       "    </tr>\n",
       "  </tbody>\n",
       "</table>\n",
       "</div>"
      ],
      "text/plain": [
       "       tube_assembly_id    spec1    spec2    spec3    spec4    spec5    spec6  \\\n",
       "count             21198     7129     6844     5840     4154     2921     2071   \n",
       "unique            21198       45       51       49       38       37       24   \n",
       "top            TA-08945  SP-0007  SP-0012  SP-0080  SP-0026  SP-0080  SP-0082   \n",
       "freq                  1     3002     1736     1798     1492     1780     1167   \n",
       "\n",
       "          spec7    spec8    spec9   spec10  \n",
       "count       535      106       20        1  \n",
       "unique       13        4        3        1  \n",
       "top     SP-0082  SP-0082  SP-0088  SP-0080  \n",
       "freq        322       73       18        1  "
      ]
     },
     "execution_count": 80,
     "metadata": {},
     "output_type": "execute_result"
    }
   ],
   "source": [
    "specs_df.describe()"
   ]
  },
  {
   "cell_type": "code",
   "execution_count": 86,
   "metadata": {
    "collapsed": true
   },
   "outputs": [],
   "source": [
    "quant_df = pd.read_csv(os.path.join('..','competition_data','bill_of_materials.csv'))"
   ]
  },
  {
   "cell_type": "code",
   "execution_count": 125,
   "metadata": {
    "collapsed": false
   },
   "outputs": [
    {
     "data": {
      "text/html": [
       "<div>\n",
       "<table border=\"1\" class=\"dataframe\">\n",
       "  <thead>\n",
       "    <tr style=\"text-align: right;\">\n",
       "      <th></th>\n",
       "      <th>tube_assembly_id</th>\n",
       "      <th>component_id_1</th>\n",
       "      <th>quantity_1</th>\n",
       "      <th>component_id_2</th>\n",
       "      <th>quantity_2</th>\n",
       "      <th>component_id_3</th>\n",
       "      <th>quantity_3</th>\n",
       "      <th>component_id_4</th>\n",
       "      <th>quantity_4</th>\n",
       "      <th>component_id_5</th>\n",
       "      <th>quantity_5</th>\n",
       "      <th>component_id_6</th>\n",
       "      <th>quantity_6</th>\n",
       "      <th>component_id_7</th>\n",
       "      <th>quantity_7</th>\n",
       "      <th>component_id_8</th>\n",
       "      <th>quantity_8</th>\n",
       "    </tr>\n",
       "  </thead>\n",
       "  <tbody>\n",
       "    <tr>\n",
       "      <th>11</th>\n",
       "      <td>TA-00012</td>\n",
       "      <td>C-1312</td>\n",
       "      <td>2</td>\n",
       "      <td>NaN</td>\n",
       "      <td>NaN</td>\n",
       "      <td>NaN</td>\n",
       "      <td>NaN</td>\n",
       "      <td>NaN</td>\n",
       "      <td>NaN</td>\n",
       "      <td>NaN</td>\n",
       "      <td>NaN</td>\n",
       "      <td>NaN</td>\n",
       "      <td>NaN</td>\n",
       "      <td>NaN</td>\n",
       "      <td>NaN</td>\n",
       "      <td>NaN</td>\n",
       "      <td>NaN</td>\n",
       "    </tr>\n",
       "  </tbody>\n",
       "</table>\n",
       "</div>"
      ],
      "text/plain": [
       "   tube_assembly_id component_id_1  quantity_1 component_id_2  quantity_2  \\\n",
       "11         TA-00012         C-1312           2            NaN         NaN   \n",
       "\n",
       "   component_id_3  quantity_3 component_id_4  quantity_4 component_id_5  \\\n",
       "11            NaN         NaN            NaN         NaN            NaN   \n",
       "\n",
       "    quantity_5 component_id_6  quantity_6 component_id_7  quantity_7  \\\n",
       "11         NaN            NaN         NaN            NaN         NaN   \n",
       "\n",
       "   component_id_8  quantity_8  \n",
       "11            NaN         NaN  "
      ]
     },
     "execution_count": 125,
     "metadata": {},
     "output_type": "execute_result"
    }
   ],
   "source": [
    "quant_df[11:12]"
   ]
  },
  {
   "cell_type": "code",
   "execution_count": 112,
   "metadata": {
    "collapsed": false
   },
   "outputs": [
    {
     "data": {
      "text/plain": [
       "material_id    SP-0035\n",
       "diameter          12.7\n",
       "wall              1.65\n",
       "length             164\n",
       "num_bends            5\n",
       "bend_radius       38.1\n",
       "end_a_1x             N\n",
       "end_a_2x             N\n",
       "end_x_1x             N\n",
       "end_x_2x             N\n",
       "end_a           EF-003\n",
       "end_x           EF-003\n",
       "num_boss             0\n",
       "num_bracket          0\n",
       "other                0\n",
       "Name: TA-00001, dtype: object"
      ]
     },
     "execution_count": 112,
     "metadata": {},
     "output_type": "execute_result"
    }
   ],
   "source": [
    "tube_df.loc['TA-00001']"
   ]
  },
  {
   "cell_type": "code",
   "execution_count": 96,
   "metadata": {
    "collapsed": false
   },
   "outputs": [
    {
     "data": {
      "text/plain": [
       "array([ nan,   1.,   2.,   4.,   3.])"
      ]
     },
     "execution_count": 96,
     "metadata": {},
     "output_type": "execute_result"
    }
   ],
   "source": [
    "quant_df['quantity_3'].unique()"
   ]
  },
  {
   "cell_type": "code",
   "execution_count": 120,
   "metadata": {
    "collapsed": false
   },
   "outputs": [
    {
     "data": {
      "text/plain": [
       "forming    No\n",
       "Name: EF-003, dtype: object"
      ]
     },
     "execution_count": 120,
     "metadata": {},
     "output_type": "execute_result"
    }
   ],
   "source": [
    "tube_end_df.loc['EF-003']"
   ]
  },
  {
   "cell_type": "code",
   "execution_count": 124,
   "metadata": {
    "collapsed": false
   },
   "outputs": [
    {
     "data": {
      "text/plain": [
       "name                 SLEEVE-ORFS\n",
       "component_type_id         CP-024\n",
       "Name: C-1629, dtype: object"
      ]
     },
     "execution_count": 124,
     "metadata": {},
     "output_type": "execute_result"
    }
   ],
   "source": [
    "comp_df.loc['C-1629']"
   ]
  },
  {
   "cell_type": "code",
   "execution_count": 126,
   "metadata": {
    "collapsed": true
   },
   "outputs": [],
   "source": [
    "comp_sleeve_df = pd.read_csv(os.path.join('..','competition_data','comp_sleeve.csv'))"
   ]
  },
  {
   "cell_type": "code",
   "execution_count": 130,
   "metadata": {
    "collapsed": false
   },
   "outputs": [
    {
     "data": {
      "text/plain": [
       "component_type_id      CP-024\n",
       "connection_type_id      B-002\n",
       "length                   9999\n",
       "intended_nut_thread     0.812\n",
       "intended_nut_pitch         16\n",
       "unique_feature            Yes\n",
       "plating                    No\n",
       "orientation                No\n",
       "weight                  0.012\n",
       "Name: C-1629, dtype: object"
      ]
     },
     "execution_count": 130,
     "metadata": {},
     "output_type": "execute_result"
    }
   ],
   "source": [
    "comp_sleeve_df.loc['C-1629']"
   ]
  },
  {
   "cell_type": "code",
   "execution_count": 132,
   "metadata": {
    "collapsed": false
   },
   "outputs": [],
   "source": [
    "test_set = pd.read_csv(os.path.join('..','competition_data','test_set.csv'))\n",
    "train_set = pd.read_csv(os.path.join('..','competition_data','train_set.csv'))"
   ]
  },
  {
   "cell_type": "code",
   "execution_count": 133,
   "metadata": {
    "collapsed": false
   },
   "outputs": [
    {
     "data": {
      "text/html": [
       "<div>\n",
       "<table border=\"1\" class=\"dataframe\">\n",
       "  <thead>\n",
       "    <tr style=\"text-align: right;\">\n",
       "      <th></th>\n",
       "      <th>id</th>\n",
       "      <th>tube_assembly_id</th>\n",
       "      <th>supplier</th>\n",
       "      <th>quote_date</th>\n",
       "      <th>annual_usage</th>\n",
       "      <th>min_order_quantity</th>\n",
       "      <th>bracket_pricing</th>\n",
       "      <th>quantity</th>\n",
       "    </tr>\n",
       "  </thead>\n",
       "  <tbody>\n",
       "    <tr>\n",
       "      <th>0</th>\n",
       "      <td>1</td>\n",
       "      <td>TA-00001</td>\n",
       "      <td>S-0066</td>\n",
       "      <td>2013-06-23</td>\n",
       "      <td>0</td>\n",
       "      <td>0</td>\n",
       "      <td>Yes</td>\n",
       "      <td>1</td>\n",
       "    </tr>\n",
       "  </tbody>\n",
       "</table>\n",
       "</div>"
      ],
      "text/plain": [
       "   id tube_assembly_id supplier  quote_date  annual_usage  min_order_quantity  \\\n",
       "0   1         TA-00001   S-0066  2013-06-23             0                   0   \n",
       "\n",
       "  bracket_pricing  quantity  \n",
       "0             Yes         1  "
      ]
     },
     "execution_count": 133,
     "metadata": {},
     "output_type": "execute_result"
    }
   ],
   "source": [
    "test_set[0:1]"
   ]
  },
  {
   "cell_type": "code",
   "execution_count": 141,
   "metadata": {
    "collapsed": false
   },
   "outputs": [
    {
     "data": {
      "text/plain": [
       "count          30213\n",
       "unique          1781\n",
       "top       2013-10-01\n",
       "freq            2877\n",
       "Name: quote_date, dtype: object"
      ]
     },
     "execution_count": 141,
     "metadata": {},
     "output_type": "execute_result"
    }
   ],
   "source": [
    "train_set['quote_date'].describe()"
   ]
  },
  {
   "cell_type": "code",
   "execution_count": null,
   "metadata": {
    "collapsed": true
   },
   "outputs": [],
   "source": []
  }
 ],
 "metadata": {
  "kernelspec": {
   "display_name": "Python 2",
   "language": "python",
   "name": "python2"
  },
  "language_info": {
   "codemirror_mode": {
    "name": "ipython",
    "version": 2
   },
   "file_extension": ".py",
   "mimetype": "text/x-python",
   "name": "python",
   "nbconvert_exporter": "python",
   "pygments_lexer": "ipython2",
   "version": "2.7.9"
  }
 },
 "nbformat": 4,
 "nbformat_minor": 0
}
