{
 "cells": [
  {
   "cell_type": "markdown",
   "metadata": {},
   "source": [
    "# Dummy Variables\n",
    "In this model generation, I will attempt dummy variables for categorical predictors. \n",
    "The values of categorical variables, e.g., end_id_a are large. Generating dummy\n",
    "variables to account for all values will lead to an explosion of the dummy variables.\n",
    "To limit the dummy variables, all the values with low frequency are grouped into a \n",
    "single dummy variable called var_OTHER"
   ]
  },
  {
   "cell_type": "code",
   "execution_count": 32,
   "metadata": {
    "collapsed": true
   },
   "outputs": [],
   "source": [
    "%matplotlib inline\n",
    "import os, glob\n",
    "import pandas as pd\n",
    "import numpy as np\n",
    "from sklearn import linear_model\n",
    "from sklearn.preprocessing import OneHotEncoder\n",
    "import matplotlib.pyplot as plt\n",
    "from IPython.display import display"
   ]
  },
  {
   "cell_type": "code",
   "execution_count": 8,
   "metadata": {
    "collapsed": false
   },
   "outputs": [],
   "source": [
    "train = pd.read_csv(os.path.join('..','competition_data','pruned_train1.csv'),header=0,index_col=1)\n"
   ]
  },
  {
   "cell_type": "code",
   "execution_count": 127,
   "metadata": {
    "collapsed": false
   },
   "outputs": [
    {
     "name": "stdout",
     "output_type": "stream",
     "text": [
      "24\n"
     ]
    },
    {
     "data": {
      "text/plain": [
       "Index([u'Unnamed: 0', u'supplier', u'bracket_pricing', u'quantity', u'cost',\n",
       "       u'component_id_1', u'quantity_1', u'component_id_2', u'quantity_2',\n",
       "       u'component_id_3', u'quantity_3', u'material_id', u'diameter', u'wall',\n",
       "       u'length', u'num_bends', u'bend_radius', u'end_a_2x', u'end_x_2x',\n",
       "       u'end_a', u'end_x', u'year', u'month', u'day'],\n",
       "      dtype='object')"
      ]
     },
     "execution_count": 127,
     "metadata": {},
     "output_type": "execute_result"
    }
   ],
   "source": [
    "print len(train.columns)\n",
    "train.columns\n"
   ]
  },
  {
   "cell_type": "code",
   "execution_count": 128,
   "metadata": {
    "collapsed": false
   },
   "outputs": [
    {
     "data": {
      "text/html": [
       "<div>\n",
       "<table border=\"1\" class=\"dataframe\">\n",
       "  <thead>\n",
       "    <tr style=\"text-align: right;\">\n",
       "      <th></th>\n",
       "      <th>Unnamed: 0</th>\n",
       "      <th>supplier</th>\n",
       "      <th>bracket_pricing</th>\n",
       "      <th>quantity</th>\n",
       "      <th>cost</th>\n",
       "      <th>component_id_1</th>\n",
       "      <th>quantity_1</th>\n",
       "      <th>component_id_2</th>\n",
       "      <th>quantity_2</th>\n",
       "      <th>component_id_3</th>\n",
       "      <th>...</th>\n",
       "      <th>length</th>\n",
       "      <th>num_bends</th>\n",
       "      <th>bend_radius</th>\n",
       "      <th>end_a_2x</th>\n",
       "      <th>end_x_2x</th>\n",
       "      <th>end_a</th>\n",
       "      <th>end_x</th>\n",
       "      <th>year</th>\n",
       "      <th>month</th>\n",
       "      <th>day</th>\n",
       "    </tr>\n",
       "    <tr>\n",
       "      <th>tube_assembly_id</th>\n",
       "      <th></th>\n",
       "      <th></th>\n",
       "      <th></th>\n",
       "      <th></th>\n",
       "      <th></th>\n",
       "      <th></th>\n",
       "      <th></th>\n",
       "      <th></th>\n",
       "      <th></th>\n",
       "      <th></th>\n",
       "      <th></th>\n",
       "      <th></th>\n",
       "      <th></th>\n",
       "      <th></th>\n",
       "      <th></th>\n",
       "      <th></th>\n",
       "      <th></th>\n",
       "      <th></th>\n",
       "      <th></th>\n",
       "      <th></th>\n",
       "      <th></th>\n",
       "    </tr>\n",
       "  </thead>\n",
       "  <tbody>\n",
       "    <tr>\n",
       "      <th>TA-00002</th>\n",
       "      <td>0</td>\n",
       "      <td>S-0066</td>\n",
       "      <td>Yes</td>\n",
       "      <td>1</td>\n",
       "      <td>21.905933</td>\n",
       "      <td>C-1312</td>\n",
       "      <td>2</td>\n",
       "      <td>NaN</td>\n",
       "      <td>0</td>\n",
       "      <td>NaN</td>\n",
       "      <td>...</td>\n",
       "      <td>137</td>\n",
       "      <td>8</td>\n",
       "      <td>19.05</td>\n",
       "      <td>N</td>\n",
       "      <td>N</td>\n",
       "      <td>EF-008</td>\n",
       "      <td>EF-008</td>\n",
       "      <td>2013</td>\n",
       "      <td>7</td>\n",
       "      <td>919</td>\n",
       "    </tr>\n",
       "  </tbody>\n",
       "</table>\n",
       "<p>1 rows × 24 columns</p>\n",
       "</div>"
      ],
      "text/plain": [
       "                  Unnamed: 0 supplier bracket_pricing  quantity       cost  \\\n",
       "tube_assembly_id                                                             \n",
       "TA-00002                   0   S-0066             Yes         1  21.905933   \n",
       "\n",
       "                 component_id_1  quantity_1 component_id_2  quantity_2  \\\n",
       "tube_assembly_id                                                         \n",
       "TA-00002                 C-1312           2            NaN           0   \n",
       "\n",
       "                 component_id_3 ...   length num_bends  bend_radius  end_a_2x  \\\n",
       "tube_assembly_id                ...                                             \n",
       "TA-00002                    NaN ...      137         8        19.05         N   \n",
       "\n",
       "                  end_x_2x   end_a   end_x  year month  day  \n",
       "tube_assembly_id                                             \n",
       "TA-00002                 N  EF-008  EF-008  2013     7  919  \n",
       "\n",
       "[1 rows x 24 columns]"
      ]
     },
     "execution_count": 128,
     "metadata": {},
     "output_type": "execute_result"
    }
   ],
   "source": [
    "train[0:1]"
   ]
  },
  {
   "cell_type": "code",
   "execution_count": 18,
   "metadata": {
    "collapsed": false
   },
   "outputs": [
    {
     "data": {
      "text/plain": [
       "C-1312    3342\n",
       "C-1621    2816\n",
       "C-1622    1742\n",
       "C-1624    1684\n",
       "C-1623    1200\n",
       "dtype: int64"
      ]
     },
     "execution_count": 18,
     "metadata": {},
     "output_type": "execute_result"
    }
   ],
   "source": [
    "train.component_id_1.value_counts()[0:5]"
   ]
  },
  {
   "cell_type": "markdown",
   "metadata": {},
   "source": [
    "Temporarily eliminating the component_id_x and quantity_x where x=1,2,3 till component_id_x is decomposed."
   ]
  },
  {
   "cell_type": "code",
   "execution_count": 9,
   "metadata": {
    "collapsed": false
   },
   "outputs": [],
   "source": [
    "trainp = train.loc[:,[ \n",
    "       u'quantity', \n",
    "       u'material_id', u'diameter', u'wall', u'length', u'num_bends',\n",
    "       u'bend_radius', u'end_a_2x', u'end_x_2x', u'end_a', u'end_x', u'year',\n",
    "       u'month', u'day',u'cost']]"
   ]
  },
  {
   "cell_type": "code",
   "execution_count": 11,
   "metadata": {
    "collapsed": false
   },
   "outputs": [
    {
     "data": {
      "text/plain": [
       "SP-0029    10117\n",
       "SP-0035     3222\n",
       "SP-0039     2614\n",
       "SP-0019     2407\n",
       "SP-0028      572\n",
       "SP-0036       48\n",
       "SP-0046       29\n",
       "SP-0048        9\n",
       "SP-0033        6\n",
       "SP-0030        6\n",
       "SP-0038        2\n",
       "SP-0031        2\n",
       "SP-0037        2\n",
       "dtype: int64"
      ]
     },
     "execution_count": 11,
     "metadata": {},
     "output_type": "execute_result"
    }
   ],
   "source": [
    "trainp.material_id.value_counts()"
   ]
  },
  {
   "cell_type": "markdown",
   "metadata": {},
   "source": [
    "The first four material ids have high frequencies. Its better to assign those 4 to \n",
    "different values and group the rest into a single value"
   ]
  },
  {
   "cell_type": "code",
   "execution_count": 53,
   "metadata": {
    "collapsed": false
   },
   "outputs": [
    {
     "name": "stderr",
     "output_type": "stream",
     "text": [
      "/Users/mbkumar/venv2/lib/python2.7/site-packages/IPython/kernel/__main__.py:9: SettingWithCopyWarning: \n",
      "A value is trying to be set on a copy of a slice from a DataFrame\n",
      "\n",
      "See the the caveats in the documentation: http://pandas.pydata.org/pandas-docs/stable/indexing.html#indexing-view-versus-copy\n",
      "/Users/mbkumar/venv2/lib/python2.7/site-packages/IPython/kernel/__main__.py:10: SettingWithCopyWarning: \n",
      "A value is trying to be set on a copy of a slice from a DataFrame\n",
      "\n",
      "See the the caveats in the documentation: http://pandas.pydata.org/pandas-docs/stable/indexing.html#indexing-view-versus-copy\n"
     ]
    }
   ],
   "source": [
    "material_id_map = {'SP-0029': 0, 'SP-0035': 1, 'SP-0039': 2,\n",
    "                   'SP-0019': 3, 'SP-0028': 4, 'SP-0036': 4,\n",
    "                   'SP-0046': 4, 'SP-0048': 4, 'SP-0033': 4,\n",
    "                   'SP-0030': 4, 'SP-0038': 4, 'SP-0031': 4, \n",
    "                   'SP-0037': 4, \n",
    "                  }\n",
    "trainp1 = trainp.copy()\n",
    "for key,value in material_id_map.items():\n",
    "    trainp1.material_id[trainp1.material_id==key] = value\n",
    "trainp1.material_id[trainp1.material_id.isnull()] = 4"
   ]
  },
  {
   "cell_type": "code",
   "execution_count": 54,
   "metadata": {
    "collapsed": false
   },
   "outputs": [
    {
     "data": {
      "text/plain": [
       "array([[3],\n",
       "       [3],\n",
       "       [3],\n",
       "       ..., \n",
       "       [1],\n",
       "       [1],\n",
       "       [1]], dtype=object)"
      ]
     },
     "execution_count": 54,
     "metadata": {},
     "output_type": "execute_result"
    }
   ],
   "source": [
    "material_id_vals = trainp1.material_id.values\n",
    "#preprocessing.OneHotEncoder\n",
    "material_id_vals = np.reshape(material_id_vals,(len(material_id_vals),1))\n",
    "material_id_vals"
   ]
  },
  {
   "cell_type": "code",
   "execution_count": 55,
   "metadata": {
    "collapsed": false
   },
   "outputs": [
    {
     "data": {
      "text/plain": [
       "array([[ 0.,  0.,  0.,  1.,  0.],\n",
       "       [ 0.,  0.,  0.,  1.,  0.],\n",
       "       [ 0.,  0.,  0.,  1.,  0.],\n",
       "       ..., \n",
       "       [ 0.,  1.,  0.,  0.,  0.],\n",
       "       [ 0.,  1.,  0.,  0.,  0.],\n",
       "       [ 0.,  1.,  0.,  0.,  0.]])"
      ]
     },
     "execution_count": 55,
     "metadata": {},
     "output_type": "execute_result"
    }
   ],
   "source": [
    "enc = OneHotEncoder()\n",
    "enc.fit(material_id_vals)  \n",
    "enc.n_values_\n",
    "enc.feature_indices_\n",
    "mat_id_trans = enc.transform(material_id_vals).toarray()\n",
    "mat_id_trans"
   ]
  },
  {
   "cell_type": "code",
   "execution_count": 39,
   "metadata": {
    "collapsed": false
   },
   "outputs": [
    {
     "data": {
      "text/plain": [
       "EF-003    11202\n",
       "EF-008     4920\n",
       "EF-018     1854\n",
       "NONE        421\n",
       "EF-017      246\n",
       "EF-009      151\n",
       "EF-023      151\n",
       "EF-012       32\n",
       "EF-013       17\n",
       "EF-021       12\n",
       "EF-016       12\n",
       "EF-006        8\n",
       "EF-002        4\n",
       "EF-010        2\n",
       "EF-019        2\n",
       "EF-022        1\n",
       "EF-007        1\n",
       "dtype: int64"
      ]
     },
     "execution_count": 39,
     "metadata": {},
     "output_type": "execute_result"
    }
   ],
   "source": [
    "trainp1.end_a.value_counts()"
   ]
  },
  {
   "cell_type": "code",
   "execution_count": 40,
   "metadata": {
    "collapsed": false
   },
   "outputs": [
    {
     "data": {
      "text/plain": [
       "EF-003    10925\n",
       "EF-008     4911\n",
       "EF-018     1824\n",
       "NONE        562\n",
       "EF-017      380\n",
       "EF-023      173\n",
       "EF-009      132\n",
       "EF-006       38\n",
       "EF-012       26\n",
       "EF-013       24\n",
       "EF-021       12\n",
       "EF-016       11\n",
       "EF-010        6\n",
       "EF-004        5\n",
       "EF-002        4\n",
       "9999          2\n",
       "EF-019        1\n",
       "dtype: int64"
      ]
     },
     "execution_count": 40,
     "metadata": {},
     "output_type": "execute_result"
    }
   ],
   "source": [
    "trainp1.end_x.value_counts()"
   ]
  },
  {
   "cell_type": "code",
   "execution_count": 60,
   "metadata": {
    "collapsed": true
   },
   "outputs": [],
   "source": [
    "end_map = {'EF-003': 0, 'EF-008': 1, 'EF-018': 2, 'NONE': 3, \n",
    "           'EF-017': 3, 'EF-009': 3, 'EF-023': 3, 'EF-012': 3, \n",
    "           'EF-013': 3, 'EF-021': 3, 'EF-016':  3, 'EF-006': 3, \n",
    "           'EF-002': 3, 'EF-010': 3, 'EF-019': 3,'EF-022': 3,\n",
    "           'EF-007': 3, 'EF-004': 3}"
   ]
  },
  {
   "cell_type": "code",
   "execution_count": 74,
   "metadata": {
    "collapsed": false
   },
   "outputs": [
    {
     "name": "stderr",
     "output_type": "stream",
     "text": [
      "/Users/mbkumar/venv2/lib/python2.7/site-packages/IPython/kernel/__main__.py:3: SettingWithCopyWarning: \n",
      "A value is trying to be set on a copy of a slice from a DataFrame\n",
      "\n",
      "See the the caveats in the documentation: http://pandas.pydata.org/pandas-docs/stable/indexing.html#indexing-view-versus-copy\n",
      "  app.launch_new_instance()\n",
      "/Users/mbkumar/venv2/lib/python2.7/site-packages/IPython/kernel/__main__.py:4: SettingWithCopyWarning: \n",
      "A value is trying to be set on a copy of a slice from a DataFrame\n",
      "\n",
      "See the the caveats in the documentation: http://pandas.pydata.org/pandas-docs/stable/indexing.html#indexing-view-versus-copy\n",
      "/Users/mbkumar/venv2/lib/python2.7/site-packages/IPython/kernel/__main__.py:5: SettingWithCopyWarning: \n",
      "A value is trying to be set on a copy of a slice from a DataFrame\n",
      "\n",
      "See the the caveats in the documentation: http://pandas.pydata.org/pandas-docs/stable/indexing.html#indexing-view-versus-copy\n",
      "/Users/mbkumar/venv2/lib/python2.7/site-packages/IPython/kernel/__main__.py:6: SettingWithCopyWarning: \n",
      "A value is trying to be set on a copy of a slice from a DataFrame\n",
      "\n",
      "See the the caveats in the documentation: http://pandas.pydata.org/pandas-docs/stable/indexing.html#indexing-view-versus-copy\n"
     ]
    },
    {
     "data": {
      "text/plain": [
       "array([[1, 1],\n",
       "       [1, 1],\n",
       "       [0, 0],\n",
       "       [0, 0],\n",
       "       [0, 0],\n",
       "       [0, 0],\n",
       "       [0, 0],\n",
       "       [0, 0],\n",
       "       [0, 0],\n",
       "       [0, 0]], dtype=object)"
      ]
     },
     "execution_count": 74,
     "metadata": {},
     "output_type": "execute_result"
    }
   ],
   "source": [
    "trainp2 = trainp1.copy()\n",
    "for key,value in end_map.items():\n",
    "    trainp2.end_a[trainp2.end_a==key] = value\n",
    "    trainp2.end_x[trainp2.end_x==key] = value\n",
    "trainp2.end_a[trainp2.end_a.isnull()] = 3\n",
    "trainp2.end_x[trainp2.end_x.isnull()] = 3\n",
    "end_a_vals = trainp2.end_a.values\n",
    "#preprocessing.OneHotEncoder\n",
    "end_a_vals = np.reshape(end_a_vals,(len(end_a_vals),1))\n",
    "end_x_vals = trainp2.end_x.values\n",
    "end_x_vals = np.reshape(end_x_vals,(len(end_x_vals),1))\n",
    "end_vals = np.concatenate((end_a_vals, end_x_vals), axis=1)\n",
    "end_vals[1000:1010]"
   ]
  },
  {
   "cell_type": "code",
   "execution_count": 81,
   "metadata": {
    "collapsed": false
   },
   "outputs": [
    {
     "name": "stdout",
     "output_type": "stream",
     "text": [
      "[    4 10000]\n"
     ]
    },
    {
     "data": {
      "text/plain": [
       "(19086, 9)"
      ]
     },
     "execution_count": 81,
     "metadata": {},
     "output_type": "execute_result"
    }
   ],
   "source": [
    "enc_end = OneHotEncoder()\n",
    "enc_end.fit(end_vals)  \n",
    "print enc_end.n_values_\n",
    "enc_end.feature_indices_\n",
    "end_trans = enc_end.transform(end_vals).toarray()\n",
    "np.shape(end_trans)"
   ]
  },
  {
   "cell_type": "code",
   "execution_count": 82,
   "metadata": {
    "collapsed": false
   },
   "outputs": [
    {
     "name": "stderr",
     "output_type": "stream",
     "text": [
      "/Users/mbkumar/venv2/lib/python2.7/site-packages/IPython/kernel/__main__.py:3: SettingWithCopyWarning: \n",
      "A value is trying to be set on a copy of a slice from a DataFrame\n",
      "\n",
      "See the the caveats in the documentation: http://pandas.pydata.org/pandas-docs/stable/indexing.html#indexing-view-versus-copy\n",
      "  app.launch_new_instance()\n",
      "/Users/mbkumar/venv2/lib/python2.7/site-packages/IPython/kernel/__main__.py:4: SettingWithCopyWarning: \n",
      "A value is trying to be set on a copy of a slice from a DataFrame\n",
      "\n",
      "See the the caveats in the documentation: http://pandas.pydata.org/pandas-docs/stable/indexing.html#indexing-view-versus-copy\n",
      "/Users/mbkumar/venv2/lib/python2.7/site-packages/IPython/kernel/__main__.py:5: SettingWithCopyWarning: \n",
      "A value is trying to be set on a copy of a slice from a DataFrame\n",
      "\n",
      "See the the caveats in the documentation: http://pandas.pydata.org/pandas-docs/stable/indexing.html#indexing-view-versus-copy\n",
      "/Users/mbkumar/venv2/lib/python2.7/site-packages/IPython/kernel/__main__.py:6: SettingWithCopyWarning: \n",
      "A value is trying to be set on a copy of a slice from a DataFrame\n",
      "\n",
      "See the the caveats in the documentation: http://pandas.pydata.org/pandas-docs/stable/indexing.html#indexing-view-versus-copy\n"
     ]
    },
    {
     "data": {
      "text/html": [
       "<div>\n",
       "<table border=\"1\" class=\"dataframe\">\n",
       "  <thead>\n",
       "    <tr style=\"text-align: right;\">\n",
       "      <th></th>\n",
       "      <th>quantity</th>\n",
       "      <th>material_id</th>\n",
       "      <th>diameter</th>\n",
       "      <th>wall</th>\n",
       "      <th>length</th>\n",
       "      <th>num_bends</th>\n",
       "      <th>bend_radius</th>\n",
       "      <th>end_a_2x</th>\n",
       "      <th>end_x_2x</th>\n",
       "      <th>end_a</th>\n",
       "      <th>end_x</th>\n",
       "      <th>year</th>\n",
       "      <th>month</th>\n",
       "      <th>day</th>\n",
       "      <th>cost</th>\n",
       "    </tr>\n",
       "    <tr>\n",
       "      <th>tube_assembly_id</th>\n",
       "      <th></th>\n",
       "      <th></th>\n",
       "      <th></th>\n",
       "      <th></th>\n",
       "      <th></th>\n",
       "      <th></th>\n",
       "      <th></th>\n",
       "      <th></th>\n",
       "      <th></th>\n",
       "      <th></th>\n",
       "      <th></th>\n",
       "      <th></th>\n",
       "      <th></th>\n",
       "      <th></th>\n",
       "      <th></th>\n",
       "    </tr>\n",
       "  </thead>\n",
       "  <tbody>\n",
       "    <tr>\n",
       "      <th>TA-00002</th>\n",
       "      <td>1</td>\n",
       "      <td>3</td>\n",
       "      <td>6.35</td>\n",
       "      <td>0.71</td>\n",
       "      <td>137</td>\n",
       "      <td>8</td>\n",
       "      <td>19.05</td>\n",
       "      <td>0</td>\n",
       "      <td>0</td>\n",
       "      <td>1</td>\n",
       "      <td>1</td>\n",
       "      <td>2013</td>\n",
       "      <td>7</td>\n",
       "      <td>919</td>\n",
       "      <td>21.905933</td>\n",
       "    </tr>\n",
       "    <tr>\n",
       "      <th>TA-00002</th>\n",
       "      <td>2</td>\n",
       "      <td>3</td>\n",
       "      <td>6.35</td>\n",
       "      <td>0.71</td>\n",
       "      <td>137</td>\n",
       "      <td>8</td>\n",
       "      <td>19.05</td>\n",
       "      <td>0</td>\n",
       "      <td>0</td>\n",
       "      <td>1</td>\n",
       "      <td>1</td>\n",
       "      <td>2013</td>\n",
       "      <td>7</td>\n",
       "      <td>919</td>\n",
       "      <td>12.341214</td>\n",
       "    </tr>\n",
       "    <tr>\n",
       "      <th>TA-00002</th>\n",
       "      <td>5</td>\n",
       "      <td>3</td>\n",
       "      <td>6.35</td>\n",
       "      <td>0.71</td>\n",
       "      <td>137</td>\n",
       "      <td>8</td>\n",
       "      <td>19.05</td>\n",
       "      <td>0</td>\n",
       "      <td>0</td>\n",
       "      <td>1</td>\n",
       "      <td>1</td>\n",
       "      <td>2013</td>\n",
       "      <td>7</td>\n",
       "      <td>919</td>\n",
       "      <td>6.601826</td>\n",
       "    </tr>\n",
       "    <tr>\n",
       "      <th>TA-00002</th>\n",
       "      <td>10</td>\n",
       "      <td>3</td>\n",
       "      <td>6.35</td>\n",
       "      <td>0.71</td>\n",
       "      <td>137</td>\n",
       "      <td>8</td>\n",
       "      <td>19.05</td>\n",
       "      <td>0</td>\n",
       "      <td>0</td>\n",
       "      <td>1</td>\n",
       "      <td>1</td>\n",
       "      <td>2013</td>\n",
       "      <td>7</td>\n",
       "      <td>919</td>\n",
       "      <td>4.687770</td>\n",
       "    </tr>\n",
       "    <tr>\n",
       "      <th>TA-00002</th>\n",
       "      <td>25</td>\n",
       "      <td>3</td>\n",
       "      <td>6.35</td>\n",
       "      <td>0.71</td>\n",
       "      <td>137</td>\n",
       "      <td>8</td>\n",
       "      <td>19.05</td>\n",
       "      <td>0</td>\n",
       "      <td>0</td>\n",
       "      <td>1</td>\n",
       "      <td>1</td>\n",
       "      <td>2013</td>\n",
       "      <td>7</td>\n",
       "      <td>919</td>\n",
       "      <td>3.541561</td>\n",
       "    </tr>\n",
       "    <tr>\n",
       "      <th>TA-00002</th>\n",
       "      <td>50</td>\n",
       "      <td>3</td>\n",
       "      <td>6.35</td>\n",
       "      <td>0.71</td>\n",
       "      <td>137</td>\n",
       "      <td>8</td>\n",
       "      <td>19.05</td>\n",
       "      <td>0</td>\n",
       "      <td>0</td>\n",
       "      <td>1</td>\n",
       "      <td>1</td>\n",
       "      <td>2013</td>\n",
       "      <td>7</td>\n",
       "      <td>919</td>\n",
       "      <td>3.224406</td>\n",
       "    </tr>\n",
       "    <tr>\n",
       "      <th>TA-00002</th>\n",
       "      <td>100</td>\n",
       "      <td>3</td>\n",
       "      <td>6.35</td>\n",
       "      <td>0.71</td>\n",
       "      <td>137</td>\n",
       "      <td>8</td>\n",
       "      <td>19.05</td>\n",
       "      <td>0</td>\n",
       "      <td>0</td>\n",
       "      <td>1</td>\n",
       "      <td>1</td>\n",
       "      <td>2013</td>\n",
       "      <td>7</td>\n",
       "      <td>919</td>\n",
       "      <td>3.082521</td>\n",
       "    </tr>\n",
       "    <tr>\n",
       "      <th>TA-00002</th>\n",
       "      <td>250</td>\n",
       "      <td>3</td>\n",
       "      <td>6.35</td>\n",
       "      <td>0.71</td>\n",
       "      <td>137</td>\n",
       "      <td>8</td>\n",
       "      <td>19.05</td>\n",
       "      <td>0</td>\n",
       "      <td>0</td>\n",
       "      <td>1</td>\n",
       "      <td>1</td>\n",
       "      <td>2013</td>\n",
       "      <td>7</td>\n",
       "      <td>919</td>\n",
       "      <td>2.999060</td>\n",
       "    </tr>\n",
       "    <tr>\n",
       "      <th>TA-00004</th>\n",
       "      <td>1</td>\n",
       "      <td>3</td>\n",
       "      <td>6.35</td>\n",
       "      <td>0.71</td>\n",
       "      <td>137</td>\n",
       "      <td>9</td>\n",
       "      <td>19.05</td>\n",
       "      <td>0</td>\n",
       "      <td>0</td>\n",
       "      <td>1</td>\n",
       "      <td>1</td>\n",
       "      <td>2013</td>\n",
       "      <td>7</td>\n",
       "      <td>919</td>\n",
       "      <td>21.972702</td>\n",
       "    </tr>\n",
       "    <tr>\n",
       "      <th>TA-00004</th>\n",
       "      <td>2</td>\n",
       "      <td>3</td>\n",
       "      <td>6.35</td>\n",
       "      <td>0.71</td>\n",
       "      <td>137</td>\n",
       "      <td>9</td>\n",
       "      <td>19.05</td>\n",
       "      <td>0</td>\n",
       "      <td>0</td>\n",
       "      <td>1</td>\n",
       "      <td>1</td>\n",
       "      <td>2013</td>\n",
       "      <td>7</td>\n",
       "      <td>919</td>\n",
       "      <td>12.407983</td>\n",
       "    </tr>\n",
       "  </tbody>\n",
       "</table>\n",
       "</div>"
      ],
      "text/plain": [
       "                  quantity material_id  diameter  wall  length  num_bends  \\\n",
       "tube_assembly_id                                                            \n",
       "TA-00002                 1           3      6.35  0.71     137          8   \n",
       "TA-00002                 2           3      6.35  0.71     137          8   \n",
       "TA-00002                 5           3      6.35  0.71     137          8   \n",
       "TA-00002                10           3      6.35  0.71     137          8   \n",
       "TA-00002                25           3      6.35  0.71     137          8   \n",
       "TA-00002                50           3      6.35  0.71     137          8   \n",
       "TA-00002               100           3      6.35  0.71     137          8   \n",
       "TA-00002               250           3      6.35  0.71     137          8   \n",
       "TA-00004                 1           3      6.35  0.71     137          9   \n",
       "TA-00004                 2           3      6.35  0.71     137          9   \n",
       "\n",
       "                  bend_radius end_a_2x end_x_2x end_a end_x  year  month  day  \\\n",
       "tube_assembly_id                                                                \n",
       "TA-00002                19.05        0        0     1     1  2013      7  919   \n",
       "TA-00002                19.05        0        0     1     1  2013      7  919   \n",
       "TA-00002                19.05        0        0     1     1  2013      7  919   \n",
       "TA-00002                19.05        0        0     1     1  2013      7  919   \n",
       "TA-00002                19.05        0        0     1     1  2013      7  919   \n",
       "TA-00002                19.05        0        0     1     1  2013      7  919   \n",
       "TA-00002                19.05        0        0     1     1  2013      7  919   \n",
       "TA-00002                19.05        0        0     1     1  2013      7  919   \n",
       "TA-00004                19.05        0        0     1     1  2013      7  919   \n",
       "TA-00004                19.05        0        0     1     1  2013      7  919   \n",
       "\n",
       "                       cost  \n",
       "tube_assembly_id             \n",
       "TA-00002          21.905933  \n",
       "TA-00002          12.341214  \n",
       "TA-00002           6.601826  \n",
       "TA-00002           4.687770  \n",
       "TA-00002           3.541561  \n",
       "TA-00002           3.224406  \n",
       "TA-00002           3.082521  \n",
       "TA-00002           2.999060  \n",
       "TA-00004          21.972702  \n",
       "TA-00004          12.407983  "
      ]
     },
     "execution_count": 82,
     "metadata": {},
     "output_type": "execute_result"
    }
   ],
   "source": [
    "#trainp1.end_x_2x.value_counts()\n",
    "trainp3 = trainp2.copy()\n",
    "trainp3.end_x_2x[trainp3.end_x_2x=='N'] = 0\n",
    "trainp3.end_x_2x[trainp3.end_x_2x=='Y'] = 1\n",
    "trainp3.end_a_2x[trainp3.end_a_2x=='N'] = 0\n",
    "trainp3.end_a_2x[trainp3.end_a_2x=='Y'] = 1\n",
    "trainp3[0:10]"
   ]
  },
  {
   "cell_type": "code",
   "execution_count": 86,
   "metadata": {
    "collapsed": false
   },
   "outputs": [
    {
     "data": {
      "text/plain": [
       "Index([   u'quantity', u'material_id',    u'diameter',        u'wall',\n",
       "            u'length',   u'num_bends', u'bend_radius',    u'end_a_2x',\n",
       "          u'end_x_2x',       u'end_a',       u'end_x',        u'year',\n",
       "             u'month',         u'day',        u'cost'],\n",
       "      dtype='object')"
      ]
     },
     "execution_count": 86,
     "metadata": {},
     "output_type": "execute_result"
    }
   ],
   "source": [
    "trainp3.columns"
   ]
  },
  {
   "cell_type": "code",
   "execution_count": 85,
   "metadata": {
    "collapsed": false
   },
   "outputs": [
    {
     "data": {
      "text/plain": [
       "Index([   u'quantity',    u'mat_id_1',    u'mat_id_2',    u'mat_id_3',\n",
       "          u'mat_id_4',    u'mat_id_5',    u'diameter',        u'wall',\n",
       "            u'length',   u'num_bends', u'bend_radius',    u'end_a_2x',\n",
       "          u'end_x_2x',   u'end_a_x_1',   u'end_a_x_2',   u'end_a_x_3',\n",
       "         u'end_a_x_4',   u'end_a_x_5',   u'end_a_x_6',   u'end_a_x_7',\n",
       "         u'end_a_x_8',   u'end_a_x_9',        u'year',       u'month',\n",
       "               u'day',        u'cost'],\n",
       "      dtype='object')"
      ]
     },
     "execution_count": 85,
     "metadata": {},
     "output_type": "execute_result"
    }
   ],
   "source": [
    "trainp4 = trainp3.loc[:,[u'quantity', u'diameter', u'wall', u'length', u'num_bends',\n",
    "       u'bend_radius', u'end_a_2x', u'end_x_2x', u'year',\n",
    "       u'month', u'day',u'cost']]\n",
    "for i in range(1,6):\n",
    "    trainp4.insert(i, 'mat_id_'+str(i), mat_id_trans[:,i-1], allow_duplicates=False)\n",
    "for i in range(np.shape(end_trans)[1]):\n",
    "    trainp4.insert(13+i, 'end_a_x_'+str(i+1), end_trans[:,i], allow_duplicates=False)\n",
    "trainp4.columns\n"
   ]
  },
  {
   "cell_type": "code",
   "execution_count": null,
   "metadata": {
    "collapsed": true
   },
   "outputs": [],
   "source": [
    "trainp4.to_csv(os.path.join('..','competition_data','train_model_attempt2_final_data.csv'))"
   ]
  },
  {
   "cell_type": "code",
   "execution_count": 89,
   "metadata": {
    "collapsed": false
   },
   "outputs": [
    {
     "name": "stdout",
     "output_type": "stream",
     "text": [
      "Index([   u'quantity',    u'mat_id_1',    u'mat_id_2',    u'mat_id_3',\n",
      "          u'mat_id_4',    u'mat_id_5',    u'diameter',        u'wall',\n",
      "            u'length',   u'num_bends', u'bend_radius',    u'end_a_2x',\n",
      "          u'end_x_2x',   u'end_a_x_1',   u'end_a_x_2',   u'end_a_x_3',\n",
      "         u'end_a_x_4',   u'end_a_x_5',   u'end_a_x_6',   u'end_a_x_7',\n",
      "         u'end_a_x_8',   u'end_a_x_9',        u'year',       u'month',\n",
      "               u'day'],\n",
      "      dtype='object')\n",
      "19086\n"
     ]
    }
   ],
   "source": [
    "X_cols = trainp4.columns[:-1]\n",
    "print X_cols\n",
    "print len(trainp4)\n"
   ]
  },
  {
   "cell_type": "code",
   "execution_count": null,
   "metadata": {
    "collapsed": true
   },
   "outputs": [],
   "source": []
  },
  {
   "cell_type": "markdown",
   "metadata": {},
   "source": [
    "# Randomize the data"
   ]
  },
  {
   "cell_type": "code",
   "execution_count": 104,
   "metadata": {
    "collapsed": true
   },
   "outputs": [],
   "source": [
    "trainp5 = trainp4.iloc[np.random.permutation(len(trainp4))]"
   ]
  },
  {
   "cell_type": "code",
   "execution_count": 114,
   "metadata": {
    "collapsed": false
   },
   "outputs": [],
   "source": [
    "#X_cols = ['diameter','wall','length','num_bends','bend_radius',\n",
    "#          'quantity','year','month','day']\n",
    "train_X = trainp5.as_matrix(trainp5.columns[:-1])\n",
    "train_y = trainp5.as_matrix(['cost'])[:,0]\n",
    "#print train_X[0]\n",
    "#train_y\n"
   ]
  },
  {
   "cell_type": "code",
   "execution_count": 115,
   "metadata": {
    "collapsed": false
   },
   "outputs": [],
   "source": [
    "lasso = linear_model.LassoCV()"
   ]
  },
  {
   "cell_type": "code",
   "execution_count": 116,
   "metadata": {
    "collapsed": false
   },
   "outputs": [
    {
     "data": {
      "text/plain": [
       "LassoCV(alphas=None, copy_X=True, cv=None, eps=0.001, fit_intercept=True,\n",
       "    max_iter=1000, n_alphas=100, n_jobs=1, normalize=False, positive=False,\n",
       "    precompute='auto', random_state=None, selection='cyclic', tol=0.0001,\n",
       "    verbose=False)"
      ]
     },
     "execution_count": 116,
     "metadata": {},
     "output_type": "execute_result"
    }
   ],
   "source": [
    "lasso.fit(train_X, train_y)\n"
   ]
  },
  {
   "cell_type": "code",
   "execution_count": 117,
   "metadata": {
    "collapsed": false
   },
   "outputs": [
    {
     "data": {
      "image/png": "[encoded data removed]",
      "text/plain": [
       "<matplotlib.figure.Figure at 0x10b61c210>"
      ]
     },
     "metadata": {},
     "output_type": "display_data"
    }
   ],
   "source": [
    "pred_y = lasso.predict(test_X)\n",
    "plt.scatter(test_y, pred_y,  color='black')\n",
    "plt.xlim((0,140))\n",
    "plt.ylim ((0,140))\n",
    "#plt.plot(diabetes_X_test, regr.predict(diabetes_X_test), color='blue',\n",
    "#         linewidth=3)\n",
    "\n",
    "#plt.xticks(())\n",
    "#plt.yticks(())\n",
    "\n",
    "plt.show()"
   ]
  },
  {
   "cell_type": "code",
   "execution_count": 94,
   "metadata": {
    "collapsed": false
   },
   "outputs": [],
   "source": []
  },
  {
   "cell_type": "code",
   "execution_count": 118,
   "metadata": {
    "collapsed": true
   },
   "outputs": [],
   "source": [
    "lassocv = linear_model.LassoCV (alphas = [.1,1.0,10.0])"
   ]
  },
  {
   "cell_type": "code",
   "execution_count": 119,
   "metadata": {
    "collapsed": false
   },
   "outputs": [
    {
     "data": {
      "text/plain": [
       "LassoCV(alphas=[0.1, 1.0, 10.0], copy_X=True, cv=None, eps=0.001,\n",
       "    fit_intercept=True, max_iter=1000, n_alphas=100, n_jobs=1,\n",
       "    normalize=False, positive=False, precompute='auto', random_state=None,\n",
       "    selection='cyclic', tol=0.0001, verbose=False)"
      ]
     },
     "execution_count": 119,
     "metadata": {},
     "output_type": "execute_result"
    }
   ],
   "source": [
    "lassocv.fit(train_X,train_y)"
   ]
  },
  {
   "cell_type": "code",
   "execution_count": 122,
   "metadata": {
    "collapsed": false
   },
   "outputs": [
    {
     "data": {
      "image/png": "[encoded data removed]",
      "text/plain": [
       "<matplotlib.figure.Figure at 0x106c6b310>"
      ]
     },
     "metadata": {},
     "output_type": "display_data"
    }
   ],
   "source": [
    "pred_y = lassocv.predict(train_X)\n",
    "plt.scatter(train_y, pred_y,  color='black')\n",
    "plt.xlim((0,140))\n",
    "plt.ylim ((0,140))\n",
    "\n",
    "plt.show()"
   ]
  },
  {
   "cell_type": "code",
   "execution_count": 123,
   "metadata": {
    "collapsed": false
   },
   "outputs": [
    {
     "data": {
      "text/plain": [
       "0.10000000000000001"
      ]
     },
     "execution_count": 123,
     "metadata": {},
     "output_type": "execute_result"
    }
   ],
   "source": [
    "lassocv.alpha_"
   ]
  },
  {
   "cell_type": "code",
   "execution_count": 113,
   "metadata": {
    "collapsed": false
   },
   "outputs": [
    {
     "data": {
      "image/png": "[encoded data removed]",
      "text/plain": [
       "<matplotlib.figure.Figure at 0x10b6006d0>"
      ]
     },
     "metadata": {},
     "output_type": "display_data"
    }
   ],
   "source": [
    "pred_y1 = lassocv.predict(train_X)\n",
    "plt.scatter(train_y, pred_y1,  color='black')\n",
    "plt.xlim((0,140))\n",
    "plt.ylim ((0,140))\n",
    "\n",
    "plt.show()"
   ]
  },
  {
   "cell_type": "code",
   "execution_count": null,
   "metadata": {
    "collapsed": true
   },
   "outputs": [],
   "source": []
  }
 ],
 "metadata": {
  "kernelspec": {
   "display_name": "Python 2",
   "language": "python",
   "name": "python2"
  },
  "language_info": {
   "codemirror_mode": {
    "name": "ipython",
    "version": 2
   },
   "file_extension": ".py",
   "mimetype": "text/x-python",
   "name": "python",
   "nbconvert_exporter": "python",
   "pygments_lexer": "ipython2",
   "version": "2.7.5"
  }
 },
 "nbformat": 4,
 "nbformat_minor": 0
}
