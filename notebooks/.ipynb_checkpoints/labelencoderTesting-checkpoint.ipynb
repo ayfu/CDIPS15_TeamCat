{
 "cells": [
  {
   "cell_type": "code",
   "execution_count": 1,
   "metadata": {
    "collapsed": true
   },
   "outputs": [],
   "source": [
    "%matplotlib inline\n",
    "import os, glob\n",
    "from collections import defaultdict\n",
    "import pandas as pd\n",
    "import numpy as np\n",
    "from sklearn import linear_model\n",
    "from sklearn.preprocessing import OneHotEncoder, LabelEncoder\n",
    "from sklearn.ensemble import GradientBoostingRegressor\n",
    "from sklearn import cross_validation\n",
    "from sklearn.grid_search import GridSearchCV\n",
    "from sklearn.metrics import make_scorer\n",
    "\n",
    "import matplotlib.pyplot as plt\n",
    "from IPython.display import display"
   ]
  },
  {
   "cell_type": "code",
   "execution_count": 49,
   "metadata": {
    "collapsed": false
   },
   "outputs": [],
   "source": [
    "train = pd.read_csv(os.path.join('..','notebooks','traintest.csv'),header=0)\n",
    "#train.append(test, ignore_index = True)\n",
    "names =  train.columns.values\n",
    "#print names\n",
    "#train.index"
   ]
  },
  {
   "cell_type": "code",
   "execution_count": 157,
   "metadata": {
    "collapsed": true
   },
   "outputs": [],
   "source": [
    "class PruneLabelEncoder(LabelEncoder):\n",
    "    def __init___(self):\n",
    "        super(PruneLabelEncoder, self).__init__()\n",
    "    def fit(self, series, cutoff=10):\n",
    "        self.cutoff = cutoff\n",
    "        # Generate the transformation classes and also the map for low output munging \n",
    "        super(PruneLabelEncoder, self).fit(series)\n",
    "        trans_series = super(PruneLabelEncoder, self).transform(series)\n",
    "        self.val_count_map = defaultdict(int)\n",
    "        for i in trans_series:\n",
    "            self.val_count_map[i] += 1\n",
    "        # identify the first key with low frequency and use it for all low freq vals\n",
    "        for key, val in self.val_count_map.items():\n",
    "            if val < self.cutoff:\n",
    "                self.low_cnt_target = key\n",
    "                break\n",
    "    def transform(self, series):\n",
    "        trans_series = super(PruneLabelEncoder, self).transform(series)\n",
    "        # Transform all the low frequency keys into the low frequency target key\n",
    "        for key, val in self.val_count_map.items():\n",
    "            if val < self.cutoff:\n",
    "                trans_series[trans_series==key] = self.low_cnt_target\n",
    "        return trans_series\n",
    "    \n",
    "def whichcolumns(df, percentnull = 0.9):\n",
    "# Returns a list of which columns have greater than or equal to 90% null values\n",
    "    col = []\n",
    "    for x in df.columns:\n",
    "        if np.mean(pd.isnull(df[x])) >= percentnull:\n",
    "            col += [x]\n",
    "    return col\n",
    "    \n",
    "    \n",
    "def dropcolumns(df, percentnull = 0.9):\n",
    "# function to drop columns with 90% NaN values or user can specify percentage\n",
    "    for x in df.columns:\n",
    "        if np.mean(pd.isnull(df[x])) >= percentnull:\n",
    "            df = df.drop(x,axis = 1)\n",
    "    return df\n",
    "\n",
    "def encode(df, TRANSFORM_CUTOFF):\n",
    "    temp = df.copy()\n",
    "\n",
    "    # Checking if there are 2 or more unique values in each column\n",
    "    for x in train.columns:\n",
    "        if len(train[x].unique()) < 2:\n",
    "            return 'Error: Fewer than 2 unique values in a column'\n",
    "    \n",
    "    for col in df.columns:\n",
    "        if type(df[col].unique()[1]) == str:\n",
    "            le = PruneLabelEncoder()\n",
    "            le.fit(df[col],TRANSFORM_CUTOFF)\n",
    "            df[col] = le.transform(df[col])\n",
    "            \n",
    "    return df\n"
   ]
  },
  {
   "cell_type": "code",
   "execution_count": 141,
   "metadata": {
    "collapsed": true
   },
   "outputs": [],
   "source": [
    "\n",
    "\n",
    "c = train.loc[:,['component_id_3','cost','component_id_1','weight_id_1','bracket_pricing']].copy()\n",
    "train = encode(train, 1)"
   ]
  },
  {
   "cell_type": "code",
   "execution_count": 139,
   "metadata": {
    "collapsed": false
   },
   "outputs": [
    {
     "name": "stdout",
     "output_type": "stream",
     "text": [
      "# of 'See Drawing' observations: 21\n",
      "[nan 12.7 9.52 3.18 15.88 34.0 25.4 27.2 7.94 19.05 4.76 22.22 38.1 17.14\n",
      " 17.47]\n"
     ]
    }
   ],
   "source": [
    "c = train['nominal_size_1_comp1'].copy()\n",
    "print \"# of 'See Drawing' observations:\", len(c[c == 'See Drawing'])\n",
    "\n",
    "for x in range(len(c)):\n",
    "    if pd.isnull(c[x]):\n",
    "        continue\n",
    "    else:\n",
    "        try:\n",
    "            c[x] = float(c[x])\n",
    "        except:\n",
    "            c[x] = np.nan\n",
    "\n",
    "train['nominal_size_1_comp1'] = c\n",
    "print train['nominal_size_1_comp1'].unique()\n"
   ]
  },
  {
   "cell_type": "code",
   "execution_count": 138,
   "metadata": {
    "collapsed": false
   },
   "outputs": [
    {
     "name": "stdout",
     "output_type": "stream",
     "text": [
      "# of 'See Drawing' observations: 21\n",
      "[nan 12.7 9.52 3.18 15.88 34.0 25.4 27.2 7.94 19.05 4.76 22.22 38.1 17.14\n",
      " 17.47]\n"
     ]
    }
   ],
   "source": [
    "c = train.loc[:,'nominal_size_1_comp1'].copy()\n",
    "print \"# of 'See Drawing' observations:\", len(c[c == 'See Drawing'])\n",
    "\n",
    "for x in range(len(c)):\n",
    "    if pd.isnull(c[x]):\n",
    "        continue\n",
    "    else:\n",
    "        try:\n",
    "            c[x] = float(c[x])\n",
    "        except:\n",
    "            c[x] = np.nan\n",
    "        \n",
    "print c.unique()"
   ]
  },
  {
   "cell_type": "markdown",
   "metadata": {},
   "source": [
    "### Testing looping function for encoding variables"
   ]
  },
  {
   "cell_type": "code",
   "execution_count": 163,
   "metadata": {
    "collapsed": false
   },
   "outputs": [
    {
     "data": {
      "text/plain": [
       "['nominal_size_3_comp2',\n",
       " 'diameter_comp3',\n",
       " 'thread_size_4_comp3',\n",
       " 'thread_size_3_comp3',\n",
       " 'length_4_comp3',\n",
       " 'thread_pitch_4_comp3',\n",
       " 'thread_pitch_3_comp3',\n",
       " 'nominal_size_1_comp4',\n",
       " 'elbow_angle_comp4',\n",
       " 'thread_size_3_comp4',\n",
       " 'thread_pitch_3_comp4',\n",
       " 'hose_diameter_comp4',\n",
       " 'shoulder_diameter_comp4',\n",
       " 'nominal_size_2_comp5',\n",
       " 'nominal_size_1_comp5',\n",
       " 'length_1_comp5',\n",
       " 'adaptor_angle_comp5',\n",
       " 'length_2_comp5',\n",
       " 'extension_length_comp5',\n",
       " 'drop_length_comp5',\n",
       " 'head_diameter_comp5',\n",
       " 'hex_size_comp6',\n",
       " 'overall_length_comp6',\n",
       " 'bolt_pattern_wide_comp6',\n",
       " 'thickness_comp6',\n",
       " 'bolt_pattern_long_comp6',\n",
       " 'height_over_tube_comp6',\n",
       " 'base_diameter_comp6',\n",
       " 'quantity_8',\n",
       " 'weight_id_8']"
      ]
     },
     "execution_count": 163,
     "metadata": {},
     "output_type": "execute_result"
    }
   ],
   "source": [
    "def whichcolumns(df, percentnull = 0.9):\n",
    "# Returns a list of which columns have greater than or equal to 90% null values\n",
    "    col = []\n",
    "    for x in df.columns:\n",
    "        if np.mean(pd.isnull(df[x])) >= percentnull:\n",
    "            col += [x]\n",
    "    return col\n",
    "\n",
    "def dropcolumns(df, percentnull = 0.9):\n",
    "    for x in df.columns:\n",
    "        if np.mean(pd.isnull(df[x])) >= percentnull:\n",
    "            df = df.drop(x,axis = 1)\n",
    "    return df\n",
    "\n",
    "c = train.loc[:,['component_id_3','cost','component_id_1','weight_id_1','bracket_pricing','nominal_size_1_comp1']].copy()\n",
    "# dropcolumns(c).head()\n",
    "whichcolumns(train, 0.9999)"
   ]
  },
  {
   "cell_type": "code",
   "execution_count": 150,
   "metadata": {
    "collapsed": false
   },
   "outputs": [
    {
     "data": {
      "text/plain": [
       "0.94345553202752774"
      ]
     },
     "execution_count": 150,
     "metadata": {},
     "output_type": "execute_result"
    }
   ],
   "source": [
    "c = train.loc[:,'nominal_size_1_comp1'].copy()\n",
    "np.mean(pd.isnull(c))\n",
    "# list(np.unique(c))"
   ]
  },
  {
   "cell_type": "code",
   "execution_count": null,
   "metadata": {
    "collapsed": true
   },
   "outputs": [],
   "source": []
  },
  {
   "cell_type": "code",
   "execution_count": null,
   "metadata": {
    "collapsed": true
   },
   "outputs": [],
   "source": [
    "## Testing the encode function\n",
    "\n",
    "train2 = train.copy()\n",
    "c = train.loc[:,['component_id_3','cost','component_id_1','weight_id_1','bracket_pricing']].copy()\n",
    "train3 = encode(train2, 1)"
   ]
  },
  {
   "cell_type": "code",
   "execution_count": null,
   "metadata": {
    "collapsed": true
   },
   "outputs": [],
   "source": [
    "## Testing\n",
    "\n",
    "t = train.iloc[:,1].copy()\n",
    "le = PruneLabelEncoder()\n",
    "le.fit(t, 50)\n",
    "s = le.transform(t)\n",
    "print np.bincount(s)\n",
    "print np.unique(s)"
   ]
  },
  {
   "cell_type": "code",
   "execution_count": 124,
   "metadata": {
    "collapsed": false
   },
   "outputs": [
    {
     "data": {
      "text/html": [
       "<div>\n",
       "<table border=\"1\" class=\"dataframe\">\n",
       "  <thead>\n",
       "    <tr style=\"text-align: right;\">\n",
       "      <th></th>\n",
       "      <th>component_id_3</th>\n",
       "      <th>cost</th>\n",
       "      <th>component_id_1</th>\n",
       "      <th>weight_id_1</th>\n",
       "      <th>bracket_pricing</th>\n",
       "    </tr>\n",
       "  </thead>\n",
       "  <tbody>\n",
       "    <tr>\n",
       "      <th>0</th>\n",
       "      <td>0</td>\n",
       "      <td>21.905933</td>\n",
       "      <td>105</td>\n",
       "      <td>0.009</td>\n",
       "      <td>1</td>\n",
       "    </tr>\n",
       "    <tr>\n",
       "      <th>1</th>\n",
       "      <td>0</td>\n",
       "      <td>12.341214</td>\n",
       "      <td>105</td>\n",
       "      <td>0.009</td>\n",
       "      <td>1</td>\n",
       "    </tr>\n",
       "    <tr>\n",
       "      <th>2</th>\n",
       "      <td>0</td>\n",
       "      <td>6.601826</td>\n",
       "      <td>105</td>\n",
       "      <td>0.009</td>\n",
       "      <td>1</td>\n",
       "    </tr>\n",
       "    <tr>\n",
       "      <th>3</th>\n",
       "      <td>0</td>\n",
       "      <td>4.687770</td>\n",
       "      <td>105</td>\n",
       "      <td>0.009</td>\n",
       "      <td>1</td>\n",
       "    </tr>\n",
       "    <tr>\n",
       "      <th>4</th>\n",
       "      <td>0</td>\n",
       "      <td>3.541561</td>\n",
       "      <td>105</td>\n",
       "      <td>0.009</td>\n",
       "      <td>1</td>\n",
       "    </tr>\n",
       "  </tbody>\n",
       "</table>\n",
       "</div>"
      ],
      "text/plain": [
       "   component_id_3       cost  component_id_1  weight_id_1  bracket_pricing\n",
       "0               0  21.905933             105        0.009                1\n",
       "1               0  12.341214             105        0.009                1\n",
       "2               0   6.601826             105        0.009                1\n",
       "3               0   4.687770             105        0.009                1\n",
       "4               0   3.541561             105        0.009                1"
      ]
     },
     "execution_count": 124,
     "metadata": {},
     "output_type": "execute_result"
    }
   ],
   "source": [
    "c = train.loc[:,['component_id_3','cost','component_id_1','weight_id_1','bracket_pricing']].copy()\n",
    "\n",
    "for x in c.columns:\n",
    "    if type(c[x].unique()[1]) == str:\n",
    "        le2 = PruneLabelEncoder()\n",
    "        le2.fit(c[x],1)\n",
    "        c[x] = le2.transform(c[x])\n",
    "\n",
    "c.head()        \n",
    "#print c2[:15]\n",
    "#print c[:15]\n",
    "#print type(c.unique()[1]) == str"
   ]
  },
  {
   "cell_type": "code",
   "execution_count": 130,
   "metadata": {
    "collapsed": false
   },
   "outputs": [
    {
     "name": "stdout",
     "output_type": "stream",
     "text": [
      "# of 'See Drawing' observations: 21\n",
      "[nan 12.7 9.52 3.18 15.88 34.0 25.4 27.2 7.94 19.05 4.76 22.22 38.1 17.14\n",
      " 17.47]\n"
     ]
    }
   ],
   "source": [
    "c = train.loc[:,'nominal_size_1_comp1'].copy()\n",
    "print \"# of 'See Drawing' observations:\", len(c[c == 'See Drawing'])\n",
    "#le2 = PruneLabelEncoder()\n",
    "#le2.fit(c,1)\n",
    "#c2 = le2.transform(c)\n",
    "#print c2[:15]\n",
    "#print c[:15]\n",
    "for x in range(len(c)):\n",
    "    if pd.isnull(c[x]):\n",
    "        continue\n",
    "    else:\n",
    "        try:\n",
    "            c[x] = float(c[x])\n",
    "        except:\n",
    "            c[x] = np.nan\n",
    "        \n",
    "print c.unique()\n",
    "#print type(c.unique()[1]) == str"
   ]
  },
  {
   "cell_type": "code",
   "execution_count": 119,
   "metadata": {
    "collapsed": false
   },
   "outputs": [
    {
     "ename": "TypeError",
     "evalue": "'Int64Index' object is not callable",
     "output_type": "error",
     "traceback": [
      "\u001b[1;31m---------------------------------------------------------------------------\u001b[0m",
      "\u001b[1;31mTypeError\u001b[0m                                 Traceback (most recent call last)",
      "\u001b[1;32m<ipython-input-119-f22c35c6614e>\u001b[0m in \u001b[0;36m<module>\u001b[1;34m()\u001b[0m\n\u001b[0;32m      1\u001b[0m \u001b[0mc\u001b[0m \u001b[1;33m=\u001b[0m \u001b[0mtrain\u001b[0m\u001b[1;33m.\u001b[0m\u001b[0mloc\u001b[0m\u001b[1;33m[\u001b[0m\u001b[1;33m:\u001b[0m\u001b[1;33m,\u001b[0m\u001b[1;34m'nominal_size_1_comp1'\u001b[0m\u001b[1;33m]\u001b[0m\u001b[1;33m.\u001b[0m\u001b[0mcopy\u001b[0m\u001b[1;33m(\u001b[0m\u001b[1;33m)\u001b[0m\u001b[1;33m\u001b[0m\u001b[0m\n\u001b[1;32m----> 2\u001b[1;33m \u001b[0mc\u001b[0m\u001b[1;33m.\u001b[0m\u001b[0mindex\u001b[0m\u001b[1;33m(\u001b[0m\u001b[1;34m'See Drawing'\u001b[0m\u001b[1;33m)\u001b[0m\u001b[1;33m\u001b[0m\u001b[0m\n\u001b[0m",
      "\u001b[1;31mTypeError\u001b[0m: 'Int64Index' object is not callable"
     ]
    }
   ],
   "source": [
    "c = train.copy()\n",
    "\n",
    "for col in c.columns:\n",
    "    if (c[col]) == str\n",
    "\n",
    "    for x in range(len(c)):\n",
    "        if pd.isnull(c[x]):\n",
    "            continue\n",
    "        else:\n",
    "            try:\n",
    "                c[x] = float(c[x])\n",
    "            except:\n",
    "                c[x] = np.nan"
   ]
  },
  {
   "cell_type": "code",
   "execution_count": 69,
   "metadata": {
    "collapsed": false
   },
   "outputs": [
    {
     "data": {
      "text/plain": [
       "array([    nan,   79.38,   22.2 ,   44.45,   88.9 ,   22.22,   26.19,\n",
       "         30.2 ,   22.23,   77.8 ,   27.8 ,   61.93,   36.5 ,   35.7 ,\n",
       "         69.9 ,   92.1 ,   42.  ,   69.92,  120.  ,   50.8 ,   26.2 ,\n",
       "         31.75,   30.18,   27.76,   61.9 ,   42.9 ,   69.85,  110.  ,\n",
       "         35.71,   42.88,   95.4 ,   31.8 ,   23.8 ,   17.  ])"
      ]
     },
     "execution_count": 69,
     "metadata": {},
     "output_type": "execute_result"
    }
   ],
   "source": [
    "\n",
    "d = train.loc[:,'bolt_pattern_wide_comp1'].copy()\n",
    "d.unique()"
   ]
  },
  {
   "cell_type": "markdown",
   "metadata": {},
   "source": [
    "## Checking if any column is all null or fewer than 2 unique values"
   ]
  },
  {
   "cell_type": "code",
   "execution_count": 77,
   "metadata": {
    "collapsed": false
   },
   "outputs": [
    {
     "name": "stdout",
     "output_type": "stream",
     "text": [
      "0\n"
     ]
    }
   ],
   "source": [
    "e = train.copy()\n",
    "count = 0\n",
    "for x in train.columns:\n",
    "    if pd.isnull(train[x]).all():\n",
    "        print x\n",
    "        count += 1\n",
    "print count"
   ]
  },
  {
   "cell_type": "code",
   "execution_count": 78,
   "metadata": {
    "collapsed": false
   },
   "outputs": [
    {
     "name": "stdout",
     "output_type": "stream",
     "text": [
      "0\n"
     ]
    }
   ],
   "source": [
    "count = 0\n",
    "for x in train.columns:\n",
    "    if len(train[x].unique()) < 2:\n",
    "        print x\n",
    "        count += 1\n",
    "print count"
   ]
  },
  {
   "cell_type": "code",
   "execution_count": 80,
   "metadata": {
    "collapsed": false
   },
   "outputs": [
    {
     "name": "stdout",
     "output_type": "stream",
     "text": [
      "['Yes' 'No']\n",
      "[nan 'No']\n",
      "[nan 'No']\n",
      "[ nan  90.]\n",
      "[nan 'MJ-006']\n",
      "[nan 'ORFS-SAE J1453']\n",
      "[ nan   1.]\n",
      "[nan 'Male (Stud)']\n",
      "[  nan  35.8]\n",
      "[ nan  14.]\n",
      "[nan 'Round']\n",
      "[nan 'No']\n",
      "[nan 'No']\n",
      "[ nan  37.]\n",
      "[ nan  90.]\n",
      "[   nan  15.88]\n",
      "[nan 'ORFS-SAE J1453']\n",
      "[ nan  12.]\n",
      "[nan 'No']\n",
      "[nan 'No']\n",
      "[ nan  37.]\n",
      "[ nan  90.]\n",
      "[ nan  90.]\n",
      "[   nan  1.187]\n",
      "[nan 'ORFS-SAE J1453']\n",
      "[nan 'ORFS-SAE J1453']\n",
      "[   nan  1.187]\n",
      "[nan 'Male (Stud)']\n",
      "[  nan  41.7]\n",
      "[ nan  12.]\n",
      "[ nan  12.]\n",
      "[nan 'SP-0095']\n",
      "[ nan  90.]\n",
      "[nan 'ORFS-SAE J1453']\n",
      "[ nan  90.]\n",
      "[   nan  15.88]\n",
      "[nan 'ORFS-SAE J1453']\n",
      "[   nan  0.812]\n",
      "[ nan  16.]\n",
      "[ nan  4.8]\n",
      "[nan 'SP-0016']\n",
      "[nan 'C-0855']\n",
      "[nan 'SP-0098']\n",
      "[  nan  9.52]\n",
      "[   nan  31.75]\n",
      "[  nan  46.7]\n",
      "[ nan  90.]\n",
      "[  nan  44.5]\n",
      "[  nan  53.1]\n",
      "[nan 'MJ-003']\n",
      "[nan 'Threaded']\n",
      "[  nan  25.5]\n",
      "[nan 'Yes']\n",
      "[ nan  4.8]\n",
      "[nan 'SP-0098']\n",
      "[  nan  50.8]\n",
      "[nan 'Saddle']\n",
      "[ nan  90.]\n",
      "[  nan  22.2]\n",
      "[nan 'ORFS-SAE J1453']\n",
      "[nan 'Male (Stud)']\n",
      "[nan 'Braze-Weld Socket']\n",
      "[  nan  24.7]\n",
      "[  nan  37.3]\n",
      "[  nan  37.3]\n",
      "[nan 'MJ-003']\n",
      "[  nan  36.5]\n",
      "[nan 'No']\n",
      "[nan 'Saddle']\n",
      "[nan 'Round']\n",
      "[nan 'Boss']\n",
      "[ nan  50.]\n",
      "[ nan   1.]\n",
      "[nan 'BOSS']\n",
      "[ nan   1.]\n",
      "[   nan  0.263]\n",
      "[nan 'BOSS']\n",
      "['N' 'Y']\n",
      "['N' 'Y']\n",
      "['N' 'Y']\n",
      "['N' 'Y']\n",
      "[nan 'SP-0080']\n",
      "82\n"
     ]
    }
   ],
   "source": [
    "count = 0\n",
    "for x in train.columns:\n",
    "    if len(train[x].unique()) == 2:\n",
    "        print train[x].unique()\n",
    "        count += 1\n",
    "print count"
   ]
  },
  {
   "cell_type": "code",
   "execution_count": 71,
   "metadata": {
    "collapsed": false
   },
   "outputs": [
    {
     "data": {
      "text/plain": [
       "False"
      ]
     },
     "execution_count": 71,
     "metadata": {},
     "output_type": "execute_result"
    }
   ],
   "source": [
    "pd.isnull(train['bolt_pattern_wide_comp1']).all()"
   ]
  },
  {
   "cell_type": "code",
   "execution_count": 133,
   "metadata": {
    "collapsed": false
   },
   "outputs": [
    {
     "name": "stdout",
     "output_type": "stream",
     "text": [
      "[[    0]\n",
      " [    1]\n",
      " [    2]\n",
      " ..., \n",
      " [60445]\n",
      " [60446]\n",
      " [    0]]\n"
     ]
    }
   ],
   "source": [
    "lbl_id = []\n",
    "n = len(train.index)\n",
    "A = np.zeros((n,1),int)\n",
    "for i in range(0,n-1):\n",
    "    A[i] = i     \n",
    "print A\n"
   ]
  },
  {
   "cell_type": "code",
   "execution_count": 134,
   "metadata": {
    "collapsed": false,
    "scrolled": true
   },
   "outputs": [
    {
     "name": "stdout",
     "output_type": "stream",
     "text": [
      "1\n",
      "2\n",
      "3\n",
      "4\n",
      "5\n",
      "6\n",
      "7\n",
      "8\n",
      "9\n",
      "10\n"
     ]
    },
    {
     "ename": "ValueError",
     "evalue": "y contains new labels: [ nan  nan  nan ...,  nan  nan  nan]",
     "output_type": "error",
     "traceback": [
      "\u001b[0;31m---------------------------------------------------------------------------\u001b[0m",
      "\u001b[0;31mValueError\u001b[0m                                Traceback (most recent call last)",
      "\u001b[0;32m<ipython-input-134-63a2c3ddd2bc>\u001b[0m in \u001b[0;36m<module>\u001b[0;34m()\u001b[0m\n\u001b[1;32m     11\u001b[0m         \u001b[0mlbl_id\u001b[0m\u001b[0;34m.\u001b[0m\u001b[0mappend\u001b[0m\u001b[0;34m(\u001b[0m\u001b[0mnames_id\u001b[0m\u001b[0;34m)\u001b[0m\u001b[0;34m\u001b[0m\u001b[0m\n\u001b[1;32m     12\u001b[0m         \u001b[0mnames_id\u001b[0m \u001b[0;34m=\u001b[0m \u001b[0mPruneLabelEncoder\u001b[0m\u001b[0;34m(\u001b[0m\u001b[0;34m)\u001b[0m\u001b[0;34m\u001b[0m\u001b[0m\n\u001b[0;32m---> 13\u001b[0;31m         \u001b[0mnames_id\u001b[0m\u001b[0;34m.\u001b[0m\u001b[0mfit\u001b[0m\u001b[0;34m(\u001b[0m\u001b[0mtrain\u001b[0m\u001b[0;34m.\u001b[0m\u001b[0miloc\u001b[0m\u001b[0;34m[\u001b[0m\u001b[0;34m:\u001b[0m\u001b[0;34m,\u001b[0m\u001b[0mi\u001b[0m\u001b[0;34m]\u001b[0m\u001b[0;34m.\u001b[0m\u001b[0mvalues\u001b[0m\u001b[0;34m,\u001b[0m \u001b[0mcutoff\u001b[0m\u001b[0;34m=\u001b[0m\u001b[0mTRANSFORM_CUTOFF\u001b[0m\u001b[0;34m)\u001b[0m\u001b[0;34m\u001b[0m\u001b[0m\n\u001b[0m\u001b[1;32m     14\u001b[0m         \u001b[0mnames_trans\u001b[0m \u001b[0;34m=\u001b[0m \u001b[0mnames_id\u001b[0m\u001b[0;34m.\u001b[0m\u001b[0mtransform\u001b[0m\u001b[0;34m(\u001b[0m\u001b[0mtrain\u001b[0m\u001b[0;34m.\u001b[0m\u001b[0miloc\u001b[0m\u001b[0;34m[\u001b[0m\u001b[0;34m:\u001b[0m\u001b[0;34m,\u001b[0m\u001b[0mi\u001b[0m\u001b[0;34m]\u001b[0m\u001b[0;34m.\u001b[0m\u001b[0mvalues\u001b[0m\u001b[0;34m)\u001b[0m\u001b[0;34m\u001b[0m\u001b[0m\n\u001b[1;32m     15\u001b[0m         \u001b[0mnames_trans\u001b[0m \u001b[0;34m=\u001b[0m \u001b[0mnp\u001b[0m\u001b[0;34m.\u001b[0m\u001b[0mreshape\u001b[0m\u001b[0;34m(\u001b[0m\u001b[0mnames_trans\u001b[0m\u001b[0;34m,\u001b[0m\u001b[0;34m(\u001b[0m\u001b[0mn\u001b[0m\u001b[0;34m,\u001b[0m\u001b[0;36m1\u001b[0m\u001b[0;34m)\u001b[0m\u001b[0;34m)\u001b[0m\u001b[0;34m\u001b[0m\u001b[0m\n",
      "\u001b[0;32m<ipython-input-93-c6d1d34d5c92>\u001b[0m in \u001b[0;36mfit\u001b[0;34m(self, series, cutoff)\u001b[0m\n\u001b[1;32m      6\u001b[0m         \u001b[0;31m# Generate the transformation classes and also the map for low output munging\u001b[0m\u001b[0;34m\u001b[0m\u001b[0;34m\u001b[0m\u001b[0m\n\u001b[1;32m      7\u001b[0m         \u001b[0msuper\u001b[0m\u001b[0;34m(\u001b[0m\u001b[0mPruneLabelEncoder\u001b[0m\u001b[0;34m,\u001b[0m \u001b[0mself\u001b[0m\u001b[0;34m)\u001b[0m\u001b[0;34m.\u001b[0m\u001b[0mfit\u001b[0m\u001b[0;34m(\u001b[0m\u001b[0mseries\u001b[0m\u001b[0;34m)\u001b[0m\u001b[0;34m\u001b[0m\u001b[0m\n\u001b[0;32m----> 8\u001b[0;31m         \u001b[0mtrans_series\u001b[0m \u001b[0;34m=\u001b[0m \u001b[0msuper\u001b[0m\u001b[0;34m(\u001b[0m\u001b[0mPruneLabelEncoder\u001b[0m\u001b[0;34m,\u001b[0m \u001b[0mself\u001b[0m\u001b[0;34m)\u001b[0m\u001b[0;34m.\u001b[0m\u001b[0mtransform\u001b[0m\u001b[0;34m(\u001b[0m\u001b[0mseries\u001b[0m\u001b[0;34m)\u001b[0m\u001b[0;34m\u001b[0m\u001b[0m\n\u001b[0m\u001b[1;32m      9\u001b[0m         \u001b[0mself\u001b[0m\u001b[0;34m.\u001b[0m\u001b[0mval_count_map\u001b[0m \u001b[0;34m=\u001b[0m \u001b[0mdefaultdict\u001b[0m\u001b[0;34m(\u001b[0m\u001b[0mint\u001b[0m\u001b[0;34m)\u001b[0m\u001b[0;34m\u001b[0m\u001b[0m\n\u001b[1;32m     10\u001b[0m         \u001b[0;32mfor\u001b[0m \u001b[0mi\u001b[0m \u001b[0;32min\u001b[0m \u001b[0mtrans_series\u001b[0m\u001b[0;34m:\u001b[0m\u001b[0;34m\u001b[0m\u001b[0m\n",
      "\u001b[0;32m/Library/Python/2.7/site-packages/sklearn/preprocessing/label.pyc\u001b[0m in \u001b[0;36mtransform\u001b[0;34m(self, y)\u001b[0m\n\u001b[1;32m    148\u001b[0m         \u001b[0;32mif\u001b[0m \u001b[0mlen\u001b[0m\u001b[0;34m(\u001b[0m\u001b[0mnp\u001b[0m\u001b[0;34m.\u001b[0m\u001b[0mintersect1d\u001b[0m\u001b[0;34m(\u001b[0m\u001b[0mclasses\u001b[0m\u001b[0;34m,\u001b[0m \u001b[0mself\u001b[0m\u001b[0;34m.\u001b[0m\u001b[0mclasses_\u001b[0m\u001b[0;34m)\u001b[0m\u001b[0;34m)\u001b[0m \u001b[0;34m<\u001b[0m \u001b[0mlen\u001b[0m\u001b[0;34m(\u001b[0m\u001b[0mclasses\u001b[0m\u001b[0;34m)\u001b[0m\u001b[0;34m:\u001b[0m\u001b[0;34m\u001b[0m\u001b[0m\n\u001b[1;32m    149\u001b[0m             \u001b[0mdiff\u001b[0m \u001b[0;34m=\u001b[0m \u001b[0mnp\u001b[0m\u001b[0;34m.\u001b[0m\u001b[0msetdiff1d\u001b[0m\u001b[0;34m(\u001b[0m\u001b[0mclasses\u001b[0m\u001b[0;34m,\u001b[0m \u001b[0mself\u001b[0m\u001b[0;34m.\u001b[0m\u001b[0mclasses_\u001b[0m\u001b[0;34m)\u001b[0m\u001b[0;34m\u001b[0m\u001b[0m\n\u001b[0;32m--> 150\u001b[0;31m             \u001b[0;32mraise\u001b[0m \u001b[0mValueError\u001b[0m\u001b[0;34m(\u001b[0m\u001b[0;34m\"y contains new labels: %s\"\u001b[0m \u001b[0;34m%\u001b[0m \u001b[0mstr\u001b[0m\u001b[0;34m(\u001b[0m\u001b[0mdiff\u001b[0m\u001b[0;34m)\u001b[0m\u001b[0;34m)\u001b[0m\u001b[0;34m\u001b[0m\u001b[0m\n\u001b[0m\u001b[1;32m    151\u001b[0m         \u001b[0;32mreturn\u001b[0m \u001b[0mnp\u001b[0m\u001b[0;34m.\u001b[0m\u001b[0msearchsorted\u001b[0m\u001b[0;34m(\u001b[0m\u001b[0mself\u001b[0m\u001b[0;34m.\u001b[0m\u001b[0mclasses_\u001b[0m\u001b[0;34m,\u001b[0m \u001b[0my\u001b[0m\u001b[0;34m)\u001b[0m\u001b[0;34m\u001b[0m\u001b[0m\n\u001b[1;32m    152\u001b[0m \u001b[0;34m\u001b[0m\u001b[0m\n",
      "\u001b[0;31mValueError\u001b[0m: y contains new labels: [ nan  nan  nan ...,  nan  nan  nan]"
     ]
    }
   ],
   "source": [
    "for i in range(1,n-1):\n",
    "    print i\n",
    "    if isinstance(train.iloc[:,i].values[0],int):\n",
    "        names_id = 'lbl_'+names[i]+'_id'\n",
    "        lbl_id.append(names_id)  \n",
    "        names_trans = train.iloc[:,i].values\n",
    "        names_trans = np.reshape(names_trans,(n,1))\n",
    "        A = np.concatenate((A,names_trans),1)\n",
    "    else:\n",
    "        names_id = 'lbl_'+names[i]+'_id'\n",
    "        lbl_id.append(names_id)  \n",
    "        names_id = PruneLabelEncoder()\n",
    "        names_id.fit(train.iloc[:,i].values, cutoff=TRANSFORM_CUTOFF)\n",
    "        names_trans = names_id.transform(train.iloc[:,i].values)\n",
    "        names_trans = np.reshape(names_trans,(n,1))\n",
    "        A = np.concatenate((A,names_trans),1)\n",
    "break"
   ]
  },
  {
   "cell_type": "code",
   "execution_count": 67,
   "metadata": {
    "collapsed": false
   },
   "outputs": [
    {
     "data": {
      "text/plain": [
       "['tube_assembly_id',\n",
       " 'supplier',\n",
       " 'year',\n",
       " 'month',\n",
       " 'day',\n",
       " 'annual_usage',\n",
       " 'min_order_quantity',\n",
       " 'bracket_pricing',\n",
       " 'quantity',\n",
       " 'cost',\n",
       " 'component_id_1',\n",
       " 'quantity_1',\n",
       " 'weight_id_1',\n",
       " 'component_type_id_comp1',\n",
       " 'plating_comp1',\n",
       " 'orientation_comp1',\n",
       " 'intended_nut_thread_comp1',\n",
       " 'unique_feature_comp1',\n",
       " 'connection_type_id_comp1',\n",
       " 'intended_nut_pitch_comp1',\n",
       " 'length_comp1',\n",
       " 'blind_hole_comp1',\n",
       " 'diameter_comp1',\n",
       " 'seat_angle_comp1',\n",
       " 'thread_pitch_comp1',\n",
       " 'hex_nut_size_comp1',\n",
       " 'thread_size_comp1',\n",
       " 'end_form_id_2_comp1',\n",
       " 'overall_length_comp1',\n",
       " 'end_form_id_1_comp1',\n",
       " 'nominal_size_2_comp1',\n",
       " 'nominal_size_1_comp1',\n",
       " 'thread_pitch_1_comp1',\n",
       " 'length_1_comp1',\n",
       " 'adaptor_angle_comp1',\n",
       " 'length_2_comp1',\n",
       " 'thread_pitch_2_comp1',\n",
       " 'connection_type_id_1_comp1',\n",
       " 'connection_type_id_2_comp1',\n",
       " 'thread_size_1_comp1',\n",
       " 'thread_size_2_comp1',\n",
       " 'hex_size_comp1',\n",
       " 'extension_length_comp1',\n",
       " 'mj_class_code_comp1',\n",
       " 'bolt_pattern_wide_comp1',\n",
       " 'thickness_comp1',\n",
       " 'mj_plug_class_code_comp1',\n",
       " 'elbow_angle_comp1',\n",
       " 'bolt_pattern_long_comp1',\n",
       " 'plug_diameter_comp1',\n",
       " 'groove_comp1',\n",
       " 'drop_length_comp1',\n",
       " 'part_name_comp1',\n",
       " 'connection_type_id_3_comp1',\n",
       " 'thread_size_3_comp1',\n",
       " 'end_form_id_3_comp1',\n",
       " 'length_3_comp1',\n",
       " 'thread_pitch_3_comp1',\n",
       " 'head_diameter_comp1',\n",
       " 'height_over_tube_comp1',\n",
       " 'base_type_comp1',\n",
       " 'outside_shape_comp1',\n",
       " 'type_comp1',\n",
       " 'base_diameter_comp1',\n",
       " 'shoulder_diameter_comp1',\n",
       " 'component_id_2',\n",
       " 'quantity_2',\n",
       " 'weight_id_2',\n",
       " 'component_type_id_comp2',\n",
       " 'plating_comp2',\n",
       " 'orientation_comp2',\n",
       " 'intended_nut_thread_comp2',\n",
       " 'unique_feature_comp2',\n",
       " 'connection_type_id_comp2',\n",
       " 'intended_nut_pitch_comp2',\n",
       " 'length_comp2',\n",
       " 'blind_hole_comp2',\n",
       " 'diameter_comp2',\n",
       " 'seat_angle_comp2',\n",
       " 'thread_pitch_comp2',\n",
       " 'hex_nut_size_comp2',\n",
       " 'thread_size_comp2',\n",
       " 'end_form_id_2_comp2',\n",
       " 'overall_length_comp2',\n",
       " 'end_form_id_1_comp2',\n",
       " 'nominal_size_2_comp2',\n",
       " 'nominal_size_1_comp2',\n",
       " 'thread_pitch_1_comp2',\n",
       " 'length_1_comp2',\n",
       " 'adaptor_angle_comp2',\n",
       " 'length_2_comp2',\n",
       " 'thread_pitch_2_comp2',\n",
       " 'connection_type_id_1_comp2',\n",
       " 'connection_type_id_2_comp2',\n",
       " 'thread_size_1_comp2',\n",
       " 'thread_size_2_comp2',\n",
       " 'hex_size_comp2',\n",
       " 'extension_length_comp2',\n",
       " 'mj_class_code_comp2',\n",
       " 'bolt_pattern_wide_comp2',\n",
       " 'thickness_comp2',\n",
       " 'mj_plug_class_code_comp2',\n",
       " 'elbow_angle_comp2',\n",
       " 'bolt_pattern_long_comp2',\n",
       " 'plug_diameter_comp2',\n",
       " 'groove_comp2',\n",
       " 'drop_length_comp2',\n",
       " 'part_name_comp2',\n",
       " 'nominal_size_3_comp2',\n",
       " 'connection_type_id_3_comp2',\n",
       " 'thread_size_3_comp2',\n",
       " 'end_form_id_3_comp2',\n",
       " 'length_3_comp2',\n",
       " 'thread_pitch_3_comp2',\n",
       " 'head_diameter_comp2',\n",
       " 'height_over_tube_comp2',\n",
       " 'base_type_comp2',\n",
       " 'outside_shape_comp2',\n",
       " 'type_comp2',\n",
       " 'base_diameter_comp2',\n",
       " 'shoulder_diameter_comp2',\n",
       " 'component_id_3',\n",
       " 'quantity_3',\n",
       " 'weight_id_3',\n",
       " 'component_type_id_comp3',\n",
       " 'plating_comp3',\n",
       " 'orientation_comp3',\n",
       " 'intended_nut_thread_comp3',\n",
       " 'unique_feature_comp3',\n",
       " 'connection_type_id_comp3',\n",
       " 'intended_nut_pitch_comp3',\n",
       " 'length_comp3',\n",
       " 'blind_hole_comp3',\n",
       " 'diameter_comp3',\n",
       " 'seat_angle_comp3',\n",
       " 'thread_pitch_comp3',\n",
       " 'hex_nut_size_comp3',\n",
       " 'thread_size_comp3',\n",
       " 'end_form_id_2_comp3',\n",
       " 'overall_length_comp3',\n",
       " 'end_form_id_1_comp3',\n",
       " 'nominal_size_2_comp3',\n",
       " 'nominal_size_1_comp3',\n",
       " 'thread_pitch_1_comp3',\n",
       " 'length_1_comp3',\n",
       " 'adaptor_angle_comp3',\n",
       " 'length_2_comp3',\n",
       " 'thread_pitch_2_comp3',\n",
       " 'connection_type_id_1_comp3',\n",
       " 'connection_type_id_2_comp3',\n",
       " 'thread_size_1_comp3',\n",
       " 'thread_size_2_comp3',\n",
       " 'hex_size_comp3',\n",
       " 'extension_length_comp3',\n",
       " 'mj_class_code_comp3',\n",
       " 'bolt_pattern_wide_comp3',\n",
       " 'thickness_comp3',\n",
       " 'mj_plug_class_code_comp3',\n",
       " 'elbow_angle_comp3',\n",
       " 'bolt_pattern_long_comp3',\n",
       " 'plug_diameter_comp3',\n",
       " 'groove_comp3',\n",
       " 'drop_length_comp3',\n",
       " 'part_name_comp3',\n",
       " 'nominal_size_3_comp3',\n",
       " 'thread_size_4_comp3',\n",
       " 'connection_type_id_3_comp3',\n",
       " 'connection_type_id_4_comp3',\n",
       " 'thread_size_3_comp3',\n",
       " 'end_form_id_4_comp3',\n",
       " 'end_form_id_3_comp3',\n",
       " 'length_3_comp3',\n",
       " 'length_4_comp3',\n",
       " 'thread_pitch_4_comp3',\n",
       " 'thread_pitch_3_comp3',\n",
       " 'hose_diameter_comp3',\n",
       " 'material_comp3',\n",
       " 'corresponding_shell_comp3',\n",
       " 'coupling_class_comp3',\n",
       " 'head_diameter_comp3',\n",
       " 'height_over_tube_comp3',\n",
       " 'base_type_comp3',\n",
       " 'outside_shape_comp3',\n",
       " 'type_comp3',\n",
       " 'base_diameter_comp3',\n",
       " 'shoulder_diameter_comp3',\n",
       " 'component_id_4',\n",
       " 'quantity_4',\n",
       " 'weight_id_4',\n",
       " 'component_type_id_comp4',\n",
       " 'plating_comp4',\n",
       " 'orientation_comp4',\n",
       " 'intended_nut_thread_comp4',\n",
       " 'unique_feature_comp4',\n",
       " 'connection_type_id_comp4',\n",
       " 'intended_nut_pitch_comp4',\n",
       " 'length_comp4',\n",
       " 'thread_pitch_comp4',\n",
       " 'hex_nut_size_comp4',\n",
       " 'thread_size_comp4',\n",
       " 'end_form_id_2_comp4',\n",
       " 'overall_length_comp4',\n",
       " 'end_form_id_1_comp4',\n",
       " 'nominal_size_2_comp4',\n",
       " 'nominal_size_1_comp4',\n",
       " 'thread_pitch_1_comp4',\n",
       " 'length_1_comp4',\n",
       " 'adaptor_angle_comp4',\n",
       " 'length_2_comp4',\n",
       " 'thread_pitch_2_comp4',\n",
       " 'connection_type_id_1_comp4',\n",
       " 'connection_type_id_2_comp4',\n",
       " 'thread_size_1_comp4',\n",
       " 'thread_size_2_comp4',\n",
       " 'hex_size_comp4',\n",
       " 'extension_length_comp4',\n",
       " 'mj_class_code_comp4',\n",
       " 'bolt_pattern_wide_comp4',\n",
       " 'thickness_comp4',\n",
       " 'mj_plug_class_code_comp4',\n",
       " 'elbow_angle_comp4',\n",
       " 'bolt_pattern_long_comp4',\n",
       " 'groove_comp4',\n",
       " 'drop_length_comp4',\n",
       " 'part_name_comp4',\n",
       " 'nominal_size_3_comp4',\n",
       " 'connection_type_id_3_comp4',\n",
       " 'thread_size_3_comp4',\n",
       " 'end_form_id_3_comp4',\n",
       " 'length_3_comp4',\n",
       " 'thread_pitch_3_comp4',\n",
       " 'hose_diameter_comp4',\n",
       " 'material_comp4',\n",
       " 'corresponding_shell_comp4',\n",
       " 'coupling_class_comp4',\n",
       " 'head_diameter_comp4',\n",
       " 'height_over_tube_comp4',\n",
       " 'base_type_comp4',\n",
       " 'outside_shape_comp4',\n",
       " 'type_comp4',\n",
       " 'base_diameter_comp4',\n",
       " 'shoulder_diameter_comp4',\n",
       " 'component_id_5',\n",
       " 'quantity_5',\n",
       " 'weight_id_5',\n",
       " 'component_type_id_comp5',\n",
       " 'end_form_id_2_comp5',\n",
       " 'overall_length_comp5',\n",
       " 'orientation_comp5',\n",
       " 'end_form_id_1_comp5',\n",
       " 'nominal_size_2_comp5',\n",
       " 'nominal_size_1_comp5',\n",
       " 'unique_feature_comp5',\n",
       " 'thread_pitch_1_comp5',\n",
       " 'length_1_comp5',\n",
       " 'adaptor_angle_comp5',\n",
       " 'length_2_comp5',\n",
       " 'thread_pitch_2_comp5',\n",
       " 'connection_type_id_1_comp5',\n",
       " 'connection_type_id_2_comp5',\n",
       " 'thread_size_1_comp5',\n",
       " 'thread_size_2_comp5',\n",
       " 'hex_size_comp5',\n",
       " 'extension_length_comp5',\n",
       " 'mj_class_code_comp5',\n",
       " 'bolt_pattern_wide_comp5',\n",
       " 'thickness_comp5',\n",
       " 'mj_plug_class_code_comp5',\n",
       " 'bolt_pattern_long_comp5',\n",
       " 'groove_comp5',\n",
       " 'drop_length_comp5',\n",
       " 'part_name_comp5',\n",
       " 'plating_comp5',\n",
       " 'hose_diameter_comp5',\n",
       " 'material_comp5',\n",
       " 'corresponding_shell_comp5',\n",
       " 'coupling_class_comp5',\n",
       " 'head_diameter_comp5',\n",
       " 'height_over_tube_comp5',\n",
       " 'connection_type_id_comp5',\n",
       " 'base_type_comp5',\n",
       " 'outside_shape_comp5',\n",
       " 'type_comp5',\n",
       " 'component_id_6',\n",
       " 'quantity_6',\n",
       " 'weight_id_6',\n",
       " 'part_name_comp6',\n",
       " 'orientation_comp6',\n",
       " 'nominal_size_2_comp6',\n",
       " 'adaptor_angle_comp6',\n",
       " 'component_type_id_comp6',\n",
       " 'hex_size_comp6',\n",
       " 'connection_type_id_1_comp6',\n",
       " 'thread_size_1_comp6',\n",
       " 'end_form_id_1_comp6',\n",
       " 'end_form_id_2_comp6',\n",
       " 'overall_length_comp6',\n",
       " 'unique_feature_comp6',\n",
       " 'length_1_comp6',\n",
       " 'length_2_comp6',\n",
       " 'thread_pitch_1_comp6',\n",
       " 'mj_class_code_comp6',\n",
       " 'bolt_pattern_wide_comp6',\n",
       " 'thickness_comp6',\n",
       " 'bolt_pattern_long_comp6',\n",
       " 'groove_comp6',\n",
       " 'height_over_tube_comp6',\n",
       " 'connection_type_id_comp6',\n",
       " 'base_type_comp6',\n",
       " 'outside_shape_comp6',\n",
       " 'type_comp6',\n",
       " 'base_diameter_comp6',\n",
       " 'component_id_7',\n",
       " 'quantity_7',\n",
       " 'weight_id_7',\n",
       " 'part_name_comp7',\n",
       " 'component_id_8',\n",
       " 'quantity_8',\n",
       " 'weight_id_8',\n",
       " 'part_name_comp8',\n",
       " 'material_id',\n",
       " 'diameter',\n",
       " 'wall',\n",
       " 'length',\n",
       " 'num_bends',\n",
       " 'bend_radius',\n",
       " 'end_a_1x',\n",
       " 'end_a_2x',\n",
       " 'end_x_1x',\n",
       " 'end_x_2x',\n",
       " 'end_a',\n",
       " 'end_x',\n",
       " 'num_boss',\n",
       " 'num_bracket',\n",
       " 'other',\n",
       " 'spec1',\n",
       " 'spec2',\n",
       " 'spec3',\n",
       " 'spec4',\n",
       " 'spec5',\n",
       " 'spec6',\n",
       " 'spec7',\n",
       " 'spec8',\n",
       " 'spec9',\n",
       " 'spec10']"
      ]
     },
     "execution_count": 67,
     "metadata": {},
     "output_type": "execute_result"
    }
   ],
   "source": [
    "list(train.columns)"
   ]
  },
  {
   "cell_type": "code",
   "execution_count": null,
   "metadata": {
    "collapsed": true
   },
   "outputs": [],
   "source": []
  },
  {
   "cell_type": "code",
   "execution_count": null,
   "metadata": {
    "collapsed": true
   },
   "outputs": [],
   "source": []
  }
 ],
 "metadata": {
  "kernelspec": {
   "display_name": "Python 2",
   "language": "python",
   "name": "python2"
  },
  "language_info": {
   "codemirror_mode": {
    "name": "ipython",
    "version": 2
   },
   "file_extension": ".py",
   "mimetype": "text/x-python",
   "name": "python",
   "nbconvert_exporter": "python",
   "pygments_lexer": "ipython2",
   "version": "2.7.9"
  }
 },
 "nbformat": 4,
 "nbformat_minor": 0
}
