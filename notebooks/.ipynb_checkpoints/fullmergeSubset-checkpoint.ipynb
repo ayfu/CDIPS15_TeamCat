{
 "cells": [
  {
   "cell_type": "code",
   "execution_count": null,
   "metadata": {
    "collapsed": false
   },
   "outputs": [],
   "source": [
    "# %load dataclean.py\n",
    "import os, glob\n",
    "from collections import defaultdict\n",
    "import pandas as pd\n",
    "import numpy as np\n",
    "from sklearn import linear_model\n",
    "from sklearn.preprocessing import OneHotEncoder, LabelEncoder\n",
    "from sklearn.ensemble import GradientBoostingRegressor\n",
    "from sklearn import cross_validation\n",
    "from sklearn.grid_search import GridSearchCV\n",
    "from sklearn.metrics import make_scorer\n",
    "\n",
    "class PruneLabelEncoder(LabelEncoder):\n",
    "    def __init___(self):\n",
    "        super(PruneLabelEncoder, self).__init__()\n",
    "    def fit(self, series, cutoff=10):\n",
    "        self.cutoff = cutoff\n",
    "        # Generate the transformation classes and also the map for low output munging\n",
    "        super(PruneLabelEncoder, self).fit(series)\n",
    "        trans_series = super(PruneLabelEncoder, self).transform(series)\n",
    "        self.val_count_map = defaultdict(int)\n",
    "        for i in trans_series:\n",
    "            self.val_count_map[i] += 1\n",
    "        # identify the first key with low frequency and use it for all low freq vals\n",
    "        for key, val in self.val_count_map.items():\n",
    "            if val < self.cutoff:\n",
    "                self.low_cnt_target = key\n",
    "                break\n",
    "    def transform(self, series):\n",
    "        trans_series = super(PruneLabelEncoder, self).transform(series)\n",
    "        # Transform all the low frequency keys into the low frequency target key\n",
    "        for key, val in self.val_count_map.items():\n",
    "            if val < self.cutoff:\n",
    "                trans_series[trans_series==key] = self.low_cnt_target\n",
    "        return trans_series\n",
    "\n",
    "\n",
    "def whichcolumns(df, percentnull = 0.9):\n",
    "# Returns a list of which columns have greater than or equal to 90% null values\n",
    "    col = []\n",
    "    for x in df.columns:\n",
    "        if np.mean(pd.isnull(df[x])) >= percentnull:\n",
    "            col += [x]\n",
    "    return col\n",
    "\n",
    "\n",
    "def dropcolumns(df, percentnull = 0.9):\n",
    "# function to drop columns with 90% NaN values or user can specify percentage\n",
    "    for x in df.columns:\n",
    "        if np.mean(pd.isnull(df[x])) >= percentnull:\n",
    "            df = df.drop(x,axis = 1)\n",
    "    return df\n",
    "\n",
    "\n",
    "\n",
    "def encode(df, TRANSFORM_CUTOFF):\n",
    "    '''\n",
    "    Takes in a dataframe and a cutoff value for bucketing encoding values\n",
    "\n",
    "    If the frequency of an encoded value is below the cutoff, it will bucket \n",
    "    everything to the first value it encounters that is below the cutoff value\n",
    "    '''\n",
    "    temp = df.copy()\n",
    "\n",
    "    # Checking if there are 2 or more unique values in each column\n",
    "    for x in df.columns:\n",
    "        if len(df[x].unique()) < 2:\n",
    "            return 'Error: Fewer than 2 unique values in a column'\n",
    "\n",
    "    for col in df.columns:\n",
    "        if type(df[col].unique()[1]) == str:\n",
    "            le = PruneLabelEncoder()\n",
    "            le.fit(df[col],TRANSFORM_CUTOFF)\n",
    "            df[col] = le.transform(df[col])\n",
    "\n",
    "    return df\n"
   ]
  },
  {
   "cell_type": "code",
   "execution_count": 3,
   "metadata": {
    "collapsed": false
   },
   "outputs": [
    {
     "name": "stderr",
     "output_type": "stream",
     "text": [
      "C:\\Anaconda\\lib\\site-packages\\pandas\\io\\parsers.py:1170: DtypeWarning: Columns (21,26,46,53,55,76,81,86,93,101,109,111,116,117,118,132,137,142,149,154,157,166,167,169,170,176,177,178,181,182,183,200,202,210,211,216,219,222,224,226,228,232,233,234,237,238,239,242,245,246,248,249,252,258,259,264,267,269,271,272,274,275,276,279,280,281,282,283,286,287,290,292,294,295,297,301,305,307,308,309,310,312,315,316,319,335,336,337,338,339,340,341,342,343,344) have mixed types. Specify dtype option on import or set low_memory=False.\n",
      "  data = self._reader.read(nrows)\n"
     ]
    }
   ],
   "source": [
    "traintest = pd.read_csv('traintest.csv', header = 0)"
   ]
  },
  {
   "cell_type": "code",
   "execution_count": 4,
   "metadata": {
    "collapsed": false
   },
   "outputs": [
    {
     "name": "stdout",
     "output_type": "stream",
     "text": [
      "First index: 10\n",
      "Last index: 319\n"
     ]
    }
   ],
   "source": [
    "print \"First index:\", list(traintest.columns).index('component_id_1')\n",
    "print \"Last index:\", list(traintest.columns).index('part_name_comp8')"
   ]
  },
  {
   "cell_type": "code",
   "execution_count": 7,
   "metadata": {
    "collapsed": false
   },
   "outputs": [
    {
     "name": "stdout",
     "output_type": "stream",
     "text": [
      "['blind_hole_comp1', 'diameter_comp1', 'mj_plug_class_code_comp1', 'plug_diameter_comp1', 'connection_type_id_3_comp1', 'thread_size_3_comp1', 'end_form_id_3_comp1', 'length_3_comp1', 'thread_pitch_3_comp1', 'blind_hole_comp2', 'diameter_comp2', 'mj_plug_class_code_comp2', 'plug_diameter_comp2', 'nominal_size_3_comp2', 'connection_type_id_3_comp2', 'thread_size_3_comp2', 'end_form_id_3_comp2', 'length_3_comp2', 'thread_pitch_3_comp2', 'blind_hole_comp3', 'diameter_comp3', 'seat_angle_comp3', 'mj_plug_class_code_comp3', 'plug_diameter_comp3', 'nominal_size_3_comp3', 'thread_size_4_comp3', 'connection_type_id_3_comp3', 'connection_type_id_4_comp3', 'thread_size_3_comp3', 'end_form_id_4_comp3', 'end_form_id_3_comp3', 'length_3_comp3', 'length_4_comp3', 'thread_pitch_4_comp3', 'thread_pitch_3_comp3', 'hose_diameter_comp3', 'material_comp3', 'corresponding_shell_comp3', 'coupling_class_comp3', 'head_diameter_comp3', 'base_diameter_comp3', 'shoulder_diameter_comp3', 'thread_pitch_comp4', 'hex_nut_size_comp4', 'thread_size_comp4', 'nominal_size_1_comp4', 'length_1_comp4', 'adaptor_angle_comp4', 'length_2_comp4', 'thread_pitch_2_comp4', 'connection_type_id_2_comp4', 'thread_size_2_comp4', 'extension_length_comp4', 'mj_class_code_comp4', 'mj_plug_class_code_comp4', 'elbow_angle_comp4', 'drop_length_comp4', 'nominal_size_3_comp4', 'connection_type_id_3_comp4', 'thread_size_3_comp4', 'end_form_id_3_comp4', 'length_3_comp4', 'thread_pitch_3_comp4', 'hose_diameter_comp4', 'material_comp4', 'corresponding_shell_comp4', 'coupling_class_comp4', 'head_diameter_comp4', 'base_diameter_comp4', 'shoulder_diameter_comp4', 'end_form_id_2_comp5', 'overall_length_comp5', 'end_form_id_1_comp5', 'nominal_size_2_comp5', 'nominal_size_1_comp5', 'unique_feature_comp5', 'thread_pitch_1_comp5', 'length_1_comp5', 'adaptor_angle_comp5', 'length_2_comp5', 'thread_pitch_2_comp5', 'connection_type_id_1_comp5', 'connection_type_id_2_comp5', 'thread_size_1_comp5', 'thread_size_2_comp5', 'hex_size_comp5', 'extension_length_comp5', 'mj_class_code_comp5', 'bolt_pattern_wide_comp5', 'thickness_comp5', 'mj_plug_class_code_comp5', 'bolt_pattern_long_comp5', 'groove_comp5', 'drop_length_comp5', 'plating_comp5', 'hose_diameter_comp5', 'material_comp5', 'corresponding_shell_comp5', 'coupling_class_comp5', 'head_diameter_comp5', 'height_over_tube_comp5', 'connection_type_id_comp5', 'base_type_comp5', 'outside_shape_comp5', 'type_comp5', 'component_id_6', 'quantity_6', 'weight_id_6', 'part_name_comp6', 'orientation_comp6', 'nominal_size_2_comp6', 'adaptor_angle_comp6', 'component_type_id_comp6', 'hex_size_comp6', 'connection_type_id_1_comp6', 'thread_size_1_comp6', 'end_form_id_1_comp6', 'end_form_id_2_comp6', 'overall_length_comp6', 'unique_feature_comp6', 'length_1_comp6', 'length_2_comp6', 'thread_pitch_1_comp6', 'mj_class_code_comp6', 'bolt_pattern_wide_comp6', 'thickness_comp6', 'bolt_pattern_long_comp6', 'groove_comp6', 'height_over_tube_comp6', 'connection_type_id_comp6', 'base_type_comp6', 'outside_shape_comp6', 'type_comp6', 'base_diameter_comp6', 'component_id_7', 'quantity_7', 'weight_id_7', 'part_name_comp7', 'component_id_8', 'quantity_8', 'weight_id_8', 'part_name_comp8', 'spec9', 'spec10']\n"
     ]
    }
   ],
   "source": [
    "col999 = whichcolumns(traintest, percentnull = 0.999)\n",
    "print col999"
   ]
  },
  {
   "cell_type": "code",
   "execution_count": 8,
   "metadata": {
    "collapsed": false
   },
   "outputs": [
    {
     "data": {
      "text/plain": [
       "144"
      ]
     },
     "execution_count": 8,
     "metadata": {},
     "output_type": "execute_result"
    }
   ],
   "source": [
    "len(col999)"
   ]
  },
  {
   "cell_type": "code",
   "execution_count": 9,
   "metadata": {
    "collapsed": false
   },
   "outputs": [
    {
     "data": {
      "text/plain": [
       "['tube_assembly_id',\n",
       " 'supplier',\n",
       " 'year',\n",
       " 'month',\n",
       " 'day',\n",
       " 'annual_usage',\n",
       " 'min_order_quantity',\n",
       " 'bracket_pricing',\n",
       " 'quantity',\n",
       " 'cost',\n",
       " 'component_id_1',\n",
       " 'quantity_1',\n",
       " 'weight_id_1',\n",
       " 'component_type_id_comp1',\n",
       " 'plating_comp1',\n",
       " 'orientation_comp1',\n",
       " 'intended_nut_thread_comp1',\n",
       " 'unique_feature_comp1',\n",
       " 'connection_type_id_comp1',\n",
       " 'intended_nut_pitch_comp1',\n",
       " 'length_comp1',\n",
       " 'seat_angle_comp1',\n",
       " 'thread_pitch_comp1',\n",
       " 'hex_nut_size_comp1',\n",
       " 'thread_size_comp1',\n",
       " 'end_form_id_2_comp1',\n",
       " 'overall_length_comp1',\n",
       " 'end_form_id_1_comp1',\n",
       " 'nominal_size_2_comp1',\n",
       " 'nominal_size_1_comp1',\n",
       " 'thread_pitch_1_comp1',\n",
       " 'thread_pitch_2_comp1',\n",
       " 'connection_type_id_1_comp1',\n",
       " 'connection_type_id_2_comp1',\n",
       " 'thread_size_1_comp1',\n",
       " 'thread_size_2_comp1',\n",
       " 'hex_size_comp1',\n",
       " 'bolt_pattern_wide_comp1',\n",
       " 'thickness_comp1',\n",
       " 'bolt_pattern_long_comp1',\n",
       " 'groove_comp1',\n",
       " 'part_name_comp1',\n",
       " 'height_over_tube_comp1',\n",
       " 'base_type_comp1',\n",
       " 'outside_shape_comp1',\n",
       " 'type_comp1',\n",
       " 'component_id_2',\n",
       " 'quantity_2',\n",
       " 'weight_id_2',\n",
       " 'component_type_id_comp2',\n",
       " 'plating_comp2',\n",
       " 'orientation_comp2',\n",
       " 'intended_nut_thread_comp2',\n",
       " 'unique_feature_comp2',\n",
       " 'connection_type_id_comp2',\n",
       " 'intended_nut_pitch_comp2',\n",
       " 'length_comp2',\n",
       " 'seat_angle_comp2',\n",
       " 'thread_pitch_comp2',\n",
       " 'hex_nut_size_comp2',\n",
       " 'thread_size_comp2',\n",
       " 'end_form_id_2_comp2',\n",
       " 'overall_length_comp2',\n",
       " 'end_form_id_1_comp2',\n",
       " 'nominal_size_2_comp2',\n",
       " 'thread_pitch_1_comp2',\n",
       " 'connection_type_id_1_comp2',\n",
       " 'thread_size_1_comp2',\n",
       " 'hex_size_comp2',\n",
       " 'thickness_comp2',\n",
       " 'bolt_pattern_long_comp2',\n",
       " 'groove_comp2',\n",
       " 'part_name_comp2',\n",
       " 'component_id_3',\n",
       " 'quantity_3',\n",
       " 'weight_id_3',\n",
       " 'component_type_id_comp3',\n",
       " 'plating_comp3',\n",
       " 'orientation_comp3',\n",
       " 'intended_nut_thread_comp3',\n",
       " 'unique_feature_comp3',\n",
       " 'connection_type_id_comp3',\n",
       " 'intended_nut_pitch_comp3',\n",
       " 'length_comp3',\n",
       " 'end_form_id_2_comp3',\n",
       " 'overall_length_comp3',\n",
       " 'end_form_id_1_comp3',\n",
       " 'nominal_size_2_comp3',\n",
       " 'thread_pitch_1_comp3',\n",
       " 'length_1_comp3',\n",
       " 'adaptor_angle_comp3',\n",
       " 'length_2_comp3',\n",
       " 'connection_type_id_1_comp3',\n",
       " 'thread_size_1_comp3',\n",
       " 'hex_size_comp3',\n",
       " 'thickness_comp3',\n",
       " 'groove_comp3',\n",
       " 'part_name_comp3',\n",
       " 'component_id_4',\n",
       " 'quantity_4',\n",
       " 'weight_id_4',\n",
       " 'component_type_id_comp4',\n",
       " 'plating_comp4',\n",
       " 'orientation_comp4',\n",
       " 'intended_nut_thread_comp4',\n",
       " 'unique_feature_comp4',\n",
       " 'connection_type_id_comp4',\n",
       " 'intended_nut_pitch_comp4',\n",
       " 'length_comp4',\n",
       " 'material_id',\n",
       " 'diameter',\n",
       " 'wall',\n",
       " 'length',\n",
       " 'num_bends',\n",
       " 'bend_radius',\n",
       " 'end_a_1x',\n",
       " 'end_a_2x',\n",
       " 'end_x_1x',\n",
       " 'end_x_2x',\n",
       " 'end_a',\n",
       " 'end_x',\n",
       " 'num_boss',\n",
       " 'num_bracket',\n",
       " 'other',\n",
       " 'spec1',\n",
       " 'spec2',\n",
       " 'spec3',\n",
       " 'spec4',\n",
       " 'spec5',\n",
       " 'spec6',\n",
       " 'spec7']"
      ]
     },
     "execution_count": 9,
     "metadata": {},
     "output_type": "execute_result"
    }
   ],
   "source": [
    "drop99 = dropcolumns(traintest, percentnull = 0.99)\n",
    "list(drop99.columns)"
   ]
  },
  {
   "cell_type": "code",
   "execution_count": 10,
   "metadata": {
    "collapsed": false
   },
   "outputs": [
    {
     "data": {
      "text/plain": [
       "['component_id_1', 'component_id_2', 'component_id_3', 'component_id_4']"
      ]
     },
     "execution_count": 10,
     "metadata": {},
     "output_type": "execute_result"
    }
   ],
   "source": [
    "comp_id = ['component_id_' + str(i) for i in range(1,5)]\n",
    "comp_id"
   ]
  },
  {
   "cell_type": "code",
   "execution_count": 16,
   "metadata": {
    "collapsed": false
   },
   "outputs": [
    {
     "data": {
      "text/plain": [
       "['component_type_id_comp1',\n",
       " 'component_type_id_comp2',\n",
       " 'component_type_id_comp3',\n",
       " 'component_type_id_comp4']"
      ]
     },
     "execution_count": 16,
     "metadata": {},
     "output_type": "execute_result"
    }
   ],
   "source": [
    "comp_type_id = list(drop99.columns[drop99.columns.str.contains('component_type')])\n",
    "comp_type_id"
   ]
  },
  {
   "cell_type": "code",
   "execution_count": 19,
   "metadata": {
    "collapsed": false
   },
   "outputs": [
    {
     "data": {
      "text/plain": [
       "array(['NUT-FLARED', 'NUT-SWIVEL', 'BOSS', 'COLLAR', 'NUT-INV FLARED',\n",
       "       'NUT', 'ELBOW', nan, 'ADAPTER-O SUPPL', 'FLANGE', 'ADAPTER',\n",
       "       'ADAPTER-O LINE', 'SLEEVE-FITTING', 'CONNECTOR-SEAL', 'FITTING-A/C',\n",
       "       'HEAD-FLANGED', 'NUT-A/C', 'FLANGE-ONE PIEC', 'CONNECTOR-SPL',\n",
       "       'FITTING-NUT', 'PLATE', 'FLANGE-BRAZE', 'ELBOW-90 DEG',\n",
       "       'ADAPTER-O DRAIN', 'PLUG', 'STUD-WELD', 'CONNECTOR',\n",
       "       'ADAPTER-DRAIN', 'WASHER', 'CONNECTOR-WELD', 'ELBOW-WATER',\n",
       "       'ELBOW-AFTCLR', 'ADAPTER-STR', 'COLLAR-O-RING', 'FITTING',\n",
       "       'COUPLING-PIPE', 'SCREEN', 'LUG', 'CLIP', 'BOSS-OUTLET',\n",
       "       'SLEEVE-ORFS', 'FLANGE-ONE PIECE', 'BOSS-FITTING', 'COUPLET-WELD',\n",
       "       'BLOCK', 'MANIFOLD', 'TUBE', 'NUT-WELD', 'ADAPTER-INLET',\n",
       "       'CONNECTOR-FLARE', 'SEAL-O-RING', 'BAR', 'HEAD-FLANGE',\n",
       "       'ELBOW-HYDRAULIC', 'COUPLING AS', 'TUBE AS-O SUPPL',\n",
       "       'WASHER-FUEL LIN', 'NUT-45 (DEG)', 'TUBE AS', 'FLANGE-WELD',\n",
       "       'CAP-A/C', 'COUPLET', 'SCREEN AS.', 'CLEAT', 'ORIFICE',\n",
       "       'WASHER-FUEL INJ', 'ADAPTER-EXH PIP', 'ADAPTER-O-RING',\n",
       "       'ELBOW-OIL INLET', 'COVER', 'ELBOW-90 DEGREE', 'LINK',\n",
       "       'FLANGE-ONE PC', 'COUPLING (1\"BSP)', 'PLATE-CONNECTOR',\n",
       "       'SEAL-O-RING-ORFS', 'PLUG-DETENT', 'BOLT', 'FITTING-FLARED',\n",
       "       'HOOK-S', 'CAP', 'HASP AS', 'STRAP', 'NUT-FITTING',\n",
       "       'ELBOW-AIR (CRS)', 'BOSS-WELD', 'HEAD-O-RING', 'FLANGE-LOOSE',\n",
       "       'CONNECTOR-ORFS', 'SLEEVE', 'BRACKET', 'FLANGE AS.',\n",
       "       'FLANGE-HYDRAULIC', 'CAP-ORIFICE', 'ANGLE', 'DISC', 'FLANGE-HEAD',\n",
       "       'CONNECTOR-FLARED', 'SLEEVE-FLARED', 'BELLOW AS', 'CONNECTOR-BHD',\n",
       "       'ADAPTER-PIPE', 'HEAD-ADAPTER', 'PIN', 'BOSS-SADDLE',\n",
       "       'RING-RETAINING', 'HOSE', 'VALVE BODY', 'ADAPTER AS', 'SOCKET',\n",
       "       'BLOCK-DRAIN', 'PLUG-ORIFICE', 'ELBOW-FLARED', 'BUSHING-REDUCING',\n",
       "       'RING', 'GUSSET', 'TUBE AS-SUPPLY', 'BODY-RELIEF V',\n",
       "       'ADAPTER-SUPPLY', 'PLUG-CUP', 'FLANGE-SPL', 'TUBE AS-FUEL IN',\n",
       "       'NUT-INJ F V', 'ELBOW-MANF IN', 'HASP-OIL FILLER', 'FLANGE-CAPTIVE',\n",
       "       'TEE-UNION', 'SEAL-O RING', 'FITTING-TUBE', 'PLATE AS', 'RIVET',\n",
       "       'TUBE AS.', 'SPACER', 'ELBOW-BRAZE', 'TUBE-TURBO OIL', 'SHEET',\n",
       "       'FITTING-FILLER', 'TUBE AS-DRAIN', 'ORIFICE AS.-A/C',\n",
       "       'NUT-FUEL TUBE', 'ROD', 'FLANGE-TWO BOLT', 'BLOCK CONNECTIO',\n",
       "       'ADAPTER-A/C', 'BRACKET AS.', 'NUT-37\\xc2\\xb0 FLARED', 'PLUG-CORE',\n",
       "       'HEAD-O-RING SEAL', 'COUPLING', 'ELBOW-90 DEGREES',\n",
       "       'CONNECTOR-SWIVEL', 'STUD', 'FILLER', 'TUBE AS-RH', 'TUBE AS-LH',\n",
       "       'TUBE-BAFFLE', 'WASHER-HARD', 'TEE-FLARED', 'TEE', 'OTHER', 'CLAMP'], dtype=object)"
      ]
     },
     "execution_count": 19,
     "metadata": {},
     "output_type": "execute_result"
    }
   ],
   "source": [
    "drop99[comp_id[0]].unique()"
   ]
  },
  {
   "cell_type": "code",
   "execution_count": 20,
   "metadata": {
    "collapsed": false
   },
   "outputs": [
    {
     "data": {
      "text/plain": [
       "array(['Straight Adapter', 'ORFS Nut', 'Threaded Boss', nan,\n",
       "       'JIC 37 - 45 Nut', '2-bolt Braze/Weld Elbow',\n",
       "       '2-bolt Braze/Weld Straight', 'Sleeves', 'Threaded Straight',\n",
       "       'MJ Flange Head', '4-bolt Braze/Weld Straight',\n",
       "       '4-bolt Braze/Weld Elbow', 'Threaded Elbow', 'MJ Plug',\n",
       "       '4-bolt Tig Straight', '4-bolt MJ Straight', '2-bolt Boss',\n",
       "       'Weld On Nut', 'Braze/Weld Flange Head', '2-bolt MJ Straight',\n",
       "       '4-bolt Tig Elbow', '4-bolt MJ Elbow',\n",
       "       'Free-Floating 4-bolt Captive Flange', '4-bolt Boss',\n",
       "       'Free-Floating 4-bolt Spacer', 'Threaded Tee'], dtype=object)"
      ]
     },
     "execution_count": 20,
     "metadata": {},
     "output_type": "execute_result"
    }
   ],
   "source": [
    "drop99[comp_type_id[0]].unique()"
   ]
  },
  {
   "cell_type": "code",
   "execution_count": 23,
   "metadata": {
    "collapsed": false
   },
   "outputs": [],
   "source": [
    "drop99 = drop99.drop('tube_assembly_id',axis = 1)"
   ]
  },
  {
   "cell_type": "code",
   "execution_count": 27,
   "metadata": {
    "collapsed": false
   },
   "outputs": [
    {
     "name": "stderr",
     "output_type": "stream",
     "text": [
      "C:\\Anaconda\\lib\\site-packages\\numpy\\lib\\arraysetops.py:198: FutureWarning: numpy not_equal will not check object identity in the future. The comparison did not return the same result as suggested by the identity (`is`)) and will change.\n",
      "  flag = np.concatenate(([True], aux[1:] != aux[:-1]))\n",
      "C:\\Anaconda\\lib\\site-packages\\numpy\\lib\\arraysetops.py:251: FutureWarning: numpy equal will not check object identity in the future. The comparison did not return the same result as suggested by the identity (`is`)) and will change.\n",
      "  return aux[:-1][aux[1:] == aux[:-1]]\n"
     ]
    }
   ],
   "source": [
    "drop99 = encode(drop99, 10)"
   ]
  },
  {
   "cell_type": "code",
   "execution_count": 30,
   "metadata": {
    "collapsed": false
   },
   "outputs": [
    {
     "data": {
      "text/html": [
       "<div>\n",
       "<table border=\"1\" class=\"dataframe\">\n",
       "  <thead>\n",
       "    <tr style=\"text-align: right;\">\n",
       "      <th></th>\n",
       "      <th>component_id_1</th>\n",
       "      <th>component_id_2</th>\n",
       "      <th>component_id_3</th>\n",
       "      <th>component_id_4</th>\n",
       "    </tr>\n",
       "  </thead>\n",
       "  <tbody>\n",
       "    <tr>\n",
       "      <th>0</th>\n",
       "      <td>105</td>\n",
       "      <td>0</td>\n",
       "      <td>0</td>\n",
       "      <td>0</td>\n",
       "    </tr>\n",
       "    <tr>\n",
       "      <th>1</th>\n",
       "      <td>105</td>\n",
       "      <td>0</td>\n",
       "      <td>0</td>\n",
       "      <td>0</td>\n",
       "    </tr>\n",
       "    <tr>\n",
       "      <th>2</th>\n",
       "      <td>105</td>\n",
       "      <td>0</td>\n",
       "      <td>0</td>\n",
       "      <td>0</td>\n",
       "    </tr>\n",
       "    <tr>\n",
       "      <th>3</th>\n",
       "      <td>105</td>\n",
       "      <td>0</td>\n",
       "      <td>0</td>\n",
       "      <td>0</td>\n",
       "    </tr>\n",
       "    <tr>\n",
       "      <th>4</th>\n",
       "      <td>105</td>\n",
       "      <td>0</td>\n",
       "      <td>0</td>\n",
       "      <td>0</td>\n",
       "    </tr>\n",
       "  </tbody>\n",
       "</table>\n",
       "</div>"
      ],
      "text/plain": [
       "   component_id_1  component_id_2  component_id_3  component_id_4\n",
       "0             105               0               0               0\n",
       "1             105               0               0               0\n",
       "2             105               0               0               0\n",
       "3             105               0               0               0\n",
       "4             105               0               0               0"
      ]
     },
     "execution_count": 30,
     "metadata": {},
     "output_type": "execute_result"
    }
   ],
   "source": [
    "drop99[comp_id].head()"
   ]
  },
  {
   "cell_type": "code",
   "execution_count": 32,
   "metadata": {
    "collapsed": false
   },
   "outputs": [],
   "source": [
    "drop99.to_csv('traintest99drop.csv', index = False)"
   ]
  },
  {
   "cell_type": "code",
   "execution_count": 33,
   "metadata": {
    "collapsed": true
   },
   "outputs": [],
   "source": [
    "drop999 = dropcolumns(traintest, percentnull = 0.999)\n",
    "drop999 = drop999.drop('tube_assembly_id',axis = 1)"
   ]
  },
  {
   "cell_type": "code",
   "execution_count": 35,
   "metadata": {
    "collapsed": false
   },
   "outputs": [
    {
     "data": {
      "text/plain": [
       "200"
      ]
     },
     "execution_count": 35,
     "metadata": {},
     "output_type": "execute_result"
    }
   ],
   "source": [
    "len(drop999.columns)"
   ]
  },
  {
   "cell_type": "code",
   "execution_count": 37,
   "metadata": {
    "collapsed": false
   },
   "outputs": [],
   "source": [
    "drop999.to_csv('traintest999drop.csv',index = False)"
   ]
  },
  {
   "cell_type": "code",
   "execution_count": 38,
   "metadata": {
    "collapsed": true
   },
   "outputs": [],
   "source": [
    "# drop 95% or more NULL values and save to csv\n",
    "drop95 = dropcolumns(traintest, percentnull = 0.95)\n",
    "drop95 = drop95.drop('tube_assembly_id',axis = 1)\n",
    "drop95.to_csv('traintest95drop.csv',axis = 1)"
   ]
  },
  {
   "cell_type": "code",
   "execution_count": 39,
   "metadata": {
    "collapsed": true
   },
   "outputs": [],
   "source": [
    "# drop 90% or more NULL values and save to csv\n",
    "drop90 = dropcolumns(traintest, percentnull = 0.90)\n",
    "drop90 = drop90.drop('tube_assembly_id',axis = 1)\n",
    "drop90.to_csv('traintest90drop.csv',axis = 1)"
   ]
  },
  {
   "cell_type": "code",
   "execution_count": 43,
   "metadata": {
    "collapsed": false
   },
   "outputs": [
    {
     "name": "stdout",
     "output_type": "stream",
     "text": [
      "id1: 10\n",
      "id2: 65\n",
      "id3: 121\n",
      "id4: 186\n",
      "id5: 242\n",
      "id6: 283\n",
      "id7: 312\n",
      "id8: 316\n"
     ]
    }
   ],
   "source": [
    "print \"id1:\", list(traintest.columns).index('component_id_1')\n",
    "print \"id2:\", list(traintest.columns).index('component_id_2')\n",
    "print \"id3:\", list(traintest.columns).index('component_id_3')\n",
    "print \"id4:\", list(traintest.columns).index('component_id_4')\n",
    "print \"id5:\", list(traintest.columns).index('component_id_5')\n",
    "print \"id6:\", list(traintest.columns).index('component_id_6')\n",
    "print \"id7:\", list(traintest.columns).index('component_id_7')\n",
    "print \"id8:\", list(traintest.columns).index('component_id_8')"
   ]
  },
  {
   "cell_type": "code",
   "execution_count": 52,
   "metadata": {
    "collapsed": false
   },
   "outputs": [],
   "source": [
    "# Create a dictionary of Series for each component 1,2,3,4,5,6,7 features\n",
    "# Each Series shows the percentage of null values in each corresponding column in traintest\n",
    "\n",
    "traintest = pd.read_csv('traintest.csv', header = 0)\n",
    "comp1 = traintest.iloc[:,10:65]\n",
    "comp2 = traintest.iloc[:,65:121]\n",
    "comp3 = traintest.iloc[:,121:186]\n",
    "comp4 = traintest.iloc[:,186:242]\n",
    "comp5 = traintest.iloc[:,242:283]\n",
    "comp6 = traintest.iloc[:,283:312]\n",
    "comp7 = traintest.iloc[:,312:316]\n",
    "\n",
    "dfcomp = [comp1,comp2,comp3,comp4,comp5,comp6,comp7]\n",
    "component = ['comp'+str(i) for i in range(1,8)]\n",
    "compdict = {}\n",
    "for i in range(len(component)):\n",
    "    compdict[component[i]] = dfcomp[i]\n",
    "\n",
    "\n",
    "\n",
    "df = {}\n",
    "for comp in component:\n",
    "    tempdict = {}\n",
    "    for x in compdict[comp].columns:\n",
    "        tempdict[x] = np.mean(pd.isnull(compdict[comp][x]))\n",
    "    tempdict = pd.Series(tempdict)\n",
    "    df[comp] = tempdict\n",
    "    "
   ]
  },
  {
   "cell_type": "code",
   "execution_count": 53,
   "metadata": {
    "collapsed": false
   },
   "outputs": [
    {
     "data": {
      "text/plain": [
       "['comp2', 'comp3', 'comp1', 'comp6', 'comp7', 'comp4', 'comp5']"
      ]
     },
     "execution_count": 53,
     "metadata": {},
     "output_type": "execute_result"
    }
   ],
   "source": [
    "df.keys()"
   ]
  },
  {
   "cell_type": "code",
   "execution_count": 56,
   "metadata": {
    "collapsed": false
   },
   "outputs": [
    {
     "data": {
      "text/plain": [
       "adaptor_angle_comp1           0.993862\n",
       "base_diameter_comp1           0.994326\n",
       "base_type_comp1               0.989479\n",
       "blind_hole_comp1              0.999090\n",
       "bolt_pattern_long_comp1       0.974044\n",
       "bolt_pattern_wide_comp1       0.985872\n",
       "component_id_1                0.048223\n",
       "component_type_id_comp1       0.081674\n",
       "connection_type_id_1_comp1    0.750298\n",
       "connection_type_id_2_comp1    0.820391\n",
       "connection_type_id_3_comp1    0.999868\n",
       "connection_type_id_comp1      0.956971\n",
       "diameter_comp1                0.999090\n",
       "drop_length_comp1             0.992738\n",
       "elbow_angle_comp1             0.992754\n",
       "end_form_id_1_comp1           0.746675\n",
       "end_form_id_2_comp1           0.746675\n",
       "end_form_id_3_comp1           0.999868\n",
       "extension_length_comp1        0.992738\n",
       "groove_comp1                  0.955731\n",
       "head_diameter_comp1           0.992655\n",
       "height_over_tube_comp1        0.989214\n",
       "hex_nut_size_comp1            0.412652\n",
       "hex_size_comp1                0.753937\n",
       "intended_nut_pitch_comp1      0.967757\n",
       "intended_nut_thread_comp1     0.967757\n",
       "length_1_comp1                0.993730\n",
       "length_2_comp1                0.993730\n",
       "length_3_comp1                0.999868\n",
       "length_comp1                  0.379500\n",
       "mj_class_code_comp1           0.994805\n",
       "mj_plug_class_code_comp1      0.999983\n",
       "nominal_size_1_comp1          0.943456\n",
       "nominal_size_2_comp1          0.907358\n",
       "orientation_comp1             0.081674\n",
       "outside_shape_comp1           0.989479\n",
       "overall_length_comp1          0.740785\n",
       "part_name_comp1               0.966666\n",
       "plating_comp1                 0.967757\n",
       "plug_diameter_comp1           0.999322\n",
       "quantity_1                    0.048223\n",
       "seat_angle_comp1              0.888168\n",
       "shoulder_diameter_comp1       0.995269\n",
       "thickness_comp1               0.966963\n",
       "thread_pitch_1_comp1          0.803219\n",
       "thread_pitch_2_comp1          0.942860\n",
       "thread_pitch_3_comp1          0.999868\n",
       "thread_pitch_comp1            0.411742\n",
       "thread_size_1_comp1           0.803219\n",
       "thread_size_2_comp1           0.942860\n",
       "thread_size_3_comp1           0.999868\n",
       "thread_size_comp1             0.411742\n",
       "type_comp1                    0.989479\n",
       "unique_feature_comp1          0.670163\n",
       "weight_id_1                   0.050539\n",
       "dtype: float64"
      ]
     },
     "execution_count": 56,
     "metadata": {},
     "output_type": "execute_result"
    }
   ],
   "source": [
    "df['comp1']"
   ]
  },
  {
   "cell_type": "code",
   "execution_count": 47,
   "metadata": {
    "collapsed": false
   },
   "outputs": [
    {
     "data": {
      "text/plain": [
       "0.050539306511381686"
      ]
     },
     "execution_count": 47,
     "metadata": {},
     "output_type": "execute_result"
    }
   ],
   "source": [
    "np.mean(pd.isnull(compdict['comp1']['weight_id_1']))"
   ]
  },
  {
   "cell_type": "code",
   "execution_count": 49,
   "metadata": {
    "collapsed": false
   },
   "outputs": [
    {
     "data": {
      "text/plain": [
       "adaptor_angle_comp1           0.993862\n",
       "base_diameter_comp1           0.994326\n",
       "base_type_comp1               0.989479\n",
       "blind_hole_comp1              0.999090\n",
       "bolt_pattern_long_comp1       0.974044\n",
       "bolt_pattern_wide_comp1       0.985872\n",
       "component_id_1                0.048223\n",
       "component_type_id_comp1       0.081674\n",
       "connection_type_id_1_comp1    0.750298\n",
       "connection_type_id_2_comp1    0.820391\n",
       "connection_type_id_3_comp1    0.999868\n",
       "connection_type_id_comp1      0.956971\n",
       "diameter_comp1                0.999090\n",
       "drop_length_comp1             0.992738\n",
       "elbow_angle_comp1             0.992754\n",
       "end_form_id_1_comp1           0.746675\n",
       "end_form_id_2_comp1           0.746675\n",
       "end_form_id_3_comp1           0.999868\n",
       "extension_length_comp1        0.992738\n",
       "groove_comp1                  0.955731\n",
       "head_diameter_comp1           0.992655\n",
       "height_over_tube_comp1        0.989214\n",
       "hex_nut_size_comp1            0.412652\n",
       "hex_size_comp1                0.753937\n",
       "intended_nut_pitch_comp1      0.967757\n",
       "intended_nut_thread_comp1     0.967757\n",
       "length_1_comp1                0.993730\n",
       "length_2_comp1                0.993730\n",
       "length_3_comp1                0.999868\n",
       "length_comp1                  0.379500\n",
       "mj_class_code_comp1           0.994805\n",
       "mj_plug_class_code_comp1      0.999983\n",
       "nominal_size_1_comp1          0.943456\n",
       "nominal_size_2_comp1          0.907358\n",
       "orientation_comp1             0.081674\n",
       "outside_shape_comp1           0.989479\n",
       "overall_length_comp1          0.740785\n",
       "part_name_comp1               0.966666\n",
       "plating_comp1                 0.967757\n",
       "plug_diameter_comp1           0.999322\n",
       "quantity_1                    0.048223\n",
       "seat_angle_comp1              0.888168\n",
       "shoulder_diameter_comp1       0.995269\n",
       "thickness_comp1               0.966963\n",
       "thread_pitch_1_comp1          0.803219\n",
       "thread_pitch_2_comp1          0.942860\n",
       "thread_pitch_3_comp1          0.999868\n",
       "thread_pitch_comp1            0.411742\n",
       "thread_size_1_comp1           0.803219\n",
       "thread_size_2_comp1           0.942860\n",
       "thread_size_3_comp1           0.999868\n",
       "thread_size_comp1             0.411742\n",
       "type_comp1                    0.989479\n",
       "unique_feature_comp1          0.670163\n",
       "weight_id_1                   0.050539\n",
       "dtype: float64"
      ]
     },
     "execution_count": 49,
     "metadata": {},
     "output_type": "execute_result"
    }
   ],
   "source": [
    "pd.Series(tempdict)"
   ]
  },
  {
   "cell_type": "code",
   "execution_count": null,
   "metadata": {
    "collapsed": true
   },
   "outputs": [],
   "source": []
  }
 ],
 "metadata": {
  "kernelspec": {
   "display_name": "Python 2",
   "language": "python",
   "name": "python2"
  },
  "language_info": {
   "codemirror_mode": {
    "name": "ipython",
    "version": 2
   },
   "file_extension": ".py",
   "mimetype": "text/x-python",
   "name": "python",
   "nbconvert_exporter": "python",
   "pygments_lexer": "ipython2",
   "version": "2.7.9"
  }
 },
 "nbformat": 4,
 "nbformat_minor": 0
}
