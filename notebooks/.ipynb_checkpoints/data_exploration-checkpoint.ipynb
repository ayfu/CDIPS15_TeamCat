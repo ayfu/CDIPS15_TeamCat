{
 "cells": [
  {
   "cell_type": "markdown",
   "metadata": {},
   "source": [
    "In this Notebook we will explore the Caterpillar tube data"
   ]
  },
  {
   "cell_type": "code",
   "execution_count": 2,
   "metadata": {
    "collapsed": true
   },
   "outputs": [],
   "source": [
    "import os, glob, sys\n",
    "\n",
    "import pandas as pd\n",
    "import numpy as np\n",
    "import matplotlib as mpl"
   ]
  },
  {
   "cell_type": "markdown",
   "metadata": {},
   "source": [
    "Please download and put the data.zip file in the CDIPS15_TeamCat git folder.\n",
    "Unzipping the file will create competition_data folder, where all the data resides."
   ]
  },
  {
   "cell_type": "code",
   "execution_count": 5,
   "metadata": {
    "collapsed": false
   },
   "outputs": [
    {
     "name": "stdout",
     "output_type": "stream",
     "text": [
      "bill_of_materials.csv\n",
      "comp_adaptor.csv\n",
      "comp_boss.csv\n",
      "comp_elbow.csv\n",
      "comp_float.csv\n",
      "comp_hfl.csv\n",
      "comp_nut.csv\n",
      "comp_other.csv\n",
      "comp_sleeve.csv\n",
      "comp_straight.csv\n",
      "comp_tee.csv\n",
      "comp_threaded.csv\n",
      "components.csv\n",
      "specs.csv\n",
      "test_set.csv\n",
      "train_set.csv\n",
      "tube.csv\n",
      "tube_end_form.csv\n",
      "type_component.csv\n",
      "type_connection.csv\n",
      "type_end_form.csv\n"
     ]
    }
   ],
   "source": [
    "data_files = glob.glob(os.path.join('..','competition_data','*.csv'))\n",
    "for file_name in data_files:\n",
    "    print os.path.split(file_name)[-1]"
   ]
  },
  {
   "cell_type": "markdown",
   "metadata": {},
   "source": [
    "The files tube.csv and tube_end_form.csv look promising to get an understanding of the tubes used by Caterpillar. Lets investigate them first."
   ]
  },
  {
   "cell_type": "code",
   "execution_count": 7,
   "metadata": {
    "collapsed": true
   },
   "outputs": [],
   "source": [
    "tube_df = pd.read_csv(os.path.join('..','competition_data','tube.csv'))\n",
    "tube_end_df = pd.read_csv(os.path.join('..','competition_data','tube_end_form.csv'))\n"
   ]
  },
  {
   "cell_type": "markdown",
   "metadata": {},
   "source": [
    "Lets look at the attributes in the tube data file"
   ]
  },
  {
   "cell_type": "code",
   "execution_count": 9,
   "metadata": {
    "collapsed": false
   },
   "outputs": [
    {
     "data": {
      "text/plain": [
       "Index([u'tube_assembly_id', u'material_id', u'diameter', u'wall', u'length',\n",
       "       u'num_bends', u'bend_radius', u'end_a_1x', u'end_a_2x', u'end_x_1x',\n",
       "       u'end_x_2x', u'end_a', u'end_x', u'num_boss', u'num_bracket', u'other'],\n",
       "      dtype='object')"
      ]
     },
     "execution_count": 9,
     "metadata": {},
     "output_type": "execute_result"
    }
   ],
   "source": [
    "tube_df.columns"
   ]
  },
  {
   "cell_type": "markdown",
   "metadata": {},
   "source": [
    "Similary the attributes of the tube end form are"
   ]
  },
  {
   "cell_type": "code",
   "execution_count": 11,
   "metadata": {
    "collapsed": false
   },
   "outputs": [
    {
     "data": {
      "text/plain": [
       "Index([u'end_form_id', u'forming'], dtype='object')"
      ]
     },
     "execution_count": 11,
     "metadata": {},
     "output_type": "execute_result"
    }
   ],
   "source": [
    "tube_end_df.columns"
   ]
  },
  {
   "cell_type": "code",
   "execution_count": 59,
   "metadata": {
    "collapsed": false
   },
   "outputs": [
    {
     "data": {
      "text/plain": [
       "count    21198.000000\n",
       "mean         0.022644\n",
       "std          0.199676\n",
       "min          0.000000\n",
       "25%          0.000000\n",
       "50%          0.000000\n",
       "75%          0.000000\n",
       "max          8.000000\n",
       "Name: other, dtype: float64"
      ]
     },
     "execution_count": 59,
     "metadata": {},
     "output_type": "execute_result"
    }
   ],
   "source": [
    "len(tube_df['other'].unique())\n",
    "#tube_df['other'].unique()\n",
    "tube_df['other'].describe()"
   ]
  },
  {
   "cell_type": "code",
   "execution_count": null,
   "metadata": {
    "collapsed": true
   },
   "outputs": [],
   "source": []
  }
 ],
 "metadata": {
  "kernelspec": {
   "display_name": "Python 2",
   "language": "python",
   "name": "python2"
  },
  "language_info": {
   "codemirror_mode": {
    "name": "ipython",
    "version": 2
   },
   "file_extension": ".py",
   "mimetype": "text/x-python",
   "name": "python",
   "nbconvert_exporter": "python",
   "pygments_lexer": "ipython2",
   "version": "2.7.9"
  }
 },
 "nbformat": 4,
 "nbformat_minor": 0
}
