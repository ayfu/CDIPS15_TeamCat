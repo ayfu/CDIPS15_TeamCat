{
 "cells": [
  {
   "cell_type": "code",
   "execution_count": 87,
   "metadata": {
    "collapsed": true
   },
   "outputs": [],
   "source": [
    "%matplotlib inline\n",
    "import os, glob, sys\n",
    "import pandas as pd\n",
    "import numpy as np\n",
    "import datetime as dt\n",
    "from math import sqrt\n",
    "from collections import Counter\n",
    "import copy"
   ]
  },
  {
   "cell_type": "code",
   "execution_count": 493,
   "metadata": {
    "collapsed": false
   },
   "outputs": [],
   "source": [
    "allfiles = glob.glob(os.path.join('..','data\\competition_data','*.csv'))\n",
    "comp_files = glob.glob(os.path.join('..','data\\competition_data','comp_*'))\n",
    "newtrain_df = pd.read_csv(os.path.join('..','train.csv'),index_col = 0)\n",
    "\n",
    "all_files = {}\n",
    "for afile in allfiles:\n",
    "    key = afile.split('\\\\')[-1].split('.')[0]\n",
    "    all_files[key] = pd.read_csv(afile, header = 0)\n",
    "all_files['train_set'] = pd.read_csv('../data/competition_data/train_set.csv', header = 0, parse_dates = ['quote_date'])\n",
    "all_files['test_set'] = pd.read_csv('../data/competition_data/test_set.csv', header = 0, parse_dates = ['quote_date'])\n",
    "\n",
    "# Components\n",
    "comp_dict = {}\n",
    "for compfile in comp_files:\n",
    "    key = compfile.split('\\\\')[-1].split('.')[0]\n",
    "    comp_dict[key] = pd.read_csv(compfile,header=0, index_col=0)\n",
    "\n",
    "# The rest of the files\n",
    "rest = ['components.csv','specs.csv','tube_end_form.csv','type_component.csv','type_connection.csv','type_end_form.csv']\n",
    "restfile = []\n",
    "for x in rest:\n",
    "    restfile += [os.path.join('..','data\\competition_data',x)]\n",
    "rest_files = {}\n",
    "for r in restfile:\n",
    "    key = r.split('\\\\')[-1].split('.')[0]\n",
    "    rest_files[key] = pd.read_csv(r ,header=0)\n"
   ]
  },
  {
   "cell_type": "code",
   "execution_count": 472,
   "metadata": {
    "collapsed": false
   },
   "outputs": [],
   "source": [
    "train = pd.merge(all_files['train_set'],all_files['bill_of_materials'], on = 'tube_assembly_id')\n",
    "test = pd.merge(all_files['test_set'],all_files['bill_of_materials'], on = 'tube_assembly_id')\n",
    "train = pd.merge(train,all_files['tube'], on = 'tube_assembly_id')\n",
    "test = pd.merge(test,all_files['tube'], on = 'tube_assembly_id')\n",
    "\n",
    "train['year'] = train['quote_date'].dt.year\n",
    "train['month'] = train['quote_date'].dt.month\n",
    "train['day'] = [date.days for date in train['quote_date'] - dt.date(1982,9,22)]\n",
    "\n",
    "test['year'] = test['quote_date'].dt.year\n",
    "test['month'] = test['quote_date'].dt.month\n",
    "test['day'] = [date.days for date in test['quote_date'] - dt.date(1985,11,16)]\n",
    "\n",
    "\n",
    "comp_id = ['component_id_'+str(i) for i in range(1,9)]\n",
    "weight_id = ['weight_id_'+str(i) for i in range(1,9)]\n",
    "\n",
    "# Add weight to train\n",
    "for key1 in comp_id:\n",
    "    i = comp_id.index(key1)\n",
    "    weight = []\n",
    "    for key2 in sorted(train[key1].unique(),reverse = True):\n",
    "        for filename in comp_dict:\n",
    "            if key2 in comp_dict[filename].index:\n",
    "                weight.append(comp_dict[filename].loc[key2]['weight'])\n",
    "    else:\n",
    "        weight.append(np.nan)\n",
    "    dfTemp = pd.DataFrame({key1 : sorted(train[key1].unique(),reverse = True),weight_id[i]: weight})\n",
    "    train = pd.merge(train,dfTemp, how = 'left', on = key1)\n",
    "train = train[['tube_assembly_id', 'supplier', 'year','month','day', 'annual_usage', 'min_order_quantity', 'bracket_pricing', 'quantity', 'cost', 'component_id_1', 'quantity_1','weight_id_1', 'component_id_2', 'quantity_2', 'weight_id_2', 'component_id_3', 'quantity_3', 'weight_id_3', 'component_id_4', 'quantity_4','weight_id_4', 'component_id_5', 'quantity_5', 'weight_id_5', 'component_id_6', 'quantity_6', 'weight_id_6', 'component_id_7', 'quantity_7', 'weight_id_7', 'component_id_8', 'quantity_8', 'weight_id_8', 'material_id', 'diameter', 'wall', 'length', 'num_bends', 'bend_radius', 'end_a_1x', 'end_a_2x', 'end_x_1x', 'end_x_2x', 'end_a', 'end_x', 'num_boss', 'num_bracket', 'other']]\n",
    "\n",
    "# Add weight to test\n",
    "\n",
    "\n",
    "for key in comp_id:  \n",
    "    j = comp_id.index(key)\n",
    "    temp = pd.DataFrame({comp_id[j]: []})\n",
    "    for filename in comp_dict:\n",
    "        for key2 in sorted(test[comp_id[j]].unique(),reverse = True):\n",
    "            i = sorted(test[comp_id[j]].unique(),reverse = True).index(key2)\n",
    "            if key2 in comp_dict[filename].index:\n",
    "                temp.loc[i,comp_id[j]] = key2\n",
    "                temp.loc[i,weight_id[j]] = comp_dict[filename].loc[key2]['weight']\n",
    "    test = pd.merge(test,temp,how = 'left',on = comp_id[j]) \n",
    "test = test[['id', 'tube_assembly_id', 'supplier', 'year','month','day', 'annual_usage', 'min_order_quantity', 'bracket_pricing', 'quantity', 'component_id_1', 'quantity_1', 'weight_id_1', 'component_id_2', 'quantity_2', 'weight_id_2', 'component_id_3', 'quantity_3', 'weight_id_3', 'component_id_4', 'quantity_4', 'weight_id_4', 'component_id_5', 'quantity_5', 'weight_id_5', 'component_id_6', 'quantity_6', 'weight_id_6', 'component_id_7', 'quantity_7', 'component_id_8', 'quantity_8', 'material_id', 'diameter', 'wall', 'length', 'num_bends', 'bend_radius', 'end_a_1x', 'end_a_2x', 'end_x_1x', 'end_x_2x', 'end_a', 'end_x', 'num_boss', 'num_bracket', 'other']]"
   ]
  },
  {
   "cell_type": "code",
   "execution_count": 473,
   "metadata": {
    "collapsed": false
   },
   "outputs": [
    {
     "name": "stdout",
     "output_type": "stream",
     "text": [
      "['tube_assembly_id', 'supplier', 'year', 'month', 'day', 'annual_usage', 'min_order_quantity', 'bracket_pricing', 'quantity', 'cost', 'component_id_1', 'quantity_1', 'weight_id_1', 'component_id_2', 'quantity_2', 'weight_id_2', 'component_id_3', 'quantity_3', 'weight_id_3', 'component_id_4', 'quantity_4', 'weight_id_4', 'component_id_5', 'quantity_5', 'weight_id_5', 'component_id_6', 'quantity_6', 'weight_id_6', 'component_id_7', 'quantity_7', 'weight_id_7', 'component_id_8', 'quantity_8', 'weight_id_8', 'material_id', 'diameter', 'wall', 'length', 'num_bends', 'bend_radius', 'end_a_1x', 'end_a_2x', 'end_x_1x', 'end_x_2x', 'end_a', 'end_x', 'num_boss', 'num_bracket', 'other']\n",
      "\n",
      "['id', 'tube_assembly_id', 'supplier', 'year', 'month', 'day', 'annual_usage', 'min_order_quantity', 'bracket_pricing', 'quantity', 'component_id_1', 'quantity_1', 'weight_id_1', 'component_id_2', 'quantity_2', 'weight_id_2', 'component_id_3', 'quantity_3', 'weight_id_3', 'component_id_4', 'quantity_4', 'weight_id_4', 'component_id_5', 'quantity_5', 'weight_id_5', 'component_id_6', 'quantity_6', 'weight_id_6', 'component_id_7', 'quantity_7', 'component_id_8', 'quantity_8', 'material_id', 'diameter', 'wall', 'length', 'num_bends', 'bend_radius', 'end_a_1x', 'end_a_2x', 'end_x_1x', 'end_x_2x', 'end_a', 'end_x', 'num_boss', 'num_bracket', 'other']\n"
     ]
    }
   ],
   "source": [
    "print list(train.columns)\n",
    "print\n",
    "print list(test.columns)"
   ]
  },
  {
   "cell_type": "markdown",
   "metadata": {},
   "source": [
    "**Add component columns to each `component_id_*`**"
   ]
  },
  {
   "cell_type": "code",
   "execution_count": 474,
   "metadata": {
    "collapsed": false
   },
   "outputs": [],
   "source": [
    "# TRAIN\n",
    "\n",
    "def comp_column(name):\n",
    "    if name not in ['component_id_'+str(i) for i in range(1,9)]:\n",
    "        return \"Error\"\n",
    "    else:\n",
    "        temp = pd.DataFrame({name: []})\n",
    "        for filename in comp_dict:\n",
    "            tempdict = {x: [] for x in comp_dict[filename].drop('weight',axis = 1).columns}\n",
    "            for key in sorted(train[name].unique(),reverse = True):\n",
    "                i = sorted(train[name].unique(),reverse = True).index(key)\n",
    "                if key in comp_dict[filename].index:\n",
    "                    for col in tempdict.keys():\n",
    "                        temp.loc[i,name] = key\n",
    "                        temp.loc[i,col] = comp_dict[filename].drop('weight',axis = 1).loc[key][col]\n",
    "        \n",
    "        # Dropping any pure NaN columns\n",
    "        tempcol = temp.columns.copy()\n",
    "        dropcol = []\n",
    "        for x in tempcol:\n",
    "            if sum(pd.isnull(temp[x])) == len(temp[x]):\n",
    "                dropcol.append(x)\n",
    "        temp = temp.drop(dropcol,axis=1)\n",
    "        \n",
    "        # rename columns for number\n",
    "        c = name.split('_')[-1]\n",
    "        temp.columns = [temp.columns[i] + '_comp' + c if i > 0 else temp.columns[i] for i in range(len(temp.columns))]\n",
    "        return temp\n",
    "    \n",
    "def mergeframe(comp_num):\n",
    "    global train\n",
    "    \n",
    "    # Call comp_column()\n",
    "    comp = 'component_id_'+str(comp_num)\n",
    "    merge = comp_column(comp)\n",
    "       \n",
    "    train = pd.merge(train,merge, how = 'left', on = comp)\n",
    "    startIndex = list(train.columns).index('weight_id_'+str(comp_num))\n",
    "    x = list(train.columns.copy())\n",
    "    newColOrder = []\n",
    "    for i in range(len(x)):\n",
    "        if i <= startIndex:\n",
    "            newColOrder += [x[i]]\n",
    "        elif i > startIndex and i < startIndex+len(merge.columns):\n",
    "            newColOrder += [x[-len(merge.columns)+i-startIndex]]\n",
    "        else:\n",
    "            newColOrder += [x[i-len(merge.columns)+1]]\n",
    "    return train[newColOrder]  \n",
    "\n",
    "# TEST\n",
    "\n",
    "def comp_columnTest(name):\n",
    "    if name not in ['component_id_'+str(i) for i in range(1,9)]:\n",
    "        return \"Error\"\n",
    "    else:\n",
    "        temp = pd.DataFrame({name: []})\n",
    "        for filename in comp_dict:\n",
    "            tempdict = {x: [] for x in comp_dict[filename].drop('weight',axis = 1).columns}\n",
    "            for key in sorted(test[name].unique(),reverse = True):\n",
    "                i = sorted(test[name].unique(),reverse = True).index(key)\n",
    "                if key in comp_dict[filename].index:\n",
    "                    for col in tempdict.keys():\n",
    "                        temp.loc[i,name] = key\n",
    "                        temp.loc[i,col] = comp_dict[filename].drop('weight',axis = 1).loc[key][col]\n",
    "        \n",
    "        # Dropping any pure NaN columns\n",
    "        tempcol = temp.columns.copy()\n",
    "        dropcol = []\n",
    "        for x in tempcol:\n",
    "            if sum(pd.isnull(temp[x])) == len(temp[x]):\n",
    "                dropcol.append(x)\n",
    "        temp = temp.drop(dropcol,axis=1)\n",
    "        \n",
    "        # rename columns for number\n",
    "        c = name.split('_')[-1]\n",
    "        temp.columns = [temp.columns[i] + '_comp' + c if i > 0 else temp.columns[i] for i in range(len(temp.columns))]\n",
    "        return temp\n",
    "    \n",
    "def mergeframetest(comp_num):\n",
    "    global test\n",
    "    \n",
    "    # Call comp_column()\n",
    "    comp = 'component_id_'+str(comp_num)\n",
    "    merge = comp_columnTest(comp)\n",
    "       \n",
    "    test = pd.merge(test,merge, how = 'left', on = comp)\n",
    "    startIndex = list(test.columns).index('weight_id_'+str(comp_num))\n",
    "    x = list(test.columns.copy())\n",
    "    newColOrder = []\n",
    "    for i in range(len(x)):\n",
    "        if i <= startIndex:\n",
    "            newColOrder += [x[i]]\n",
    "        elif i > startIndex and i < startIndex+len(merge.columns):\n",
    "            newColOrder += [x[-len(merge.columns)+i-startIndex]]\n",
    "        else:\n",
    "            newColOrder += [x[i-len(merge.columns)+1]]\n",
    "    return test[newColOrder]       \n",
    "            \n",
    "\n",
    "            \n",
    "# comp_column('component_id_7')\n",
    "#\n",
    "# comp_columnTest('component_id_6')"
   ]
  },
  {
   "cell_type": "code",
   "execution_count": 475,
   "metadata": {
    "collapsed": false
   },
   "outputs": [],
   "source": [
    "for i in range(1,7):\n",
    "    test = mergeframetest(i)\n",
    "    \n",
    "for i in range(1,9):\n",
    "    train = mergeframe(i)"
   ]
  },
  {
   "cell_type": "code",
   "execution_count": 476,
   "metadata": {
    "collapsed": false
   },
   "outputs": [
    {
     "name": "stdout",
     "output_type": "stream",
     "text": [
      "# of train columns: 310\n",
      "# of test columns: 312\n"
     ]
    }
   ],
   "source": [
    "print '# of train columns:', len(train.columns)\n",
    "print '# of test columns:',  len(test.columns)"
   ]
  },
  {
   "cell_type": "markdown",
   "metadata": {},
   "source": [
    "**Checking for full null columns in test**\n",
    "\n",
    "Any fully null column will be dropped"
   ]
  },
  {
   "cell_type": "code",
   "execution_count": 477,
   "metadata": {
    "collapsed": false
   },
   "outputs": [
    {
     "name": "stdout",
     "output_type": "stream",
     "text": [
      "test\n",
      "component_id_7\n",
      "quantity_7\n",
      "component_id_8\n",
      "quantity_8\n",
      "\n",
      "train\n",
      "# of train columns: 310\n",
      "# of test columns: 308\n"
     ]
    }
   ],
   "source": [
    "print 'test'\n",
    "droptestcol = []\n",
    "for x in test.columns:\n",
    "    if sum(pd.isnull(test[x])) == len(test[x]):\n",
    "        droptestcol += [x]\n",
    "        print x\n",
    "print\n",
    "print 'train'\n",
    "droptraincol = []\n",
    "for x in train.columns:\n",
    "    if sum(pd.isnull(train[x])) == len(train[x]):\n",
    "        droptraincol += [x]\n",
    "        print x\n",
    "test = test.drop(droptestcol, axis = 1)\n",
    "train = train.drop(droptraincol, axis = 1)\n",
    "print '# of train columns:', len(train.columns)\n",
    "print '# of test columns:',  len(test.columns)"
   ]
  },
  {
   "cell_type": "markdown",
   "metadata": {},
   "source": [
    "**TUBE_END_FORM** incorporation"
   ]
  },
  {
   "cell_type": "code",
   "execution_count": 596,
   "metadata": {
    "collapsed": false
   },
   "outputs": [],
   "source": [
    "def tube_end(col):\n",
    "    global train\n",
    "    train2 = train.copy()\n",
    "    re = rest_files['tube_end_form'].copy()\n",
    "    tem = []\n",
    "    if col not in ['end_a','end_x']:\n",
    "        return 'Error'\n",
    "    else:\n",
    "        for i in train2[col]:\n",
    "            if i == 'NONE':\n",
    "                tem += [np.nan]\n",
    "            else:\n",
    "                t = re[re['end_form_id'] == i]['forming']\n",
    "                tem += [t.reset_index()['forming'][0]]\n",
    "    train[col] = tem\n",
    "    return train\n",
    "\n",
    "def tube_endTest(col):\n",
    "    global test\n",
    "    test2 = test.copy()\n",
    "    re = rest_files['tube_end_form'].copy()\n",
    "    tem = []\n",
    "    if col not in ['end_a','end_x']:\n",
    "        return 'Error'\n",
    "    else:\n",
    "        for i in test2[col]:\n",
    "            if i == 'NONE':\n",
    "                tem += [np.nan]\n",
    "            else:\n",
    "                t = re[re['end_form_id'] == i]['forming']\n",
    "                tem += [t.reset_index()['forming'][0]]\n",
    "    test[col] = tem\n",
    "    return test\n",
    "\n",
    "\n",
    "train = tube_end('end_a')\n",
    "train = tube_end('end_x')\n",
    "\n",
    "test = tube_endTest('end_a')\n",
    "test = tube_endTest('end_x')"
   ]
  },
  {
   "cell_type": "markdown",
   "metadata": {},
   "source": [
    "**TYPE_END_FORM** incorporation"
   ]
  },
  {
   "cell_type": "code",
   "execution_count": 661,
   "metadata": {
    "collapsed": false
   },
   "outputs": [
    {
     "ename": "IndexError",
     "evalue": "index out of bounds",
     "output_type": "error",
     "traceback": [
      "\u001b[1;31m---------------------------------------------------------------------------\u001b[0m",
      "\u001b[1;31mIndexError\u001b[0m                                Traceback (most recent call last)",
      "\u001b[1;32m<ipython-input-661-36457c9f0ea0>\u001b[0m in \u001b[0;36m<module>\u001b[1;34m()\u001b[0m\n\u001b[0;32m     35\u001b[0m \u001b[1;33m\u001b[0m\u001b[0m\n\u001b[0;32m     36\u001b[0m \u001b[1;32mfor\u001b[0m \u001b[0mi\u001b[0m \u001b[1;32min\u001b[0m \u001b[0mendformtype\u001b[0m\u001b[1;33m:\u001b[0m\u001b[1;33m\u001b[0m\u001b[0m\n\u001b[1;32m---> 37\u001b[1;33m     \u001b[0mtrain\u001b[0m\u001b[1;33m[\u001b[0m\u001b[0mi\u001b[0m\u001b[1;33m]\u001b[0m \u001b[1;33m=\u001b[0m \u001b[0mtype_end\u001b[0m\u001b[1;33m(\u001b[0m\u001b[0mi\u001b[0m\u001b[1;33m)\u001b[0m\u001b[1;33m\u001b[0m\u001b[0m\n\u001b[0m\u001b[0;32m     38\u001b[0m \u001b[1;32mfor\u001b[0m \u001b[0mi\u001b[0m \u001b[1;32min\u001b[0m \u001b[0mendformtypeTest\u001b[0m\u001b[1;33m:\u001b[0m\u001b[1;33m\u001b[0m\u001b[0m\n\u001b[0;32m     39\u001b[0m     \u001b[0mtest\u001b[0m\u001b[1;33m[\u001b[0m\u001b[0mi\u001b[0m\u001b[1;33m]\u001b[0m \u001b[1;33m=\u001b[0m \u001b[0mtype_endTest\u001b[0m\u001b[1;33m(\u001b[0m\u001b[0mi\u001b[0m\u001b[1;33m)\u001b[0m\u001b[1;33m\u001b[0m\u001b[0m\n",
      "\u001b[1;32m<ipython-input-661-36457c9f0ea0>\u001b[0m in \u001b[0;36mtype_end\u001b[1;34m(col)\u001b[0m\n\u001b[0;32m     14\u001b[0m             \u001b[1;32melse\u001b[0m\u001b[1;33m:\u001b[0m\u001b[1;33m\u001b[0m\u001b[0m\n\u001b[0;32m     15\u001b[0m                 \u001b[0mt\u001b[0m \u001b[1;33m=\u001b[0m \u001b[0mre\u001b[0m\u001b[1;33m[\u001b[0m\u001b[0mre\u001b[0m\u001b[1;33m[\u001b[0m\u001b[1;34m'end_form_id'\u001b[0m\u001b[1;33m]\u001b[0m \u001b[1;33m==\u001b[0m \u001b[0mi\u001b[0m\u001b[1;33m]\u001b[0m\u001b[1;33m[\u001b[0m\u001b[1;34m'name'\u001b[0m\u001b[1;33m]\u001b[0m\u001b[1;33m\u001b[0m\u001b[0m\n\u001b[1;32m---> 16\u001b[1;33m                 \u001b[0mtypeEnd\u001b[0m \u001b[1;33m+=\u001b[0m \u001b[1;33m[\u001b[0m\u001b[0mt\u001b[0m\u001b[1;33m.\u001b[0m\u001b[0mreset_index\u001b[0m\u001b[1;33m(\u001b[0m\u001b[1;33m)\u001b[0m\u001b[1;33m[\u001b[0m\u001b[1;34m'name'\u001b[0m\u001b[1;33m]\u001b[0m\u001b[1;33m[\u001b[0m\u001b[1;36m0\u001b[0m\u001b[1;33m]\u001b[0m\u001b[1;33m]\u001b[0m\u001b[1;33m\u001b[0m\u001b[0m\n\u001b[0m\u001b[0;32m     17\u001b[0m     \u001b[1;32mreturn\u001b[0m \u001b[0mtypeEnd\u001b[0m\u001b[1;33m\u001b[0m\u001b[0m\n\u001b[0;32m     18\u001b[0m \u001b[1;33m\u001b[0m\u001b[0m\n",
      "\u001b[1;32mC:\\Anaconda\\lib\\site-packages\\pandas\\core\\series.pyc\u001b[0m in \u001b[0;36m__getitem__\u001b[1;34m(self, key)\u001b[0m\n\u001b[0;32m    519\u001b[0m     \u001b[1;32mdef\u001b[0m \u001b[0m__getitem__\u001b[0m\u001b[1;33m(\u001b[0m\u001b[0mself\u001b[0m\u001b[1;33m,\u001b[0m \u001b[0mkey\u001b[0m\u001b[1;33m)\u001b[0m\u001b[1;33m:\u001b[0m\u001b[1;33m\u001b[0m\u001b[0m\n\u001b[0;32m    520\u001b[0m         \u001b[1;32mtry\u001b[0m\u001b[1;33m:\u001b[0m\u001b[1;33m\u001b[0m\u001b[0m\n\u001b[1;32m--> 521\u001b[1;33m             \u001b[0mresult\u001b[0m \u001b[1;33m=\u001b[0m \u001b[0mself\u001b[0m\u001b[1;33m.\u001b[0m\u001b[0mindex\u001b[0m\u001b[1;33m.\u001b[0m\u001b[0mget_value\u001b[0m\u001b[1;33m(\u001b[0m\u001b[0mself\u001b[0m\u001b[1;33m,\u001b[0m \u001b[0mkey\u001b[0m\u001b[1;33m)\u001b[0m\u001b[1;33m\u001b[0m\u001b[0m\n\u001b[0m\u001b[0;32m    522\u001b[0m \u001b[1;33m\u001b[0m\u001b[0m\n\u001b[0;32m    523\u001b[0m             \u001b[1;32mif\u001b[0m \u001b[1;32mnot\u001b[0m \u001b[0mnp\u001b[0m\u001b[1;33m.\u001b[0m\u001b[0misscalar\u001b[0m\u001b[1;33m(\u001b[0m\u001b[0mresult\u001b[0m\u001b[1;33m)\u001b[0m\u001b[1;33m:\u001b[0m\u001b[1;33m\u001b[0m\u001b[0m\n",
      "\u001b[1;32mC:\\Anaconda\\lib\\site-packages\\pandas\\core\\index.pyc\u001b[0m in \u001b[0;36mget_value\u001b[1;34m(self, series, key)\u001b[0m\n\u001b[0;32m   1599\u001b[0m \u001b[1;33m\u001b[0m\u001b[0m\n\u001b[0;32m   1600\u001b[0m             \u001b[1;32mtry\u001b[0m\u001b[1;33m:\u001b[0m\u001b[1;33m\u001b[0m\u001b[0m\n\u001b[1;32m-> 1601\u001b[1;33m                 \u001b[1;32mreturn\u001b[0m \u001b[0mtslib\u001b[0m\u001b[1;33m.\u001b[0m\u001b[0mget_value_box\u001b[0m\u001b[1;33m(\u001b[0m\u001b[0ms\u001b[0m\u001b[1;33m,\u001b[0m \u001b[0mkey\u001b[0m\u001b[1;33m)\u001b[0m\u001b[1;33m\u001b[0m\u001b[0m\n\u001b[0m\u001b[0;32m   1602\u001b[0m             \u001b[1;32mexcept\u001b[0m \u001b[0mIndexError\u001b[0m\u001b[1;33m:\u001b[0m\u001b[1;33m\u001b[0m\u001b[0m\n\u001b[0;32m   1603\u001b[0m                 \u001b[1;32mraise\u001b[0m\u001b[1;33m\u001b[0m\u001b[0m\n",
      "\u001b[1;32mpandas\\tslib.pyx\u001b[0m in \u001b[0;36mpandas.tslib.get_value_box (pandas\\tslib.c:14153)\u001b[1;34m()\u001b[0m\n",
      "\u001b[1;32mpandas\\tslib.pyx\u001b[0m in \u001b[0;36mpandas.tslib.get_value_box (pandas\\tslib.c:13920)\u001b[1;34m()\u001b[0m\n",
      "\u001b[1;31mIndexError\u001b[0m: index out of bounds"
     ]
    }
   ],
   "source": [
    "endformtype = train.columns[train.columns.str.contains('end_form')]\n",
    "endformtypeTest = test.columns[test.columns.str.contains('end_form')]\n",
    "\n",
    "def type_end(col):\n",
    "    train2 = train.copy()\n",
    "    re = rest_files['type_end_form'].copy()\n",
    "    typeEnd = []\n",
    "    if col not in endformtype:\n",
    "        return 'Error'\n",
    "    else:\n",
    "        for i in train2[col]:\n",
    "            if i == 'NONE' or i == np.nan or pd.isnull(i):\n",
    "                typeEnd += [np.nan]\n",
    "            else:\n",
    "                t = re[re['end_form_id'] == i]['name']\n",
    "                typeEnd += [t.reset_index()['name'][0]]\n",
    "    return typeEnd\n",
    "\n",
    "\n",
    "def type_endTest(col):\n",
    "    test2 = test.copy()\n",
    "    re = rest_files['type_end_form'].copy()\n",
    "    typeEnd = []\n",
    "    if col not in endformtypeTest:\n",
    "        return 'Error'\n",
    "    else:\n",
    "        for i in test2[col]:\n",
    "            if i == 'NONE' or i == np.nan or pd.isnull(i):\n",
    "                typeEnd += [np.nan]\n",
    "            else:\n",
    "                t = re[re['end_form_id'] == i]['name']\n",
    "                typeEnd += [t.reset_index()['name'][0]]\n",
    "    return typeEnd\n",
    "\n",
    "\n",
    "for i in endformtype:\n",
    "    train[i] = type_end(i)\n",
    "for i in endformtypeTest:\n",
    "    test[i] = type_endTest(i)"
   ]
  },
  {
   "cell_type": "code",
   "execution_count": 665,
   "metadata": {
    "collapsed": true
   },
   "outputs": [],
   "source": [
    "train.to_csv('train.csv', index = False)\n",
    "test.to_csv('test.csv', index = False)"
   ]
  },
  {
   "cell_type": "code",
   "execution_count": 600,
   "metadata": {
    "collapsed": false
   },
   "outputs": [
    {
     "data": {
      "text/html": [
       "<div>\n",
       "<table border=\"1\" class=\"dataframe\">\n",
       "  <thead>\n",
       "    <tr style=\"text-align: right;\">\n",
       "      <th></th>\n",
       "      <th>end_a_1x</th>\n",
       "      <th>end_a_2x</th>\n",
       "      <th>end_x_1x</th>\n",
       "      <th>end_x_2x</th>\n",
       "      <th>end_a</th>\n",
       "      <th>end_x</th>\n",
       "    </tr>\n",
       "  </thead>\n",
       "  <tbody>\n",
       "    <tr>\n",
       "      <th>0</th>\n",
       "      <td>N</td>\n",
       "      <td>N</td>\n",
       "      <td>N</td>\n",
       "      <td>N</td>\n",
       "      <td>No</td>\n",
       "      <td>No</td>\n",
       "    </tr>\n",
       "    <tr>\n",
       "      <th>1</th>\n",
       "      <td>N</td>\n",
       "      <td>N</td>\n",
       "      <td>N</td>\n",
       "      <td>N</td>\n",
       "      <td>No</td>\n",
       "      <td>No</td>\n",
       "    </tr>\n",
       "    <tr>\n",
       "      <th>2</th>\n",
       "      <td>N</td>\n",
       "      <td>N</td>\n",
       "      <td>N</td>\n",
       "      <td>N</td>\n",
       "      <td>No</td>\n",
       "      <td>No</td>\n",
       "    </tr>\n",
       "    <tr>\n",
       "      <th>3</th>\n",
       "      <td>N</td>\n",
       "      <td>N</td>\n",
       "      <td>N</td>\n",
       "      <td>N</td>\n",
       "      <td>No</td>\n",
       "      <td>No</td>\n",
       "    </tr>\n",
       "    <tr>\n",
       "      <th>4</th>\n",
       "      <td>N</td>\n",
       "      <td>N</td>\n",
       "      <td>N</td>\n",
       "      <td>N</td>\n",
       "      <td>No</td>\n",
       "      <td>No</td>\n",
       "    </tr>\n",
       "  </tbody>\n",
       "</table>\n",
       "</div>"
      ],
      "text/plain": [
       "  end_a_1x end_a_2x end_x_1x end_x_2x end_a end_x\n",
       "0        N        N        N        N    No    No\n",
       "1        N        N        N        N    No    No\n",
       "2        N        N        N        N    No    No\n",
       "3        N        N        N        N    No    No\n",
       "4        N        N        N        N    No    No"
      ]
     },
     "execution_count": 600,
     "metadata": {},
     "output_type": "execute_result"
    }
   ],
   "source": [
    "test[['end_a_1x','end_a_2x','end_x_1x','end_x_2x','end_a','end_x']].head()"
   ]
  },
  {
   "cell_type": "code",
   "execution_count": 603,
   "metadata": {
    "collapsed": false
   },
   "outputs": [
    {
     "data": {
      "text/plain": [
       "['tube_end_form',\n",
       " 'type_connection',\n",
       " 'components',\n",
       " 'type_end_form',\n",
       " 'specs',\n",
       " 'type_component']"
      ]
     },
     "execution_count": 603,
     "metadata": {},
     "output_type": "execute_result"
    }
   ],
   "source": [
    "rest_files.keys()"
   ]
  },
  {
   "cell_type": "code",
   "execution_count": 604,
   "metadata": {
    "collapsed": false
   },
   "outputs": [
    {
     "data": {
      "text/html": [
       "<div>\n",
       "<table border=\"1\" class=\"dataframe\">\n",
       "  <thead>\n",
       "    <tr style=\"text-align: right;\">\n",
       "      <th></th>\n",
       "      <th>end_form_id</th>\n",
       "      <th>name</th>\n",
       "    </tr>\n",
       "  </thead>\n",
       "  <tbody>\n",
       "    <tr>\n",
       "      <th>0</th>\n",
       "      <td>A-001</td>\n",
       "      <td>Male (Stud)</td>\n",
       "    </tr>\n",
       "    <tr>\n",
       "      <th>1</th>\n",
       "      <td>A-002</td>\n",
       "      <td>Male (Swivel)</td>\n",
       "    </tr>\n",
       "    <tr>\n",
       "      <th>2</th>\n",
       "      <td>A-003</td>\n",
       "      <td>Braze-Weld Boss</td>\n",
       "    </tr>\n",
       "    <tr>\n",
       "      <th>3</th>\n",
       "      <td>A-004</td>\n",
       "      <td>Braze-Weld Socket</td>\n",
       "    </tr>\n",
       "    <tr>\n",
       "      <th>4</th>\n",
       "      <td>A-005</td>\n",
       "      <td>Swivel Nut</td>\n",
       "    </tr>\n",
       "  </tbody>\n",
       "</table>\n",
       "</div>"
      ],
      "text/plain": [
       "  end_form_id               name\n",
       "0       A-001        Male (Stud)\n",
       "1       A-002      Male (Swivel)\n",
       "2       A-003    Braze-Weld Boss\n",
       "3       A-004  Braze-Weld Socket\n",
       "4       A-005         Swivel Nut"
      ]
     },
     "execution_count": 604,
     "metadata": {},
     "output_type": "execute_result"
    }
   ],
   "source": [
    "rest_files['type_end_form'].head()"
   ]
  },
  {
   "cell_type": "code",
   "execution_count": 663,
   "metadata": {
    "collapsed": false
   },
   "outputs": [
    {
     "name": "stdout",
     "output_type": "stream",
     "text": [
      "7683\n",
      "7683\n",
      "8\n",
      "948\n",
      "948\n",
      "12\n",
      "5210\n",
      "5210\n",
      "18\n",
      "85\n",
      "85\n",
      "5\n",
      "11\n",
      "11\n",
      "6\n",
      "6\n"
     ]
    }
   ],
   "source": [
    "for i in range(len(endformtypeTest)):\n",
    "    print sum(pd.notnull(test[endformtypeTest[i]]))\n"
   ]
  },
  {
   "cell_type": "code",
   "execution_count": 656,
   "metadata": {
    "collapsed": false
   },
   "outputs": [
    {
     "name": "stdout",
     "output_type": "stream",
     "text": [
      "7630\n",
      "7630\n",
      "1058\n",
      "1058\n",
      "16\n",
      "5320\n",
      "5320\n",
      "4\n",
      "25\n",
      "49\n",
      "49\n",
      "4\n",
      "5\n",
      "5\n",
      "8\n",
      "8\n"
     ]
    }
   ],
   "source": [
    "for i in range(len(endformtype)):\n",
    "    print sum(pd.notnull(train[endformtype[i]]))"
   ]
  },
  {
   "cell_type": "markdown",
   "metadata": {},
   "source": [
    "## Test mergeframe"
   ]
  },
  {
   "cell_type": "code",
   "execution_count": 329,
   "metadata": {
    "collapsed": false
   },
   "outputs": [
    {
     "data": {
      "text/plain": [
       "['comp_sleeve',\n",
       " 'comp_nut',\n",
       " 'comp_adaptor',\n",
       " 'comp_elbow',\n",
       " 'comp_other',\n",
       " 'comp_threaded',\n",
       " 'comp_hfl',\n",
       " 'comp_straight',\n",
       " 'comp_boss',\n",
       " 'comp_float',\n",
       " 'comp_tee']"
      ]
     },
     "execution_count": 329,
     "metadata": {},
     "output_type": "execute_result"
    }
   ],
   "source": [
    "comp_dict.keys()"
   ]
  },
  {
   "cell_type": "code",
   "execution_count": 313,
   "metadata": {
    "collapsed": true
   },
   "outputs": [],
   "source": [
    "def mergeframeTEST(comp_num):\n",
    "    train2 = copy.deepcopy(train)\n",
    "    \n",
    "    # Call comp_column()\n",
    "    comp = 'component_id_'+str(comp_num)\n",
    "    merge = comp_column(comp)\n",
    "       \n",
    "    train2 = pd.merge(train2,merge, how = 'left', on = comp)\n",
    "    startIndex = list(train2.columns).index('weight_id_'+str(comp_num))\n",
    "    x = list(train2.columns.copy())\n",
    "    newColOrder = []\n",
    "    for i in range(len(x)):\n",
    "        if i <= startIndex:\n",
    "            newColOrder += [x[i]]\n",
    "        elif i > startIndex and i < startIndex+len(merge.columns):\n",
    "            newColOrder += [x[-len(merge.columns)+i-startIndex]]\n",
    "        else:\n",
    "            newColOrder += [x[i-len(merge.columns)+1]]\n",
    "    return newColOrder "
   ]
  },
  {
   "cell_type": "code",
   "execution_count": 305,
   "metadata": {
    "collapsed": true
   },
   "outputs": [
    {
     "name": "stdout",
     "output_type": "stream",
     "text": [
      "21\n",
      "weight_id_6\n",
      "46\n",
      "67\n",
      "67\n"
     ]
    },
    {
     "data": {
      "text/plain": [
       "(['tube_assembly_id',\n",
       "  'supplier',\n",
       "  'quote_date',\n",
       "  'annual_usage',\n",
       "  'min_order_quantity',\n",
       "  'bracket_pricing',\n",
       "  'quantity',\n",
       "  'cost',\n",
       "  'component_id_1',\n",
       "  'quantity_1',\n",
       "  'weight_id_1',\n",
       "  'component_id_2',\n",
       "  'quantity_2',\n",
       "  'weight_id_2',\n",
       "  'component_id_3',\n",
       "  'quantity_3',\n",
       "  'weight_id_3',\n",
       "  'component_id_4',\n",
       "  'quantity_4',\n",
       "  'weight_id_4',\n",
       "  'component_id_5',\n",
       "  'quantity_5',\n",
       "  'weight_id_5',\n",
       "  'component_id_6',\n",
       "  'quantity_6',\n",
       "  'weight_id_6',\n",
       "  'part_name_comp6',\n",
       "  'orientation_comp6',\n",
       "  'nominal_size_2_comp6',\n",
       "  'adaptor_angle_comp6',\n",
       "  'component_type_id_comp6',\n",
       "  'connection_type_id_1_comp6',\n",
       "  'thread_size_1_comp6',\n",
       "  'end_form_id_1_comp6',\n",
       "  'end_form_id_2_comp6',\n",
       "  'unique_feature_comp6',\n",
       "  'length_1_comp6',\n",
       "  'length_2_comp6',\n",
       "  'thread_pitch_1_comp6',\n",
       "  'height_over_tube_comp6',\n",
       "  'groove_comp6',\n",
       "  'connection_type_id_comp6',\n",
       "  'base_type_comp6',\n",
       "  'outside_shape_comp6',\n",
       "  'type_comp6',\n",
       "  'base_diameter_comp6',\n",
       "  'component_id_7',\n",
       "  'quantity_7',\n",
       "  'weight_id_7',\n",
       "  'component_id_8',\n",
       "  'quantity_8',\n",
       "  'weight_id_8',\n",
       "  'material_id',\n",
       "  'diameter',\n",
       "  'wall',\n",
       "  'length',\n",
       "  'num_bends',\n",
       "  'bend_radius',\n",
       "  'end_a_1x',\n",
       "  'end_a_2x',\n",
       "  'end_x_1x',\n",
       "  'end_x_2x',\n",
       "  'end_a',\n",
       "  'end_x',\n",
       "  'num_boss',\n",
       "  'num_bracket',\n",
       "  'other'],\n",
       " ['tube_assembly_id',\n",
       "  'supplier',\n",
       "  'quote_date',\n",
       "  'annual_usage',\n",
       "  'min_order_quantity',\n",
       "  'bracket_pricing',\n",
       "  'quantity',\n",
       "  'cost',\n",
       "  'component_id_1',\n",
       "  'quantity_1',\n",
       "  'weight_id_1',\n",
       "  'component_id_2',\n",
       "  'quantity_2',\n",
       "  'weight_id_2',\n",
       "  'component_id_3',\n",
       "  'quantity_3',\n",
       "  'weight_id_3',\n",
       "  'component_id_4',\n",
       "  'quantity_4',\n",
       "  'weight_id_4',\n",
       "  'component_id_5',\n",
       "  'quantity_5',\n",
       "  'weight_id_5',\n",
       "  'component_id_6',\n",
       "  'quantity_6',\n",
       "  'weight_id_6',\n",
       "  'component_id_7',\n",
       "  'quantity_7',\n",
       "  'weight_id_7',\n",
       "  'component_id_8',\n",
       "  'quantity_8',\n",
       "  'weight_id_8',\n",
       "  'material_id',\n",
       "  'diameter',\n",
       "  'wall',\n",
       "  'length',\n",
       "  'num_bends',\n",
       "  'bend_radius',\n",
       "  'end_a_1x',\n",
       "  'end_a_2x',\n",
       "  'end_x_1x',\n",
       "  'end_x_2x',\n",
       "  'end_a',\n",
       "  'end_x',\n",
       "  'num_boss',\n",
       "  'num_bracket',\n",
       "  'other',\n",
       "  'part_name_comp6',\n",
       "  'orientation_comp6',\n",
       "  'nominal_size_2_comp6',\n",
       "  'adaptor_angle_comp6',\n",
       "  'component_type_id_comp6',\n",
       "  'connection_type_id_1_comp6',\n",
       "  'thread_size_1_comp6',\n",
       "  'end_form_id_1_comp6',\n",
       "  'end_form_id_2_comp6',\n",
       "  'unique_feature_comp6',\n",
       "  'length_1_comp6',\n",
       "  'length_2_comp6',\n",
       "  'thread_pitch_1_comp6',\n",
       "  'height_over_tube_comp6',\n",
       "  'groove_comp6',\n",
       "  'connection_type_id_comp6',\n",
       "  'base_type_comp6',\n",
       "  'outside_shape_comp6',\n",
       "  'type_comp6',\n",
       "  'base_diameter_comp6'])"
      ]
     },
     "execution_count": 305,
     "metadata": {},
     "output_type": "execute_result"
    }
   ],
   "source": [
    "train2 = copy.deepcopy(train)\n",
    "merge = comp_column('component_id_6')\n",
    "print len(merge.columns)\n",
    "train2 = pd.merge(train2,merge, how = 'left', on = 'component_id_6')\n",
    "t = list(train2.columns).index('weight_id_6')\n",
    "x = list(train2.columns.copy())\n",
    "l = []\n",
    "for i in range(len(x)):\n",
    "    if i <= t:\n",
    "        l += [x[i]]\n",
    "    elif i > t and i < t+len(merge.columns):\n",
    "        l += [x[-len(merge.columns)+i-t]]\n",
    "    else:\n",
    "        l += [x[i-len(merge.columns)+1]]\n",
    "\n",
    "print len(x)\n",
    "print len(l)\n",
    "l, x\n",
    "# [x[i] if i < t and i > t+len(merge.columns) else x[-1*(len(merge.columns)-i)] for i in range(len(x))]"
   ]
  },
  {
   "cell_type": "markdown",
   "metadata": {},
   "source": [
    "### Examining the merge process for different `component_id_*`\n",
    "\n",
    "I explored `component_id_6,7,8` and they seem to work well"
   ]
  },
  {
   "cell_type": "code",
   "execution_count": 253,
   "metadata": {
    "collapsed": false
   },
   "outputs": [
    {
     "name": "stdout",
     "output_type": "stream",
     "text": [
      "30213\n",
      "      end_a_1x end_a_2x end_x_1x end_x_2x   end_a   end_x  num_boss  \\\n",
      "6179         N        N        N        N  EF-021  EF-021         0   \n",
      "6180         N        N        N        N  EF-021  EF-021         0   \n",
      "6181         N        N        N        N  EF-021  EF-021         0   \n",
      "6533         N        N        Y        Y  EF-023  EF-023         0   \n",
      "17706        N        N        Y        Y  EF-023  EF-023         1   \n",
      "17707        N        N        Y        Y  EF-023  EF-023         1   \n",
      "17708        N        N        Y        Y  EF-023  EF-023         1   \n",
      "18896        N        Y        N        Y  EF-023  EF-023         0   \n",
      "\n",
      "       num_bracket  other part_name_c7  \n",
      "6179             0      0        PLATE  \n",
      "6180             0      0        PLATE  \n",
      "6181             0      0        PLATE  \n",
      "6533             0      6        PLATE  \n",
      "17706            0      2        PLATE  \n",
      "17707            0      2        PLATE  \n",
      "17708            0      2        PLATE  \n",
      "18896            0      8         TUBE  \n",
      "30213\n"
     ]
    }
   ],
   "source": [
    "train2 = copy.deepcopy(train)\n",
    "print len(train2.iloc[:,0])\n",
    "train2 = pd.merge(train2,comp_column('component_id_7'), how = 'left', on = 'component_id_7')\n",
    "print train2[pd.notnull(train['component_id_7'])].iloc[:,-10:]\n",
    "print len(train2.iloc[:,0])"
   ]
  },
  {
   "cell_type": "markdown",
   "metadata": {},
   "source": [
    "### Testing a function to see how each `component_id_*` gets a data frame associated with it\n",
    "\n",
    "Looking to build a function `comp_column(name)` that will take care of this for me. This is my scratch work for testing the function and seeing if it is working properly. Combining dictionaries didn't work well because the alignment between different columns is off - especially when in `component_id_6` C-2005 doesn't have a `part_name`, but it gets assigned one when concatenating the dictionaries together, which is bad. So I opted for a bruteforce approach of building each row one by one (3 nested for-loops, ugly)."
   ]
  },
  {
   "cell_type": "code",
   "execution_count": 250,
   "metadata": {
    "collapsed": false
   },
   "outputs": [
    {
     "name": "stdout",
     "output_type": "stream",
     "text": [
      "['C-2005', 'C-1920', 'C-1560', 'C-0981', 'C-0967', 'C-0965', 'C-0934', 'C-0663', 'C-0378', 'C-0353', nan]\n",
      "C-1920 part_name PLATE\n",
      "C-1560 part_name FLANGE\n",
      "C-0981 part_name PLATE\n",
      "C-0967 part_name BRACKET\n",
      "C-0934 part_name PLATE\n",
      "C-0663 part_name TUBE\n",
      "C-0378 part_name VALVE BODY\n",
      "C-0353 part_name PIPE\n",
      "C-2005 orientation Yes\n",
      "C-2005 nominal_size_3 nan\n",
      "C-2005 nominal_size_2 19.05\n",
      "C-2005 nominal_size_1 nan\n",
      "C-2005 nominal_size_4 nan\n",
      "C-2005 adaptor_angle 90.0\n",
      "C-2005 component_type_id CP-015\n",
      "C-2005 hex_size nan\n",
      "C-2005 thread_size_4 nan\n",
      "C-2005 connection_type_id_1 B-002\n",
      "C-2005 connection_type_id_2 nan\n",
      "C-2005 connection_type_id_3 nan\n",
      "C-2005 connection_type_id_4 nan\n",
      "C-2005 thread_size_1 1.187\n",
      "C-2005 thread_size_2 nan\n",
      "C-2005 thread_size_3 nan\n",
      "C-2005 end_form_id_4 nan\n",
      "C-2005 end_form_id_1 A-001\n",
      "C-2005 end_form_id_2 A-004\n",
      "C-2005 end_form_id_3 nan\n",
      "C-2005 overall_length nan\n",
      "C-2005 unique_feature Yes\n",
      "C-2005 length_1 37.3\n",
      "C-2005 length_3 nan\n",
      "C-2005 length_2 37.3\n",
      "C-2005 length_4 nan\n",
      "C-2005 thread_pitch_4 nan\n",
      "C-2005 thread_pitch_1 12.0\n",
      "C-2005 thread_pitch_2 nan\n",
      "C-2005 thread_pitch_3 nan\n",
      "C-0965 component_type_id CP-018\n",
      "C-0965 height_over_tube 39.6\n",
      "C-0965 orientation Yes\n",
      "C-0965 groove No\n",
      "C-0965 connection_type_id B-005\n",
      "C-0965 unique_feature Yes\n",
      "C-0965 bolt_pattern_wide nan\n",
      "C-0965 base_type Saddle\n",
      "C-0965 bolt_pattern_long nan\n",
      "C-0965 outside_shape Round\n",
      "C-0965 type Boss\n",
      "C-0965 base_diameter 50.0\n",
      "C-0965 shoulder_diameter nan\n",
      "  component_id_6 part_name_c6 orientation_c6  nominal_size_2_c6  \\\n",
      "1         C-1920        PLATE            NaN                NaN   \n",
      "2         C-1560       FLANGE            NaN                NaN   \n",
      "3         C-0981        PLATE            NaN                NaN   \n",
      "4         C-0967      BRACKET            NaN                NaN   \n",
      "6         C-0934        PLATE            NaN                NaN   \n",
      "7         C-0663         TUBE            NaN                NaN   \n",
      "8         C-0378   VALVE BODY            NaN                NaN   \n",
      "9         C-0353         PIPE            NaN                NaN   \n",
      "0         C-2005          NaN            Yes              19.05   \n",
      "5         C-0965          NaN            Yes                NaN   \n",
      "\n",
      "   adaptor_angle_c6 component_type_id_c6 connection_type_id_1_c6  \\\n",
      "1               NaN                  NaN                     NaN   \n",
      "2               NaN                  NaN                     NaN   \n",
      "3               NaN                  NaN                     NaN   \n",
      "4               NaN                  NaN                     NaN   \n",
      "6               NaN                  NaN                     NaN   \n",
      "7               NaN                  NaN                     NaN   \n",
      "8               NaN                  NaN                     NaN   \n",
      "9               NaN                  NaN                     NaN   \n",
      "0                90               CP-015                   B-002   \n",
      "5               NaN               CP-018                     NaN   \n",
      "\n",
      "   thread_size_1_c6 end_form_id_1_c6 end_form_id_2_c6  \n",
      "1               NaN              NaN              NaN  \n",
      "2               NaN              NaN              NaN  \n",
      "3               NaN              NaN              NaN  \n",
      "4               NaN              NaN              NaN  \n",
      "6               NaN              NaN              NaN  \n",
      "7               NaN              NaN              NaN  \n",
      "8               NaN              NaN              NaN  \n",
      "9               NaN              NaN              NaN  \n",
      "0             1.187            A-001            A-004  \n",
      "5               NaN              NaN              NaN  \n",
      "  unique_feature_c6  length_1_c6  length_2_c6  thread_pitch_1_c6  \\\n",
      "1               NaN          NaN          NaN                NaN   \n",
      "2               NaN          NaN          NaN                NaN   \n",
      "3               NaN          NaN          NaN                NaN   \n",
      "4               NaN          NaN          NaN                NaN   \n",
      "6               NaN          NaN          NaN                NaN   \n",
      "7               NaN          NaN          NaN                NaN   \n",
      "8               NaN          NaN          NaN                NaN   \n",
      "9               NaN          NaN          NaN                NaN   \n",
      "0               Yes         37.3         37.3                 12   \n",
      "5               Yes          NaN          NaN                NaN   \n",
      "\n",
      "   height_over_tube_c6 groove_c6 connection_type_id_c6 base_type_c6  \\\n",
      "1                  NaN       NaN                   NaN          NaN   \n",
      "2                  NaN       NaN                   NaN          NaN   \n",
      "3                  NaN       NaN                   NaN          NaN   \n",
      "4                  NaN       NaN                   NaN          NaN   \n",
      "6                  NaN       NaN                   NaN          NaN   \n",
      "7                  NaN       NaN                   NaN          NaN   \n",
      "8                  NaN       NaN                   NaN          NaN   \n",
      "9                  NaN       NaN                   NaN          NaN   \n",
      "0                  NaN       NaN                   NaN          NaN   \n",
      "5                 39.6        No                 B-005       Saddle   \n",
      "\n",
      "  outside_shape_c6 type_c6  base_diameter_c6  \n",
      "1              NaN     NaN               NaN  \n",
      "2              NaN     NaN               NaN  \n",
      "3              NaN     NaN               NaN  \n",
      "4              NaN     NaN               NaN  \n",
      "6              NaN     NaN               NaN  \n",
      "7              NaN     NaN               NaN  \n",
      "8              NaN     NaN               NaN  \n",
      "9              NaN     NaN               NaN  \n",
      "0              NaN     NaN               NaN  \n",
      "5            Round    Boss                50  \n"
     ]
    }
   ],
   "source": [
    "test = pd.DataFrame({'component_id_6': []})\n",
    "print sorted(train['component_id_6'].unique(),reverse = True)\n",
    "for filename in comp_dict:\n",
    "    tempdict = {x: [] for x in comp_dict[filename].drop('weight',axis = 1).columns}\n",
    "    for key in sorted(train['component_id_6'].unique(),reverse = True):\n",
    "        i = sorted(train['component_id_6'].unique(),reverse = True).index(key)\n",
    "        if key in comp_dict[filename].index:\n",
    "            for col in tempdict.keys():\n",
    "                # test[i,col] = comp_dict[filename].drop('weight',axis = 1).loc[key][col]\n",
    "                # tempdict[col].append(comp_dict[filename].drop('weight',axis = 1).loc[key][col])\n",
    "                test.loc[i,'component_id_6'] = key\n",
    "                test.loc[i,col] = comp_dict[filename].drop('weight',axis = 1).loc[key][col]\n",
    "                print key, col, comp_dict[filename].drop('weight',axis = 1).loc[key][col]\n",
    "    #if len(tempdict[tempdict.keys()[0]])>0:\n",
    "        #tempframe = pd.DataFrame(tempdict)   \n",
    "        #test = pd.concat([test,tempframe],axis=1)\n",
    "                # .append(comp_dict[filename].loc[key][col])\n",
    "# train2 = pd.DataFrame({key1 : sorted(train[key1].unique(),reverse = True),weight_id[i]: weight})\n",
    "# print tempdict\n",
    "# print test\n",
    "tempcol = test.columns.copy()\n",
    "drop = []\n",
    "for x in tempcol:\n",
    "    if sum(pd.isnull(test[x])) == len(test[x]):\n",
    "        drop.append(x)\n",
    "test = test.drop(drop,axis=1)\n",
    "c = 'component_id_6'.split('_')[-1]\n",
    "test.columns = [test.columns[i] + '_c' + c if i > 0 else test.columns[i] for i in range(len(test.columns))]\n",
    "print test.iloc[:,:10]\n",
    "print test.iloc[:,10:]"
   ]
  },
  {
   "cell_type": "markdown",
   "metadata": {},
   "source": [
    "### testing if the merge works properly\n",
    "\n",
    "testing this script for adding the `weight` column"
   ]
  },
  {
   "cell_type": "code",
   "execution_count": 100,
   "metadata": {
    "collapsed": false
   },
   "outputs": [
    {
     "name": "stdout",
     "output_type": "stream",
     "text": [
      "['C-2005', 'C-1920', 'C-1560', 'C-0981', 'C-0967', 'C-0965', 'C-0934', 'C-0663', 'C-0378', 'C-0353', nan]\n",
      "comp_threaded C-2005 0.326\n",
      "\n",
      "comp_other C-1920 0.15\n",
      "\n",
      "comp_other C-1560 6.9\n",
      "\n",
      "comp_other C-0981 0.524\n",
      "\n",
      "comp_other C-0967 1.138\n",
      "\n",
      "comp_boss C-0965 0.5\n",
      "\n",
      "comp_other C-0934 0.701\n",
      "\n",
      "comp_other C-0663 3.771\n",
      "\n",
      "comp_other C-0378 0.094\n",
      "\n",
      "comp_other C-0353 0.326\n",
      "\n"
     ]
    },
    {
     "data": {
      "text/html": [
       "<div>\n",
       "<table border=\"1\" class=\"dataframe\">\n",
       "  <thead>\n",
       "    <tr style=\"text-align: right;\">\n",
       "      <th></th>\n",
       "      <th>component_id_6</th>\n",
       "      <th>weight</th>\n",
       "    </tr>\n",
       "  </thead>\n",
       "  <tbody>\n",
       "    <tr>\n",
       "      <th>0</th>\n",
       "      <td>C-2005</td>\n",
       "      <td>0.326</td>\n",
       "    </tr>\n",
       "    <tr>\n",
       "      <th>1</th>\n",
       "      <td>C-1920</td>\n",
       "      <td>0.150</td>\n",
       "    </tr>\n",
       "    <tr>\n",
       "      <th>2</th>\n",
       "      <td>C-1560</td>\n",
       "      <td>6.900</td>\n",
       "    </tr>\n",
       "    <tr>\n",
       "      <th>3</th>\n",
       "      <td>C-0981</td>\n",
       "      <td>0.524</td>\n",
       "    </tr>\n",
       "    <tr>\n",
       "      <th>4</th>\n",
       "      <td>C-0967</td>\n",
       "      <td>1.138</td>\n",
       "    </tr>\n",
       "    <tr>\n",
       "      <th>5</th>\n",
       "      <td>C-0965</td>\n",
       "      <td>0.500</td>\n",
       "    </tr>\n",
       "    <tr>\n",
       "      <th>6</th>\n",
       "      <td>C-0934</td>\n",
       "      <td>0.701</td>\n",
       "    </tr>\n",
       "    <tr>\n",
       "      <th>7</th>\n",
       "      <td>C-0663</td>\n",
       "      <td>3.771</td>\n",
       "    </tr>\n",
       "    <tr>\n",
       "      <th>8</th>\n",
       "      <td>C-0378</td>\n",
       "      <td>0.094</td>\n",
       "    </tr>\n",
       "    <tr>\n",
       "      <th>9</th>\n",
       "      <td>C-0353</td>\n",
       "      <td>0.326</td>\n",
       "    </tr>\n",
       "    <tr>\n",
       "      <th>10</th>\n",
       "      <td>NaN</td>\n",
       "      <td>NaN</td>\n",
       "    </tr>\n",
       "  </tbody>\n",
       "</table>\n",
       "</div>"
      ],
      "text/plain": [
       "   component_id_6  weight\n",
       "0          C-2005   0.326\n",
       "1          C-1920   0.150\n",
       "2          C-1560   6.900\n",
       "3          C-0981   0.524\n",
       "4          C-0967   1.138\n",
       "5          C-0965   0.500\n",
       "6          C-0934   0.701\n",
       "7          C-0663   3.771\n",
       "8          C-0378   0.094\n",
       "9          C-0353   0.326\n",
       "10            NaN     NaN"
      ]
     },
     "execution_count": 100,
     "metadata": {},
     "output_type": "execute_result"
    }
   ],
   "source": [
    "i = comp_id.index('component_id_6')\n",
    "print sorted(train['component_id_6'].unique(), reverse = True)\n",
    "weight = []\n",
    "for key2 in sorted(train['component_id_6'].unique(), reverse = True):\n",
    "    for filename in comp_dict:\n",
    "        if key2 in comp_dict[filename].index:\n",
    "            weight.append(comp_dict[filename].loc[key2]['weight'])\n",
    "            print filename, key2, comp_dict[filename].loc[key2]['weight']\n",
    "            print \n",
    "else:\n",
    "    weight.append(np.nan)\n",
    "train3 = pd.DataFrame({'component_id_6': sorted(train['component_id_6'].unique(), reverse = True),\n",
    "                       'weight': weight})\n",
    "train3.head(20)\n"
   ]
  },
  {
   "cell_type": "code",
   "execution_count": 438,
   "metadata": {
    "collapsed": false
   },
   "outputs": [
    {
     "name": "stdout",
     "output_type": "stream",
     "text": [
      "Index([u'id', u'tube_assembly_id', u'supplier', u'quote_date', u'annual_usage',\n",
      "       u'min_order_quantity', u'bracket_pricing', u'quantity',\n",
      "       u'component_id_1', u'quantity_1', u'component_id_2', u'quantity_2',\n",
      "       u'component_id_3', u'quantity_3', u'component_id_4', u'quantity_4',\n",
      "       u'component_id_5', u'quantity_5', u'component_id_6', u'quantity_6',\n",
      "       u'component_id_7', u'quantity_7', u'component_id_8', u'quantity_8',\n",
      "       u'material_id', u'diameter', u'wall', u'length', u'num_bends',\n",
      "       u'bend_radius', u'end_a_1x', u'end_a_2x', u'end_x_1x', u'end_x_2x',\n",
      "       u'end_a', u'end_x', u'num_boss', u'num_bracket', u'other'],\n",
      "      dtype='object')\n",
      "comp_other C-1049\n",
      "comp_other C-0557\n",
      "comp_other C-0279\n",
      "comp_other C-0176\n",
      "comp_threaded C-1639\n",
      "comp_straight C-2021\n",
      "comp_boss C-1065\n",
      "comp_boss C-0965\n",
      "Index([u'id', u'tube_assembly_id', u'supplier', u'quote_date', u'annual_usage',\n",
      "       u'min_order_quantity', u'bracket_pricing', u'quantity',\n",
      "       u'component_id_1', u'quantity_1', u'component_id_2', u'quantity_2',\n",
      "       u'component_id_3', u'quantity_3', u'component_id_4', u'quantity_4',\n",
      "       u'component_id_5', u'quantity_5', u'component_id_6', u'quantity_6',\n",
      "       u'component_id_7', u'quantity_7', u'component_id_8', u'quantity_8',\n",
      "       u'material_id', u'diameter', u'wall', u'length', u'num_bends',\n",
      "       u'bend_radius', u'end_a_1x', u'end_a_2x', u'end_x_1x', u'end_x_2x',\n",
      "       u'end_a', u'end_x', u'num_boss', u'num_bracket', u'other',\n",
      "       u'weight_id_6'],\n",
      "      dtype='object')\n",
      "  component_id_6  weight_id_6\n",
      "3         C-1049        1.182\n",
      "5         C-0557        1.178\n",
      "6         C-0279        0.908\n",
      "7         C-0176        0.476\n",
      "1         C-1639        0.050\n",
      "0         C-2021        1.678\n",
      "2         C-1065        1.494\n",
      "4         C-0965        0.500\n"
     ]
    }
   ],
   "source": [
    "# testing on test\n",
    "\n",
    "test2 = test.copy()\n",
    "print test2.columns\n",
    "comp_id = ['component_id_'+str(i) for i in range(1,9)]\n",
    "weight_id = ['weight_id_'+str(i) for i in range(1,9)]\n",
    "temp = pd.DataFrame({'component_id_6': []})\n",
    "for filename in comp_dict:\n",
    "    for key2 in sorted(test2['component_id_6'].unique(),reverse = True):\n",
    "        i = sorted(test2['component_id_6'].unique(),reverse = True).index(key2)\n",
    "        if key2 in comp_dict[filename].index:\n",
    "            print filename, key2\n",
    "            temp.loc[i,'component_id_6'] = key2\n",
    "            temp.loc[i,weight_id[5]] = comp_dict[filename].loc[key2]['weight']\n",
    "test2 = pd.merge(test2,temp,how = 'left',on = 'component_id_6')\n",
    "\n",
    "print test2.columns\n",
    "print temp"
   ]
  },
  {
   "cell_type": "markdown",
   "metadata": {},
   "source": [
    "### Examining Jingyi's files"
   ]
  },
  {
   "cell_type": "code",
   "execution_count": 22,
   "metadata": {
    "collapsed": false
   },
   "outputs": [
    {
     "name": "stdout",
     "output_type": "stream",
     "text": [
      "Index([u'tube_assembly_id', u'supplier', u'bracket_pricing', u'quantity',\n",
      "       u'cost', u'component_id_1_name', u'component_1_weight', u'quantity_1',\n",
      "       u'component_id_2_name', u'component_2_weight', u'quantity_2',\n",
      "       u'component_id_3_name', u'component_3_weight', u'quantity_3',\n",
      "       u'material_id', u'diameter', u'wall', u'length', u'num_bends',\n",
      "       u'bend_radius', u'end_a_2x', u'end_x_2x', u'end_a', u'end_x', u'year',\n",
      "       u'month', u'day'],\n",
      "      dtype='object')\n"
     ]
    }
   ],
   "source": [
    "training1 = pd.read_csv(\"../train.csv\", index_col = 0, header = 0)\n",
    "trainning2 = pd.read_csv(\"../train4.csv\", index_col = 0, header = 0)\n",
    "print training2.columns"
   ]
  },
  {
   "cell_type": "code",
   "execution_count": null,
   "metadata": {
    "collapsed": true
   },
   "outputs": [],
   "source": []
  }
 ],
 "metadata": {
  "kernelspec": {
   "display_name": "Python 2",
   "language": "python",
   "name": "python2"
  },
  "language_info": {
   "codemirror_mode": {
    "name": "ipython",
    "version": 2
   },
   "file_extension": ".py",
   "mimetype": "text/x-python",
   "name": "python",
   "nbconvert_exporter": "python",
   "pygments_lexer": "ipython2",
   "version": "2.7.9"
  }
 },
 "nbformat": 4,
 "nbformat_minor": 0
}
