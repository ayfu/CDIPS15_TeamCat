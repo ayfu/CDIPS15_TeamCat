{
 "cells": [
  {
   "cell_type": "code",
   "execution_count": 30,
   "metadata": {
    "collapsed": false
   },
   "outputs": [
    {
     "data": {
      "text/plain": [
       "['../competition_data/bill_of_materials.csv',\n",
       " '../competition_data/comp_adaptor.csv',\n",
       " '../competition_data/comp_boss.csv',\n",
       " '../competition_data/comp_elbow.csv',\n",
       " '../competition_data/comp_float.csv',\n",
       " '../competition_data/comp_hfl.csv',\n",
       " '../competition_data/comp_nut.csv',\n",
       " '../competition_data/comp_other.csv',\n",
       " '../competition_data/comp_sleeve.csv',\n",
       " '../competition_data/comp_straight.csv',\n",
       " '../competition_data/comp_tee.csv',\n",
       " '../competition_data/comp_threaded.csv',\n",
       " '../competition_data/components.csv',\n",
       " '../competition_data/specs.csv',\n",
       " '../competition_data/test_set.csv',\n",
       " '../competition_data/train_set.csv',\n",
       " '../competition_data/tube.csv',\n",
       " '../competition_data/tube_end_form.csv',\n",
       " '../competition_data/type_component.csv',\n",
       " '../competition_data/type_connection.csv',\n",
       " '../competition_data/type_end_form.csv']"
      ]
     },
     "execution_count": 30,
     "metadata": {},
     "output_type": "execute_result"
    }
   ],
   "source": [
    "%matplotlib inline\n",
    "import os, glob\n",
    "import pandas as pd\n",
    "import numpy as np\n",
    "import datetime as dt\n",
    "import matplotlib.pyplot as plt\n",
    "from sklearn import preprocessing\n",
    "from IPython.display import display\n",
    "filepath = os.path.join('..','competition_data')\n",
    "files = glob.glob(os.path.join(filepath,'*.csv'))\n",
    "files"
   ]
  },
  {
   "cell_type": "code",
   "execution_count": 14,
   "metadata": {
    "collapsed": false
   },
   "outputs": [
    {
     "data": {
      "text/html": [
       "<div>\n",
       "<table border=\"1\" class=\"dataframe\">\n",
       "  <thead>\n",
       "    <tr style=\"text-align: right;\">\n",
       "      <th></th>\n",
       "      <th>component_id_1</th>\n",
       "      <th>quantity_1</th>\n",
       "      <th>component_id_2</th>\n",
       "      <th>quantity_2</th>\n",
       "      <th>component_id_3</th>\n",
       "      <th>quantity_3</th>\n",
       "      <th>component_id_4</th>\n",
       "      <th>quantity_4</th>\n",
       "      <th>component_id_5</th>\n",
       "      <th>quantity_5</th>\n",
       "      <th>component_id_6</th>\n",
       "      <th>quantity_6</th>\n",
       "      <th>component_id_7</th>\n",
       "      <th>quantity_7</th>\n",
       "      <th>component_id_8</th>\n",
       "      <th>quantity_8</th>\n",
       "    </tr>\n",
       "    <tr>\n",
       "      <th>tube_assembly_id</th>\n",
       "      <th></th>\n",
       "      <th></th>\n",
       "      <th></th>\n",
       "      <th></th>\n",
       "      <th></th>\n",
       "      <th></th>\n",
       "      <th></th>\n",
       "      <th></th>\n",
       "      <th></th>\n",
       "      <th></th>\n",
       "      <th></th>\n",
       "      <th></th>\n",
       "      <th></th>\n",
       "      <th></th>\n",
       "      <th></th>\n",
       "      <th></th>\n",
       "    </tr>\n",
       "  </thead>\n",
       "  <tbody>\n",
       "    <tr>\n",
       "      <th>TA-00001</th>\n",
       "      <td>C-1622</td>\n",
       "      <td>2</td>\n",
       "      <td>C-1629</td>\n",
       "      <td>2</td>\n",
       "      <td>NaN</td>\n",
       "      <td>NaN</td>\n",
       "      <td>NaN</td>\n",
       "      <td>NaN</td>\n",
       "      <td>NaN</td>\n",
       "      <td>NaN</td>\n",
       "      <td>NaN</td>\n",
       "      <td>NaN</td>\n",
       "      <td>NaN</td>\n",
       "      <td>NaN</td>\n",
       "      <td>NaN</td>\n",
       "      <td>NaN</td>\n",
       "    </tr>\n",
       "    <tr>\n",
       "      <th>TA-00002</th>\n",
       "      <td>C-1312</td>\n",
       "      <td>2</td>\n",
       "      <td>NaN</td>\n",
       "      <td>NaN</td>\n",
       "      <td>NaN</td>\n",
       "      <td>NaN</td>\n",
       "      <td>NaN</td>\n",
       "      <td>NaN</td>\n",
       "      <td>NaN</td>\n",
       "      <td>NaN</td>\n",
       "      <td>NaN</td>\n",
       "      <td>NaN</td>\n",
       "      <td>NaN</td>\n",
       "      <td>NaN</td>\n",
       "      <td>NaN</td>\n",
       "      <td>NaN</td>\n",
       "    </tr>\n",
       "    <tr>\n",
       "      <th>TA-00003</th>\n",
       "      <td>C-1312</td>\n",
       "      <td>2</td>\n",
       "      <td>NaN</td>\n",
       "      <td>NaN</td>\n",
       "      <td>NaN</td>\n",
       "      <td>NaN</td>\n",
       "      <td>NaN</td>\n",
       "      <td>NaN</td>\n",
       "      <td>NaN</td>\n",
       "      <td>NaN</td>\n",
       "      <td>NaN</td>\n",
       "      <td>NaN</td>\n",
       "      <td>NaN</td>\n",
       "      <td>NaN</td>\n",
       "      <td>NaN</td>\n",
       "      <td>NaN</td>\n",
       "    </tr>\n",
       "    <tr>\n",
       "      <th>TA-00004</th>\n",
       "      <td>C-1312</td>\n",
       "      <td>2</td>\n",
       "      <td>NaN</td>\n",
       "      <td>NaN</td>\n",
       "      <td>NaN</td>\n",
       "      <td>NaN</td>\n",
       "      <td>NaN</td>\n",
       "      <td>NaN</td>\n",
       "      <td>NaN</td>\n",
       "      <td>NaN</td>\n",
       "      <td>NaN</td>\n",
       "      <td>NaN</td>\n",
       "      <td>NaN</td>\n",
       "      <td>NaN</td>\n",
       "      <td>NaN</td>\n",
       "      <td>NaN</td>\n",
       "    </tr>\n",
       "    <tr>\n",
       "      <th>TA-00005</th>\n",
       "      <td>C-1624</td>\n",
       "      <td>1</td>\n",
       "      <td>C-1631</td>\n",
       "      <td>1</td>\n",
       "      <td>C-1641</td>\n",
       "      <td>1</td>\n",
       "      <td>NaN</td>\n",
       "      <td>NaN</td>\n",
       "      <td>NaN</td>\n",
       "      <td>NaN</td>\n",
       "      <td>NaN</td>\n",
       "      <td>NaN</td>\n",
       "      <td>NaN</td>\n",
       "      <td>NaN</td>\n",
       "      <td>NaN</td>\n",
       "      <td>NaN</td>\n",
       "    </tr>\n",
       "  </tbody>\n",
       "</table>\n",
       "</div>"
      ],
      "text/plain": [
       "                 component_id_1  quantity_1 component_id_2  quantity_2  \\\n",
       "tube_assembly_id                                                         \n",
       "TA-00001                 C-1622           2         C-1629           2   \n",
       "TA-00002                 C-1312           2            NaN         NaN   \n",
       "TA-00003                 C-1312           2            NaN         NaN   \n",
       "TA-00004                 C-1312           2            NaN         NaN   \n",
       "TA-00005                 C-1624           1         C-1631           1   \n",
       "\n",
       "                 component_id_3  quantity_3 component_id_4  quantity_4  \\\n",
       "tube_assembly_id                                                         \n",
       "TA-00001                    NaN         NaN            NaN         NaN   \n",
       "TA-00002                    NaN         NaN            NaN         NaN   \n",
       "TA-00003                    NaN         NaN            NaN         NaN   \n",
       "TA-00004                    NaN         NaN            NaN         NaN   \n",
       "TA-00005                 C-1641           1            NaN         NaN   \n",
       "\n",
       "                 component_id_5  quantity_5 component_id_6  quantity_6  \\\n",
       "tube_assembly_id                                                         \n",
       "TA-00001                    NaN         NaN            NaN         NaN   \n",
       "TA-00002                    NaN         NaN            NaN         NaN   \n",
       "TA-00003                    NaN         NaN            NaN         NaN   \n",
       "TA-00004                    NaN         NaN            NaN         NaN   \n",
       "TA-00005                    NaN         NaN            NaN         NaN   \n",
       "\n",
       "                 component_id_7  quantity_7 component_id_8  quantity_8  \n",
       "tube_assembly_id                                                        \n",
       "TA-00001                    NaN         NaN            NaN         NaN  \n",
       "TA-00002                    NaN         NaN            NaN         NaN  \n",
       "TA-00003                    NaN         NaN            NaN         NaN  \n",
       "TA-00004                    NaN         NaN            NaN         NaN  \n",
       "TA-00005                    NaN         NaN            NaN         NaN  "
      ]
     },
     "execution_count": 14,
     "metadata": {},
     "output_type": "execute_result"
    }
   ],
   "source": [
    "billdf = pd.read_csv(os.path.join(filepath,'bill_of_materials.csv'),header=0, index_col=0)\n",
    "billdf.head()"
   ]
  },
  {
   "cell_type": "code",
   "execution_count": 15,
   "metadata": {
    "collapsed": false
   },
   "outputs": [
    {
     "data": {
      "text/html": [
       "<div>\n",
       "<table border=\"1\" class=\"dataframe\">\n",
       "  <thead>\n",
       "    <tr style=\"text-align: right;\">\n",
       "      <th></th>\n",
       "      <th>material_id</th>\n",
       "      <th>diameter</th>\n",
       "      <th>wall</th>\n",
       "      <th>length</th>\n",
       "      <th>num_bends</th>\n",
       "      <th>bend_radius</th>\n",
       "      <th>end_a_1x</th>\n",
       "      <th>end_a_2x</th>\n",
       "      <th>end_x_1x</th>\n",
       "      <th>end_x_2x</th>\n",
       "      <th>end_a</th>\n",
       "      <th>end_x</th>\n",
       "      <th>num_boss</th>\n",
       "      <th>num_bracket</th>\n",
       "      <th>other</th>\n",
       "    </tr>\n",
       "    <tr>\n",
       "      <th>tube_assembly_id</th>\n",
       "      <th></th>\n",
       "      <th></th>\n",
       "      <th></th>\n",
       "      <th></th>\n",
       "      <th></th>\n",
       "      <th></th>\n",
       "      <th></th>\n",
       "      <th></th>\n",
       "      <th></th>\n",
       "      <th></th>\n",
       "      <th></th>\n",
       "      <th></th>\n",
       "      <th></th>\n",
       "      <th></th>\n",
       "      <th></th>\n",
       "    </tr>\n",
       "  </thead>\n",
       "  <tbody>\n",
       "    <tr>\n",
       "      <th>TA-00001</th>\n",
       "      <td>SP-0035</td>\n",
       "      <td>12.70</td>\n",
       "      <td>1.65</td>\n",
       "      <td>164</td>\n",
       "      <td>5</td>\n",
       "      <td>38.10</td>\n",
       "      <td>N</td>\n",
       "      <td>N</td>\n",
       "      <td>N</td>\n",
       "      <td>N</td>\n",
       "      <td>EF-003</td>\n",
       "      <td>EF-003</td>\n",
       "      <td>0</td>\n",
       "      <td>0</td>\n",
       "      <td>0</td>\n",
       "    </tr>\n",
       "    <tr>\n",
       "      <th>TA-00002</th>\n",
       "      <td>SP-0019</td>\n",
       "      <td>6.35</td>\n",
       "      <td>0.71</td>\n",
       "      <td>137</td>\n",
       "      <td>8</td>\n",
       "      <td>19.05</td>\n",
       "      <td>N</td>\n",
       "      <td>N</td>\n",
       "      <td>N</td>\n",
       "      <td>N</td>\n",
       "      <td>EF-008</td>\n",
       "      <td>EF-008</td>\n",
       "      <td>0</td>\n",
       "      <td>0</td>\n",
       "      <td>0</td>\n",
       "    </tr>\n",
       "    <tr>\n",
       "      <th>TA-00003</th>\n",
       "      <td>SP-0019</td>\n",
       "      <td>6.35</td>\n",
       "      <td>0.71</td>\n",
       "      <td>127</td>\n",
       "      <td>7</td>\n",
       "      <td>19.05</td>\n",
       "      <td>N</td>\n",
       "      <td>N</td>\n",
       "      <td>N</td>\n",
       "      <td>N</td>\n",
       "      <td>EF-008</td>\n",
       "      <td>EF-008</td>\n",
       "      <td>0</td>\n",
       "      <td>0</td>\n",
       "      <td>0</td>\n",
       "    </tr>\n",
       "    <tr>\n",
       "      <th>TA-00004</th>\n",
       "      <td>SP-0019</td>\n",
       "      <td>6.35</td>\n",
       "      <td>0.71</td>\n",
       "      <td>137</td>\n",
       "      <td>9</td>\n",
       "      <td>19.05</td>\n",
       "      <td>N</td>\n",
       "      <td>N</td>\n",
       "      <td>N</td>\n",
       "      <td>N</td>\n",
       "      <td>EF-008</td>\n",
       "      <td>EF-008</td>\n",
       "      <td>0</td>\n",
       "      <td>0</td>\n",
       "      <td>0</td>\n",
       "    </tr>\n",
       "    <tr>\n",
       "      <th>TA-00005</th>\n",
       "      <td>SP-0029</td>\n",
       "      <td>19.05</td>\n",
       "      <td>1.24</td>\n",
       "      <td>109</td>\n",
       "      <td>4</td>\n",
       "      <td>50.80</td>\n",
       "      <td>N</td>\n",
       "      <td>N</td>\n",
       "      <td>N</td>\n",
       "      <td>N</td>\n",
       "      <td>EF-003</td>\n",
       "      <td>EF-003</td>\n",
       "      <td>0</td>\n",
       "      <td>0</td>\n",
       "      <td>0</td>\n",
       "    </tr>\n",
       "  </tbody>\n",
       "</table>\n",
       "</div>"
      ],
      "text/plain": [
       "                 material_id  diameter  wall  length  num_bends  bend_radius  \\\n",
       "tube_assembly_id                                                               \n",
       "TA-00001             SP-0035     12.70  1.65     164          5        38.10   \n",
       "TA-00002             SP-0019      6.35  0.71     137          8        19.05   \n",
       "TA-00003             SP-0019      6.35  0.71     127          7        19.05   \n",
       "TA-00004             SP-0019      6.35  0.71     137          9        19.05   \n",
       "TA-00005             SP-0029     19.05  1.24     109          4        50.80   \n",
       "\n",
       "                 end_a_1x end_a_2x end_x_1x end_x_2x   end_a   end_x  \\\n",
       "tube_assembly_id                                                       \n",
       "TA-00001                N        N        N        N  EF-003  EF-003   \n",
       "TA-00002                N        N        N        N  EF-008  EF-008   \n",
       "TA-00003                N        N        N        N  EF-008  EF-008   \n",
       "TA-00004                N        N        N        N  EF-008  EF-008   \n",
       "TA-00005                N        N        N        N  EF-003  EF-003   \n",
       "\n",
       "                  num_boss  num_bracket  other  \n",
       "tube_assembly_id                                \n",
       "TA-00001                 0            0      0  \n",
       "TA-00002                 0            0      0  \n",
       "TA-00003                 0            0      0  \n",
       "TA-00004                 0            0      0  \n",
       "TA-00005                 0            0      0  "
      ]
     },
     "execution_count": 15,
     "metadata": {},
     "output_type": "execute_result"
    }
   ],
   "source": [
    "tubedf = pd.read_csv(os.path.join(filepath,'tube.csv'),header=0, index_col=0)\n",
    "tubedf.head()"
   ]
  },
  {
   "cell_type": "code",
   "execution_count": 21,
   "metadata": {
    "collapsed": false
   },
   "outputs": [],
   "source": [
    "traindf = pd.read_csv(os.path.join(filepath,'train_set.csv'), parse_dates = ['quote_date'], header=0, index_col=0)\n",
    "testdf = pd.read_csv(os.path.join(filepath,'test_set.csv'), parse_dates = ['quote_date'], header=0, index_col=0)"
   ]
  },
  {
   "cell_type": "code",
   "execution_count": 40,
   "metadata": {
    "collapsed": false
   },
   "outputs": [
    {
     "data": {
      "text/plain": [
       "<matplotlib.figure.Figure at 0x7f7dffa0b8d0>"
      ]
     },
     "metadata": {},
     "output_type": "display_data"
    },
    {
     "data": {
      "text/plain": [
       "<matplotlib.figure.Figure at 0x7f7dffa0b8d0>"
      ]
     },
     "metadata": {},
     "output_type": "display_data"
    },
    {
     "data": {
      "image/png": "[encoded data removed]",
      "text/plain": [
       "<matplotlib.figure.Figure at 0x7f7dff798350>"
      ]
     },
     "metadata": {},
     "output_type": "display_data"
    }
   ],
   "source": [
    "f = plt.figure()    \n",
    "traindf.hist()\n",
    "display(f)"
   ]
  },
  {
   "cell_type": "code",
   "execution_count": 52,
   "metadata": {
    "collapsed": false
   },
   "outputs": [
    {
     "data": {
      "text/html": [
       "<div>\n",
       "<table border=\"1\" class=\"dataframe\">\n",
       "  <thead>\n",
       "    <tr style=\"text-align: right;\">\n",
       "      <th></th>\n",
       "      <th>supplier</th>\n",
       "      <th>quote_date</th>\n",
       "      <th>annual_usage</th>\n",
       "      <th>min_order_quantity</th>\n",
       "      <th>bracket_pricing</th>\n",
       "      <th>quantity</th>\n",
       "      <th>cost</th>\n",
       "    </tr>\n",
       "    <tr>\n",
       "      <th>tube_assembly_id</th>\n",
       "      <th></th>\n",
       "      <th></th>\n",
       "      <th></th>\n",
       "      <th></th>\n",
       "      <th></th>\n",
       "      <th></th>\n",
       "      <th></th>\n",
       "    </tr>\n",
       "  </thead>\n",
       "  <tbody>\n",
       "    <tr>\n",
       "      <th>TA-00002</th>\n",
       "      <td>S-0066</td>\n",
       "      <td>2013-07-07</td>\n",
       "      <td>0</td>\n",
       "      <td>0</td>\n",
       "      <td>Yes</td>\n",
       "      <td>1</td>\n",
       "      <td>21.905933</td>\n",
       "    </tr>\n",
       "  </tbody>\n",
       "</table>\n",
       "</div>"
      ],
      "text/plain": [
       "                 supplier quote_date  annual_usage  min_order_quantity  \\\n",
       "tube_assembly_id                                                         \n",
       "TA-00002           S-0066 2013-07-07             0                   0   \n",
       "\n",
       "                 bracket_pricing  quantity       cost  \n",
       "tube_assembly_id                                       \n",
       "TA-00002                     Yes         1  21.905933  "
      ]
     },
     "execution_count": 52,
     "metadata": {},
     "output_type": "execute_result"
    }
   ],
   "source": [
    "traindf[0:1]"
   ]
  },
  {
   "cell_type": "markdown",
   "metadata": {},
   "source": [
    "# 1. Training Set Predictor Analyzation\n",
    "## 1.1 Analyzing dates\n",
    "### 1.1.1 Years\n",
    "First check for the years when the quotes  were made"
   ]
  },
  {
   "cell_type": "code",
   "execution_count": 65,
   "metadata": {
    "collapsed": false
   },
   "outputs": [
    {
     "data": {
      "text/plain": [
       "2013    20118\n",
       "2012     3358\n",
       "2014     1929\n",
       "2011     1641\n",
       "2008      478\n",
       "2010      419\n",
       "2009      410\n",
       "2007      400\n",
       "2006      229\n",
       "2002      187\n",
       "2005      180\n",
       "2004      170\n",
       "2000      156\n",
       "2001      146\n",
       "2003       91\n",
       "1999       79\n",
       "1997       63\n",
       "1996       47\n",
       "1998       29\n",
       "1995       28\n",
       "2015       22\n",
       "1994        9\n",
       "1982        6\n",
       "1993        4\n",
       "1992        3\n",
       "2016        3\n",
       "1988        2\n",
       "1989        2\n",
       "1991        2\n",
       "1987        1\n",
       "2017        1\n",
       "dtype: int64"
      ]
     },
     "execution_count": 65,
     "metadata": {},
     "output_type": "execute_result"
    }
   ],
   "source": [
    "years = [quote_date.year for quote_date in traindf['quote_date']]\n",
    "year_s = pd.Series(years, index=range(len(years)))\n",
    "year_s.value_counts()"
   ]
  },
  {
   "cell_type": "markdown",
   "metadata": {},
   "source": [
    "As can be seen the count statistics, overhelming quotes are for 2013. In the first pass, we consider year 2013 only."
   ]
  },
  {
   "cell_type": "code",
   "execution_count": 75,
   "metadata": {
    "collapsed": false
   },
   "outputs": [],
   "source": [
    "mask_2013 = [traindf.quote_date[i].year == 2013 for i in range(len(traindf.quote_date))]\n",
    "traindf_2013 = traindf[mask]"
   ]
  },
  {
   "cell_type": "code",
   "execution_count": 78,
   "metadata": {
    "collapsed": false
   },
   "outputs": [
    {
     "data": {
      "text/html": [
       "<div>\n",
       "<table border=\"1\" class=\"dataframe\">\n",
       "  <thead>\n",
       "    <tr style=\"text-align: right;\">\n",
       "      <th></th>\n",
       "      <th>annual_usage</th>\n",
       "      <th>min_order_quantity</th>\n",
       "      <th>quantity</th>\n",
       "      <th>cost</th>\n",
       "    </tr>\n",
       "  </thead>\n",
       "  <tbody>\n",
       "    <tr>\n",
       "      <th>count</th>\n",
       "      <td>20118.000000</td>\n",
       "      <td>20118.000000</td>\n",
       "      <td>20118.000000</td>\n",
       "      <td>20118.000000</td>\n",
       "    </tr>\n",
       "    <tr>\n",
       "      <th>mean</th>\n",
       "      <td>59.694204</td>\n",
       "      <td>1.167363</td>\n",
       "      <td>50.280396</td>\n",
       "      <td>10.101067</td>\n",
       "    </tr>\n",
       "    <tr>\n",
       "      <th>std</th>\n",
       "      <td>1337.088465</td>\n",
       "      <td>9.063707</td>\n",
       "      <td>76.819286</td>\n",
       "      <td>18.852463</td>\n",
       "    </tr>\n",
       "    <tr>\n",
       "      <th>min</th>\n",
       "      <td>0.000000</td>\n",
       "      <td>0.000000</td>\n",
       "      <td>1.000000</td>\n",
       "      <td>0.653784</td>\n",
       "    </tr>\n",
       "    <tr>\n",
       "      <th>25%</th>\n",
       "      <td>0.000000</td>\n",
       "      <td>0.000000</td>\n",
       "      <td>2.000000</td>\n",
       "      <td>3.499830</td>\n",
       "    </tr>\n",
       "    <tr>\n",
       "      <th>50%</th>\n",
       "      <td>0.000000</td>\n",
       "      <td>0.000000</td>\n",
       "      <td>10.000000</td>\n",
       "      <td>5.817285</td>\n",
       "    </tr>\n",
       "    <tr>\n",
       "      <th>75%</th>\n",
       "      <td>0.000000</td>\n",
       "      <td>0.000000</td>\n",
       "      <td>50.000000</td>\n",
       "      <td>11.826533</td>\n",
       "    </tr>\n",
       "    <tr>\n",
       "      <th>max</th>\n",
       "      <td>150000.000000</td>\n",
       "      <td>285.000000</td>\n",
       "      <td>400.000000</td>\n",
       "      <td>739.207002</td>\n",
       "    </tr>\n",
       "  </tbody>\n",
       "</table>\n",
       "</div>"
      ],
      "text/plain": [
       "        annual_usage  min_order_quantity      quantity          cost\n",
       "count   20118.000000        20118.000000  20118.000000  20118.000000\n",
       "mean       59.694204            1.167363     50.280396     10.101067\n",
       "std      1337.088465            9.063707     76.819286     18.852463\n",
       "min         0.000000            0.000000      1.000000      0.653784\n",
       "25%         0.000000            0.000000      2.000000      3.499830\n",
       "50%         0.000000            0.000000     10.000000      5.817285\n",
       "75%         0.000000            0.000000     50.000000     11.826533\n",
       "max    150000.000000          285.000000    400.000000    739.207002"
      ]
     },
     "execution_count": 78,
     "metadata": {},
     "output_type": "execute_result"
    }
   ],
   "source": [
    "traindf_2013.describe()"
   ]
  },
  {
   "cell_type": "code",
   "execution_count": 80,
   "metadata": {
    "collapsed": false
   },
   "outputs": [
    {
     "data": {
      "text/html": [
       "<div>\n",
       "<table border=\"1\" class=\"dataframe\">\n",
       "  <thead>\n",
       "    <tr style=\"text-align: right;\">\n",
       "      <th></th>\n",
       "      <th>supplier</th>\n",
       "      <th>quote_date</th>\n",
       "      <th>annual_usage</th>\n",
       "      <th>min_order_quantity</th>\n",
       "      <th>bracket_pricing</th>\n",
       "      <th>quantity</th>\n",
       "      <th>cost</th>\n",
       "    </tr>\n",
       "    <tr>\n",
       "      <th>tube_assembly_id</th>\n",
       "      <th></th>\n",
       "      <th></th>\n",
       "      <th></th>\n",
       "      <th></th>\n",
       "      <th></th>\n",
       "      <th></th>\n",
       "      <th></th>\n",
       "    </tr>\n",
       "  </thead>\n",
       "  <tbody>\n",
       "    <tr>\n",
       "      <th>TA-00002</th>\n",
       "      <td>S-0066</td>\n",
       "      <td>2013-07-07</td>\n",
       "      <td>0</td>\n",
       "      <td>0</td>\n",
       "      <td>Yes</td>\n",
       "      <td>1</td>\n",
       "      <td>21.905933</td>\n",
       "    </tr>\n",
       "  </tbody>\n",
       "</table>\n",
       "</div>"
      ],
      "text/plain": [
       "                 supplier quote_date  annual_usage  min_order_quantity  \\\n",
       "tube_assembly_id                                                         \n",
       "TA-00002           S-0066 2013-07-07             0                   0   \n",
       "\n",
       "                 bracket_pricing  quantity       cost  \n",
       "tube_assembly_id                                       \n",
       "TA-00002                     Yes         1  21.905933  "
      ]
     },
     "execution_count": 80,
     "metadata": {},
     "output_type": "execute_result"
    }
   ],
   "source": [
    "traindf_2013[0:1]"
   ]
  },
  {
   "cell_type": "markdown",
   "metadata": {},
   "source": [
    "### 1.1.2 Months\n",
    "Now lets see the statistics related to the months when the quotes were made"
   ]
  },
  {
   "cell_type": "code",
   "execution_count": 81,
   "metadata": {
    "collapsed": false
   },
   "outputs": [
    {
     "data": {
      "text/plain": [
       "8     4219\n",
       "7     3236\n",
       "6     3085\n",
       "10    2973\n",
       "9     2819\n",
       "5      875\n",
       "4      602\n",
       "2      571\n",
       "11     540\n",
       "12     436\n",
       "3      402\n",
       "1      360\n",
       "dtype: int64"
      ]
     },
     "execution_count": 81,
     "metadata": {},
     "output_type": "execute_result"
    }
   ],
   "source": [
    "months = [quote_date.month for quote_date in traindf_2013['quote_date']]\n",
    "month_s = pd.Series(months, index=range(len(months)))\n",
    "month_s.value_counts()"
   ]
  },
  {
   "cell_type": "markdown",
   "metadata": {},
   "source": [
    "The counts looks like some distribution curve. The appropriate question to tackle \n",
    "next is if quotes are made in different months with different price points keeping \n",
    "everything else constant."
   ]
  },
  {
   "cell_type": "code",
   "execution_count": 82,
   "metadata": {
    "collapsed": true
   },
   "outputs": [],
   "source": [
    "mask_jan = [traindf_2013.quote_date[i].month == 1 for i in range(len(traindf_2013.quote_date))]\n",
    "mask_feb = [traindf_2013.quote_date[i].month == 2 for i in range(len(traindf_2013.quote_date))]\n",
    "mask_mar = [traindf_2013.quote_date[i].month == 3 for i in range(len(traindf_2013.quote_date))]\n",
    "mask_apr = [traindf_2013.quote_date[i].month == 4 for i in range(len(traindf_2013.quote_date))]\n",
    "mask_may = [traindf_2013.quote_date[i].month == 5 for i in range(len(traindf_2013.quote_date))]\n",
    "mask_jun = [traindf_2013.quote_date[i].month == 6 for i in range(len(traindf_2013.quote_date))]\n",
    "mask_jul = [traindf_2013.quote_date[i].month == 7 for i in range(len(traindf_2013.quote_date))]\n",
    "mask_aug = [traindf_2013.quote_date[i].month == 8 for i in range(len(traindf_2013.quote_date))]\n",
    "mask_sep = [traindf_2013.quote_date[i].month == 9 for i in range(len(traindf_2013.quote_date))]\n",
    "mask_oct = [traindf_2013.quote_date[i].month == 10 for i in range(len(traindf_2013.quote_date))]\n",
    "mask_nov = [traindf_2013.quote_date[i].month == 11 for i in range(len(traindf_2013.quote_date))]\n",
    "mask_dec = [traindf_2013.quote_date[i].month == 12 for i in range(len(traindf_2013.quote_date))]\n",
    "\n",
    "traindf_2013_jan = traindf_2013[mask_jan]\n",
    "traindf_2013_feb = traindf_2013[mask_feb]\n",
    "traindf_2013_mar = traindf_2013[mask_mar]\n",
    "traindf_2013_apr = traindf_2013[mask_apr]\n",
    "traindf_2013_may = traindf_2013[mask_may]\n",
    "traindf_2013_jun = traindf_2013[mask_jun]\n",
    "traindf_2013_jul = traindf_2013[mask_jul]\n",
    "traindf_2013_aug = traindf_2013[mask_aug]\n",
    "traindf_2013_sep = traindf_2013[mask_sep]\n",
    "traindf_2013_oct = traindf_2013[mask_oct]\n",
    "traindf_2013_nov = traindf_2013[mask_nov]\n",
    "traindf_2013_dec = traindf_2013[mask_dec]"
   ]
  },
  {
   "cell_type": "code",
   "execution_count": 87,
   "metadata": {
    "collapsed": false
   },
   "outputs": [
    {
     "data": {
      "text/html": [
       "<div>\n",
       "<table border=\"1\" class=\"dataframe\">\n",
       "  <thead>\n",
       "    <tr style=\"text-align: right;\">\n",
       "      <th></th>\n",
       "      <th>supplier</th>\n",
       "      <th>quote_date</th>\n",
       "      <th>annual_usage</th>\n",
       "      <th>min_order_quantity</th>\n",
       "      <th>bracket_pricing</th>\n",
       "      <th>quantity</th>\n",
       "      <th>cost</th>\n",
       "    </tr>\n",
       "    <tr>\n",
       "      <th>tube_assembly_id</th>\n",
       "      <th></th>\n",
       "      <th></th>\n",
       "      <th></th>\n",
       "      <th></th>\n",
       "      <th></th>\n",
       "      <th></th>\n",
       "      <th></th>\n",
       "    </tr>\n",
       "  </thead>\n",
       "  <tbody>\n",
       "    <tr>\n",
       "      <th>TA-00228</th>\n",
       "      <td>S-0072</td>\n",
       "      <td>2013-01-16</td>\n",
       "      <td>25</td>\n",
       "      <td>1</td>\n",
       "      <td>Yes</td>\n",
       "      <td>1</td>\n",
       "      <td>11.851572</td>\n",
       "    </tr>\n",
       "  </tbody>\n",
       "</table>\n",
       "</div>"
      ],
      "text/plain": [
       "                 supplier quote_date  annual_usage  min_order_quantity  \\\n",
       "tube_assembly_id                                                         \n",
       "TA-00228           S-0072 2013-01-16            25                   1   \n",
       "\n",
       "                 bracket_pricing  quantity       cost  \n",
       "tube_assembly_id                                       \n",
       "TA-00228                     Yes         1  11.851572  "
      ]
     },
     "execution_count": 87,
     "metadata": {},
     "output_type": "execute_result"
    }
   ],
   "source": [
    "traindf_2013_jan[0:1]"
   ]
  },
  {
   "cell_type": "code",
   "execution_count": 99,
   "metadata": {
    "collapsed": false
   },
   "outputs": [],
   "source": [
    "jan_asmbly_id = traindf_2013_jan.index\n",
    "feb_asmbly_id = traindf_2013_feb.index\n",
    "mar_asmbly_id = traindf_2013_mar.index\n",
    "apr_asmbly_id = traindf_2013_apr.index\n",
    "may_asmbly_id = traindf_2013_may.index\n",
    "jun_asmbly_id = traindf_2013_jun.index\n",
    "jul_asmbly_id = traindf_2013_jul.index\n",
    "aug_asmbly_id = traindf_2013_aug.index\n",
    "sep_asmbly_id = traindf_2013_sep.index\n",
    "oct_asmbly_id = traindf_2013_oct.index\n",
    "nov_asmbly_id = traindf_2013_nov.index\n",
    "dec_asmbly_id = traindf_2013_dec.index"
   ]
  },
  {
   "cell_type": "code",
   "execution_count": 103,
   "metadata": {
    "collapsed": false
   },
   "outputs": [
    {
     "name": "stdout",
     "output_type": "stream",
     "text": [
      "TA-08132\n",
      "TA-11058\n"
     ]
    }
   ],
   "source": [
    "for key in feb_asmbly_id:\n",
    "    if key in jan_asmbly_id:\n",
    "        print key"
   ]
  },
  {
   "cell_type": "code",
   "execution_count": 105,
   "metadata": {
    "collapsed": false
   },
   "outputs": [
    {
     "data": {
      "text/html": [
       "<div>\n",
       "<table border=\"1\" class=\"dataframe\">\n",
       "  <thead>\n",
       "    <tr style=\"text-align: right;\">\n",
       "      <th></th>\n",
       "      <th>supplier</th>\n",
       "      <th>quote_date</th>\n",
       "      <th>annual_usage</th>\n",
       "      <th>min_order_quantity</th>\n",
       "      <th>bracket_pricing</th>\n",
       "      <th>quantity</th>\n",
       "      <th>cost</th>\n",
       "    </tr>\n",
       "    <tr>\n",
       "      <th>tube_assembly_id</th>\n",
       "      <th></th>\n",
       "      <th></th>\n",
       "      <th></th>\n",
       "      <th></th>\n",
       "      <th></th>\n",
       "      <th></th>\n",
       "      <th></th>\n",
       "    </tr>\n",
       "  </thead>\n",
       "  <tbody>\n",
       "    <tr>\n",
       "      <th>TA-11058</th>\n",
       "      <td>S-0072</td>\n",
       "      <td>2013-02-26</td>\n",
       "      <td>50</td>\n",
       "      <td>5</td>\n",
       "      <td>Yes</td>\n",
       "      <td>1</td>\n",
       "      <td>6.106620</td>\n",
       "    </tr>\n",
       "    <tr>\n",
       "      <th>TA-11058</th>\n",
       "      <td>S-0072</td>\n",
       "      <td>2013-01-16</td>\n",
       "      <td>50</td>\n",
       "      <td>5</td>\n",
       "      <td>Yes</td>\n",
       "      <td>1</td>\n",
       "      <td>5.558554</td>\n",
       "    </tr>\n",
       "  </tbody>\n",
       "</table>\n",
       "</div>"
      ],
      "text/plain": [
       "                 supplier quote_date  annual_usage  min_order_quantity  \\\n",
       "tube_assembly_id                                                         \n",
       "TA-11058           S-0072 2013-02-26            50                   5   \n",
       "TA-11058           S-0072 2013-01-16            50                   5   \n",
       "\n",
       "                 bracket_pricing  quantity      cost  \n",
       "tube_assembly_id                                      \n",
       "TA-11058                     Yes         1  6.106620  \n",
       "TA-11058                     Yes         1  5.558554  "
      ]
     },
     "execution_count": 105,
     "metadata": {},
     "output_type": "execute_result"
    }
   ],
   "source": [
    "traindf_2013.loc['TA-11058']"
   ]
  },
  {
   "cell_type": "markdown",
   "metadata": {},
   "source": [
    "The price quotes for tube assembly 'TA-11058' shows that multiple quotes with different price points were given\n",
    "in a single year in different months. So we can't treat the whole 2013 as the single time point. \n",
    "One approach would be to consider only the last quote in 2013 and ignore the rest. This can\n",
    "let us treat 2013 as single the point.\n",
    "Another approach would be consider all quotes in 2012, 2013 and 2014 years, \n",
    "and starting with 2012-01-01 as reference with a value 1, take the date of quote\n",
    "as another predictor variable with a value that is equal to the offset from 2011-12-31. \n",
    "\n",
    "### 1.1.3 Best option\n",
    "The second option to consider the date of quote as an integer using 2011-12-31 considered as reference with a value of 0 looks like the best choice.\n",
    "\n",
    "## 1.2 Analyzing Suppliers\n",
    "The objective is to see if there is a competition between multiple suppliers.\n",
    "If two or more suppliers are giving a price quote for a tube assembly within a window of \"X\" months, then \n",
    "it can be hypothesized that there exists multiplie suppliers for a componenet. \n"
   ]
  },
  {
   "cell_type": "code",
   "execution_count": 132,
   "metadata": {
    "collapsed": false
   },
   "outputs": [],
   "source": [
    "cnt = 0\n",
    "for index in sorted(list(set(traindf_2013.index))):\n",
    "    if isinstance(traindf_2013.loc[index]['supplier'],str):\n",
    "        continue\n",
    "    elif len(traindf_2013.loc[index]['supplier'].unique()) > 1:\n",
    "        print index\n",
    "    cnt += 1\n",
    "    if cnt > 99:\n",
    "        break"
   ]
  },
  {
   "cell_type": "markdown",
   "metadata": {},
   "source": [
    "The output is none. Hence for each tube assembly there is only one supplier in 2013. So we don't have worry about the issue of solo-supplier vs multi-supplier."
   ]
  },
  {
   "cell_type": "code",
   "execution_count": 146,
   "metadata": {
    "collapsed": false
   },
   "outputs": [
    {
     "data": {
      "text/plain": [
       "S-0066    17859\n",
       "S-0041      970\n",
       "S-0072      578\n",
       "S-0026      209\n",
       "S-0058      116\n",
       "S-0013      103\n",
       "S-0064       78\n",
       "S-0054       67\n",
       "S-0104       31\n",
       "S-0042       18\n",
       "dtype: int64"
      ]
     },
     "execution_count": 146,
     "metadata": {},
     "output_type": "execute_result"
    }
   ],
   "source": [
    "traindf_2013.supplier.value_counts()[0:10]"
   ]
  },
  {
   "cell_type": "markdown",
   "metadata": {},
   "source": [
    "Majority of the tubes are supplied by 'S-0066' supplier. Lets focus only that supplier in first round"
   ]
  },
  {
   "cell_type": "markdown",
   "metadata": {},
   "source": [
    "\n",
    "## 1.3 Annual usage"
   ]
  },
  {
   "cell_type": "code",
   "execution_count": 147,
   "metadata": {
    "collapsed": false
   },
   "outputs": [
    {
     "data": {
      "text/plain": [
       "0     16658\n",
       "1      1584\n",
       "5       170\n",
       "20      102\n",
       "50       61\n",
       "4        56\n",
       "2        47\n",
       "11       38\n",
       "40       34\n",
       "13       34\n",
       "dtype: int64"
      ]
     },
     "execution_count": 147,
     "metadata": {},
     "output_type": "execute_result"
    }
   ],
   "source": [
    "traindf_2013.annual_usage.value_counts()[0:10]"
   ]
  },
  {
   "cell_type": "markdown",
   "metadata": {},
   "source": [
    "The annual usage value for majority of quotes is zero. This implies annual usage can be safely ignored in the first round.\n",
    "\n",
    "## 1.4 Minimum order quantity"
   ]
  },
  {
   "cell_type": "code",
   "execution_count": 138,
   "metadata": {
    "collapsed": false
   },
   "outputs": [
    {
     "data": {
      "text/plain": [
       "0     18660\n",
       "1       755\n",
       "20      114\n",
       "10       70\n",
       "50       49\n",
       "5        46\n",
       "25       34\n",
       "30       29\n",
       "2        28\n",
       "4        28\n",
       "dtype: int64"
      ]
     },
     "execution_count": 138,
     "metadata": {},
     "output_type": "execute_result"
    }
   ],
   "source": [
    "traindf_2013.min_order_quantity.value_counts()[0:10]"
   ]
  },
  {
   "cell_type": "markdown",
   "metadata": {},
   "source": [
    "Again minimum order quantity is overwhelmingly zero. So it can also be ignored in the first round.\n",
    "\n",
    "## 1.5 Bracket Pricing"
   ]
  },
  {
   "cell_type": "code",
   "execution_count": 140,
   "metadata": {
    "collapsed": false
   },
   "outputs": [
    {
     "data": {
      "text/plain": [
       "count     20118\n",
       "unique        2\n",
       "top         Yes\n",
       "freq      19047\n",
       "Name: bracket_pricing, dtype: object"
      ]
     },
     "execution_count": 140,
     "metadata": {},
     "output_type": "execute_result"
    }
   ],
   "source": [
    "traindf_2013.bracket_pricing.describe()"
   ]
  },
  {
   "cell_type": "markdown",
   "metadata": {},
   "source": [
    "Nearly almost all quotes have bracket pricing. \n",
    "\n",
    "## 1.6 Predictor & Data pruning.\n",
    "\n",
    "For first round, we are removing the non-bracket pricing data from the model and retaining only supplier 'S-0066'.\n",
    "The predictors annual_usage and  min_order_quantity are also removed. All the data pertaining to the 4 predictors can be removed. For date use the offset from 2011-12-31. Applying these transformations to the data gives"
   ]
  },
  {
   "cell_type": "code",
   "execution_count": 153,
   "metadata": {
    "collapsed": false
   },
   "outputs": [
    {
     "name": "stdout",
     "output_type": "stream",
     "text": [
      "Data count before pruning bracket pricing 20118\n",
      "Data count after pruning for bracket pricing 19047\n",
      "Data count after pruning for supplier S-0066 17744\n"
     ]
    }
   ],
   "source": [
    "traindf_2013_prune1 = traindf_2013[traindf_2013.bracket_pricing == 'Yes']\n",
    "print 'Data count before pruning bracket pricing', len(traindf_2013)\n",
    "print 'Data count after pruning for bracket pricing', len(traindf_2013_prune1)\n",
    "traindf_2013_prune2 = traindf_2013_prune1[traindf_2013_prune1.supplier == 'S-0066']\n",
    "print 'Data count after pruning for supplier S-0066', len(traindf_2013_prune2)\n",
    "traindf_2013_prune3 = traindf_2013_prune2.loc[:,['quote_date','quantity','cost']]\n"
   ]
  },
  {
   "cell_type": "code",
   "execution_count": 155,
   "metadata": {
    "collapsed": false
   },
   "outputs": [
    {
     "data": {
      "text/html": [
       "<div>\n",
       "<table border=\"1\" class=\"dataframe\">\n",
       "  <thead>\n",
       "    <tr style=\"text-align: right;\">\n",
       "      <th></th>\n",
       "      <th>cost</th>\n",
       "      <th>quantity</th>\n",
       "      <th>quote_date</th>\n",
       "    </tr>\n",
       "    <tr>\n",
       "      <th>tube_assembly_id</th>\n",
       "      <th></th>\n",
       "      <th></th>\n",
       "      <th></th>\n",
       "    </tr>\n",
       "  </thead>\n",
       "  <tbody>\n",
       "    <tr>\n",
       "      <th>TA-00002</th>\n",
       "      <td>21.905933</td>\n",
       "      <td>1</td>\n",
       "      <td>188</td>\n",
       "    </tr>\n",
       "    <tr>\n",
       "      <th>TA-00002</th>\n",
       "      <td>12.341214</td>\n",
       "      <td>2</td>\n",
       "      <td>188</td>\n",
       "    </tr>\n",
       "  </tbody>\n",
       "</table>\n",
       "</div>"
      ],
      "text/plain": [
       "                       cost  quantity  quote_date\n",
       "tube_assembly_id                                 \n",
       "TA-00002          21.905933         1         188\n",
       "TA-00002          12.341214         2         188"
      ]
     },
     "execution_count": 155,
     "metadata": {},
     "output_type": "execute_result"
    }
   ],
   "source": [
    "from datetime import date\n",
    "days = [date.days for date in traindf_2013_prune3.quote_date - date(2012,12,31)]\n",
    "traindf_2013_prune = pd.DataFrame({'quote_date':days, 'quantity': traindf_2013_prune3.quantity, \n",
    "                                   'cost': traindf_2013_prune3.cost}, index=traindf_2013_prune3.index)\n",
    "traindf_2013_prune[0:2]\n"
   ]
  },
  {
   "cell_type": "markdown",
   "metadata": {},
   "source": [
    "Now to the above the tube assembly info is added\n",
    "\n",
    "# 2. Tube data predictor analysis"
   ]
  },
  {
   "cell_type": "code",
   "execution_count": 157,
   "metadata": {
    "collapsed": false
   },
   "outputs": [
    {
     "data": {
      "text/plain": [
       "Index([u'material_id', u'diameter', u'wall', u'length', u'num_bends',\n",
       "       u'bend_radius', u'end_a_1x', u'end_a_2x', u'end_x_1x', u'end_x_2x',\n",
       "       u'end_a', u'end_x', u'num_boss', u'num_bracket', u'other'],\n",
       "      dtype='object')"
      ]
     },
     "execution_count": 157,
     "metadata": {},
     "output_type": "execute_result"
    }
   ],
   "source": [
    "tubedf.columns"
   ]
  },
  {
   "cell_type": "markdown",
   "metadata": {},
   "source": [
    "Diameter, wall, length are obviously required and they are not null for any of the tube assemblies"
   ]
  },
  {
   "cell_type": "code",
   "execution_count": 177,
   "metadata": {
    "collapsed": false
   },
   "outputs": [
    {
     "data": {
      "text/plain": [
       "2    5030\n",
       "4    3614\n",
       "3    3316\n",
       "5    2313\n",
       "dtype: int64"
      ]
     },
     "execution_count": 177,
     "metadata": {},
     "output_type": "execute_result"
    }
   ],
   "source": [
    "tubedf.num_bends.value_counts()[0:4]"
   ]
  },
  {
   "cell_type": "markdown",
   "metadata": {},
   "source": [
    "Similarly num_bends and bend radius are essential"
   ]
  },
  {
   "cell_type": "code",
   "execution_count": 180,
   "metadata": {
    "collapsed": false
   },
   "outputs": [
    {
     "name": "stdout",
     "output_type": "stream",
     "text": [
      "737\n"
     ]
    },
    {
     "data": {
      "text/plain": [
       "0    20461\n",
       "1      583\n",
       "2      112\n",
       "dtype: int64"
      ]
     },
     "execution_count": 180,
     "metadata": {},
     "output_type": "execute_result"
    }
   ],
   "source": [
    "print len(tubedf.num_boss[tubedf.num_boss > 0])\n",
    "tubedf.num_boss.value_counts()[0:3]"
   ]
  },
  {
   "cell_type": "markdown",
   "metadata": {},
   "source": [
    "However looking at num_boss shows that most of the tubes are without bosses. So ignoring bosses in the first round."
   ]
  },
  {
   "cell_type": "code",
   "execution_count": 186,
   "metadata": {
    "collapsed": false
   },
   "outputs": [
    {
     "name": "stdout",
     "output_type": "stream",
     "text": [
      "119\n"
     ]
    },
    {
     "data": {
      "text/plain": [
       "0    21079\n",
       "1      102\n",
       "2       13\n",
       "3        2\n",
       "dtype: int64"
      ]
     },
     "execution_count": 186,
     "metadata": {},
     "output_type": "execute_result"
    }
   ],
   "source": [
    "print len(tubedf.num_bracket[tubedf.num_bracket > 0])\n",
    "tubedf.num_bracket.value_counts()[0:4]"
   ]
  },
  {
   "cell_type": "markdown",
   "metadata": {},
   "source": [
    "Very few tubes with brackets. So ignoring them in the first round"
   ]
  },
  {
   "cell_type": "code",
   "execution_count": 189,
   "metadata": {
    "collapsed": false
   },
   "outputs": [
    {
     "name": "stdout",
     "output_type": "stream",
     "text": [
      "367\n"
     ]
    },
    {
     "data": {
      "text/plain": [
       "0    20831\n",
       "1      290\n",
       "2       61\n",
       "3        7\n",
       "dtype: int64"
      ]
     },
     "execution_count": 189,
     "metadata": {},
     "output_type": "execute_result"
    }
   ],
   "source": [
    "print len(tubedf.other[tubedf.other > 0])\n",
    "tubedf.other.value_counts()[0:4]"
   ]
  },
  {
   "cell_type": "markdown",
   "metadata": {},
   "source": [
    "Ignoring the 'other' parameter as well"
   ]
  },
  {
   "cell_type": "code",
   "execution_count": null,
   "metadata": {
    "collapsed": true
   },
   "outputs": [],
   "source": []
  },
  {
   "cell_type": "markdown",
   "metadata": {},
   "source": [
    "## Create Training Set and Test Set\n",
    "\n",
    "As stated before, we will first focus on the `bill_of_materials.csv` and `tube.csv` files"
   ]
  },
  {
   "cell_type": "code",
   "execution_count": 8,
   "metadata": {
    "collapsed": true
   },
   "outputs": [],
   "source": [
    "train = pd.merge(traindf_2013_prune,billdf, on = 'tube_assembly_id')\n",
    "test = pd.merge(testdf,billdf, on = 'tube_assembly_id')\n",
    "train = pd.merge(train,tubedf, on = 'tube_assembly_id')\n",
    "test = pd.merge(test,tubedf, on = 'tube_assembly_id')"
   ]
  },
  {
   "cell_type": "markdown",
   "metadata": {},
   "source": [
    "## Cleaning data frames\n",
    "\n",
    "- Make a separate vector of cost for training\n",
    "- drop the 'id' column from test because it looks useless. It's basically the same thing as the index\n",
    "- replace NaN values in `quantity` columns with the value of 0\n",
    "- Keep in mind: There are `NaN` values in 'material_id' and 'component_id'. I did not touch them as requested.\n"
   ]
  },
  {
   "cell_type": "code",
   "execution_count": 95,
   "metadata": {
    "collapsed": false
   },
   "outputs": [],
   "source": [
    "cost = train['cost'].values\n",
    "train = train.drop('cost', axis = 1)\n",
    "test = test.drop('id',axis = 1)"
   ]
  },
  {
   "cell_type": "code",
   "execution_count": 96,
   "metadata": {
    "collapsed": false
   },
   "outputs": [
    {
     "name": "stdout",
     "output_type": "stream",
     "text": [
      "Train columns\n",
      "\n",
      "Index([u'tube_assembly_id', u'supplier', u'quote_date', u'annual_usage',\n",
      "       u'min_order_quantity', u'bracket_pricing', u'quantity',\n",
      "       u'component_id_1', u'quantity_1', u'component_id_2', u'quantity_2',\n",
      "       u'component_id_3', u'quantity_3', u'component_id_4', u'quantity_4',\n",
      "       u'component_id_5', u'quantity_5', u'component_id_6', u'quantity_6',\n",
      "       u'component_id_7', u'quantity_7', u'component_id_8', u'quantity_8',\n",
      "       u'material_id', u'diameter', u'wall', u'length', u'num_bends',\n",
      "       u'bend_radius', u'end_a_1x', u'end_a_2x', u'end_x_1x', u'end_x_2x',\n",
      "       u'end_a', u'end_x', u'num_boss', u'num_bracket', u'other'],\n",
      "      dtype='object')\n",
      "\n",
      "\n",
      "\n",
      "Test columns\n",
      "Index([u'tube_assembly_id', u'supplier', u'quote_date', u'annual_usage',\n",
      "       u'min_order_quantity', u'bracket_pricing', u'quantity',\n",
      "       u'component_id_1', u'quantity_1', u'component_id_2', u'quantity_2',\n",
      "       u'component_id_3', u'quantity_3', u'component_id_4', u'quantity_4',\n",
      "       u'component_id_5', u'quantity_5', u'component_id_6', u'quantity_6',\n",
      "       u'component_id_7', u'quantity_7', u'component_id_8', u'quantity_8',\n",
      "       u'material_id', u'diameter', u'wall', u'length', u'num_bends',\n",
      "       u'bend_radius', u'end_a_1x', u'end_a_2x', u'end_x_1x', u'end_x_2x',\n",
      "       u'end_a', u'end_x', u'num_boss', u'num_bracket', u'other'],\n",
      "      dtype='object')\n",
      "\n",
      "\n",
      "\n",
      "Train shape: (30213, 38)\n",
      "Test shape: (30235, 38)\n"
     ]
    }
   ],
   "source": [
    "print 'Train columns'\n",
    "print\n",
    "print train.columns\n",
    "print '\\n\\n'\n",
    "print 'Test columns'\n",
    "print test.columns\n",
    "print '\\n\\n'\n",
    "print 'Train shape:', train.shape\n",
    "print 'Test shape:', test.shape"
   ]
  },
  {
   "cell_type": "code",
   "execution_count": 97,
   "metadata": {
    "collapsed": false
   },
   "outputs": [
    {
     "data": {
      "text/html": [
       "<div>\n",
       "<table border=\"1\" class=\"dataframe\">\n",
       "  <thead>\n",
       "    <tr style=\"text-align: right;\">\n",
       "      <th></th>\n",
       "      <th>quantity</th>\n",
       "      <th>quantity_1</th>\n",
       "      <th>quantity_2</th>\n",
       "      <th>quantity_3</th>\n",
       "      <th>quantity_4</th>\n",
       "      <th>quantity_5</th>\n",
       "      <th>quantity_6</th>\n",
       "      <th>quantity_7</th>\n",
       "      <th>quantity_8</th>\n",
       "    </tr>\n",
       "  </thead>\n",
       "  <tbody>\n",
       "    <tr>\n",
       "      <th>0</th>\n",
       "      <td>1</td>\n",
       "      <td>2</td>\n",
       "      <td>0</td>\n",
       "      <td>0</td>\n",
       "      <td>0</td>\n",
       "      <td>0</td>\n",
       "      <td>0</td>\n",
       "      <td>0</td>\n",
       "      <td>0</td>\n",
       "    </tr>\n",
       "    <tr>\n",
       "      <th>1</th>\n",
       "      <td>2</td>\n",
       "      <td>2</td>\n",
       "      <td>0</td>\n",
       "      <td>0</td>\n",
       "      <td>0</td>\n",
       "      <td>0</td>\n",
       "      <td>0</td>\n",
       "      <td>0</td>\n",
       "      <td>0</td>\n",
       "    </tr>\n",
       "    <tr>\n",
       "      <th>2</th>\n",
       "      <td>5</td>\n",
       "      <td>2</td>\n",
       "      <td>0</td>\n",
       "      <td>0</td>\n",
       "      <td>0</td>\n",
       "      <td>0</td>\n",
       "      <td>0</td>\n",
       "      <td>0</td>\n",
       "      <td>0</td>\n",
       "    </tr>\n",
       "    <tr>\n",
       "      <th>3</th>\n",
       "      <td>10</td>\n",
       "      <td>2</td>\n",
       "      <td>0</td>\n",
       "      <td>0</td>\n",
       "      <td>0</td>\n",
       "      <td>0</td>\n",
       "      <td>0</td>\n",
       "      <td>0</td>\n",
       "      <td>0</td>\n",
       "    </tr>\n",
       "    <tr>\n",
       "      <th>4</th>\n",
       "      <td>25</td>\n",
       "      <td>2</td>\n",
       "      <td>0</td>\n",
       "      <td>0</td>\n",
       "      <td>0</td>\n",
       "      <td>0</td>\n",
       "      <td>0</td>\n",
       "      <td>0</td>\n",
       "      <td>0</td>\n",
       "    </tr>\n",
       "  </tbody>\n",
       "</table>\n",
       "</div>"
      ],
      "text/plain": [
       "   quantity  quantity_1  quantity_2  quantity_3  quantity_4  quantity_5  \\\n",
       "0         1           2           0           0           0           0   \n",
       "1         2           2           0           0           0           0   \n",
       "2         5           2           0           0           0           0   \n",
       "3        10           2           0           0           0           0   \n",
       "4        25           2           0           0           0           0   \n",
       "\n",
       "   quantity_6  quantity_7  quantity_8  \n",
       "0           0           0           0  \n",
       "1           0           0           0  \n",
       "2           0           0           0  \n",
       "3           0           0           0  \n",
       "4           0           0           0  "
      ]
     },
     "execution_count": 97,
     "metadata": {},
     "output_type": "execute_result"
    }
   ],
   "source": [
    "for x in range(6,23,2):\n",
    "    column = train.columns[x]\n",
    "    train[column] = train[column].replace('NaN',0)\n",
    "train.iloc[:,range(6,23,2)].head()    "
   ]
  },
  {
   "cell_type": "code",
   "execution_count": 98,
   "metadata": {
    "collapsed": false
   },
   "outputs": [
    {
     "data": {
      "text/html": [
       "<div>\n",
       "<table border=\"1\" class=\"dataframe\">\n",
       "  <thead>\n",
       "    <tr style=\"text-align: right;\">\n",
       "      <th></th>\n",
       "      <th>quantity</th>\n",
       "      <th>quantity_1</th>\n",
       "      <th>quantity_2</th>\n",
       "      <th>quantity_3</th>\n",
       "      <th>quantity_4</th>\n",
       "      <th>quantity_5</th>\n",
       "      <th>quantity_6</th>\n",
       "      <th>quantity_7</th>\n",
       "      <th>quantity_8</th>\n",
       "    </tr>\n",
       "  </thead>\n",
       "  <tbody>\n",
       "    <tr>\n",
       "      <th>0</th>\n",
       "      <td>1</td>\n",
       "      <td>2</td>\n",
       "      <td>2</td>\n",
       "      <td>0</td>\n",
       "      <td>0</td>\n",
       "      <td>0</td>\n",
       "      <td>0</td>\n",
       "      <td>0</td>\n",
       "      <td>0</td>\n",
       "    </tr>\n",
       "    <tr>\n",
       "      <th>1</th>\n",
       "      <td>2</td>\n",
       "      <td>2</td>\n",
       "      <td>2</td>\n",
       "      <td>0</td>\n",
       "      <td>0</td>\n",
       "      <td>0</td>\n",
       "      <td>0</td>\n",
       "      <td>0</td>\n",
       "      <td>0</td>\n",
       "    </tr>\n",
       "    <tr>\n",
       "      <th>2</th>\n",
       "      <td>5</td>\n",
       "      <td>2</td>\n",
       "      <td>2</td>\n",
       "      <td>0</td>\n",
       "      <td>0</td>\n",
       "      <td>0</td>\n",
       "      <td>0</td>\n",
       "      <td>0</td>\n",
       "      <td>0</td>\n",
       "    </tr>\n",
       "    <tr>\n",
       "      <th>3</th>\n",
       "      <td>10</td>\n",
       "      <td>2</td>\n",
       "      <td>2</td>\n",
       "      <td>0</td>\n",
       "      <td>0</td>\n",
       "      <td>0</td>\n",
       "      <td>0</td>\n",
       "      <td>0</td>\n",
       "      <td>0</td>\n",
       "    </tr>\n",
       "    <tr>\n",
       "      <th>4</th>\n",
       "      <td>25</td>\n",
       "      <td>2</td>\n",
       "      <td>2</td>\n",
       "      <td>0</td>\n",
       "      <td>0</td>\n",
       "      <td>0</td>\n",
       "      <td>0</td>\n",
       "      <td>0</td>\n",
       "      <td>0</td>\n",
       "    </tr>\n",
       "  </tbody>\n",
       "</table>\n",
       "</div>"
      ],
      "text/plain": [
       "   quantity  quantity_1  quantity_2  quantity_3  quantity_4  quantity_5  \\\n",
       "0         1           2           2           0           0           0   \n",
       "1         2           2           2           0           0           0   \n",
       "2         5           2           2           0           0           0   \n",
       "3        10           2           2           0           0           0   \n",
       "4        25           2           2           0           0           0   \n",
       "\n",
       "   quantity_6  quantity_7  quantity_8  \n",
       "0           0           0           0  \n",
       "1           0           0           0  \n",
       "2           0           0           0  \n",
       "3           0           0           0  \n",
       "4           0           0           0  "
      ]
     },
     "execution_count": 98,
     "metadata": {},
     "output_type": "execute_result"
    }
   ],
   "source": [
    "for x in range(6,23,2):\n",
    "    column = test.columns[x]\n",
    "    test[column] = test[column].replace('NaN',0)\n",
    "test.iloc[:,range(6,23,2)].head()  "
   ]
  },
  {
   "cell_type": "markdown",
   "metadata": {},
   "source": [
    "## Other processing\n",
    "\n",
    "I found that scikit-learn does not handle strings in categorical data well.\n",
    "[link here on kaggle](https://www.kaggle.com/c/titanic/forums/t/5379/handling-categorical-data-with-sklearn)\n",
    "\n",
    "I'll use the LabelEncoder method as well. I won't touch the `NaN` or 'quote_date' values. Feel free to use what I did above, which is what you asked for."
   ]
  },
  {
   "cell_type": "code",
   "execution_count": 102,
   "metadata": {
    "collapsed": false
   },
   "outputs": [],
   "source": [
    "from sklearn import preprocessing\n",
    "le = sklearn.preprocessing.LabelEncoder()\n",
    "for x in [0, 1, 5, 7, 9, 11, 13, 15, 17, 19, 21, 22, 28, 29, 30, 31, 32, 33, 34]:\n",
    "    col = train.columns[x]\n",
    "    train[col] = le.fit_transform(train[col])\n",
    "    test[col] = le.fit_transform(test[col])"
   ]
  },
  {
   "cell_type": "code",
   "execution_count": 105,
   "metadata": {
    "collapsed": false
   },
   "outputs": [
    {
     "name": "stdout",
     "output_type": "stream",
     "text": [
      "643\n",
      "(30213, 38)\n"
     ]
    }
   ],
   "source": [
    "print len(train.component_id_1.unique())\n",
    "print train.shape"
   ]
  },
  {
   "cell_type": "code",
   "execution_count": null,
   "metadata": {
    "collapsed": true
   },
   "outputs": [],
   "source": []
  }
 ],
 "metadata": {
  "kernelspec": {
   "display_name": "Python 2",
   "language": "python",
   "name": "python2"
  },
  "language_info": {
   "codemirror_mode": {
    "name": "ipython",
    "version": 2
   },
   "file_extension": ".py",
   "mimetype": "text/x-python",
   "name": "python",
   "nbconvert_exporter": "python",
   "pygments_lexer": "ipython2",
   "version": "2.7.9"
  }
 },
 "nbformat": 4,
 "nbformat_minor": 0
}
