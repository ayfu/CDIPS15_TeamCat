{
 "cells": [
  {
   "cell_type": "markdown",
   "metadata": {},
   "source": [
    "# Gradient boosting\n",
    "In this model generation, I explore gradient boosting\n",
    "\n",
    "In addition, the component ids are decomposed by Jingyi into component types \n",
    "and the related info."
   ]
  },
  {
   "cell_type": "code",
   "execution_count": 31,
   "metadata": {
    "collapsed": false
   },
   "outputs": [],
   "source": [
    "%matplotlib inline\n",
    "import os, glob\n",
    "import pandas as pd\n",
    "import numpy as np\n",
    "from sklearn import linear_model\n",
    "from sklearn.preprocessing import OneHotEncoder, LabelEncoder\n",
    "from sklearn.ensemble import GradientBoostingRegressor\n",
    "import matplotlib.pyplot as plt\n",
    "from IPython.display import display\n",
    "from pyearth import Earth"
   ]
  },
  {
   "cell_type": "code",
   "execution_count": 32,
   "metadata": {
    "collapsed": false
   },
   "outputs": [],
   "source": [
    "train = pd.read_csv(os.path.join('..','competition_data','train2.csv'),header=0,index_col=1)"
   ]
  },
  {
   "cell_type": "code",
   "execution_count": 33,
   "metadata": {
    "collapsed": false
   },
   "outputs": [
    {
     "data": {
      "text/plain": [
       "Index([u'Unnamed: 0', u'tube_assembly_id', u'supplier', u'bracket_pricing',\n",
       "       u'quantity', u'cost', u'component_id_1_name', u'quantity_1',\n",
       "       u'component_id_2_name', u'quantity_2', u'component_id_3_name',\n",
       "       u'quantity_3', u'material_id', u'diameter', u'wall', u'length',\n",
       "       u'num_bends', u'bend_radius', u'end_a_2x', u'end_x_2x', u'end_a',\n",
       "       u'end_x', u'year', u'month', u'day'],\n",
       "      dtype='object')"
      ]
     },
     "execution_count": 33,
     "metadata": {},
     "output_type": "execute_result"
    }
   ],
   "source": [
    "train.columns"
   ]
  },
  {
   "cell_type": "code",
   "execution_count": 34,
   "metadata": {
    "collapsed": false
   },
   "outputs": [
    {
     "data": {
      "text/html": [
       "<div>\n",
       "<table border=\"1\" class=\"dataframe\">\n",
       "  <thead>\n",
       "    <tr style=\"text-align: right;\">\n",
       "      <th></th>\n",
       "      <th>Unnamed: 0</th>\n",
       "      <th>tube_assembly_id</th>\n",
       "      <th>supplier</th>\n",
       "      <th>bracket_pricing</th>\n",
       "      <th>quantity</th>\n",
       "      <th>cost</th>\n",
       "      <th>component_id_1_name</th>\n",
       "      <th>quantity_1</th>\n",
       "      <th>component_id_2_name</th>\n",
       "      <th>quantity_2</th>\n",
       "      <th>...</th>\n",
       "      <th>length</th>\n",
       "      <th>num_bends</th>\n",
       "      <th>bend_radius</th>\n",
       "      <th>end_a_2x</th>\n",
       "      <th>end_x_2x</th>\n",
       "      <th>end_a</th>\n",
       "      <th>end_x</th>\n",
       "      <th>year</th>\n",
       "      <th>month</th>\n",
       "      <th>day</th>\n",
       "    </tr>\n",
       "  </thead>\n",
       "  <tbody>\n",
       "    <tr>\n",
       "      <th>0</th>\n",
       "      <td>0</td>\n",
       "      <td>TA-00002</td>\n",
       "      <td>S-0066</td>\n",
       "      <td>Yes</td>\n",
       "      <td>1</td>\n",
       "      <td>21.905933</td>\n",
       "      <td>NUT-FLARED</td>\n",
       "      <td>2</td>\n",
       "      <td>NaN</td>\n",
       "      <td>0</td>\n",
       "      <td>...</td>\n",
       "      <td>137</td>\n",
       "      <td>8</td>\n",
       "      <td>19.05</td>\n",
       "      <td>N</td>\n",
       "      <td>N</td>\n",
       "      <td>EF-008</td>\n",
       "      <td>EF-008</td>\n",
       "      <td>2013</td>\n",
       "      <td>7</td>\n",
       "      <td>919</td>\n",
       "    </tr>\n",
       "  </tbody>\n",
       "</table>\n",
       "<p>1 rows × 25 columns</p>\n",
       "</div>"
      ],
      "text/plain": [
       "   Unnamed: 0 tube_assembly_id supplier bracket_pricing  quantity       cost  \\\n",
       "0           0         TA-00002   S-0066             Yes         1  21.905933   \n",
       "\n",
       "  component_id_1_name  quantity_1 component_id_2_name  quantity_2 ...  length  \\\n",
       "0          NUT-FLARED           2                 NaN           0 ...     137   \n",
       "\n",
       "   num_bends bend_radius  end_a_2x  end_x_2x   end_a   end_x  year month  day  \n",
       "0          8       19.05         N         N  EF-008  EF-008  2013     7  919  \n",
       "\n",
       "[1 rows x 25 columns]"
      ]
     },
     "execution_count": 34,
     "metadata": {},
     "output_type": "execute_result"
    }
   ],
   "source": [
    "train[0:1]"
   ]
  },
  {
   "cell_type": "markdown",
   "metadata": {},
   "source": [
    "In the predictor data, the first two columns are unnecessary."
   ]
  },
  {
   "cell_type": "code",
   "execution_count": 35,
   "metadata": {
    "collapsed": true
   },
   "outputs": [],
   "source": [
    "trainp = train.loc[:,['quantity', \n",
    "                      'component_id_1_name','quantity_1',\n",
    "                      'component_id_2_name','quantity_2',\n",
    "                      'component_id_3_name','quantity_3',\n",
    "                      'material_id','diameter','wall','length',\n",
    "                      'num_bends','bend_radius','end_a_2x',\n",
    "                      'end_x_2x','end_a','end_x','year',\n",
    "                      'month','day','cost']]"
   ]
  },
  {
   "cell_type": "markdown",
   "metadata": {},
   "source": [
    "## Categorical variables pruning\n",
    "The categorical variables such as material_id, component_id_x_name, \n",
    "end_x, end_a with string categories are converted to integer\n",
    "labels. The values with high frequencies are retained and the low\n",
    "frequency values (<100) are all combined into a single value"
   ]
  },
  {
   "cell_type": "code",
   "execution_count": 41,
   "metadata": {
    "collapsed": false
   },
   "outputs": [
    {
     "name": "stdout",
     "output_type": "stream",
     "text": [
      "NUT-SWIVEL         9364\n",
      "NUT-FLARED         4774\n",
      "CONNECTOR-SEAL     1131\n",
      "NUT                1130\n",
      "NUT-INV FLARED      758\n",
      "SLEEVE-ORFS         174\n",
      "CONNECTOR           159\n",
      "FLANGE              135\n",
      "HEAD-FLANGED         96\n",
      "BOSS                 93\n",
      "ELBOW                85\n",
      "SLEEVE               85\n",
      "SLEEVE-FITTING       79\n",
      "FLANGE-ONE PIEC      66\n",
      "ELBOW-90 DEG         62\n",
      "ELBOW-FLARED         48\n",
      "dtype: int64\n",
      "SLEEVE-ORFS         8873\n",
      "SLEEVE-FLARED        886\n",
      "SLEEVE               860\n",
      "NUT-SWIVEL           564\n",
      "CONNECTOR-SEAL       322\n",
      "ELBOW-90 DEG         149\n",
      "SLEEVE-FACE SEAL     132\n",
      "NUT                  109\n",
      "NUT-FITTING           79\n",
      "dtype: int64\n",
      "CONNECTOR-SEAL    2727\n",
      "SLEEVE-ORFS        445\n",
      "ELBOW-90 DEG       271\n",
      "CONNECTOR          144\n",
      "SLEEVE-REDUCER      91\n",
      "dtype: int64\n"
     ]
    }
   ],
   "source": [
    "print trainp.component_id_1_name.value_counts()[0:16]\n",
    "print trainp.component_id_2_name.value_counts()[0:9]\n",
    "print trainp.component_id_3_name.value_counts()[0:5]"
   ]
  },
  {
   "cell_type": "code",
   "execution_count": 37,
   "metadata": {
    "collapsed": false
   },
   "outputs": [
    {
     "name": "stdout",
     "output_type": "stream",
     "text": [
      "477\n",
      "6321\n",
      "14741\n"
     ]
    }
   ],
   "source": [
    "print sum(trainp.component_id_1_name.isnull().values)\n",
    "print sum(trainp.component_id_2_name.isnull().values)\n",
    "print sum(trainp.component_id_3_name.isnull().values)"
   ]
  },
  {
   "cell_type": "code",
   "execution_count": null,
   "metadata": {
    "collapsed": true
   },
   "outputs": [],
   "source": []
  },
  {
   "cell_type": "code",
   "execution_count": 39,
   "metadata": {
    "collapsed": false
   },
   "outputs": [
    {
     "name": "stdout",
     "output_type": "stream",
     "text": [
      "[nan 'ADAPTER' 'ADAPTER-EXH PIP' 'ADAPTER-INLET' 'ADAPTER-O DRAIN'\n",
      " 'ADAPTER-SUPPLY' 'BAR' 'BLOCK' 'BLOCK-DRAIN' 'BOSS' 'COLLAR' 'CONNECTOR'\n",
      " 'CONNECTOR-FLARE' 'CONNECTOR-ORFS' 'CONNECTOR-SEAL' 'CONNECTOR-SPL'\n",
      " 'CONNECTOR-WELD' 'COUPLET' 'COUPLET-WELD' 'COUPLING (1\"BSP)' 'COUPLING AS'\n",
      " 'ELBOW' 'ELBOW-90 DEG' 'ELBOW-90 DEGREE' 'ELBOW-FLARED' 'ELBOW-HYDRAULIC'\n",
      " 'ELBOW-MANF IN' 'ELBOW-WATER' 'FITTING' 'FITTING-NUT' 'FLANGE'\n",
      " 'FLANGE-ONE PIEC' 'FLANGE-ONE PIECE' 'FLANGE-SPL' 'HEAD-FLANGED' 'LINK'\n",
      " 'MANIFOLD' 'NUT' 'NUT-45 (DEG)' 'NUT-A/C' 'NUT-FITTING' 'NUT-FLARED'\n",
      " 'NUT-INV FLARED' 'NUT-SWIVEL' 'ORIFICE' 'PLATE' 'SEAL-O-RING' 'SLEEVE'\n",
      " 'SLEEVE-FITTING' 'SLEEVE-ORFS' 'TEE-UNION' 'WASHER']\n",
      "defaultdict(<type 'int'>, {0: 477, 1: 26, 2: 2, 3: 1, 4: 3, 5: 8, 6: 3, 7: 1, 8: 3, 9: 93, 10: 4, 11: 159, 12: 32, 13: 8, 14: 1131, 15: 8, 16: 40, 17: 3, 18: 6, 19: 4, 20: 13, 21: 85, 22: 62, 23: 8, 24: 48, 25: 16, 26: 2, 27: 1, 28: 43, 29: 8, 30: 135, 31: 66, 32: 4, 33: 8, 34: 96, 35: 1, 36: 8, 37: 1130, 38: 40, 39: 8, 40: 24, 41: 4774, 42: 758, 43: 9364, 44: 6, 45: 10, 46: 2, 47: 85, 48: 79, 49: 174, 50: 8, 51: 8})\n",
      "defaultdict(<type 'int'>, {0: 477, 1: 984, 11: 159, 37: 1130, 41: 4774, 42: 758, 43: 9364, 14: 1131, 49: 174, 30: 135})\n"
     ]
    }
   ],
   "source": [
    "lbl_enc = LabelEncoder()\n",
    "lbl_enc.fit(trainp.component_id_1_name.values)  \n",
    "print lbl_enc.classes_\n",
    "comp_id1_trans = lbl_enc.transform(trainp.component_id_1_name.values)\n",
    "from collections import defaultdict\n",
    "d = defaultdict(int)\n",
    "for i in comp_id1_trans:\n",
    "    d[i] += 1\n",
    "print d\n",
    "\n",
    "\n",
    "for i in range(len(comp_id1_trans)):\n",
    "    if d[comp_id1_trans[i]] < 135:\n",
    "        comp_id1_trans[i] = 1 \n",
    "\n",
    "d1 = defaultdict(int)\n",
    "for i in comp_id1_trans:\n",
    "    d1[i] += 1\n",
    "\n",
    "print d1"
   ]
  },
  {
   "cell_type": "code",
   "execution_count": 42,
   "metadata": {
    "collapsed": false
   },
   "outputs": [
    {
     "name": "stdout",
     "output_type": "stream",
     "text": [
      "[nan 'ADAPTER' 'ADAPTER-INLET' 'ADAPTER-O RING' 'BLOCK' 'BOSS'\n",
      " 'BOSS-FITTING' 'CONNECTOR' 'CONNECTOR-BHD' 'CONNECTOR-FLARE'\n",
      " 'CONNECTOR-O-RIN' 'CONNECTOR-ORFS' 'CONNECTOR-SEAL' 'CONNECTOR-SPL'\n",
      " 'CONNECTOR-SWIVEL' 'CONNECTOR-WELD' 'ELBOW' 'ELBOW-90 DEG'\n",
      " 'ELBOW-90 DEGREE' 'ELBOW-90 DEGREES' 'ELBOW-HYDRAULIC' 'FLANGE'\n",
      " 'FLANGE-4 BOLT' 'FLANGE-CAPTIVE' 'FLANGE-ONE PIEC' 'FLANGE-SADDLE'\n",
      " 'FLANGE-WELD' 'HEAD O-RING' 'HEAD-FLANGED' 'LINK' 'NUT' 'NUT-45 (DEG)'\n",
      " 'NUT-A/C' 'NUT-FITTING' 'NUT-FLARED' 'NUT-SWIVEL' 'PIN-DOWEL' 'PLATE'\n",
      " 'PLUG' 'PLUG-O-RING' 'REDUCER' 'SLEEEVE-REDUCER' 'SLEEVE'\n",
      " 'SLEEVE-FACE SEAL' 'SLEEVE-FITTING' 'SLEEVE-FLARED' 'SLEEVE-ORFS'\n",
      " 'SLEEVE-REDUCER' 'STUD-WELD' 'TEE-ORFS TO BRA' 'TUBE' 'TUBE AS']\n",
      "defaultdict(<type 'int'>, {0: 6321, 1: 32, 2: 3, 3: 8, 4: 8, 5: 23, 6: 6, 7: 72, 8: 19, 9: 56, 10: 6, 11: 16, 12: 322, 13: 19, 14: 40, 15: 29, 16: 55, 17: 149, 18: 16, 19: 2, 20: 8, 21: 38, 22: 6, 23: 8, 24: 18, 25: 3, 26: 5, 27: 8, 28: 38, 29: 6, 30: 109, 31: 8, 32: 8, 33: 79, 34: 48, 35: 564, 36: 8, 37: 4, 38: 4, 39: 2, 40: 4, 41: 38, 42: 860, 43: 132, 44: 24, 45: 886, 46: 8873, 47: 72, 48: 3, 49: 8, 50: 4, 51: 8})\n",
      "defaultdict(<type 'int'>, {0: 6321, 1: 870, 35: 564, 42: 860, 43: 132, 12: 322, 45: 886, 46: 8873, 17: 149, 30: 109})\n"
     ]
    }
   ],
   "source": [
    "lbl_enc = LabelEncoder()\n",
    "lbl_enc.fit(trainp.component_id_2_name.values)  \n",
    "print lbl_enc.classes_\n",
    "comp_id2_trans = lbl_enc.transform(trainp.component_id_2_name.values)\n",
    "from collections import defaultdict\n",
    "d = defaultdict(int)\n",
    "for i in comp_id2_trans:\n",
    "    d[i] += 1\n",
    "print d\n",
    "for i in range(len(comp_id2_trans)):\n",
    "    if d[comp_id2_trans[i]] < 109:\n",
    "        comp_id2_trans[i] = 1 \n",
    "\n",
    "d2 = defaultdict(int)\n",
    "for i in comp_id2_trans:\n",
    "    d2[i] += 1\n",
    "\n",
    "print d2"
   ]
  },
  {
   "cell_type": "code",
   "execution_count": 43,
   "metadata": {
    "collapsed": false
   },
   "outputs": [
    {
     "name": "stdout",
     "output_type": "stream",
     "text": [
      "[nan 'ADAPTER' 'ADAPTER-O LINE' 'ADAPTER-O SUPPL' 'ADAPTER-OIL LIN' 'BLOCK'\n",
      " 'BLOCK-HYD' 'BOSS' 'CONNECTOR' 'CONNECTOR-BHD' 'CONNECTOR-ORFS'\n",
      " 'CONNECTOR-SEAL' 'CONNECTOR-SPL' 'CONNECTOR-WELD' 'ELBOW' 'ELBOW-37 (DEG)'\n",
      " 'ELBOW-90 (DEG)' 'ELBOW-90 DEG' 'ELBOW-90 DEGREE' 'ELBOW-HYDRAULIC'\n",
      " 'FITTING' 'FLANGE' 'FLANGE-ONE PC' 'FLANGE-ONE PIEC' 'FLANGE-ONE PIECE'\n",
      " 'HEAD FLANGED' 'HEAD-FLANGED' 'NUT-ORFS' 'NUT-SWIVEL' 'PLATE' 'PLUG-STOR'\n",
      " 'SLEEVE' 'SLEEVE-FLARED' 'SLEEVE-ORFS' 'SLEEVE-REDUCER' 'TEE-FLARED'\n",
      " 'TUBE' 'TUBE AS.']\n",
      "defaultdict(<type 'int'>, {0: 14741, 1: 8, 2: 8, 3: 8, 4: 7, 5: 47, 6: 8, 7: 40, 8: 144, 9: 71, 10: 72, 11: 2727, 12: 16, 13: 64, 14: 35, 15: 16, 16: 20, 17: 271, 18: 24, 19: 4, 20: 8, 21: 32, 22: 2, 23: 1, 24: 4, 25: 8, 26: 16, 27: 7, 28: 48, 29: 5, 30: 2, 31: 35, 32: 32, 33: 445, 34: 91, 35: 8, 36: 3, 37: 8})\n",
      "defaultdict(<type 'int'>, {0: 14741, 33: 445, 1: 758, 8: 144, 11: 2727, 17: 271})\n"
     ]
    }
   ],
   "source": [
    "lbl_enc3 = LabelEncoder()\n",
    "lbl_enc3.fit(trainp.component_id_3_name.values)  \n",
    "print lbl_enc3.classes_\n",
    "comp_id3_trans = lbl_enc3.transform(trainp.component_id_3_name.values)\n",
    "from collections import defaultdict\n",
    "d = defaultdict(int)\n",
    "for i in comp_id3_trans:\n",
    "    d[i] += 1\n",
    "print d\n",
    "for i in range(len(comp_id3_trans)):\n",
    "    if d[comp_id3_trans[i]] < 100:\n",
    "        comp_id3_trans[i] = 1 \n",
    "\n",
    "d3 = defaultdict(int)\n",
    "for i in comp_id3_trans:\n",
    "    d3[i] += 1\n",
    "\n",
    "print d3"
   ]
  },
  {
   "cell_type": "code",
   "execution_count": 44,
   "metadata": {
    "collapsed": true
   },
   "outputs": [],
   "source": [
    "comp_id1_trans = np.expand_dims(comp_id1_trans,axis=1)\n",
    "comp_id2_trans = np.expand_dims(comp_id2_trans,axis=1)\n",
    "comp_id3_trans = np.expand_dims(comp_id3_trans,axis=1)\n",
    "#enc_comp_id1 = OneHotEncoder()\n",
    "#enc_comp_id1.fit(  \n",
    "#print enc_comp_id1.n_values_\n",
    "#enc_end.feature_indices_\n",
    "#end_trans = enc_end.transform(end_vals).toarray()\n",
    "#np.shape(end_trans)"
   ]
  },
  {
   "cell_type": "code",
   "execution_count": 45,
   "metadata": {
    "collapsed": false
   },
   "outputs": [
    {
     "data": {
      "text/plain": [
       "SP-0029    10117\n",
       "SP-0035     3222\n",
       "SP-0039     2614\n",
       "SP-0019     2407\n",
       "SP-0028      572\n",
       "SP-0036       48\n",
       "SP-0046       29\n",
       "SP-0048        9\n",
       "SP-0033        6\n",
       "SP-0030        6\n",
       "SP-0038        2\n",
       "SP-0031        2\n",
       "SP-0037        2\n",
       "dtype: int64"
      ]
     },
     "execution_count": 45,
     "metadata": {},
     "output_type": "execute_result"
    }
   ],
   "source": [
    "trainp.material_id.value_counts()"
   ]
  },
  {
   "cell_type": "markdown",
   "metadata": {},
   "source": [
    "The first four material ids have high frequencies. Its better to assign those 4 to \n",
    "different values and group the rest into a single value"
   ]
  },
  {
   "cell_type": "code",
   "execution_count": 46,
   "metadata": {
    "collapsed": false
   },
   "outputs": [
    {
     "name": "stderr",
     "output_type": "stream",
     "text": [
      "/Users/mbkumar/venv2/lib/python2.7/site-packages/IPython/kernel/__main__.py:9: SettingWithCopyWarning: \n",
      "A value is trying to be set on a copy of a slice from a DataFrame\n",
      "\n",
      "See the the caveats in the documentation: http://pandas.pydata.org/pandas-docs/stable/indexing.html#indexing-view-versus-copy\n",
      "/Users/mbkumar/venv2/lib/python2.7/site-packages/IPython/kernel/__main__.py:10: SettingWithCopyWarning: \n",
      "A value is trying to be set on a copy of a slice from a DataFrame\n",
      "\n",
      "See the the caveats in the documentation: http://pandas.pydata.org/pandas-docs/stable/indexing.html#indexing-view-versus-copy\n"
     ]
    }
   ],
   "source": [
    "material_id_map = {'SP-0029': 0, 'SP-0035': 1, 'SP-0039': 2,\n",
    "                   'SP-0019': 3, 'SP-0028': 5, 'SP-0036': 4,\n",
    "                   'SP-0046': 4, 'SP-0048': 4, 'SP-0033': 4,\n",
    "                   'SP-0030': 4, 'SP-0038': 4, 'SP-0031': 4, \n",
    "                   'SP-0037': 4, \n",
    "                  }\n",
    "trainp1 = trainp.copy()\n",
    "for key,value in material_id_map.items():\n",
    "    trainp1.material_id[trainp1.material_id==key] = value\n",
    "trainp1.material_id[trainp1.material_id.isnull()] = 4"
   ]
  },
  {
   "cell_type": "code",
   "execution_count": 47,
   "metadata": {
    "collapsed": false
   },
   "outputs": [
    {
     "data": {
      "text/plain": [
       "array([[3],\n",
       "       [3],\n",
       "       [3],\n",
       "       ..., \n",
       "       [1],\n",
       "       [1],\n",
       "       [1]], dtype=object)"
      ]
     },
     "execution_count": 47,
     "metadata": {},
     "output_type": "execute_result"
    }
   ],
   "source": [
    "material_id_vals = trainp1.material_id.values\n",
    "#preprocessing.OneHotEncoder\n",
    "material_id_vals = np.reshape(material_id_vals,(len(material_id_vals),1))\n",
    "material_id_vals"
   ]
  },
  {
   "cell_type": "code",
   "execution_count": 13,
   "metadata": {
    "collapsed": false
   },
   "outputs": [],
   "source": [
    "#enc = OneHotEncoder()\n",
    "#enc.fit(material_id_vals)  \n",
    "#enc.n_values_\n",
    "#enc.feature_indices_\n",
    "#mat_id_trans = enc.transform(material_id_vals).toarray()\n",
    "#mat_id_trans"
   ]
  },
  {
   "cell_type": "code",
   "execution_count": 48,
   "metadata": {
    "collapsed": false
   },
   "outputs": [
    {
     "data": {
      "text/plain": [
       "EF-003    11252\n",
       "EF-008     4920\n",
       "EF-018     1854\n",
       "NONE        421\n",
       "EF-017      246\n",
       "EF-009      151\n",
       "EF-023      151\n",
       "EF-012       32\n",
       "EF-013       17\n",
       "EF-021       12\n",
       "EF-016       12\n",
       "EF-006        8\n",
       "EF-002        4\n",
       "EF-010        2\n",
       "EF-019        2\n",
       "EF-022        1\n",
       "EF-007        1\n",
       "dtype: int64"
      ]
     },
     "execution_count": 48,
     "metadata": {},
     "output_type": "execute_result"
    }
   ],
   "source": [
    "trainp1.end_a.value_counts()"
   ]
  },
  {
   "cell_type": "code",
   "execution_count": 16,
   "metadata": {
    "collapsed": false
   },
   "outputs": [
    {
     "data": {
      "text/plain": [
       "EF-003    10975\n",
       "EF-008     4911\n",
       "EF-018     1824\n",
       "NONE        562\n",
       "EF-017      380\n",
       "EF-023      173\n",
       "EF-009      132\n",
       "EF-006       38\n",
       "EF-012       26\n",
       "EF-013       24\n",
       "EF-021       12\n",
       "EF-016       11\n",
       "EF-010        6\n",
       "EF-004        5\n",
       "EF-002        4\n",
       "9999          2\n",
       "EF-019        1\n",
       "dtype: int64"
      ]
     },
     "execution_count": 16,
     "metadata": {},
     "output_type": "execute_result"
    }
   ],
   "source": [
    "trainp1.end_x.value_counts()"
   ]
  },
  {
   "cell_type": "code",
   "execution_count": 49,
   "metadata": {
    "collapsed": true
   },
   "outputs": [],
   "source": [
    "end_map = {'EF-003': 0, 'EF-008': 1, 'EF-018': 2, 'NONE': 4, \n",
    "           'EF-017': 5, 'EF-009': 6, 'EF-023': 7, 'EF-012': 3, \n",
    "           'EF-013': 3, 'EF-021': 3, 'EF-016':  3, 'EF-006': 3, \n",
    "           'EF-002': 3, 'EF-010': 3, 'EF-019': 3,'EF-022': 3,\n",
    "           'EF-007': 3, 'EF-004': 3}"
   ]
  },
  {
   "cell_type": "code",
   "execution_count": 50,
   "metadata": {
    "collapsed": false
   },
   "outputs": [
    {
     "name": "stderr",
     "output_type": "stream",
     "text": [
      "/Users/mbkumar/venv2/lib/python2.7/site-packages/IPython/kernel/__main__.py:3: SettingWithCopyWarning: \n",
      "A value is trying to be set on a copy of a slice from a DataFrame\n",
      "\n",
      "See the the caveats in the documentation: http://pandas.pydata.org/pandas-docs/stable/indexing.html#indexing-view-versus-copy\n",
      "  app.launch_new_instance()\n",
      "/Users/mbkumar/venv2/lib/python2.7/site-packages/IPython/kernel/__main__.py:4: SettingWithCopyWarning: \n",
      "A value is trying to be set on a copy of a slice from a DataFrame\n",
      "\n",
      "See the the caveats in the documentation: http://pandas.pydata.org/pandas-docs/stable/indexing.html#indexing-view-versus-copy\n",
      "/Users/mbkumar/venv2/lib/python2.7/site-packages/IPython/kernel/__main__.py:5: SettingWithCopyWarning: \n",
      "A value is trying to be set on a copy of a slice from a DataFrame\n",
      "\n",
      "See the the caveats in the documentation: http://pandas.pydata.org/pandas-docs/stable/indexing.html#indexing-view-versus-copy\n",
      "/Users/mbkumar/venv2/lib/python2.7/site-packages/IPython/kernel/__main__.py:6: SettingWithCopyWarning: \n",
      "A value is trying to be set on a copy of a slice from a DataFrame\n",
      "\n",
      "See the the caveats in the documentation: http://pandas.pydata.org/pandas-docs/stable/indexing.html#indexing-view-versus-copy\n"
     ]
    },
    {
     "data": {
      "text/plain": [
       "array([[1, 1],\n",
       "       [1, 1],\n",
       "       [0, 0],\n",
       "       [0, 0],\n",
       "       [0, 0],\n",
       "       [0, 0],\n",
       "       [0, 0],\n",
       "       [0, 0],\n",
       "       [0, 0],\n",
       "       [0, 0]], dtype=object)"
      ]
     },
     "execution_count": 50,
     "metadata": {},
     "output_type": "execute_result"
    }
   ],
   "source": [
    "trainp2 = trainp1.copy()\n",
    "for key,value in end_map.items():\n",
    "    trainp2.end_a[trainp2.end_a==key] = value\n",
    "    trainp2.end_x[trainp2.end_x==key] = value\n",
    "trainp2.end_a[trainp2.end_a.isnull()] = 4\n",
    "trainp2.end_x[trainp2.end_x.isnull()] = 4\n",
    "end_a_vals = trainp2.end_a.values\n",
    "#preprocessing.OneHotEncoder\n",
    "end_a_vals = np.reshape(end_a_vals,(len(end_a_vals),1))\n",
    "end_x_vals = trainp2.end_x.values\n",
    "end_x_vals = np.reshape(end_x_vals,(len(end_x_vals),1))\n",
    "end_vals = np.concatenate((end_a_vals, end_x_vals), axis=1)\n",
    "end_vals[1000:1010]"
   ]
  },
  {
   "cell_type": "code",
   "execution_count": 58,
   "metadata": {
    "collapsed": false
   },
   "outputs": [],
   "source": [
    "#enc_end = OneHotEncoder()\n",
    "#enc_end.fit(end_vals)  \n",
    "#print enc_end.n_values_\n",
    "#enc_end.feature_indices_\n",
    "#end_trans = enc_end.transform(end_vals).toarray()\n",
    "#np.shape(end_trans)"
   ]
  },
  {
   "cell_type": "code",
   "execution_count": 51,
   "metadata": {
    "collapsed": false
   },
   "outputs": [
    {
     "name": "stderr",
     "output_type": "stream",
     "text": [
      "/Users/mbkumar/venv2/lib/python2.7/site-packages/IPython/kernel/__main__.py:3: SettingWithCopyWarning: \n",
      "A value is trying to be set on a copy of a slice from a DataFrame\n",
      "\n",
      "See the the caveats in the documentation: http://pandas.pydata.org/pandas-docs/stable/indexing.html#indexing-view-versus-copy\n",
      "  app.launch_new_instance()\n",
      "/Users/mbkumar/venv2/lib/python2.7/site-packages/IPython/kernel/__main__.py:4: SettingWithCopyWarning: \n",
      "A value is trying to be set on a copy of a slice from a DataFrame\n",
      "\n",
      "See the the caveats in the documentation: http://pandas.pydata.org/pandas-docs/stable/indexing.html#indexing-view-versus-copy\n",
      "/Users/mbkumar/venv2/lib/python2.7/site-packages/IPython/kernel/__main__.py:5: SettingWithCopyWarning: \n",
      "A value is trying to be set on a copy of a slice from a DataFrame\n",
      "\n",
      "See the the caveats in the documentation: http://pandas.pydata.org/pandas-docs/stable/indexing.html#indexing-view-versus-copy\n",
      "/Users/mbkumar/venv2/lib/python2.7/site-packages/IPython/kernel/__main__.py:6: SettingWithCopyWarning: \n",
      "A value is trying to be set on a copy of a slice from a DataFrame\n",
      "\n",
      "See the the caveats in the documentation: http://pandas.pydata.org/pandas-docs/stable/indexing.html#indexing-view-versus-copy\n"
     ]
    },
    {
     "data": {
      "text/html": [
       "<div>\n",
       "<table border=\"1\" class=\"dataframe\">\n",
       "  <thead>\n",
       "    <tr style=\"text-align: right;\">\n",
       "      <th></th>\n",
       "      <th>quantity</th>\n",
       "      <th>component_id_1_name</th>\n",
       "      <th>quantity_1</th>\n",
       "      <th>component_id_2_name</th>\n",
       "      <th>quantity_2</th>\n",
       "      <th>component_id_3_name</th>\n",
       "      <th>quantity_3</th>\n",
       "      <th>material_id</th>\n",
       "      <th>diameter</th>\n",
       "      <th>wall</th>\n",
       "      <th>...</th>\n",
       "      <th>num_bends</th>\n",
       "      <th>bend_radius</th>\n",
       "      <th>end_a_2x</th>\n",
       "      <th>end_x_2x</th>\n",
       "      <th>end_a</th>\n",
       "      <th>end_x</th>\n",
       "      <th>year</th>\n",
       "      <th>month</th>\n",
       "      <th>day</th>\n",
       "      <th>cost</th>\n",
       "    </tr>\n",
       "  </thead>\n",
       "  <tbody>\n",
       "    <tr>\n",
       "      <th>0</th>\n",
       "      <td>1</td>\n",
       "      <td>NUT-FLARED</td>\n",
       "      <td>2</td>\n",
       "      <td>NaN</td>\n",
       "      <td>0</td>\n",
       "      <td>NaN</td>\n",
       "      <td>0</td>\n",
       "      <td>3</td>\n",
       "      <td>6.35</td>\n",
       "      <td>0.71</td>\n",
       "      <td>...</td>\n",
       "      <td>8</td>\n",
       "      <td>19.05</td>\n",
       "      <td>0</td>\n",
       "      <td>0</td>\n",
       "      <td>1</td>\n",
       "      <td>1</td>\n",
       "      <td>2013</td>\n",
       "      <td>7</td>\n",
       "      <td>919</td>\n",
       "      <td>21.905933</td>\n",
       "    </tr>\n",
       "    <tr>\n",
       "      <th>1</th>\n",
       "      <td>2</td>\n",
       "      <td>NUT-FLARED</td>\n",
       "      <td>2</td>\n",
       "      <td>NaN</td>\n",
       "      <td>0</td>\n",
       "      <td>NaN</td>\n",
       "      <td>0</td>\n",
       "      <td>3</td>\n",
       "      <td>6.35</td>\n",
       "      <td>0.71</td>\n",
       "      <td>...</td>\n",
       "      <td>8</td>\n",
       "      <td>19.05</td>\n",
       "      <td>0</td>\n",
       "      <td>0</td>\n",
       "      <td>1</td>\n",
       "      <td>1</td>\n",
       "      <td>2013</td>\n",
       "      <td>7</td>\n",
       "      <td>919</td>\n",
       "      <td>12.341214</td>\n",
       "    </tr>\n",
       "    <tr>\n",
       "      <th>2</th>\n",
       "      <td>5</td>\n",
       "      <td>NUT-FLARED</td>\n",
       "      <td>2</td>\n",
       "      <td>NaN</td>\n",
       "      <td>0</td>\n",
       "      <td>NaN</td>\n",
       "      <td>0</td>\n",
       "      <td>3</td>\n",
       "      <td>6.35</td>\n",
       "      <td>0.71</td>\n",
       "      <td>...</td>\n",
       "      <td>8</td>\n",
       "      <td>19.05</td>\n",
       "      <td>0</td>\n",
       "      <td>0</td>\n",
       "      <td>1</td>\n",
       "      <td>1</td>\n",
       "      <td>2013</td>\n",
       "      <td>7</td>\n",
       "      <td>919</td>\n",
       "      <td>6.601826</td>\n",
       "    </tr>\n",
       "    <tr>\n",
       "      <th>3</th>\n",
       "      <td>10</td>\n",
       "      <td>NUT-FLARED</td>\n",
       "      <td>2</td>\n",
       "      <td>NaN</td>\n",
       "      <td>0</td>\n",
       "      <td>NaN</td>\n",
       "      <td>0</td>\n",
       "      <td>3</td>\n",
       "      <td>6.35</td>\n",
       "      <td>0.71</td>\n",
       "      <td>...</td>\n",
       "      <td>8</td>\n",
       "      <td>19.05</td>\n",
       "      <td>0</td>\n",
       "      <td>0</td>\n",
       "      <td>1</td>\n",
       "      <td>1</td>\n",
       "      <td>2013</td>\n",
       "      <td>7</td>\n",
       "      <td>919</td>\n",
       "      <td>4.687770</td>\n",
       "    </tr>\n",
       "    <tr>\n",
       "      <th>4</th>\n",
       "      <td>25</td>\n",
       "      <td>NUT-FLARED</td>\n",
       "      <td>2</td>\n",
       "      <td>NaN</td>\n",
       "      <td>0</td>\n",
       "      <td>NaN</td>\n",
       "      <td>0</td>\n",
       "      <td>3</td>\n",
       "      <td>6.35</td>\n",
       "      <td>0.71</td>\n",
       "      <td>...</td>\n",
       "      <td>8</td>\n",
       "      <td>19.05</td>\n",
       "      <td>0</td>\n",
       "      <td>0</td>\n",
       "      <td>1</td>\n",
       "      <td>1</td>\n",
       "      <td>2013</td>\n",
       "      <td>7</td>\n",
       "      <td>919</td>\n",
       "      <td>3.541561</td>\n",
       "    </tr>\n",
       "    <tr>\n",
       "      <th>5</th>\n",
       "      <td>50</td>\n",
       "      <td>NUT-FLARED</td>\n",
       "      <td>2</td>\n",
       "      <td>NaN</td>\n",
       "      <td>0</td>\n",
       "      <td>NaN</td>\n",
       "      <td>0</td>\n",
       "      <td>3</td>\n",
       "      <td>6.35</td>\n",
       "      <td>0.71</td>\n",
       "      <td>...</td>\n",
       "      <td>8</td>\n",
       "      <td>19.05</td>\n",
       "      <td>0</td>\n",
       "      <td>0</td>\n",
       "      <td>1</td>\n",
       "      <td>1</td>\n",
       "      <td>2013</td>\n",
       "      <td>7</td>\n",
       "      <td>919</td>\n",
       "      <td>3.224406</td>\n",
       "    </tr>\n",
       "    <tr>\n",
       "      <th>6</th>\n",
       "      <td>100</td>\n",
       "      <td>NUT-FLARED</td>\n",
       "      <td>2</td>\n",
       "      <td>NaN</td>\n",
       "      <td>0</td>\n",
       "      <td>NaN</td>\n",
       "      <td>0</td>\n",
       "      <td>3</td>\n",
       "      <td>6.35</td>\n",
       "      <td>0.71</td>\n",
       "      <td>...</td>\n",
       "      <td>8</td>\n",
       "      <td>19.05</td>\n",
       "      <td>0</td>\n",
       "      <td>0</td>\n",
       "      <td>1</td>\n",
       "      <td>1</td>\n",
       "      <td>2013</td>\n",
       "      <td>7</td>\n",
       "      <td>919</td>\n",
       "      <td>3.082521</td>\n",
       "    </tr>\n",
       "    <tr>\n",
       "      <th>7</th>\n",
       "      <td>250</td>\n",
       "      <td>NUT-FLARED</td>\n",
       "      <td>2</td>\n",
       "      <td>NaN</td>\n",
       "      <td>0</td>\n",
       "      <td>NaN</td>\n",
       "      <td>0</td>\n",
       "      <td>3</td>\n",
       "      <td>6.35</td>\n",
       "      <td>0.71</td>\n",
       "      <td>...</td>\n",
       "      <td>8</td>\n",
       "      <td>19.05</td>\n",
       "      <td>0</td>\n",
       "      <td>0</td>\n",
       "      <td>1</td>\n",
       "      <td>1</td>\n",
       "      <td>2013</td>\n",
       "      <td>7</td>\n",
       "      <td>919</td>\n",
       "      <td>2.999060</td>\n",
       "    </tr>\n",
       "    <tr>\n",
       "      <th>8</th>\n",
       "      <td>1</td>\n",
       "      <td>NUT-FLARED</td>\n",
       "      <td>2</td>\n",
       "      <td>NaN</td>\n",
       "      <td>0</td>\n",
       "      <td>NaN</td>\n",
       "      <td>0</td>\n",
       "      <td>3</td>\n",
       "      <td>6.35</td>\n",
       "      <td>0.71</td>\n",
       "      <td>...</td>\n",
       "      <td>9</td>\n",
       "      <td>19.05</td>\n",
       "      <td>0</td>\n",
       "      <td>0</td>\n",
       "      <td>1</td>\n",
       "      <td>1</td>\n",
       "      <td>2013</td>\n",
       "      <td>7</td>\n",
       "      <td>919</td>\n",
       "      <td>21.972702</td>\n",
       "    </tr>\n",
       "    <tr>\n",
       "      <th>9</th>\n",
       "      <td>2</td>\n",
       "      <td>NUT-FLARED</td>\n",
       "      <td>2</td>\n",
       "      <td>NaN</td>\n",
       "      <td>0</td>\n",
       "      <td>NaN</td>\n",
       "      <td>0</td>\n",
       "      <td>3</td>\n",
       "      <td>6.35</td>\n",
       "      <td>0.71</td>\n",
       "      <td>...</td>\n",
       "      <td>9</td>\n",
       "      <td>19.05</td>\n",
       "      <td>0</td>\n",
       "      <td>0</td>\n",
       "      <td>1</td>\n",
       "      <td>1</td>\n",
       "      <td>2013</td>\n",
       "      <td>7</td>\n",
       "      <td>919</td>\n",
       "      <td>12.407983</td>\n",
       "    </tr>\n",
       "  </tbody>\n",
       "</table>\n",
       "<p>10 rows × 21 columns</p>\n",
       "</div>"
      ],
      "text/plain": [
       "   quantity component_id_1_name  quantity_1 component_id_2_name  quantity_2  \\\n",
       "0         1          NUT-FLARED           2                 NaN           0   \n",
       "1         2          NUT-FLARED           2                 NaN           0   \n",
       "2         5          NUT-FLARED           2                 NaN           0   \n",
       "3        10          NUT-FLARED           2                 NaN           0   \n",
       "4        25          NUT-FLARED           2                 NaN           0   \n",
       "5        50          NUT-FLARED           2                 NaN           0   \n",
       "6       100          NUT-FLARED           2                 NaN           0   \n",
       "7       250          NUT-FLARED           2                 NaN           0   \n",
       "8         1          NUT-FLARED           2                 NaN           0   \n",
       "9         2          NUT-FLARED           2                 NaN           0   \n",
       "\n",
       "  component_id_3_name  quantity_3 material_id  diameter  wall    ...      \\\n",
       "0                 NaN           0           3      6.35  0.71    ...       \n",
       "1                 NaN           0           3      6.35  0.71    ...       \n",
       "2                 NaN           0           3      6.35  0.71    ...       \n",
       "3                 NaN           0           3      6.35  0.71    ...       \n",
       "4                 NaN           0           3      6.35  0.71    ...       \n",
       "5                 NaN           0           3      6.35  0.71    ...       \n",
       "6                 NaN           0           3      6.35  0.71    ...       \n",
       "7                 NaN           0           3      6.35  0.71    ...       \n",
       "8                 NaN           0           3      6.35  0.71    ...       \n",
       "9                 NaN           0           3      6.35  0.71    ...       \n",
       "\n",
       "   num_bends  bend_radius  end_a_2x end_x_2x end_a end_x  year  month  day  \\\n",
       "0          8        19.05         0        0     1     1  2013      7  919   \n",
       "1          8        19.05         0        0     1     1  2013      7  919   \n",
       "2          8        19.05         0        0     1     1  2013      7  919   \n",
       "3          8        19.05         0        0     1     1  2013      7  919   \n",
       "4          8        19.05         0        0     1     1  2013      7  919   \n",
       "5          8        19.05         0        0     1     1  2013      7  919   \n",
       "6          8        19.05         0        0     1     1  2013      7  919   \n",
       "7          8        19.05         0        0     1     1  2013      7  919   \n",
       "8          9        19.05         0        0     1     1  2013      7  919   \n",
       "9          9        19.05         0        0     1     1  2013      7  919   \n",
       "\n",
       "        cost  \n",
       "0  21.905933  \n",
       "1  12.341214  \n",
       "2   6.601826  \n",
       "3   4.687770  \n",
       "4   3.541561  \n",
       "5   3.224406  \n",
       "6   3.082521  \n",
       "7   2.999060  \n",
       "8  21.972702  \n",
       "9  12.407983  \n",
       "\n",
       "[10 rows x 21 columns]"
      ]
     },
     "execution_count": 51,
     "metadata": {},
     "output_type": "execute_result"
    }
   ],
   "source": [
    "#trainp1.end_x_2x.value_counts()\n",
    "trainp3 = trainp2.copy()\n",
    "trainp3.end_x_2x[trainp3.end_x_2x=='N'] = 0\n",
    "trainp3.end_x_2x[trainp3.end_x_2x=='Y'] = 1\n",
    "trainp3.end_a_2x[trainp3.end_a_2x=='N'] = 0\n",
    "trainp3.end_a_2x[trainp3.end_a_2x=='Y'] = 1\n",
    "trainp3[0:10]"
   ]
  },
  {
   "cell_type": "code",
   "execution_count": 52,
   "metadata": {
    "collapsed": false
   },
   "outputs": [
    {
     "data": {
      "text/plain": [
       "Index([u'quantity', u'component_id_1_name', u'quantity_1',\n",
       "       u'component_id_2_name', u'quantity_2', u'component_id_3_name',\n",
       "       u'quantity_3', u'material_id', u'diameter', u'wall', u'length',\n",
       "       u'num_bends', u'bend_radius', u'end_a_2x', u'end_x_2x', u'end_a',\n",
       "       u'end_x', u'year', u'month', u'day', u'cost'],\n",
       "      dtype='object')"
      ]
     },
     "execution_count": 52,
     "metadata": {},
     "output_type": "execute_result"
    }
   ],
   "source": [
    "trainp3.columns"
   ]
  },
  {
   "cell_type": "code",
   "execution_count": 53,
   "metadata": {
    "collapsed": false
   },
   "outputs": [
    {
     "data": {
      "text/plain": [
       "Index([           u'quantity', u'component_id_1_name',         u'material_id',\n",
       "                u'quantity_1', u'component_id_2_name',          u'quantity_2',\n",
       "       u'component_id_3_name',          u'quantity_3',            u'diameter',\n",
       "                     u'end_a',               u'end_x',                u'wall',\n",
       "                    u'length',           u'num_bends',         u'bend_radius',\n",
       "                  u'end_a_2x',            u'end_x_2x',                u'year',\n",
       "                     u'month',                 u'day',                u'cost'],\n",
       "      dtype='object')"
      ]
     },
     "execution_count": 53,
     "metadata": {},
     "output_type": "execute_result"
    }
   ],
   "source": [
    "trainp4 = trainp3.loc[:,[u'quantity', \n",
    "       'quantity_1','quantity_2','quantity_3', \n",
    "       'diameter', u'wall', u'length',\n",
    "       'num_bends', u'bend_radius', u'end_a_2x', u'end_x_2x',\n",
    "       'year', u'month', u'day', u'cost']]\n",
    "# Reencode the categorical variables\n",
    "trainp4.insert(1, 'component_id_1_name', comp_id1_trans, allow_duplicates=False)\n",
    "trainp4.insert(3, 'component_id_2_name', comp_id2_trans, allow_duplicates=False)\n",
    "trainp4.insert(5, 'component_id_3_name', comp_id3_trans, allow_duplicates=False)\n",
    "trainp4.insert(2, 'material_id', material_id_vals, allow_duplicates=False)\n",
    "trainp4.insert(9, 'end_a', end_a_vals, allow_duplicates=False)\n",
    "trainp4.insert(10, 'end_x', end_x_vals, allow_duplicates=False)\n",
    "trainp4.columns\n"
   ]
  },
  {
   "cell_type": "code",
   "execution_count": null,
   "metadata": {
    "collapsed": true
   },
   "outputs": [],
   "source": [
    "#trainp4.to_csv(os.path.join('..','competition_data','train_model_attempt2_final_data.csv'))"
   ]
  },
  {
   "cell_type": "code",
   "execution_count": 54,
   "metadata": {
    "collapsed": false
   },
   "outputs": [
    {
     "name": "stdout",
     "output_type": "stream",
     "text": [
      "Index([           u'quantity', u'component_id_1_name',         u'material_id',\n",
      "                u'quantity_1', u'component_id_2_name',          u'quantity_2',\n",
      "       u'component_id_3_name',          u'quantity_3',            u'diameter',\n",
      "                     u'end_a',               u'end_x',                u'wall',\n",
      "                    u'length',           u'num_bends',         u'bend_radius',\n",
      "                  u'end_a_2x',            u'end_x_2x',                u'year',\n",
      "                     u'month',                 u'day'],\n",
      "      dtype='object')\n",
      "19086\n"
     ]
    }
   ],
   "source": [
    "X_cols = trainp4.columns[:-1]\n",
    "print X_cols\n",
    "print len(trainp4)\n"
   ]
  },
  {
   "cell_type": "code",
   "execution_count": 55,
   "metadata": {
    "collapsed": true
   },
   "outputs": [],
   "source": [
    "from sklearn import cross_validation"
   ]
  },
  {
   "cell_type": "markdown",
   "metadata": {},
   "source": [
    "# Randomize the data"
   ]
  },
  {
   "cell_type": "code",
   "execution_count": 56,
   "metadata": {
    "collapsed": true
   },
   "outputs": [],
   "source": [
    "trainp5 = trainp4.iloc[np.random.permutation(len(trainp4))]"
   ]
  },
  {
   "cell_type": "code",
   "execution_count": 57,
   "metadata": {
    "collapsed": false
   },
   "outputs": [],
   "source": [
    "#X_cols = ['diameter','wall','length','num_bends','bend_radius',\n",
    "#          'quantity','year','month','day']\n",
    "train_X = trainp5.as_matrix(trainp5.columns[:-1])\n",
    "train_y = trainp5.as_matrix(['cost'])[:,0]\n",
    "#print train_X[0]\n",
    "#train_y\n"
   ]
  },
  {
   "cell_type": "code",
   "execution_count": 66,
   "metadata": {
    "collapsed": false
   },
   "outputs": [],
   "source": [
    "gbr = GradientBoostingRegressor(n_estimators=1000,max_depth=4)"
   ]
  },
  {
   "cell_type": "code",
   "execution_count": null,
   "metadata": {
    "collapsed": true
   },
   "outputs": [],
   "source": [
    "gbr = GradientBoostingRegressor"
   ]
  },
  {
   "cell_type": "code",
   "execution_count": 67,
   "metadata": {
    "collapsed": false
   },
   "outputs": [
    {
     "data": {
      "text/plain": [
       "array([ 0.88986142,  0.40656068,  0.73099164,  0.8145523 ,  0.92056794,\n",
       "        0.83957556,  0.79412001,  0.78966247,  0.88580281,  0.56252026])"
      ]
     },
     "execution_count": 67,
     "metadata": {},
     "output_type": "execute_result"
    }
   ],
   "source": [
    "scores = cross_validation.cross_val_score(gbr, train_X, train_y, cv=10)\n",
    "scores"
   ]
  },
  {
   "cell_type": "code",
   "execution_count": 69,
   "metadata": {
    "collapsed": false
   },
   "outputs": [
    {
     "name": "stdout",
     "output_type": "stream",
     "text": [
      "Accuracy: 0.76 (+/- 0.31)\n"
     ]
    }
   ],
   "source": [
    "print(\"Accuracy: %0.2f (+/- %0.2f)\" % (scores.mean(), scores.std() * 2))"
   ]
  },
  {
   "cell_type": "code",
   "execution_count": 70,
   "metadata": {
    "collapsed": false
   },
   "outputs": [
    {
     "data": {
      "text/plain": [
       "GradientBoostingRegressor(alpha=0.9, init=None, learning_rate=0.1, loss='ls',\n",
       "             max_depth=4, max_features=None, max_leaf_nodes=None,\n",
       "             min_samples_leaf=1, min_samples_split=2,\n",
       "             min_weight_fraction_leaf=0.0, n_estimators=1000,\n",
       "             random_state=None, subsample=1.0, verbose=0, warm_start=False)"
      ]
     },
     "execution_count": 70,
     "metadata": {},
     "output_type": "execute_result"
    }
   ],
   "source": [
    "gbr.fit(train_X,train_y)"
   ]
  },
  {
   "cell_type": "code",
   "execution_count": 71,
   "metadata": {
    "collapsed": false
   },
   "outputs": [
    {
     "data": {
      "image/png": "[encoded data removed]",
      "text/plain": [
       "<matplotlib.figure.Figure at 0x10dc96f90>"
      ]
     },
     "metadata": {},
     "output_type": "display_data"
    }
   ],
   "source": [
    "pred_y = gbr.predict(train_X)\n",
    "plt.scatter(train_y, pred_y,  color='black')\n",
    "plt.xlim((0,150))\n",
    "plt.ylim ((0,150))\n",
    "\n",
    "plt.show()"
   ]
  },
  {
   "cell_type": "code",
   "execution_count": null,
   "metadata": {
    "collapsed": true
   },
   "outputs": [],
   "source": []
  }
 ],
 "metadata": {
  "kernelspec": {
   "display_name": "Python 2",
   "language": "python",
   "name": "python2"
  },
  "language_info": {
   "codemirror_mode": {
    "name": "ipython",
    "version": 2
   },
   "file_extension": ".py",
   "mimetype": "text/x-python",
   "name": "python",
   "nbconvert_exporter": "python",
   "pygments_lexer": "ipython2",
   "version": "2.7.5"
  }
 },
 "nbformat": 4,
 "nbformat_minor": 0
}
