{
 "cells": [
  {
   "cell_type": "markdown",
   "metadata": {},
   "source": [
    "# Gradient boosting Optimization\n",
    "In this model generation, gradient boosting from model 5 is optimized for kaggle score\n"
   ]
  },
  {
   "cell_type": "code",
   "execution_count": 2,
   "metadata": {
    "collapsed": false
   },
   "outputs": [],
   "source": [
    "%matplotlib inline\n",
    "import os, glob\n",
    "import pandas as pd\n",
    "import numpy as np\n",
    "from sklearn import linear_model\n",
    "from sklearn.preprocessing import OneHotEncoder, LabelEncoder\n",
    "from sklearn.ensemble import GradientBoostingRegressor\n",
    "import matplotlib.pyplot as plt\n",
    "from IPython.display import display\n",
    "#from pyearth import Earth"
   ]
  },
  {
   "cell_type": "code",
   "execution_count": 273,
   "metadata": {
    "collapsed": false
   },
   "outputs": [],
   "source": [
    "train = pd.read_csv(os.path.join('..','competition_data','train_set.csv'),header=0)\n",
    "test = pd.read_csv(os.path.join('..','competition_data','test_set.csv'),header=0)\n",
    "tubedf = pd.read_csv(os.path.join('..','competition_data','tube.csv'),  header=0)\n",
    "compdf = pd.read_csv(os.path.join('..','competition_data','components.csv'), header=0,index_col=0)\n",
    "billdf = pd.read_csv(os.path.join('..','competition_data','bill_of_materials.csv'),header=0)"
   ]
  },
  {
   "cell_type": "code",
   "execution_count": 276,
   "metadata": {
    "collapsed": false
   },
   "outputs": [],
   "source": [
    "train_test = train.append(test,ignore_index=True)\n",
    "train_testm1 = train_test.merge(tubedf,on='tube_assembly_id')\n",
    "train_testm2 = train_testm1.merge(billdfm,on='tube_assembly_id')"
   ]
  },
  {
   "cell_type": "code",
   "execution_count": null,
   "metadata": {
    "collapsed": true
   },
   "outputs": [],
   "source": [
    "lbl_enc_comp_typeid1 = LabelEncoder()\n",
    "lbl_enc_comp_typeid1.fit(train_testm2.component_type_id_1.values)  \n",
    "lbl_enc_comp_typeid2 = LabelEncoder()\n",
    "lbl_enc_comp_typeid2.fit(train_testm2.component_type_id_2.values)  \n",
    "lbl_enc_comp_typeid3 = LabelEncoder()\n",
    "lbl_enc_comp_typeid3.fit(train_testm2.component_type_id_3.values)\n",
    "lbl_enc_comp_name1 = LabelEncoder()\n",
    "lbl_enc_comp_name1.fit(train_testm2.component_name_1.values)  \n",
    "lbl_enc_comp_name2 = LabelEncoder()\n",
    "lbl_enc_comp_name2.fit(train_testm2.component_name_2.values)  \n",
    "lbl_enc_comp_name3 = LabelEncoder()\n",
    "lbl_enc_comp_name3.fit(train_testm2.component_name_3.values)\n",
    "\n",
    "lbl_enc_mat_id = LableEncoder()\n",
    "lbl_enc_mat_id.fit(train_testm2.material_id.values)  \n",
    "lbl_enc_splr_id = LableEncoder()\n",
    "lbl_enc_splr_id.fit(train_testm2.supplier.values)\n",
    "\n",
    "\n",
    "#print lbl_enc.classes_\n",
    "#comp_id1_trans = lbl_enc.transform(trainp.component_type_id_1.values)\n",
    "#from collections import defaultdict\n",
    "#d = defaultdict(int)\n",
    "#for i in comp_id1_trans:\n",
    "#    d[i] += 1\n",
    "#print d"
   ]
  },
  {
   "cell_type": "code",
   "execution_count": 32,
   "metadata": {
    "collapsed": false
   },
   "outputs": [],
   "source": [
    "trainm1 = train.merge(tubedf,on='tube_assembly_id')"
   ]
  },
  {
   "cell_type": "code",
   "execution_count": 205,
   "metadata": {
    "collapsed": false
   },
   "outputs": [],
   "source": [
    "def replace_comp_id_x(inp_df, comp_df, col_index, id_no):\n",
    "    \"\"\"\n",
    "    Replaces the component id with component name and component id type \n",
    "    in the input dataframe\n",
    "    \"\"\"\n",
    "    column = inp_df.columns[col_index]\n",
    "    name = []\n",
    "    comp_typeid = []\n",
    "    for comp_id in inp_df[column].values:\n",
    "        if isinstance(comp_id,str):\n",
    "            name.append(comp_df.loc[comp_id,'name'])\n",
    "            comp_typeid.append(comp_df.component_type_id[comp_id])\n",
    "        else:\n",
    "            name.append(np.nan)\n",
    "            comp_typeid.append(np.nan)\n",
    "    name = np.array(name)\n",
    "    comp_typeid = np.array(comp_typeid)\n",
    "    out_df = inp_df.drop(column,axis=1)\n",
    "    out_df.insert(col_index, 'component_id_name_'+str(id_no), name)\n",
    "    out_df.insert(col_index+1,'component_type_id_'+str(id_no),comp_typeid)\n",
    "    return out_df\n"
   ]
  },
  {
   "cell_type": "code",
   "execution_count": 206,
   "metadata": {
    "collapsed": true
   },
   "outputs": [],
   "source": [
    "billdfm = billdf.copy()\n",
    "billdfm = replace_comp_id_x(billdfm, compdf, 1, 1)\n",
    "billdfm = replace_comp_id_x(billdfm, compdf, 4, 2)\n",
    "billdfm = replace_comp_id_x(billdfm, compdf, 7, 3)\n",
    "billdfm = replace_comp_id_x(billdfm, compdf, 10, 4)\n",
    "billdfm = replace_comp_id_x(billdfm, compdf, 13, 5)\n",
    "billdfm = replace_comp_id_x(billdfm, compdf, 16, 6)\n",
    "billdfm = replace_comp_id_x(billdfm, compdf, 19, 7)\n",
    "billdfm = replace_comp_id_x(billdfm, compdf, 22, 8)"
   ]
  },
  {
   "cell_type": "code",
   "execution_count": 207,
   "metadata": {
    "collapsed": false
   },
   "outputs": [],
   "source": [
    "trainm2 = trainm1.merge(billdfm,on='tube_assembly_id')"
   ]
  },
  {
   "cell_type": "code",
   "execution_count": 208,
   "metadata": {
    "collapsed": true
   },
   "outputs": [],
   "source": [
    "def get_year_month_offset(date_ser, ref_date):\n",
    "    dates = list(date_ser.values)\n",
    "    dates_conv = map(pd.to_datetime,dates)\n",
    "    years = [date.year for date in dates_conv]\n",
    "    months = [date.month for date in dates_conv]\n",
    "    ref_date_conv = pd.to_datetime(ref_date)\n",
    "    days = [(date-ref_date_conv).days for date in dates_conv]\n",
    "    return years, months, days\n",
    "        \n",
    "\n",
    "#for id1 in test_set.id:\n",
    "#    qdate = pd.to_datetime(test_set.iloc[id1-1]['quote_date'])\n",
    "#    year.append(qdate.year)\n",
    "#    month.append(qdate.month)\n",
    "#    ofsetdate.append( (qdate-pd.to_datetime('2010-12-31')).days)"
   ]
  },
  {
   "cell_type": "code",
   "execution_count": 209,
   "metadata": {
    "collapsed": false
   },
   "outputs": [],
   "source": [
    "years, months, ofsetdates = get_year_month_offset(trainm2.quote_date, '2010-12-31')\n",
    "#out_df.insert(col_index, 'component_id_name_'+str(id_no), name)\n",
    "#ears_ser = pd.Series(data=years,name='years')\n",
    "#years_ser.value_counts()"
   ]
  },
  {
   "cell_type": "code",
   "execution_count": 210,
   "metadata": {
    "collapsed": false
   },
   "outputs": [
    {
     "name": "stdout",
     "output_type": "stream",
     "text": [
      "length of data 30213\n",
      "Null vals in comp1 1462\n",
      "Null vals in comp2 9129\n",
      "Null vals in comp3 23042\n",
      "Null vals in comp4 29426\n",
      "Null vals in comp5 30147\n",
      "Null vals in comp6 30185\n",
      "Null vals in comp7 30205\n",
      "Null vals in comp8 30210\n"
     ]
    }
   ],
   "source": [
    "print 'length of data', len(trainm2)\n",
    "print 'Null vals in comp1', np.sum(trainm2.quantity_1.isnull().values)\n",
    "print 'Null vals in comp2', np.sum(trainm2.quantity_2.isnull().values)\n",
    "print 'Null vals in comp3', np.sum(trainm2.quantity_3.isnull().values)\n",
    "print 'Null vals in comp4', np.sum(trainm2.quantity_4.isnull().values)\n",
    "print 'Null vals in comp5', np.sum(trainm2.quantity_5.isnull().values)\n",
    "print 'Null vals in comp6', np.sum(trainm2.quantity_6.isnull().values)\n",
    "print 'Null vals in comp7', np.sum(trainm2.quantity_7.isnull().values)\n",
    "print 'Null vals in comp8', np.sum(trainm2.quantity_8.isnull().values)"
   ]
  },
  {
   "cell_type": "markdown",
   "metadata": {},
   "source": [
    "In the predictor 'comp_id_x' related data where x = 4,5,6,7,8 is unncessary since the non null data is < 2.6%\n",
    "In addition tube_assembly id is removed from now on."
   ]
  },
  {
   "cell_type": "code",
   "execution_count": 212,
   "metadata": {
    "collapsed": false
   },
   "outputs": [],
   "source": [
    "trainp = trainm2.loc[:,[u'supplier', u'quote_date', u'annual_usage',\n",
    "       u'min_order_quantity', u'bracket_pricing', u'quantity', \n",
    "       u'material_id', u'diameter', u'wall', u'length', u'num_bends',\n",
    "       u'bend_radius', u'end_a_1x', u'end_a_2x', u'end_x_1x', u'end_x_2x',\n",
    "       u'end_a', u'end_x', u'num_boss', u'num_bracket', u'other',\n",
    "       u'component_id_name_1', u'component_type_id_1', u'quantity_1',\n",
    "       u'component_id_name_2', u'component_type_id_2', u'quantity_2',\n",
    "       u'component_id_name_3', u'component_type_id_3', u'quantity_3',\n",
    "       'cost']]\n",
    "trainp = trainp.drop('quote_date',axis=1)\n",
    "trainp.insert(1, 'year', years)\n",
    "trainp.insert(2, 'month', months)\n",
    "trainp.insert(3, 'days', ofsetdates)"
   ]
  },
  {
   "cell_type": "markdown",
   "metadata": {},
   "source": [
    "num_boss, num_brack and other have one or two high frequency values and then few low frequency values"
   ]
  },
  {
   "cell_type": "markdown",
   "metadata": {},
   "source": [
    "## Categorical variables pruning\n",
    "The categorical variables such as supplier_id, material_id, component_id_x_name, \n",
    "end_x, end_a with string categories are converted to integer\n",
    "labels. The values with high frequencies are retained and the low\n",
    "frequency values (<50) are all combined into a single value"
   ]
  },
  {
   "cell_type": "code",
   "execution_count": null,
   "metadata": {
    "collapsed": true
   },
   "outputs": [],
   "source": []
  },
  {
   "cell_type": "code",
   "execution_count": 41,
   "metadata": {
    "collapsed": false
   },
   "outputs": [
    {
     "name": "stdout",
     "output_type": "stream",
     "text": [
      "NUT-SWIVEL         9364\n",
      "NUT-FLARED         4774\n",
      "CONNECTOR-SEAL     1131\n",
      "NUT                1130\n",
      "NUT-INV FLARED      758\n",
      "SLEEVE-ORFS         174\n",
      "CONNECTOR           159\n",
      "FLANGE              135\n",
      "HEAD-FLANGED         96\n",
      "BOSS                 93\n",
      "ELBOW                85\n",
      "SLEEVE               85\n",
      "SLEEVE-FITTING       79\n",
      "FLANGE-ONE PIEC      66\n",
      "ELBOW-90 DEG         62\n",
      "ELBOW-FLARED         48\n",
      "dtype: int64\n",
      "SLEEVE-ORFS         8873\n",
      "SLEEVE-FLARED        886\n",
      "SLEEVE               860\n",
      "NUT-SWIVEL           564\n",
      "CONNECTOR-SEAL       322\n",
      "ELBOW-90 DEG         149\n",
      "SLEEVE-FACE SEAL     132\n",
      "NUT                  109\n",
      "NUT-FITTING           79\n",
      "dtype: int64\n",
      "CONNECTOR-SEAL    2727\n",
      "SLEEVE-ORFS        445\n",
      "ELBOW-90 DEG       271\n",
      "CONNECTOR          144\n",
      "SLEEVE-REDUCER      91\n",
      "dtype: int64\n"
     ]
    }
   ],
   "source": [
    "print trainp.component_id_1_name.value_counts()[0:16]\n",
    "print trainp.component_id_2_name.value_counts()[0:9]\n",
    "print trainp.component_id_3_name.value_counts()[0:5]"
   ]
  },
  {
   "cell_type": "code",
   "execution_count": 37,
   "metadata": {
    "collapsed": false
   },
   "outputs": [
    {
     "name": "stdout",
     "output_type": "stream",
     "text": [
      "477\n",
      "6321\n",
      "14741\n"
     ]
    }
   ],
   "source": [
    "print sum(trainp.component_id_1_name.isnull().values)\n",
    "print sum(trainp.component_id_2_name.isnull().values)\n",
    "print sum(trainp.component_id_3_name.isnull().values)"
   ]
  },
  {
   "cell_type": "code",
   "execution_count": 213,
   "metadata": {
    "collapsed": true
   },
   "outputs": [],
   "source": [
    "TRANSFORM_CUTOFF = 50"
   ]
  },
  {
   "cell_type": "code",
   "execution_count": 214,
   "metadata": {
    "collapsed": false
   },
   "outputs": [
    {
     "name": "stdout",
     "output_type": "stream",
     "text": [
      "['CP-001' 'CP-002' 'CP-003' 'CP-004' 'CP-005' 'CP-006' 'CP-007' 'CP-008'\n",
      " 'CP-009' 'CP-010' 'CP-011' 'CP-012' 'CP-014' 'CP-015' 'CP-018' 'CP-019'\n",
      " 'CP-020' 'CP-022' 'CP-024' 'CP-025' 'CP-026' 'CP-027' 'CP-028' 'OTHER'\n",
      " 'nan']\n",
      "defaultdict(<type 'int'>, {0: 7, 1: 92, 2: 134, 3: 298, 4: 1, 5: 148, 6: 63, 7: 109, 8: 11, 9: 112, 10: 1, 11: 12, 12: 2170, 13: 186, 14: 335, 15: 3, 16: 4, 17: 11, 18: 1030, 19: 14156, 20: 3505, 21: 28, 22: 5274, 23: 1061, 24: 1462})\n",
      "defaultdict(<type 'int'>, {0: 78, 1: 92, 2: 134, 3: 298, 5: 148, 6: 63, 7: 109, 9: 112, 12: 2170, 13: 186, 14: 335, 18: 1030, 19: 14156, 20: 3505, 22: 5274, 23: 1061, 24: 1462})\n"
     ]
    }
   ],
   "source": [
    "lbl_enc = LabelEncoder()\n",
    "lbl_enc.fit(trainp.component_type_id_1.values)  \n",
    "print lbl_enc.classes_\n",
    "comp_id1_trans = lbl_enc.transform(trainp.component_type_id_1.values)\n",
    "from collections import defaultdict\n",
    "d = defaultdict(int)\n",
    "for i in comp_id1_trans:\n",
    "    d[i] += 1\n",
    "print d\n",
    "\n",
    "for i in range(len(comp_id1_trans)):\n",
    "    if d[comp_id1_trans[i]] < TRANSFORM_CUTOFF:\n",
    "        comp_id1_trans[i] = 0 \n",
    "\n",
    "d1 = defaultdict(int)\n",
    "for i in comp_id1_trans:\n",
    "    d1[i] += 1\n",
    "\n",
    "print d1\n",
    "lbl1_map = {}\n",
    "for i, lbl in enumerate(list(lbl_enc.classes_)):\n",
    "    lbl1_map[lbl] = i"
   ]
  },
  {
   "cell_type": "code",
   "execution_count": null,
   "metadata": {
    "collapsed": true
   },
   "outputs": [],
   "source": []
  },
  {
   "cell_type": "code",
   "execution_count": 215,
   "metadata": {
    "collapsed": false
   },
   "outputs": [
    {
     "name": "stdout",
     "output_type": "stream",
     "text": [
      "['CP-001' 'CP-002' 'CP-003' 'CP-004' 'CP-006' 'CP-007' 'CP-008' 'CP-009'\n",
      " 'CP-010' 'CP-011' 'CP-012' 'CP-014' 'CP-015' 'CP-016' 'CP-018' 'CP-019'\n",
      " 'CP-020' 'CP-021' 'CP-022' 'CP-024' 'CP-025' 'CP-026' 'CP-027' 'CP-028'\n",
      " 'OTHER' 'nan']\n",
      "CP-024    17145\n",
      "nan        9129\n",
      "CP-025     1064\n",
      "CP-014      769\n",
      "OTHER       657\n",
      "CP-026      638\n",
      "CP-015      249\n",
      "CP-018      109\n",
      "CP-008       81\n",
      "CP-002       79\n",
      "CP-003       67\n",
      "CP-006       58\n",
      "CP-004       27\n",
      "CP-028       24\n",
      "CP-012       17\n",
      "CP-016       16\n",
      "CP-011       15\n",
      "CP-027       14\n",
      "CP-019       12\n",
      "CP-001       11\n",
      "CP-022        9\n",
      "CP-009        8\n",
      "CP-007        8\n",
      "CP-010        4\n",
      "CP-021        2\n",
      "CP-020        1\n",
      "dtype: int64\n",
      "defaultdict(<type 'int'>, {0: 11, 1: 79, 2: 67, 3: 27, 4: 58, 5: 8, 6: 81, 7: 8, 8: 4, 9: 15, 10: 17, 11: 769, 12: 249, 13: 16, 14: 109, 15: 12, 16: 1, 17: 2, 18: 9, 19: 17145, 20: 1064, 21: 638, 22: 14, 23: 24, 24: 657, 25: 9129})\n",
      "defaultdict(<type 'int'>, {0: 168, 1: 79, 2: 67, 4: 58, 6: 81, 11: 769, 12: 249, 14: 109, 19: 17145, 20: 1064, 21: 638, 24: 657, 25: 9129})\n"
     ]
    }
   ],
   "source": [
    "lbl_enc = LabelEncoder()\n",
    "lbl_enc.fit(trainp.component_type_id_2.values)  \n",
    "print lbl_enc.classes_\n",
    "print trainp.component_type_id_2.value_counts()\n",
    "#print list(lbl_enc.classes_).index('SLEEVE-ORFS')\n",
    "comp_id2_trans = lbl_enc.transform(trainp.component_type_id_2.values)\n",
    "from collections import defaultdict\n",
    "d = defaultdict(int)\n",
    "for i in comp_id2_trans:\n",
    "    d[i] += 1\n",
    "print d\n",
    "for i in range(len(comp_id2_trans)):\n",
    "    if d[comp_id2_trans[i]] < TRANSFORM_CUTOFF:\n",
    "        comp_id2_trans[i] = 0 \n",
    "\n",
    "d2 = defaultdict(int)\n",
    "for i in comp_id2_trans:\n",
    "    d2[i] += 1\n",
    "\n",
    "print d2\n",
    "\n",
    "lbl2_map = {}\n",
    "for i, lbl in enumerate(list(lbl_enc.classes_)):\n",
    "    lbl2_map[lbl] = i"
   ]
  },
  {
   "cell_type": "code",
   "execution_count": 216,
   "metadata": {
    "collapsed": false
   },
   "outputs": [
    {
     "data": {
      "text/plain": [
       "{'CP-001': 0,\n",
       " 'CP-002': 1,\n",
       " 'CP-003': 2,\n",
       " 'CP-004': 3,\n",
       " 'CP-006': 4,\n",
       " 'CP-007': 5,\n",
       " 'CP-008': 6,\n",
       " 'CP-009': 7,\n",
       " 'CP-010': 8,\n",
       " 'CP-011': 9,\n",
       " 'CP-012': 10,\n",
       " 'CP-014': 11,\n",
       " 'CP-015': 12,\n",
       " 'CP-016': 13,\n",
       " 'CP-018': 14,\n",
       " 'CP-019': 15,\n",
       " 'CP-020': 16,\n",
       " 'CP-021': 17,\n",
       " 'CP-022': 18,\n",
       " 'CP-024': 19,\n",
       " 'CP-025': 20,\n",
       " 'CP-026': 21,\n",
       " 'CP-027': 22,\n",
       " 'CP-028': 23,\n",
       " 'OTHER': 24,\n",
       " 'nan': 25}"
      ]
     },
     "execution_count": 216,
     "metadata": {},
     "output_type": "execute_result"
    }
   ],
   "source": [
    "lbl2_map"
   ]
  },
  {
   "cell_type": "code",
   "execution_count": 217,
   "metadata": {
    "collapsed": false
   },
   "outputs": [
    {
     "name": "stdout",
     "output_type": "stream",
     "text": [
      "['CP-001' 'CP-002' 'CP-003' 'CP-004' 'CP-006' 'CP-007' 'CP-008' 'CP-009'\n",
      " 'CP-010' 'CP-011' 'CP-012' 'CP-014' 'CP-015' 'CP-016' 'CP-017' 'CP-018'\n",
      " 'CP-019' 'CP-020' 'CP-022' 'CP-023' 'CP-024' 'CP-025' 'CP-026' 'CP-027'\n",
      " 'CP-028' 'OTHER' 'nan']\n",
      "defaultdict(<type 'int'>, {0: 5, 1: 56, 2: 19, 3: 71, 4: 37, 5: 1, 6: 41, 7: 1, 8: 45, 9: 20, 10: 11, 11: 4732, 12: 562, 13: 21, 14: 4, 15: 190, 16: 12, 17: 1, 18: 22, 19: 6, 20: 893, 21: 97, 22: 19, 23: 4, 24: 1, 25: 284, 26: 23058})\n",
      "defaultdict(<type 'int'>, {0: 270, 1: 56, 3: 71, 11: 4732, 12: 562, 15: 190, 20: 893, 21: 97, 25: 284, 26: 23058})\n"
     ]
    }
   ],
   "source": [
    "lbl_enc3 = LabelEncoder()\n",
    "lbl_enc3.fit(trainp.component_type_id_3.values)  \n",
    "print lbl_enc3.classes_\n",
    "comp_id3_trans = lbl_enc3.transform(trainp.component_type_id_3.values)\n",
    "from collections import defaultdict\n",
    "d = defaultdict(int)\n",
    "for i in comp_id3_trans:\n",
    "    d[i] += 1\n",
    "print d\n",
    "for i in range(len(comp_id3_trans)):\n",
    "    if d[comp_id3_trans[i]] < TRANSFORM_CUTOFF:\n",
    "        comp_id3_trans[i] = 0 \n",
    "\n",
    "d3 = defaultdict(int)\n",
    "for i in comp_id3_trans:\n",
    "    d3[i] += 1\n",
    "\n",
    "print d3\n",
    "\n",
    "lbl3_map = {}\n",
    "for i, lbl in enumerate(list(lbl_enc3.classes_)):\n",
    "    lbl3_map[lbl] = i"
   ]
  },
  {
   "cell_type": "code",
   "execution_count": 218,
   "metadata": {
    "collapsed": true
   },
   "outputs": [],
   "source": [
    "#comp_id1_trans = np.expand_dims(comp_id1_trans,axis=1)\n",
    "#comp_id2_trans = np.expand_dims(comp_id2_trans,axis=1)\n",
    "#comp_id3_trans = np.expand_dims(comp_id3_trans,axis=1)\n",
    "#enc_comp_id1 = OneHotEncoder()\n",
    "#enc_comp_id1.fit(  \n",
    "#print enc_comp_id1.n_values_\n",
    "#enc_end.feature_indices_\n",
    "#end_trans = enc_end.transform(end_vals).toarray()\n",
    "#np.shape(end_trans)"
   ]
  },
  {
   "cell_type": "code",
   "execution_count": 219,
   "metadata": {
    "collapsed": false
   },
   "outputs": [
    {
     "data": {
      "text/plain": [
       "SP-0029    16165\n",
       "SP-0035     5697\n",
       "SP-0039     2852\n",
       "SP-0019     2652\n",
       "SP-0028     1654\n",
       "SP-0037      397\n",
       "SP-0038      139\n",
       "SP-0033      102\n",
       "SP-0046       87\n",
       "SP-0048       54\n",
       "SP-0008       50\n",
       "SP-0036       48\n",
       "SP-0041       43\n",
       "SP-0030       22\n",
       "SP-0034       16\n",
       "SP-0032        4\n",
       "SP-0031        2\n",
       "dtype: int64"
      ]
     },
     "execution_count": 219,
     "metadata": {},
     "output_type": "execute_result"
    }
   ],
   "source": [
    "trainp.material_id.value_counts()"
   ]
  },
  {
   "cell_type": "markdown",
   "metadata": {},
   "source": [
    "The first four material ids have high frequencies. Its better to assign those 4 to \n",
    "different values and group the rest into a single value"
   ]
  },
  {
   "cell_type": "code",
   "execution_count": 220,
   "metadata": {
    "collapsed": false
   },
   "outputs": [
    {
     "name": "stdout",
     "output_type": "stream",
     "text": [
      "[nan 'SP-0008' 'SP-0019' 'SP-0028' 'SP-0029' 'SP-0030' 'SP-0031' 'SP-0032'\n",
      " 'SP-0033' 'SP-0034' 'SP-0035' 'SP-0036' 'SP-0037' 'SP-0038' 'SP-0039'\n",
      " 'SP-0041' 'SP-0046' 'SP-0048']\n",
      "defaultdict(<type 'int'>, {0: 229, 1: 50, 2: 2652, 3: 1654, 4: 16165, 5: 22, 6: 2, 7: 4, 8: 102, 9: 16, 10: 5697, 11: 48, 12: 397, 13: 139, 14: 2852, 15: 43, 16: 87, 17: 54})\n",
      "defaultdict(<type 'int'>, {0: 229, 1: 50, 2: 2652, 3: 1654, 4: 16165, 6: 135, 8: 102, 10: 5697, 12: 397, 13: 139, 14: 2852, 16: 87, 17: 54})\n",
      "{nan: 0, 'SP-0046': 16, 'SP-0041': 15, 'SP-0033': 8, 'SP-0048': 17, 'SP-0034': 9, 'SP-0035': 10, 'SP-0036': 11, 'SP-0037': 12, 'SP-0030': 5, 'SP-0031': 6, 'SP-0032': 7, 'SP-0019': 2, 'SP-0008': 1, 'SP-0038': 13, 'SP-0039': 14, 'SP-0029': 4, 'SP-0028': 3}\n"
     ]
    }
   ],
   "source": [
    "#material_id_map = {'SP-0029': 0, 'SP-0035': 1, 'SP-0039': 2,\n",
    "#                   'SP-0019': 3, 'SP-0028': 5, 'SP-0036': 4,\n",
    "#                   'SP-0046': 4, 'SP-0048': 4, 'SP-0033': 4,\n",
    "#                   'SP-0030': 4, 'SP-0038': 4, 'SP-0031': 4, \n",
    "#                   'SP-0037': 4, \n",
    "#                  }\n",
    "#trainp1 = trainp.copy()\n",
    "#for key,value in material_id_map.items():\n",
    "#    trainp1.material_id[trainp1.material_id==key] = value\n",
    "#trainp1.material_id[trainp1.material_id.isnull()] = 4\n",
    "\n",
    "lbl_enc_matid = LabelEncoder()\n",
    "lbl_enc_matid.fit(trainp.material_id.values)  \n",
    "print lbl_enc_matid.classes_\n",
    "matid_trans = lbl_enc_matid.transform(trainp.material_id.values)\n",
    "from collections import defaultdict\n",
    "d = defaultdict(int)\n",
    "for i in matid_trans:\n",
    "    d[i] += 1\n",
    "print d\n",
    "for i in range(len(matid_trans)):\n",
    "    if d[matid_trans[i]] < TRANSFORM_CUTOFF:\n",
    "        matid_trans[i] = 6 \n",
    "\n",
    "d_matid = defaultdict(int)\n",
    "for i in matid_trans:\n",
    "    d_matid[i] += 1\n",
    "\n",
    "print d_matid\n",
    "\n",
    "matid_map = {}\n",
    "for i, lbl in enumerate(list(lbl_enc_matid.classes_)):\n",
    "    matid_map[lbl] = i\n",
    "print matid_map"
   ]
  },
  {
   "cell_type": "code",
   "execution_count": 221,
   "metadata": {
    "collapsed": false
   },
   "outputs": [
    {
     "name": "stdout",
     "output_type": "stream",
     "text": [
      "['S-0003' 'S-0004' 'S-0005' 'S-0006' 'S-0007' 'S-0008' 'S-0009' 'S-0011'\n",
      " 'S-0012' 'S-0013' 'S-0014' 'S-0015' 'S-0018' 'S-0022' 'S-0023' 'S-0024'\n",
      " 'S-0025' 'S-0026' 'S-0027' 'S-0029' 'S-0030' 'S-0031' 'S-0041' 'S-0042'\n",
      " 'S-0043' 'S-0046' 'S-0050' 'S-0051' 'S-0054' 'S-0056' 'S-0058' 'S-0059'\n",
      " 'S-0060' 'S-0061' 'S-0062' 'S-0064' 'S-0066' 'S-0068' 'S-0070' 'S-0072'\n",
      " 'S-0074' 'S-0078' 'S-0080' 'S-0081' 'S-0087' 'S-0090' 'S-0092' 'S-0095'\n",
      " 'S-0096' 'S-0097' 'S-0104' 'S-0105' 'S-0106' 'S-0107' 'S-0108' 'S-0109'\n",
      " 'S-0111']\n",
      "defaultdict(<type 'int'>, {0: 1, 1: 1, 2: 24, 3: 1, 4: 5, 5: 7, 6: 4, 7: 5, 8: 1, 9: 554, 10: 139, 11: 5, 12: 10, 13: 1, 14: 4, 15: 1, 16: 3, 17: 727, 18: 20, 19: 1, 20: 111, 21: 21, 22: 3323, 23: 19, 24: 14, 25: 2, 26: 5, 27: 1, 28: 838, 29: 9, 30: 516, 31: 4, 32: 3, 33: 2, 34: 264, 35: 446, 36: 20553, 37: 1, 38: 18, 39: 2317, 40: 5, 41: 2, 42: 10, 43: 64, 44: 2, 45: 3, 46: 10, 47: 1, 48: 2, 49: 3, 50: 90, 51: 33, 52: 1, 53: 2, 54: 1, 55: 1, 56: 2})\n",
      "defaultdict(<type 'int'>, {0: 271, 34: 264, 35: 446, 36: 20553, 39: 2317, 9: 554, 10: 139, 43: 64, 17: 727, 50: 90, 20: 111, 22: 3323, 28: 838, 30: 516})\n",
      "{'S-0106': 52, 'S-0064': 35, 'S-0003': 0, 'S-0072': 39, 'S-0096': 48, 'S-0006': 3, 'S-0029': 19, 'S-0004': 1, 'S-0005': 2, 'S-0024': 15, 'S-0025': 16, 'S-0008': 5, 'S-0027': 18, 'S-0107': 53, 'S-0026': 17, 'S-0022': 13, 'S-0023': 14, 'S-0068': 37, 'S-0009': 6, 'S-0046': 25, 'S-0061': 33, 'S-0062': 34, 'S-0042': 23, 'S-0043': 24, 'S-0066': 36, 'S-0041': 22, 'S-0105': 51, 'S-0109': 55, 'S-0080': 42, 'S-0081': 43, 'S-0104': 50, 'S-0087': 44, 'S-0011': 7, 'S-0013': 9, 'S-0012': 8, 'S-0015': 11, 'S-0014': 10, 'S-0070': 38, 'S-0018': 12, 'S-0031': 21, 'S-0030': 20, 'S-0111': 56, 'S-0078': 41, 'S-0108': 54, 'S-0059': 31, 'S-0058': 30, 'S-0054': 28, 'S-0056': 29, 'S-0051': 27, 'S-0050': 26, 'S-0060': 32, 'S-0074': 40, 'S-0090': 45, 'S-0092': 46, 'S-0095': 47, 'S-0097': 49, 'S-0007': 4}\n"
     ]
    }
   ],
   "source": [
    "lbl_enc_splr = LabelEncoder()\n",
    "lbl_enc_splr.fit(trainp.supplier.values)  \n",
    "print lbl_enc_splr.classes_\n",
    "splr_trans = lbl_enc_splr.transform(trainp.supplier.values)\n",
    "from collections import defaultdict\n",
    "d = defaultdict(int)\n",
    "for i in splr_trans:\n",
    "    d[i] += 1\n",
    "print d\n",
    "for i in range(len(splr_trans)):\n",
    "    if d[splr_trans[i]] < TRANSFORM_CUTOFF:\n",
    "        splr_trans[i] = 0 \n",
    "\n",
    "d_splr = defaultdict(int)\n",
    "for i in splr_trans:\n",
    "    d_splr[i] += 1\n",
    "\n",
    "print d_splr\n",
    "\n",
    "splr_map = {}\n",
    "for i, lbl in enumerate(list(lbl_enc_splr.classes_)):\n",
    "    splr_map[lbl] = i\n",
    "print splr_map"
   ]
  },
  {
   "cell_type": "code",
   "execution_count": 222,
   "metadata": {
    "collapsed": false
   },
   "outputs": [],
   "source": [
    "#material_id_vals = trainp.material_id.values\n",
    "#preprocessing.OneHotEncoder\n",
    "#material_id_vals = np.reshape(matid_trans,(len(matid_trans),1))\n",
    "#material_id_vals"
   ]
  },
  {
   "cell_type": "code",
   "execution_count": 223,
   "metadata": {
    "collapsed": false
   },
   "outputs": [],
   "source": [
    "#enc = OneHotEncoder()\n",
    "#enc.fit(material_id_vals)  \n",
    "#enc.n_values_\n",
    "#enc.feature_indices_\n",
    "#mat_id_trans = enc.transform(material_id_vals).toarray()\n",
    "#mat_id_trans"
   ]
  },
  {
   "cell_type": "code",
   "execution_count": 224,
   "metadata": {
    "collapsed": false
   },
   "outputs": [
    {
     "data": {
      "text/plain": [
       "{'9999': 0,\n",
       " 'EF-001': 5,\n",
       " 'EF-002': 6,\n",
       " 'EF-003': 7,\n",
       " 'EF-004': 1,\n",
       " 'EF-005': 2,\n",
       " 'EF-006': 3,\n",
       " 'EF-007': 4,\n",
       " 'EF-008': 8,\n",
       " 'EF-009': 9,\n",
       " 'EF-010': 19,\n",
       " 'EF-011': 18,\n",
       " 'EF-012': 17,\n",
       " 'EF-013': 16,\n",
       " 'EF-014': 23,\n",
       " 'EF-015': 22,\n",
       " 'EF-016': 21,\n",
       " 'EF-017': 20,\n",
       " 'EF-018': 25,\n",
       " 'EF-019': 24,\n",
       " 'EF-020': 12,\n",
       " 'EF-021': 13,\n",
       " 'EF-022': 10,\n",
       " 'EF-023': 11,\n",
       " 'EF-025': 14,\n",
       " 'NONE': 15}"
      ]
     },
     "execution_count": 224,
     "metadata": {},
     "output_type": "execute_result"
    }
   ],
   "source": [
    "end_keys = set(trainp.end_a.unique()) | set(trainp.end_x.unique())\n",
    "end_map = {}\n",
    "i = 0\n",
    "for key in end_keys:\n",
    "    end_map[key] = i\n",
    "    i += 1\n",
    "end_map"
   ]
  },
  {
   "cell_type": "code",
   "execution_count": 225,
   "metadata": {
    "collapsed": true
   },
   "outputs": [],
   "source": [
    "#end_map = {'EF-003': 0, 'EF-008': 1, 'EF-018': 2, 'NONE': 4, \n",
    "#           'EF-017': 5, 'EF-009': 6, 'EF-023': 7, 'EF-012': 3, \n",
    "#           'EF-013': 3, 'EF-021': 3, 'EF-016':  3, 'EF-006': 3, \n",
    "#           'EF-002': 3, 'EF-010': 3, 'EF-019': 3, 'EF-022': 3,\n",
    "#           'EF-007': 3, 'EF-004': 3, 'EF-015': 3, 'EF-005': 3,\n",
    "#           'EF-014': 3, 'EF-001': 3, 'EF-025': 3, '9999': 3,\n",
    "#           'EF-024': 3, 'EF-026': 3, 'EF-011': 3}"
   ]
  },
  {
   "cell_type": "code",
   "execution_count": 226,
   "metadata": {
    "collapsed": false
   },
   "outputs": [],
   "source": [
    "#trainp2 = trainp.copy()\n",
    "#for key,value in end_map.items():\n",
    "#    trainp2.end_a[trainp2.end_a==key] = value\n",
    "#    trainp2.end_x[trainp2.end_x==key] = value\n",
    "#trainp2.end_a[trainp2.end_a.isnull()] = 15\n",
    "#trainp2.end_x[trainp2.end_x.isnull()] = 15\n",
    "#end_a_vals = trainp2.end_a.values\n",
    "#preprocessing.OneHotEncoder\n",
    "#end_a_vals = np.reshape(end_a_vals,(len(end_a_vals),1))\n",
    "#end_x_vals = trainp2.end_x.values\n",
    "#end_x_vals = np.reshape(end_x_vals,(len(end_x_vals),1))\n"
   ]
  },
  {
   "cell_type": "code",
   "execution_count": 227,
   "metadata": {
    "collapsed": false
   },
   "outputs": [],
   "source": [
    "end_a_vals = [end_map[x] for x in trainp.end_a.values]\n",
    "end_x_vals = [end_map[x] for x in trainp.end_x.values]\n",
    "\n",
    "d_a = defaultdict(int)\n",
    "d_x = defaultdict(int)\n",
    "for val in end_a_vals:\n",
    "    d_a[val] += 1\n",
    "for val in end_x_vals:\n",
    "    d_x[val] += 1\n",
    "\n",
    "end_a_vals = [x if d_a[x] > TRANSFORM_CUTOFF else 1 for x in end_a_vals]\n",
    "end_x_vals = [x if d_x[x] > TRANSFORM_CUTOFF else 1 for x in end_x_vals]\n",
    "    "
   ]
  },
  {
   "cell_type": "code",
   "execution_count": 228,
   "metadata": {
    "collapsed": true
   },
   "outputs": [],
   "source": [
    "end_x_1x_vals = [1 if x=='Y' else 0 for x in trainp.end_x_1x.values]\n",
    "end_a_1x_vals = [1 if x=='Y' else 0 for x in trainp.end_a_1x.values]\n",
    "end_x_2x_vals = [1 if x=='Y' else 0 for x in trainp.end_x_2x.values]\n",
    "end_a_2x_vals = [1 if x=='Y' else 0 for x in trainp.end_a_2x.values]\n",
    "brack_price_vals = [1 if x=='Yes' else 0 for x in trainp.bracket_pricing.values]\n"
   ]
  },
  {
   "cell_type": "markdown",
   "metadata": {},
   "source": [
    "# NaN removal\n",
    "Quantity_x where x = 1,2,3 contain nan. converting nan to zero."
   ]
  },
  {
   "cell_type": "code",
   "execution_count": 248,
   "metadata": {
    "collapsed": true
   },
   "outputs": [],
   "source": [
    "quant1 = [0 if np.isnan(x) else x for x in trainp.quantity_1.values]\n",
    "quant2 = [0 if np.isnan(x) else x for x in trainp.quantity_2.values]\n",
    "quant3 = [0 if np.isnan(x) else x for x in trainp.quantity_3.values]"
   ]
  },
  {
   "cell_type": "code",
   "execution_count": 229,
   "metadata": {
    "collapsed": false
   },
   "outputs": [
    {
     "name": "stdout",
     "output_type": "stream",
     "text": [
      "Index([           u'supplier',                u'year',               u'month',\n",
      "                      u'days',        u'annual_usage',  u'min_order_quantity',\n",
      "           u'bracket_pricing',            u'quantity',         u'material_id',\n",
      "                  u'diameter',                u'wall',              u'length',\n",
      "                 u'num_bends',         u'bend_radius',            u'end_a_1x',\n",
      "                  u'end_a_2x',            u'end_x_1x',            u'end_x_2x',\n",
      "                     u'end_a',               u'end_x',            u'num_boss',\n",
      "               u'num_bracket',               u'other', u'component_id_name_1',\n",
      "       u'component_type_id_1',          u'quantity_1', u'component_id_name_2',\n",
      "       u'component_type_id_2',          u'quantity_2', u'component_id_name_3',\n",
      "       u'component_type_id_3',          u'quantity_3',                u'cost'],\n",
      "      dtype='object')\n"
     ]
    }
   ],
   "source": [
    "print trainp.columns"
   ]
  },
  {
   "cell_type": "code",
   "execution_count": 250,
   "metadata": {
    "collapsed": false
   },
   "outputs": [
    {
     "data": {
      "text/plain": [
       "Index([           u'supplier',                u'year',               u'month',\n",
       "                      u'days',        u'annual_usage',  u'min_order_quantity',\n",
       "           u'bracket_pricing',            u'quantity',         u'material_id',\n",
       "                  u'diameter',                u'wall',              u'length',\n",
       "                 u'num_bends',         u'bend_radius',            u'end_a_1x',\n",
       "                  u'end_a_2x',            u'end_x_1x',            u'end_x_2x',\n",
       "                     u'end_a',               u'end_x',            u'num_boss',\n",
       "               u'num_bracket',               u'other', u'component_type_id_1',\n",
       "                u'quantity_1', u'component_type_id_2',          u'quantity_2',\n",
       "       u'component_type_id_3',          u'quantity_3',                u'cost'],\n",
       "      dtype='object')"
      ]
     },
     "execution_count": 250,
     "metadata": {},
     "output_type": "execute_result"
    }
   ],
   "source": [
    "trainp1 = trainp.loc[:,[u'year', u'month', u'days', u'annual_usage',\n",
    "       u'min_order_quantity', u'quantity', \n",
    "       u'diameter', u'wall', u'length', u'num_bends',\n",
    "       u'bend_radius', u'num_boss', u'num_bracket', u'other', u'cost']]\n",
    "# Reencode the categorical variables\n",
    "trainp1.insert(0, 'supplier', splr_trans, allow_duplicates=False)\n",
    "trainp1.insert(6, 'bracket_pricing', brack_price_vals, allow_duplicates=False)\n",
    "trainp1.insert(8, 'material_id', matid_trans, allow_duplicates=False)\n",
    "trainp1.insert(14, 'end_a_1x', end_a_1x_vals, allow_duplicates=False)\n",
    "trainp1.insert(15, 'end_a_2x', end_a_2x_vals, allow_duplicates=False)\n",
    "trainp1.insert(16, 'end_x_1x', end_x_1x_vals, allow_duplicates=False)\n",
    "trainp1.insert(17, 'end_x_2x', end_x_2x_vals, allow_duplicates=False)\n",
    "trainp1.insert(18, 'end_a', end_a_vals, allow_duplicates=False)\n",
    "trainp1.insert(19, 'end_x', end_x_vals, allow_duplicates=False)\n",
    "trainp1.insert(23, 'component_type_id_1', comp_id1_trans, allow_duplicates=False)\n",
    "trainp1.insert(24, 'quantity_1', quant1, allow_duplicates=False)\n",
    "trainp1.insert(25, 'component_type_id_2', comp_id2_trans, allow_duplicates=False)\n",
    "trainp1.insert(26, 'quantity_2', quant2, allow_duplicates=False)\n",
    "trainp1.insert(27, 'component_type_id_3', comp_id3_trans, allow_duplicates=False)\n",
    "trainp1.insert(28, 'quantity_3', quant3, allow_duplicates=False)\n",
    "trainp1.columns"
   ]
  },
  {
   "cell_type": "code",
   "execution_count": 251,
   "metadata": {
    "collapsed": true
   },
   "outputs": [],
   "source": [
    "trainp1.to_csv(os.path.join('..','competition_data','train_model_attempt6_final_data.csv'))"
   ]
  },
  {
   "cell_type": "code",
   "execution_count": 252,
   "metadata": {
    "collapsed": false
   },
   "outputs": [
    {
     "name": "stdout",
     "output_type": "stream",
     "text": [
      "Index([           u'supplier',                u'year',               u'month',\n",
      "                      u'days',        u'annual_usage',  u'min_order_quantity',\n",
      "           u'bracket_pricing',            u'quantity',         u'material_id',\n",
      "                  u'diameter',                u'wall',              u'length',\n",
      "                 u'num_bends',         u'bend_radius',            u'end_a_1x',\n",
      "                  u'end_a_2x',            u'end_x_1x',            u'end_x_2x',\n",
      "                     u'end_a',               u'end_x',            u'num_boss',\n",
      "               u'num_bracket',               u'other', u'component_type_id_1',\n",
      "                u'quantity_1', u'component_type_id_2',          u'quantity_2',\n",
      "       u'component_type_id_3',          u'quantity_3'],\n",
      "      dtype='object')\n",
      "30213\n"
     ]
    }
   ],
   "source": [
    "X_cols = trainp1.columns[:-1]\n",
    "print X_cols\n",
    "print len(trainp1)\n"
   ]
  },
  {
   "cell_type": "code",
   "execution_count": 237,
   "metadata": {
    "collapsed": true
   },
   "outputs": [],
   "source": [
    "from sklearn import cross_validation"
   ]
  },
  {
   "cell_type": "code",
   "execution_count": 253,
   "metadata": {
    "collapsed": false
   },
   "outputs": [
    {
     "name": "stdout",
     "output_type": "stream",
     "text": [
      "supplier 0\n",
      "year 0\n",
      "month 0\n",
      "days 0\n",
      "annual_usage 0\n",
      "min_order_quantity 0\n",
      "bracket_pricing 0\n",
      "quantity 0\n",
      "material_id 0\n",
      "diameter 0\n",
      "wall 0\n",
      "length 0\n",
      "num_bends 0\n",
      "bend_radius 0\n",
      "end_a_1x 0\n",
      "end_a_2x 0\n",
      "end_x_1x 0\n",
      "end_x_2x 0\n",
      "end_a 0\n",
      "end_x 0\n",
      "num_boss 0\n",
      "num_bracket 0\n",
      "other 0\n",
      "component_type_id_1 0\n",
      "quantity_1 0\n",
      "component_type_id_2 0\n",
      "quantity_2 0\n",
      "component_type_id_3 0\n",
      "quantity_3 0\n",
      "cost 0\n"
     ]
    }
   ],
   "source": [
    "# Check for inf\n",
    "for column in trainp1.columns:\n",
    "    print column, np.sum(trainp1[column].isnull())"
   ]
  },
  {
   "cell_type": "markdown",
   "metadata": {},
   "source": [
    "# Randomize the data"
   ]
  },
  {
   "cell_type": "code",
   "execution_count": 254,
   "metadata": {
    "collapsed": true
   },
   "outputs": [],
   "source": [
    "train_shfl = trainp1.iloc[np.random.permutation(len(trainp1))]"
   ]
  },
  {
   "cell_type": "code",
   "execution_count": 255,
   "metadata": {
    "collapsed": false
   },
   "outputs": [],
   "source": [
    "#X_cols = ['diameter','wall','length','num_bends','bend_radius',\n",
    "#          'quantity','year','month','day']\n",
    "train_X = train_shfl.as_matrix(train_shfl.columns[:-1])\n",
    "train_y = train_shfl.as_matrix(['cost'])[:,0]\n",
    "#print train_X[0]\n",
    "#train_y\n"
   ]
  },
  {
   "cell_type": "code",
   "execution_count": 241,
   "metadata": {
    "collapsed": false
   },
   "outputs": [],
   "source": [
    "gbr = GradientBoostingRegressor(n_estimators=2000,max_depth=6,min_samples_split=6)"
   ]
  },
  {
   "cell_type": "code",
   "execution_count": 23,
   "metadata": {
    "collapsed": false
   },
   "outputs": [],
   "source": [
    "from sklearn.grid_search import GridSearchCV"
   ]
  },
  {
   "cell_type": "code",
   "execution_count": 24,
   "metadata": {
    "collapsed": false
   },
   "outputs": [
    {
     "data": {
      "text/plain": [
       "{'alpha': 0.9,\n",
       " 'init': None,\n",
       " 'learning_rate': 0.1,\n",
       " 'loss': 'ls',\n",
       " 'max_depth': 4,\n",
       " 'max_features': None,\n",
       " 'max_leaf_nodes': None,\n",
       " 'min_samples_leaf': 1,\n",
       " 'min_samples_split': 2,\n",
       " 'min_weight_fraction_leaf': 0.0,\n",
       " 'n_estimators': 1000,\n",
       " 'random_state': None,\n",
       " 'subsample': 1.0,\n",
       " 'verbose': 0,\n",
       " 'warm_start': False}"
      ]
     },
     "execution_count": 24,
     "metadata": {},
     "output_type": "execute_result"
    }
   ],
   "source": [
    "gbr.get_params()"
   ]
  },
  {
   "cell_type": "code",
   "execution_count": 26,
   "metadata": {
    "collapsed": true
   },
   "outputs": [],
   "source": [
    "param_grids = {'max_depth': [3,4,5,7], 'min_samples_split': [2,4,6], \n",
    "               'n_estimators': [1200] }"
   ]
  },
  {
   "cell_type": "code",
   "execution_count": 29,
   "metadata": {
    "collapsed": true
   },
   "outputs": [],
   "source": [
    "gs_clf = GridSearchCV(gbr,param_grids,scoring='mean_absolute_error', cv=10)"
   ]
  },
  {
   "cell_type": "code",
   "execution_count": 30,
   "metadata": {
    "collapsed": false
   },
   "outputs": [
    {
     "data": {
      "text/plain": [
       "GridSearchCV(cv=10, error_score='raise',\n",
       "       estimator=GradientBoostingRegressor(alpha=0.9, init=None, learning_rate=0.1, loss='ls',\n",
       "             max_depth=4, max_features=None, max_leaf_nodes=None,\n",
       "             min_samples_leaf=1, min_samples_split=2,\n",
       "             min_weight_fraction_leaf=0.0, n_estimators=1000,\n",
       "             random_state=None, subsample=1.0, verbose=0, warm_start=False),\n",
       "       fit_params={}, iid=True, loss_func=None, n_jobs=1,\n",
       "       param_grid={'min_samples_split': [2, 4, 6], 'n_estimators': [1200], 'max_depth': [3, 4, 5, 7]},\n",
       "       pre_dispatch='2*n_jobs', refit=True, score_func=None,\n",
       "       scoring='mean_absolute_error', verbose=0)"
      ]
     },
     "execution_count": 30,
     "metadata": {},
     "output_type": "execute_result"
    }
   ],
   "source": [
    "gs_clf.fit(train_X,train_y)"
   ]
  },
  {
   "cell_type": "code",
   "execution_count": 33,
   "metadata": {
    "collapsed": false
   },
   "outputs": [
    {
     "data": {
      "text/plain": [
       "{'max_depth': 7, 'min_samples_split': 6, 'n_estimators': 1200}"
      ]
     },
     "execution_count": 33,
     "metadata": {},
     "output_type": "execute_result"
    }
   ],
   "source": [
    "gs_clf.best_params_"
   ]
  },
  {
   "cell_type": "code",
   "execution_count": 34,
   "metadata": {
    "collapsed": false
   },
   "outputs": [
    {
     "data": {
      "text/plain": [
       "-0.92218723767427391"
      ]
     },
     "execution_count": 34,
     "metadata": {},
     "output_type": "execute_result"
    }
   ],
   "source": [
    "gs_clf.best_score_"
   ]
  },
  {
   "cell_type": "code",
   "execution_count": 256,
   "metadata": {
    "collapsed": true
   },
   "outputs": [],
   "source": [
    "gbr_opt = GradientBoostingRegressor(n_estimators=2400,min_samples_split=6,max_depth=7)"
   ]
  },
  {
   "cell_type": "code",
   "execution_count": 257,
   "metadata": {
    "collapsed": false
   },
   "outputs": [
    {
     "data": {
      "text/plain": [
       "array([ 0.84778487,  0.85219928,  0.75993748,  0.83681613,  0.90788336,\n",
       "        0.78640281,  0.83419994,  0.8650347 ,  0.8280799 ,  0.88767556])"
      ]
     },
     "execution_count": 257,
     "metadata": {},
     "output_type": "execute_result"
    }
   ],
   "source": [
    "scores = cross_validation.cross_val_score(gbr_opt, train_X, train_y, cv=10)\n",
    "scores"
   ]
  },
  {
   "cell_type": "code",
   "execution_count": 258,
   "metadata": {
    "collapsed": false
   },
   "outputs": [
    {
     "name": "stdout",
     "output_type": "stream",
     "text": [
      "Accuracy: 0.84 (+/- 0.08)\n"
     ]
    }
   ],
   "source": [
    "print(\"Accuracy: %0.2f (+/- %0.2f)\" % (scores.mean(), scores.std() * 2))"
   ]
  },
  {
   "cell_type": "code",
   "execution_count": 259,
   "metadata": {
    "collapsed": false
   },
   "outputs": [
    {
     "data": {
      "image/png": "[encoded data removed]",
      "text/plain": [
       "<matplotlib.figure.Figure at 0x7f1e6a8ca190>"
      ]
     },
     "metadata": {},
     "output_type": "display_data"
    }
   ],
   "source": [
    "pred_y = cross_validation.cross_val_predict(gbr_opt,train_X,train_y,cv=10)\n",
    "#pred_y = cross_validation.cross_val_predict?\n",
    "plt.scatter(train_y, pred_y,  color='black')\n",
    "plt.xlim((0,150))\n",
    "plt.ylim ((0,150))\n",
    "\n",
    "plt.show()"
   ]
  },
  {
   "cell_type": "code",
   "execution_count": 262,
   "metadata": {
    "collapsed": false
   },
   "outputs": [
    {
     "data": {
      "text/plain": [
       "GradientBoostingRegressor(alpha=0.9, init=None, learning_rate=0.1, loss='ls',\n",
       "             max_depth=7, max_features=None, max_leaf_nodes=None,\n",
       "             min_samples_leaf=1, min_samples_split=6,\n",
       "             min_weight_fraction_leaf=0.0, n_estimators=2400,\n",
       "             random_state=None, subsample=1.0, verbose=0, warm_start=False)"
      ]
     },
     "execution_count": 262,
     "metadata": {},
     "output_type": "execute_result"
    }
   ],
   "source": [
    "gbr_opt.fit(train_X,train_y)"
   ]
  },
  {
   "cell_type": "code",
   "execution_count": 263,
   "metadata": {
    "collapsed": false
   },
   "outputs": [
    {
     "data": {
      "text/plain": [
       "array([ 0.03178458,  0.00950982,  0.04307509,  0.12944867,  0.09332158,\n",
       "        0.02544327,  0.00731318,  0.19097495,  0.02636492,  0.04751447,\n",
       "        0.02902506,  0.13096546,  0.04067198,  0.03883891,  0.0053756 ,\n",
       "        0.00782471,  0.00484318,  0.00733755,  0.0176497 ,  0.02145   ,\n",
       "        0.00433514,  0.00129234,  0.00281661,  0.03051995,  0.00779195,\n",
       "        0.01570478,  0.01088295,  0.01427164,  0.00365198])"
      ]
     },
     "execution_count": 263,
     "metadata": {},
     "output_type": "execute_result"
    }
   ],
   "source": [
    "gbr_opt.feature_importances_"
   ]
  },
  {
   "cell_type": "code",
   "execution_count": 264,
   "metadata": {
    "collapsed": false
   },
   "outputs": [],
   "source": [
    "test_set = pd.read_csv(os.path.join('..','competition_data','test_set.csv'))"
   ]
  },
  {
   "cell_type": "code",
   "execution_count": 50,
   "metadata": {
    "collapsed": false
   },
   "outputs": [
    {
     "data": {
      "text/plain": [
       "Index([u'id', u'tube_assembly_id', u'supplier', u'quote_date', u'annual_usage',\n",
       "       u'min_order_quantity', u'bracket_pricing', u'quantity'],\n",
       "      dtype='object')"
      ]
     },
     "execution_count": 50,
     "metadata": {},
     "output_type": "execute_result"
    }
   ],
   "source": [
    "test_set.columns"
   ]
  },
  {
   "cell_type": "code",
   "execution_count": 268,
   "metadata": {
    "collapsed": false
   },
   "outputs": [
    {
     "name": "stdout",
     "output_type": "stream",
     "text": [
      "Index([u'tube_assembly_id', u'material_id', u'diameter', u'wall', u'length',\n",
      "       u'num_bends', u'bend_radius', u'end_a_1x', u'end_a_2x', u'end_x_1x',\n",
      "       u'end_x_2x', u'end_a', u'end_x', u'num_boss', u'num_bracket', u'other'],\n",
      "      dtype='object')\n"
     ]
    }
   ],
   "source": [
    "# Merge the tube.csv and bill of sale with train_set.csv to get the parameter\n",
    "tubedf = pd.read_csv(os.path.join('..','competition_data','tube.csv'),  header=0)\n",
    "compdf = pd.read_csv(os.path.join('..','competition_data','components.csv'),index_col=0, header=0)\n",
    "billdf = pd.read_csv(os.path.join('..','competition_data','bill_of_materials.csv'), header=0)\n",
    "\n",
    "print tubedf.columns"
   ]
  },
  {
   "cell_type": "code",
   "execution_count": 271,
   "metadata": {
    "collapsed": false
   },
   "outputs": [],
   "source": [
    "testm1 = test_set.merge(tubedf,on='tube_assembly_id')\n",
    "testm2 = testm1.merge(billdfm,on='tube_assembly_id')"
   ]
  },
  {
   "cell_type": "code",
   "execution_count": 272,
   "metadata": {
    "collapsed": true
   },
   "outputs": [],
   "source": [
    "years, months, ofsetdates = get_year_month_offset(testm2.quote_date, '2010-12-31')\n",
    "testp = testm2.loc[:,[u'supplier', u'quote_date', u'annual_usage',\n",
    "       u'min_order_quantity', u'bracket_pricing', u'quantity', \n",
    "       u'material_id', u'diameter', u'wall', u'length', u'num_bends',\n",
    "       u'bend_radius', u'end_a_1x', u'end_a_2x', u'end_x_1x', u'end_x_2x',\n",
    "       u'end_a', u'end_x', u'num_boss', u'num_bracket', u'other',\n",
    "       u'component_id_name_1', u'component_type_id_1', u'quantity_1',\n",
    "       u'component_id_name_2', u'component_type_id_2', u'quantity_2',\n",
    "       u'component_id_name_3', u'component_type_id_3', u'quantity_3',\n",
    "       'cost']]\n",
    "testp = testp.drop('quote_date',axis=1)\n",
    "testp.insert(1, 'year', years)\n",
    "testp.insert(2, 'month', months)\n",
    "testp.insert(3, 'days', ofsetdates)"
   ]
  },
  {
   "cell_type": "code",
   "execution_count": null,
   "metadata": {
    "collapsed": true
   },
   "outputs": [],
   "source": [
    "lbl_enc = LabelEncoder()\n",
    "lbl_enc.fit(trainp.component_type_id_1.values)  \n",
    "print lbl_enc.classes_\n",
    "comp_id1_trans = lbl_enc.transform(trainp.component_type_id_1.values)\n",
    "from collections import defaultdict\n",
    "d = defaultdict(int)\n",
    "for i in comp_id1_trans:\n",
    "    d[i] += 1\n",
    "print d\n",
    "\n",
    "for i in range(len(comp_id1_trans)):\n",
    "    if d[comp_id1_trans[i]] < TRANSFORM_CUTOFF:\n",
    "        comp_id1_trans[i] = 0 \n",
    "\n",
    "d1 = defaultdict(int)\n",
    "for i in comp_id1_trans:\n",
    "    d1[i] += 1\n",
    "\n",
    "print d1\n",
    "lbl1_map = {}\n",
    "for i, lbl in enumerate(list(lbl_enc.classes_)):\n",
    "    lbl1_map[lbl] = i"
   ]
  },
  {
   "cell_type": "code",
   "execution_count": 28,
   "metadata": {
    "collapsed": false
   },
   "outputs": [],
   "source": [
    "comp1, quant1, comp2, quant2, comp3, quant3, mat_id = [], [], [], [], [], [], []\n",
    "\n",
    "for tubeid in test_set.tube_assembly_id.values:\n",
    "    comp_id1 = billdf.loc[tubeid]['component_id_1']\n",
    "    #print comp_id1\n",
    "    try:\n",
    "        if not isinstance(comp_id1,str):\n",
    "            comp1.append(np.nan)\n",
    "        else:\n",
    "            #print compdf.loc[comp_id1]['name']\n",
    "            comp1.append(compdf.loc[comp_id1]['name'])\n",
    "    except:\n",
    "        print comp_id1\n",
    "    comp_id2 = billdf.loc[tubeid]['component_id_2']\n",
    "    if not isinstance(comp_id2,str):\n",
    "        comp2.append(np.nan)\n",
    "    else:\n",
    "        comp2.append(compdf.loc[comp_id2]['name'])\n",
    "    comp_id3 = billdf.loc[tubeid]['component_id_3']\n",
    "    if not isinstance(comp_id3,str):\n",
    "        comp3.append(np.nan)\n",
    "    else:\n",
    "        comp3.append(compdf.loc[comp_id3]['name'])\n",
    "    if not np.isnan(billdf.loc[tubeid]['quantity_1']):\n",
    "        quant1.append(billdf.loc[tubeid]['quantity_1'])\n",
    "    else:\n",
    "        quant1.append(0)\n",
    "    if not np.isnan(billdf.loc[tubeid]['quantity_2']):\n",
    "        quant2.append(billdf.loc[tubeid]['quantity_2'])\n",
    "    else:\n",
    "        quant2.append(0)\n",
    "    if not np.isnan(billdf.loc[tubeid]['quantity_3']):\n",
    "        quant3.append(billdf.loc[tubeid]['quantity_3'])\n",
    "    else:\n",
    "        quant3.append(0)\n",
    "#    quant3.append(billdf.loc[tubeid]['quantity_3'])\n"
   ]
  },
  {
   "cell_type": "code",
   "execution_count": 29,
   "metadata": {
    "collapsed": false
   },
   "outputs": [],
   "source": [
    "matid, dia, wall, length, n_bends, bend_rad = [], [], [], [], [], []\n",
    "for tubeid in test_set.tube_assembly_id.values:\n",
    "    matid.append(tubedf.loc[tubeid]['material_id'])\n",
    "    dia.append(tubedf.loc[tubeid]['diameter'])\n",
    "    wall.append(tubedf.loc[tubeid]['wall'])\n",
    "    length.append(tubedf.loc[tubeid]['length'])\n",
    "    n_bends.append(tubedf.loc[tubeid]['num_bends'])\n",
    "    bend_rad.append(tubedf.loc[tubeid]['bend_radius'])"
   ]
  },
  {
   "cell_type": "code",
   "execution_count": 30,
   "metadata": {
    "collapsed": true
   },
   "outputs": [],
   "source": [
    "end_a_2x, end_x_2x, end_a, end_x = [], [], [], []\n",
    "for tubeid in test_set.tube_assembly_id.values:\n",
    "    end_a_2x.append(tubedf.loc[tubeid]['end_a_2x'])\n",
    "    end_x_2x.append(tubedf.loc[tubeid]['end_x_2x'])\n",
    "    end_a.append(tubedf.loc[tubeid]['end_a'])\n",
    "    end_x.append(tubedf.loc[tubeid]['end_x'])"
   ]
  },
  {
   "cell_type": "code",
   "execution_count": 31,
   "metadata": {
    "collapsed": true
   },
   "outputs": [],
   "source": [
    "comp1x, comp2x, comp3x, quant1x, quant2x, quant3x = map(np.array, [comp1, comp2, comp3, quant1, quant2, quant3])\n",
    "matidx, diax, wallx, lengthx, n_bendsx, bend_radx = map(np.array, [matid, dia, wall, length, n_bends, bend_rad])\n",
    "end_a_2xx, end_x_2xx, end_ax, end_xx = map(np.array, [end_a_2x, end_x_2x, end_a, end_x])"
   ]
  },
  {
   "cell_type": "code",
   "execution_count": 33,
   "metadata": {
    "collapsed": true
   },
   "outputs": [],
   "source": [
    "testp1 = testp.loc[:,[u'year', u'month', u'days', u'annual_usage',\n",
    "       u'min_order_quantity', u'quantity', \n",
    "       u'diameter', u'wall', u'length', u'num_bends',\n",
    "       u'bend_radius', u'num_boss', u'num_bracket', u'other', u'cost']]\n",
    "# Reencode the categorical variables\n",
    "testp1.insert(0, 'supplier', splr_trans, allow_duplicates=False)\n",
    "testp1.insert(6, 'bracket_pricing', brack_price_vals, allow_duplicates=False)\n",
    "testp1.insert(8, 'material_id', matid_trans, allow_duplicates=False)\n",
    "testp1.insert(14, 'end_a_1x', end_a_1x_vals, allow_duplicates=False)\n",
    "testp1.insert(15, 'end_a_2x', end_a_2x_vals, allow_duplicates=False)\n",
    "testp1.insert(16, 'end_x_1x', end_x_1x_vals, allow_duplicates=False)\n",
    "testp1.insert(17, 'end_x_2x', end_x_2x_vals, allow_duplicates=False)\n",
    "testp1.insert(18, 'end_a', end_a_vals, allow_duplicates=False)\n",
    "testp1.insert(19, 'end_x', end_x_vals, allow_duplicates=False)\n",
    "testp1.insert(23, 'component_type_id_1', comp_id1_trans, allow_duplicates=False)\n",
    "testp1.insert(24, 'quantity_1', quant1, allow_duplicates=False)\n",
    "testp1.insert(25, 'component_type_id_2', comp_id2_trans, allow_duplicates=False)\n",
    "testp1.insert(26, 'quantity_2', quant2, allow_duplicates=False)\n",
    "testp1.insert(27, 'component_type_id_3', comp_id3_trans, allow_duplicates=False)\n",
    "testp1.insert(28, 'quantity_3', quant3, allow_duplicates=False)\n",
    "testp1.columns\n",
    "\n",
    "#testp = test_set.loc[:,['quantity']]\n",
    "#testp.insert(1,'component_id_1_name', comp1x,allow_duplicates=False)\n",
    "#testp.insert(2,'quantity_1', quant1x, allow_duplicates=False)\n",
    "#testp.insert(3,'component_id_2_name', comp1x,allow_duplicates=False)\n",
    "#testp.insert(4,'quantity_2', quant1x, allow_duplicates=False)\n",
    "#testp.insert(5,'component_id_3_name', comp1x,allow_duplicates=False)\n",
    "#testp.insert(6,'quantity_3', quant1x, allow_duplicates=False)\n",
    "#testp.insert(7,'material_id',matidx,  allow_duplicates=False)\n",
    "#testp.insert(8,'diameter', diax, allow_duplicates=False)\n",
    "#testp.insert(9,'wall', wallx, allow_duplicates=False)\n",
    "#testp.insert(10,'length', lengthx, allow_duplicates=False)\n",
    "#testp.insert(11,'num_bends',n_bendsx, allow_duplicates=False)\n",
    "#testp.insert(12,'bend_radius', bend_radx, allow_duplicates=False)\n",
    "#testp.insert(13,'end_a_2x', end_a_2xx, allow_duplicates=False)\n",
    "#testp.insert(14,'end_x_2x', end_x_2xx, allow_duplicates=False)\n",
    "#testp.insert(15,'end_a', end_ax, allow_duplicates=False)\n",
    "#testp.insert(16,'end_x', end_xx, allow_duplicates=False)\n",
    "#testp.insert(17,'year', year, allow_duplicates=False)\n",
    "#testp.insert(18,'month', month, allow_duplicates=False)\n",
    "#testp.insert(19,'day',ofsetdate, allow_duplicates=False)\n"
   ]
  },
  {
   "cell_type": "code",
   "execution_count": 34,
   "metadata": {
    "collapsed": false
   },
   "outputs": [
    {
     "name": "stderr",
     "output_type": "stream",
     "text": [
      "/usr/lib/python2.7/site-packages/IPython/kernel/__main__.py:3: SettingWithCopyWarning: \n",
      "A value is trying to be set on a copy of a slice from a DataFrame\n",
      "\n",
      "See the the caveats in the documentation: http://pandas.pydata.org/pandas-docs/stable/indexing.html#indexing-view-versus-copy\n",
      "  app.launch_new_instance()\n",
      "/usr/lib/python2.7/site-packages/IPython/kernel/__main__.py:4: SettingWithCopyWarning: \n",
      "A value is trying to be set on a copy of a slice from a DataFrame\n",
      "\n",
      "See the the caveats in the documentation: http://pandas.pydata.org/pandas-docs/stable/indexing.html#indexing-view-versus-copy\n"
     ]
    }
   ],
   "source": [
    "testp1 = testp.copy()\n",
    "for key,value in material_id_map.items():\n",
    "    testp1.material_id[testp1.material_id==key] = value\n",
    "testp1.material_id[testp1.material_id.isnull()] = 4"
   ]
  },
  {
   "cell_type": "code",
   "execution_count": 35,
   "metadata": {
    "collapsed": false
   },
   "outputs": [
    {
     "name": "stderr",
     "output_type": "stream",
     "text": [
      "/usr/lib/python2.7/site-packages/IPython/kernel/__main__.py:3: SettingWithCopyWarning: \n",
      "A value is trying to be set on a copy of a slice from a DataFrame\n",
      "\n",
      "See the the caveats in the documentation: http://pandas.pydata.org/pandas-docs/stable/indexing.html#indexing-view-versus-copy\n",
      "  app.launch_new_instance()\n",
      "/usr/lib/python2.7/site-packages/IPython/kernel/__main__.py:4: SettingWithCopyWarning: \n",
      "A value is trying to be set on a copy of a slice from a DataFrame\n",
      "\n",
      "See the the caveats in the documentation: http://pandas.pydata.org/pandas-docs/stable/indexing.html#indexing-view-versus-copy\n",
      "/usr/lib/python2.7/site-packages/IPython/kernel/__main__.py:5: SettingWithCopyWarning: \n",
      "A value is trying to be set on a copy of a slice from a DataFrame\n",
      "\n",
      "See the the caveats in the documentation: http://pandas.pydata.org/pandas-docs/stable/indexing.html#indexing-view-versus-copy\n",
      "/usr/lib/python2.7/site-packages/IPython/kernel/__main__.py:6: SettingWithCopyWarning: \n",
      "A value is trying to be set on a copy of a slice from a DataFrame\n",
      "\n",
      "See the the caveats in the documentation: http://pandas.pydata.org/pandas-docs/stable/indexing.html#indexing-view-versus-copy\n"
     ]
    }
   ],
   "source": [
    "testp2 = testp1.copy()\n",
    "for key,value in end_map.items():\n",
    "    testp2.end_a[testp2.end_a==key] = value\n",
    "    testp2.end_x[testp2.end_x==key] = value\n",
    "testp2.end_a[testp2.end_a.isnull()] = 4\n",
    "testp2.end_x[testp2.end_x.isnull()] = 4"
   ]
  },
  {
   "cell_type": "code",
   "execution_count": 36,
   "metadata": {
    "collapsed": false
   },
   "outputs": [
    {
     "name": "stderr",
     "output_type": "stream",
     "text": [
      "/usr/lib/python2.7/site-packages/IPython/kernel/__main__.py:2: SettingWithCopyWarning: \n",
      "A value is trying to be set on a copy of a slice from a DataFrame\n",
      "\n",
      "See the the caveats in the documentation: http://pandas.pydata.org/pandas-docs/stable/indexing.html#indexing-view-versus-copy\n",
      "  from IPython.kernel.zmq import kernelapp as app\n",
      "/usr/lib/python2.7/site-packages/IPython/kernel/__main__.py:3: SettingWithCopyWarning: \n",
      "A value is trying to be set on a copy of a slice from a DataFrame\n",
      "\n",
      "See the the caveats in the documentation: http://pandas.pydata.org/pandas-docs/stable/indexing.html#indexing-view-versus-copy\n",
      "  app.launch_new_instance()\n",
      "/usr/lib/python2.7/site-packages/IPython/kernel/__main__.py:4: SettingWithCopyWarning: \n",
      "A value is trying to be set on a copy of a slice from a DataFrame\n",
      "\n",
      "See the the caveats in the documentation: http://pandas.pydata.org/pandas-docs/stable/indexing.html#indexing-view-versus-copy\n",
      "/usr/lib/python2.7/site-packages/IPython/kernel/__main__.py:5: SettingWithCopyWarning: \n",
      "A value is trying to be set on a copy of a slice from a DataFrame\n",
      "\n",
      "See the the caveats in the documentation: http://pandas.pydata.org/pandas-docs/stable/indexing.html#indexing-view-versus-copy\n"
     ]
    }
   ],
   "source": [
    "testp3 = testp2.copy()\n",
    "testp3.end_x_2x[testp3.end_x_2x=='N'] = 0\n",
    "testp3.end_x_2x[testp3.end_x_2x=='Y'] = 1\n",
    "testp3.end_a_2x[testp3.end_a_2x=='N'] = 0\n",
    "testp3.end_a_2x[testp3.end_a_2x=='Y'] = 1"
   ]
  },
  {
   "cell_type": "code",
   "execution_count": 189,
   "metadata": {
    "collapsed": false
   },
   "outputs": [
    {
     "name": "stdout",
     "output_type": "stream",
     "text": [
      "{nan: 0, 'ELBOW-90 DEG': 17, 'HEAD FLANGED': 25, 'ELBOW-90 DEGREE': 18, 'BLOCK-HYD': 6, 'NUT-SWIVEL': 28, 'FLANGE': 21, 'CONNECTOR': 8, 'ELBOW': 14, 'ELBOW-37 (DEG)': 15, 'CONNECTOR-WELD': 13, 'BLOCK': 5, 'CONNECTOR-ORFS': 10, 'ADAPTER-O SUPPL': 3, 'HEAD-FLANGED': 26, 'ADAPTER-O LINE': 2, 'FLANGE-ONE PIEC': 23, 'TEE-FLARED': 35, 'ELBOW-HYDRAULIC': 19, 'SLEEVE-FLARED': 32, 'ADAPTER': 1, 'SLEEVE-REDUCER': 34, 'CONNECTOR-BHD': 9, 'FLANGE-ONE PC': 22, 'BOSS': 7, 'NUT-ORFS': 27, 'FITTING': 20, 'CONNECTOR-SPL': 12, 'CONNECTOR-SEAL': 11, 'PLATE': 29, 'FLANGE-ONE PIECE': 24, 'SLEEVE': 31, 'TUBE': 36, 'TUBE AS.': 37, 'SLEEVE-ORFS': 33, 'PLUG-STOR': 30, 'ELBOW-90 (DEG)': 16, 'ADAPTER-OIL LIN': 4}\n"
     ]
    }
   ],
   "source": [
    "print lbl3_map"
   ]
  },
  {
   "cell_type": "code",
   "execution_count": 57,
   "metadata": {
    "collapsed": false
   },
   "outputs": [
    {
     "name": "stderr",
     "output_type": "stream",
     "text": [
      "/usr/lib/python2.7/site-packages/IPython/kernel/__main__.py:8: SettingWithCopyWarning: \n",
      "A value is trying to be set on a copy of a slice from a DataFrame\n",
      "\n",
      "See the the caveats in the documentation: http://pandas.pydata.org/pandas-docs/stable/indexing.html#indexing-view-versus-copy\n",
      "/usr/lib/python2.7/site-packages/IPython/kernel/__main__.py:12: SettingWithCopyWarning: \n",
      "A value is trying to be set on a copy of a slice from a DataFrame\n",
      "\n",
      "See the the caveats in the documentation: http://pandas.pydata.org/pandas-docs/stable/indexing.html#indexing-view-versus-copy\n",
      "/usr/lib/python2.7/site-packages/IPython/kernel/__main__.py:16: SettingWithCopyWarning: \n",
      "A value is trying to be set on a copy of a slice from a DataFrame\n",
      "\n",
      "See the the caveats in the documentation: http://pandas.pydata.org/pandas-docs/stable/indexing.html#indexing-view-versus-copy\n"
     ]
    }
   ],
   "source": [
    "testp4 = testp3.copy()\n",
    "k1 = lbl1_map.keys()\n",
    "val = testp4.component_id_1_name.values\n",
    "mask = [x not in k1 for x in val] \n",
    "#for i in range(len(testp4.component_id_1_name)):\n",
    "#    if testp4.component_id_1_name[i] not in lbl1_map:\n",
    "#        testp4.component_id_1_name[i] = 1\n",
    "testp4.component_id_1_name[mask] = 1\n",
    "k2 = lbl2_map.keys()\n",
    "val = testp4.component_id_2_name.values\n",
    "mask = [x not in k2 for x in val] \n",
    "testp4.component_id_2_name[mask] = 1\n",
    "k3 = lbl3_map.keys()\n",
    "val = testp4.component_id_3_name.values\n",
    "mask = [x not in k3 for x in val] \n",
    "testp4.component_id_3_name[mask] = 1\n",
    "\n",
    "#for i in range(len(testp4.component_id_2_name)):\n",
    "#    if testp4.component_id_2_name[i] not in lbl2_map:\n",
    "#        testp4.component_id_2_name[i] = 1\n",
    "#for i in range(len(testp4.component_id_3_name)):\n",
    "#    if testp4.component_id_3_name[i] not in lbl3_map:\n",
    "#        testp4.component_id_3_name[i] = 1\n"
   ]
  },
  {
   "cell_type": "code",
   "execution_count": 58,
   "metadata": {
    "collapsed": false
   },
   "outputs": [
    {
     "name": "stderr",
     "output_type": "stream",
     "text": [
      "/usr/lib/python2.7/site-packages/IPython/kernel/__main__.py:3: SettingWithCopyWarning: \n",
      "A value is trying to be set on a copy of a slice from a DataFrame\n",
      "\n",
      "See the the caveats in the documentation: http://pandas.pydata.org/pandas-docs/stable/indexing.html#indexing-view-versus-copy\n",
      "  app.launch_new_instance()\n",
      "/usr/lib/python2.7/site-packages/IPython/kernel/__main__.py:4: SettingWithCopyWarning: \n",
      "A value is trying to be set on a copy of a slice from a DataFrame\n",
      "\n",
      "See the the caveats in the documentation: http://pandas.pydata.org/pandas-docs/stable/indexing.html#indexing-view-versus-copy\n",
      "/usr/lib/python2.7/site-packages/IPython/kernel/__main__.py:6: SettingWithCopyWarning: \n",
      "A value is trying to be set on a copy of a slice from a DataFrame\n",
      "\n",
      "See the the caveats in the documentation: http://pandas.pydata.org/pandas-docs/stable/indexing.html#indexing-view-versus-copy\n",
      "/usr/lib/python2.7/site-packages/IPython/kernel/__main__.py:7: SettingWithCopyWarning: \n",
      "A value is trying to be set on a copy of a slice from a DataFrame\n",
      "\n",
      "See the the caveats in the documentation: http://pandas.pydata.org/pandas-docs/stable/indexing.html#indexing-view-versus-copy\n",
      "/usr/lib/python2.7/site-packages/IPython/kernel/__main__.py:9: SettingWithCopyWarning: \n",
      "A value is trying to be set on a copy of a slice from a DataFrame\n",
      "\n",
      "See the the caveats in the documentation: http://pandas.pydata.org/pandas-docs/stable/indexing.html#indexing-view-versus-copy\n",
      "/usr/lib/python2.7/site-packages/IPython/kernel/__main__.py:10: SettingWithCopyWarning: \n",
      "A value is trying to be set on a copy of a slice from a DataFrame\n",
      "\n",
      "See the the caveats in the documentation: http://pandas.pydata.org/pandas-docs/stable/indexing.html#indexing-view-versus-copy\n"
     ]
    }
   ],
   "source": [
    "\n",
    "for key,value in lbl1_map.items():\n",
    "    testp4.component_id_1_name[testp4.component_id_1_name==key] = value\n",
    "testp4.component_id_1_name[testp4.component_id_1_name.isnull()] = 0\n",
    "for key,value in lbl2_map.items():\n",
    "    testp4.component_id_2_name[testp4.component_id_2_name==key] = value\n",
    "testp4.component_id_2_name[testp4.component_id_2_name.isnull()] = 0\n",
    "for key,value in lbl3_map.items():\n",
    "    testp4.component_id_3_name[testp4.component_id_3_name==key] = value\n",
    "testp4.component_id_3_name[testp4.component_id_3_name.isnull()] = 0\n"
   ]
  },
  {
   "cell_type": "code",
   "execution_count": 70,
   "metadata": {
    "collapsed": false
   },
   "outputs": [
    {
     "name": "stderr",
     "output_type": "stream",
     "text": [
      "/usr/lib/python2.7/site-packages/IPython/kernel/__main__.py:5: SettingWithCopyWarning: \n",
      "A value is trying to be set on a copy of a slice from a DataFrame\n",
      "\n",
      "See the the caveats in the documentation: http://pandas.pydata.org/pandas-docs/stable/indexing.html#indexing-view-versus-copy\n",
      "/usr/lib/python2.7/site-packages/IPython/kernel/__main__.py:9: SettingWithCopyWarning: \n",
      "A value is trying to be set on a copy of a slice from a DataFrame\n",
      "\n",
      "See the the caveats in the documentation: http://pandas.pydata.org/pandas-docs/stable/indexing.html#indexing-view-versus-copy\n",
      "/usr/lib/python2.7/site-packages/IPython/kernel/__main__.py:13: SettingWithCopyWarning: \n",
      "A value is trying to be set on a copy of a slice from a DataFrame\n",
      "\n",
      "See the the caveats in the documentation: http://pandas.pydata.org/pandas-docs/stable/indexing.html#indexing-view-versus-copy\n"
     ]
    }
   ],
   "source": [
    "testp5 = testp4.copy()\n",
    "k1 = d1.keys()\n",
    "val = testp5.component_id_1_name.values\n",
    "mask = [x not in k1 for x in val] \n",
    "testp5.component_id_1_name[mask] = 1\n",
    "k2 = d2.keys()\n",
    "val = testp5.component_id_2_name.values\n",
    "mask = [x not in k2 for x in val] \n",
    "testp5.component_id_2_name[mask] = 1\n",
    "k3 = d3.keys()\n",
    "val = testp5.component_id_3_name.values\n",
    "mask = [x not in k3 for x in val] \n",
    "testp5.component_id_3_name[mask] = 1"
   ]
  },
  {
   "cell_type": "code",
   "execution_count": 71,
   "metadata": {
    "collapsed": false
   },
   "outputs": [
    {
     "name": "stdout",
     "output_type": "stream",
     "text": [
      "[4, 4, 4, 1, 4, 4, 4, 4, 3, 4, 2, 0, 5]\n"
     ]
    },
    {
     "name": "stderr",
     "output_type": "stream",
     "text": [
      "/usr/lib/python2.7/site-packages/IPython/kernel/__main__.py:6: SettingWithCopyWarning: \n",
      "A value is trying to be set on a copy of a slice from a DataFrame\n",
      "\n",
      "See the the caveats in the documentation: http://pandas.pydata.org/pandas-docs/stable/indexing.html#indexing-view-versus-copy\n"
     ]
    }
   ],
   "source": [
    "#testp5 = testp4.copy()\n",
    "k1 = material_id_map.values()\n",
    "print k1\n",
    "val = testp5.material_id.values\n",
    "mask = [x not in k1 for x in val] \n",
    "testp5.material_id[mask] = 4"
   ]
  },
  {
   "cell_type": "code",
   "execution_count": 60,
   "metadata": {
    "collapsed": false
   },
   "outputs": [
    {
     "data": {
      "text/plain": [
       "43    14579\n",
       "41     5802\n",
       "37     2038\n",
       "1      1987\n",
       "14     1675\n",
       "42      848\n",
       "30      551\n",
       "48      452\n",
       "49      365\n",
       "9       297\n",
       "11      269\n",
       "34      229\n",
       "21      184\n",
       "31      155\n",
       "22      104\n",
       "47      100\n",
       "28       75\n",
       "16       62\n",
       "13       56\n",
       "10       41\n",
       "29       36\n",
       "38       36\n",
       "39       35\n",
       "24       32\n",
       "23       30\n",
       "32       24\n",
       "45       24\n",
       "7        21\n",
       "25       18\n",
       "2        13\n",
       "18       13\n",
       "51       12\n",
       "44       11\n",
       "4        11\n",
       "15       10\n",
       "35       10\n",
       "12        8\n",
       "46        5\n",
       "20        4\n",
       "17        3\n",
       "8         3\n",
       "40        2\n",
       "36        2\n",
       "33        2\n",
       "3         1\n",
       "dtype: int64"
      ]
     },
     "execution_count": 60,
     "metadata": {},
     "output_type": "execute_result"
    }
   ],
   "source": [
    "testp4.component_id_1_name.value_counts()"
   ]
  },
  {
   "cell_type": "code",
   "execution_count": 52,
   "metadata": {
    "collapsed": false
   },
   "outputs": [
    {
     "data": {
      "text/plain": [
       "43    14579\n",
       "41     5802\n",
       "1      4108\n",
       "37     2038\n",
       "14     1675\n",
       "42      848\n",
       "30      551\n",
       "49      365\n",
       "11      269\n",
       "dtype: int64"
      ]
     },
     "execution_count": 52,
     "metadata": {},
     "output_type": "execute_result"
    }
   ],
   "source": [
    "testp5.component_id_1_name.value_counts()"
   ]
  },
  {
   "cell_type": "code",
   "execution_count": 61,
   "metadata": {
    "collapsed": false
   },
   "outputs": [
    {
     "data": {
      "text/plain": [
       "1     27822\n",
       "11     1675\n",
       "33      365\n",
       "8       269\n",
       "17      104\n",
       "dtype: int64"
      ]
     },
     "execution_count": 61,
     "metadata": {},
     "output_type": "execute_result"
    }
   ],
   "source": [
    "testp5.component_id_3_name.value_counts()"
   ]
  },
  {
   "cell_type": "code",
   "execution_count": 72,
   "metadata": {
    "collapsed": false
   },
   "outputs": [
    {
     "data": {
      "text/plain": [
       "0    16051\n",
       "1     5728\n",
       "2     2947\n",
       "3     2750\n",
       "5     1559\n",
       "4     1200\n",
       "dtype: int64"
      ]
     },
     "execution_count": 72,
     "metadata": {},
     "output_type": "execute_result"
    }
   ],
   "source": [
    "testp5.material_id.value_counts()"
   ]
  },
  {
   "cell_type": "code",
   "execution_count": 64,
   "metadata": {
    "collapsed": false
   },
   "outputs": [
    {
     "data": {
      "text/html": [
       "<div>\n",
       "<table border=\"1\" class=\"dataframe\">\n",
       "  <thead>\n",
       "    <tr style=\"text-align: right;\">\n",
       "      <th></th>\n",
       "      <th>quantity</th>\n",
       "      <th>component_id_1_name</th>\n",
       "      <th>quantity_1</th>\n",
       "      <th>component_id_2_name</th>\n",
       "      <th>quantity_2</th>\n",
       "      <th>component_id_3_name</th>\n",
       "      <th>quantity_3</th>\n",
       "      <th>material_id</th>\n",
       "      <th>diameter</th>\n",
       "      <th>wall</th>\n",
       "      <th>length</th>\n",
       "      <th>num_bends</th>\n",
       "      <th>bend_radius</th>\n",
       "      <th>end_a_2x</th>\n",
       "      <th>end_x_2x</th>\n",
       "      <th>end_a</th>\n",
       "      <th>end_x</th>\n",
       "      <th>year</th>\n",
       "      <th>month</th>\n",
       "      <th>day</th>\n",
       "    </tr>\n",
       "  </thead>\n",
       "  <tbody>\n",
       "    <tr>\n",
       "      <th>0</th>\n",
       "      <td>1</td>\n",
       "      <td>43</td>\n",
       "      <td>2</td>\n",
       "      <td>35</td>\n",
       "      <td>2</td>\n",
       "      <td>1</td>\n",
       "      <td>2</td>\n",
       "      <td>1</td>\n",
       "      <td>12.7</td>\n",
       "      <td>1.65</td>\n",
       "      <td>164</td>\n",
       "      <td>5</td>\n",
       "      <td>38.1</td>\n",
       "      <td>0</td>\n",
       "      <td>0</td>\n",
       "      <td>0</td>\n",
       "      <td>0</td>\n",
       "      <td>2013</td>\n",
       "      <td>6</td>\n",
       "      <td>905</td>\n",
       "    </tr>\n",
       "  </tbody>\n",
       "</table>\n",
       "</div>"
      ],
      "text/plain": [
       "   quantity component_id_1_name  quantity_1 component_id_2_name  quantity_2  \\\n",
       "0         1                  43           2                  35           2   \n",
       "\n",
       "  component_id_3_name  quantity_3 material_id  diameter  wall  length  \\\n",
       "0                   1           2           1      12.7  1.65     164   \n",
       "\n",
       "   num_bends  bend_radius end_a_2x end_x_2x end_a end_x  year  month  day  \n",
       "0          5         38.1        0        0     0     0  2013      6  905  "
      ]
     },
     "execution_count": 64,
     "metadata": {},
     "output_type": "execute_result"
    }
   ],
   "source": [
    "testp5[0:1]"
   ]
  },
  {
   "cell_type": "code",
   "execution_count": 65,
   "metadata": {
    "collapsed": false
   },
   "outputs": [
    {
     "name": "stdout",
     "output_type": "stream",
     "text": [
      "quantity\n",
      "1       7018\n",
      "5       3160\n",
      "10      2992\n",
      "2       2741\n",
      "25      2523\n",
      "50      2513\n",
      "100     2348\n",
      "250     2218\n",
      "20      1289\n",
      "6        828\n",
      "3        507\n",
      "4        264\n",
      "15       253\n",
      "8        137\n",
      "12       135\n",
      "30       135\n",
      "9        128\n",
      "40       113\n",
      "7        103\n",
      "19       102\n",
      "24        51\n",
      "16        50\n",
      "35        49\n",
      "75        42\n",
      "60        39\n",
      "70        35\n",
      "55        31\n",
      "80        31\n",
      "18        26\n",
      "36        22\n",
      "        ... \n",
      "1034       1\n",
      "305        1\n",
      "225        1\n",
      "39         1\n",
      "65         1\n",
      "78         1\n",
      "71         1\n",
      "829        1\n",
      "110        1\n",
      "206        1\n",
      "160        1\n",
      "41         1\n",
      "46         1\n",
      "297        1\n",
      "59         1\n",
      "205        1\n",
      "550        1\n",
      "74         1\n",
      "51         1\n",
      "67         1\n",
      "83         1\n",
      "99         1\n",
      "1500       1\n",
      "92         1\n",
      "104        1\n",
      "170        1\n",
      "2500       1\n",
      "155        1\n",
      "165        1\n",
      "44         1\n",
      "dtype: int64\n",
      "component_id_1_name\n",
      "43    14579\n",
      "41     5802\n",
      "1      4108\n",
      "37     2038\n",
      "14     1675\n",
      "42      848\n",
      "30      551\n",
      "49      365\n",
      "11      269\n",
      "dtype: int64\n",
      "quantity_1\n",
      "2    18629\n",
      "1    10114\n",
      "0     1453\n",
      "4       21\n",
      "6        8\n",
      "3        8\n",
      "5        2\n",
      "dtype: int64\n",
      "component_id_2_name\n",
      "35    14579\n",
      "1     11363\n",
      "30     2038\n",
      "12     1675\n",
      "46      365\n",
      "17      104\n",
      "42      100\n",
      "45       11\n",
      "dtype: int64\n",
      "quantity_2\n",
      "2    18629\n",
      "1    10114\n",
      "0     1453\n",
      "4       21\n",
      "6        8\n",
      "3        8\n",
      "5        2\n",
      "dtype: int64\n",
      "component_id_3_name\n",
      "1     27822\n",
      "11     1675\n",
      "33      365\n",
      "8       269\n",
      "17      104\n",
      "dtype: int64\n",
      "quantity_3\n",
      "2    18629\n",
      "1    10114\n",
      "0     1453\n",
      "4       21\n",
      "6        8\n",
      "3        8\n",
      "5        2\n",
      "dtype: int64\n",
      "material_id\n",
      "0          16051\n",
      "1           5728\n",
      "2           2947\n",
      "3           2750\n",
      "5           1559\n",
      "4            879\n",
      "nan          226\n",
      "SP-0008       52\n",
      "SP-0041       34\n",
      "SP-0032        5\n",
      "SP-0034        4\n",
      "dtype: int64\n",
      "diameter\n",
      "6.35      6423\n",
      "9.52      6232\n",
      "12.70     4627\n",
      "15.88     3509\n",
      "19.05     3506\n",
      "25.40     2767\n",
      "7.94       461\n",
      "63.50      411\n",
      "22.22      269\n",
      "76.20      241\n",
      "31.75      232\n",
      "101.60     230\n",
      "88.90      204\n",
      "38.10      203\n",
      "50.80      169\n",
      "127.00     156\n",
      "57.15       65\n",
      "3.18        64\n",
      "152.40      64\n",
      "66.70       58\n",
      "34.92       47\n",
      "44.45       42\n",
      "41.28       41\n",
      "4.76        33\n",
      "42.70       30\n",
      "69.85       24\n",
      "114.30      22\n",
      "27.20       19\n",
      "28.58       18\n",
      "17.48       15\n",
      "139.70      11\n",
      "34.00       10\n",
      "33.40        7\n",
      "10.00        6\n",
      "203.20       4\n",
      "47.62        4\n",
      "82.55        3\n",
      "6.00         3\n",
      "48.60        2\n",
      "26.70        1\n",
      "141.30       1\n",
      "8.00         1\n",
      "dtype: int64\n",
      "wall\n",
      "1.650    9977\n",
      "0.710    6114\n",
      "0.890    5783\n",
      "1.240    4574\n",
      "2.110    1552\n",
      "3.050    1157\n",
      "2.410     767\n",
      "7.900      58\n",
      "2.260      48\n",
      "4.780      36\n",
      "2.375      31\n",
      "4.800      30\n",
      "3.960      22\n",
      "3.200      19\n",
      "3.400      16\n",
      "4.000      10\n",
      "3.250       9\n",
      "2.000       9\n",
      "3.500       6\n",
      "2.185       5\n",
      "1.900       4\n",
      "1.000       3\n",
      "5.700       2\n",
      "6.550       1\n",
      "1.500       1\n",
      "2.900       1\n",
      "dtype: int64\n",
      "length\n",
      "44.00     297\n",
      "39.00     292\n",
      "56.00     270\n",
      "66.00     269\n",
      "33.00     268\n",
      "42.00     267\n",
      "32.00     261\n",
      "29.00     256\n",
      "30.00     248\n",
      "69.00     246\n",
      "51.00     246\n",
      "55.00     244\n",
      "58.00     243\n",
      "45.00     243\n",
      "23.00     239\n",
      "100.00    235\n",
      "96.00     234\n",
      "77.00     234\n",
      "43.00     234\n",
      "36.00     232\n",
      "94.00     225\n",
      "40.00     222\n",
      "89.00     221\n",
      "47.00     221\n",
      "74.00     220\n",
      "62.00     220\n",
      "107.00    219\n",
      "98.00     218\n",
      "48.00     218\n",
      "63.00     217\n",
      "         ... \n",
      "587.00      1\n",
      "282.00      1\n",
      "72.12       1\n",
      "286.00      1\n",
      "103.50      1\n",
      "426.00      1\n",
      "382.00      1\n",
      "408.00      1\n",
      "347.00      1\n",
      "298.00      1\n",
      "313.00      1\n",
      "314.00      1\n",
      "319.00      1\n",
      "320.00      1\n",
      "296.00      1\n",
      "332.00      1\n",
      "338.00      1\n",
      "343.00      1\n",
      "348.00      1\n",
      "404.00      1\n",
      "351.00      1\n",
      "361.00      1\n",
      "375.00      1\n",
      "378.00      1\n",
      "300.00      1\n",
      "385.00      1\n",
      "387.00      1\n",
      "392.00      1\n",
      "394.00      1\n",
      "334.00      1\n",
      "dtype: int64\n",
      "num_bends\n",
      "2     6934\n",
      "4     5381\n",
      "3     5019\n",
      "5     3395\n",
      "6     2788\n",
      "1     2060\n",
      "7     1752\n",
      "8     1036\n",
      "0      849\n",
      "9      504\n",
      "10     326\n",
      "11     100\n",
      "12      63\n",
      "13      13\n",
      "14       9\n",
      "15       3\n",
      "16       2\n",
      "17       1\n",
      "dtype: int64\n",
      "bend_radius\n",
      "19.05      7718\n",
      "38.10      6198\n",
      "50.80      5020\n",
      "31.75      3553\n",
      "25.40      2746\n",
      "63.50      1430\n",
      "0.00        849\n",
      "101.60      586\n",
      "76.20       410\n",
      "152.40      355\n",
      "127.00      306\n",
      "12.70       273\n",
      "31.80       103\n",
      "88.90        98\n",
      "19.00        73\n",
      "139.70       59\n",
      "177.80       43\n",
      "114.30       40\n",
      "110.00       29\n",
      "19.10        24\n",
      "20.00        23\n",
      "180.00       20\n",
      "70.00        19\n",
      "9999.00      18\n",
      "254.00       18\n",
      "90.00        18\n",
      "35.00        17\n",
      "203.20       16\n",
      "30.00        13\n",
      "154.20       12\n",
      "           ... \n",
      "31.50         2\n",
      "130.00        2\n",
      "171.45        2\n",
      "41.00         1\n",
      "23.00         1\n",
      "17.50         1\n",
      "53.50         1\n",
      "4.00          1\n",
      "38.00         1\n",
      "32.00         1\n",
      "74.20         1\n",
      "57.00         1\n",
      "15.88         1\n",
      "150.40        1\n",
      "153.40        1\n",
      "215.90        1\n",
      "62.70         1\n",
      "88.60         1\n",
      "114.60        1\n",
      "50.81         1\n",
      "17.46         1\n",
      "65.00         1\n",
      "41.28         1\n",
      "17.53         1\n",
      "101.30        1\n",
      "57.15         1\n",
      "203.60        1\n",
      "17.69         1\n",
      "150.00        1\n",
      "38.41         1\n",
      "dtype: int64\n",
      "end_a_2x\n",
      "0    27615\n",
      "1     2620\n",
      "dtype: int64\n",
      "end_x_2x\n",
      "0    28246\n",
      "1     1989\n",
      "dtype: int64\n",
      "end_a\n",
      "0    17831\n",
      "1     5763\n",
      "2     3278\n",
      "4      937\n",
      "5      848\n",
      "3      569\n",
      "6      545\n",
      "7      464\n",
      "dtype: int64\n",
      "end_x\n",
      "0    17505\n",
      "1     5617\n",
      "2     3069\n",
      "5     1488\n",
      "4     1157\n",
      "3      603\n",
      "6      507\n",
      "7      289\n",
      "dtype: int64\n",
      "year\n",
      "2013    20051\n",
      "2012     3297\n",
      "2014     1986\n",
      "2011     1640\n",
      "2010      508\n",
      "2007      486\n",
      "2008      439\n",
      "2009      373\n",
      "2006      230\n",
      "2002      189\n",
      "2005      186\n",
      "2000      158\n",
      "2004      147\n",
      "2001      130\n",
      "2003      120\n",
      "1999       94\n",
      "1998       54\n",
      "1997       51\n",
      "1995       29\n",
      "1996       18\n",
      "2015       13\n",
      "1992       11\n",
      "1987        8\n",
      "1993        6\n",
      "1994        5\n",
      "2016        2\n",
      "1988        1\n",
      "1989        1\n",
      "2017        1\n",
      "1985        1\n",
      "dtype: int64\n",
      "month\n",
      "8     5459\n",
      "9     4365\n",
      "7     4297\n",
      "6     4025\n",
      "10    3710\n",
      "2     1562\n",
      "5     1497\n",
      "4     1167\n",
      "1     1106\n",
      "11    1101\n",
      "3     1100\n",
      "12     846\n",
      "dtype: int64\n",
      "day\n",
      " 975     2992\n",
      " 1005    2908\n",
      " 883     2136\n",
      " 944     2030\n",
      " 913     1595\n",
      " 933     1008\n",
      " 954      912\n",
      " 947      632\n",
      " 213      590\n",
      " 610      577\n",
      " 852      575\n",
      " 1128     466\n",
      " 835      392\n",
      " 1037     384\n",
      " 912      376\n",
      " 1067     360\n",
      " 518      330\n",
      " 591      311\n",
      " 940      240\n",
      " 948      235\n",
      " 926      232\n",
      " 905      232\n",
      " 690      228\n",
      " 919      224\n",
      " 747      216\n",
      " 121      202\n",
      " 898      200\n",
      " 782      161\n",
      " 821      120\n",
      " 984      116\n",
      "         ... \n",
      "-1241       1\n",
      "-1353       1\n",
      "-2599       1\n",
      "-3402       1\n",
      "-2583       1\n",
      "-4550       1\n",
      " 408        1\n",
      "-2439       1\n",
      " 376        1\n",
      "-344        1\n",
      "-2391       1\n",
      "-4406       1\n",
      "-2279       1\n",
      "-200        1\n",
      "-8340       1\n",
      " 136        1\n",
      " 104        1\n",
      " 88         1\n",
      " 40         1\n",
      "-2087       1\n",
      "-2025       1\n",
      "-2009       1\n",
      "-1977       1\n",
      "-2017       1\n",
      "-1801       1\n",
      "-1753       1\n",
      "-1737       1\n",
      "-1577       1\n",
      " 1431       1\n",
      "-32         1\n",
      "dtype: int64\n"
     ]
    }
   ],
   "source": [
    "for column in testp5.columns:\n",
    "    print column\n",
    "    print testp5[column].value_counts()"
   ]
  },
  {
   "cell_type": "code",
   "execution_count": 73,
   "metadata": {
    "collapsed": true
   },
   "outputs": [],
   "source": [
    "test_X = testp5.as_matrix(testp5.columns)"
   ]
  },
  {
   "cell_type": "code",
   "execution_count": 74,
   "metadata": {
    "collapsed": false
   },
   "outputs": [],
   "source": [
    "test_y_pred = gbr_opt.predict(test_X)"
   ]
  },
  {
   "cell_type": "code",
   "execution_count": 75,
   "metadata": {
    "collapsed": false
   },
   "outputs": [
    {
     "data": {
      "text/plain": [
       "array([  62.44401327,   19.37398556,    7.29879101, ...,   10.31148402,\n",
       "        239.04804792,  240.71592552])"
      ]
     },
     "execution_count": 75,
     "metadata": {},
     "output_type": "execute_result"
    }
   ],
   "source": [
    "test_y_pred\n"
   ]
  },
  {
   "cell_type": "code",
   "execution_count": 80,
   "metadata": {
    "collapsed": true
   },
   "outputs": [],
   "source": [
    "test_y_pred[test_y_pred<0] = 0.1"
   ]
  },
  {
   "cell_type": "code",
   "execution_count": 81,
   "metadata": {
    "collapsed": true
   },
   "outputs": [],
   "source": [
    "test_y_pred_ser = pd.Series(data=test_y_pred,name='cost')\n",
    "#pd.Series?"
   ]
  },
  {
   "cell_type": "code",
   "execution_count": 82,
   "metadata": {
    "collapsed": true
   },
   "outputs": [],
   "source": [
    "test_y_pred_ser.to_csv(os.path.join('..','competition_data','cost_predicted.csv'))"
   ]
  },
  {
   "cell_type": "code",
   "execution_count": null,
   "metadata": {
    "collapsed": true
   },
   "outputs": [],
   "source": []
  }
 ],
 "metadata": {
  "kernelspec": {
   "display_name": "Python 2",
   "language": "python",
   "name": "python2"
  },
  "language_info": {
   "codemirror_mode": {
    "name": "ipython",
    "version": 2
   },
   "file_extension": ".py",
   "mimetype": "text/x-python",
   "name": "python",
   "nbconvert_exporter": "python",
   "pygments_lexer": "ipython2",
   "version": "2.7.9"
  }
 },
 "nbformat": 4,
 "nbformat_minor": 0
}
