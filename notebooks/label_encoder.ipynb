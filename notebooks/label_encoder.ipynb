{
 "cells": [
  {
   "cell_type": "code",
   "execution_count": 1,
   "metadata": {
    "collapsed": false
   },
   "outputs": [],
   "source": [
    "%matplotlib inline\n",
    "import os, glob\n",
    "from collections import defaultdict\n",
    "import pandas as pd\n",
    "import numpy as np\n",
    "from sklearn import linear_model\n",
    "from sklearn.preprocessing import OneHotEncoder, LabelEncoder\n",
    "from sklearn.ensemble import GradientBoostingRegressor\n",
    "from sklearn import cross_validation\n",
    "from sklearn.grid_search import GridSearchCV\n",
    "from sklearn.metrics import make_scorer\n",
    "\n",
    "import matplotlib.pyplot as plt\n",
    "from IPython.display import display\n",
    "#from pyearth import Earth"
   ]
  },
  {
   "cell_type": "code",
   "execution_count": 2,
   "metadata": {
    "collapsed": false
   },
   "outputs": [],
   "source": [
    "train = pd.read_csv(os.path.join('..','competition_data','train_set.csv'),header=0)\n",
    "test = pd.read_csv(os.path.join('..','competition_data','test_set.csv'),header=0)\n",
    "tubedf = pd.read_csv(os.path.join('..','competition_data','tube.csv'),  header=0)\n",
    "compdf = pd.read_csv(os.path.join('..','competition_data','components.csv'), header=0,index_col=0)\n",
    "billdf = pd.read_csv(os.path.join('..','competition_data','bill_of_materials.csv'),header=0)"
   ]
  },
  {
   "cell_type": "code",
   "execution_count": 3,
   "metadata": {
    "collapsed": false
   },
   "outputs": [],
   "source": [
    "def replace_comp_id_x(inp_df, comp_df, col_index, id_no):\n",
    "    \"\"\"\n",
    "    Replaces the component id with component name and component id type \n",
    "    in the input dataframe\n",
    "    \"\"\"\n",
    "    column = inp_df.columns[col_index]\n",
    "    name = []\n",
    "    comp_typeid = []\n",
    "    for comp_id in inp_df[column].values:\n",
    "        if isinstance(comp_id,str):\n",
    "            name.append(comp_df.loc[comp_id,'name'])\n",
    "            comp_typeid.append(comp_df.component_type_id[comp_id])\n",
    "        else:\n",
    "            name.append(np.nan)\n",
    "            comp_typeid.append(np.nan)\n",
    "    name = np.array(name)\n",
    "    comp_typeid = np.array(comp_typeid)\n",
    "    out_df = inp_df.drop(column,axis=1)\n",
    "    out_df.insert(col_index, 'component_id_name_'+str(id_no), name)\n",
    "    out_df.insert(col_index+1,'component_type_id_'+str(id_no),comp_typeid)\n",
    "    return out_df\n"
   ]
  },
  {
   "cell_type": "code",
   "execution_count": 4,
   "metadata": {
    "collapsed": true
   },
   "outputs": [],
   "source": [
    "billdfm = billdf.copy()\n",
    "billdfm = replace_comp_id_x(billdfm, compdf, 1, 1)\n",
    "billdfm = replace_comp_id_x(billdfm, compdf, 4, 2)\n",
    "billdfm = replace_comp_id_x(billdfm, compdf, 7, 3)\n",
    "billdfm = replace_comp_id_x(billdfm, compdf, 10, 4)\n",
    "billdfm = replace_comp_id_x(billdfm, compdf, 13, 5)\n",
    "billdfm = replace_comp_id_x(billdfm, compdf, 16, 6)\n",
    "billdfm = replace_comp_id_x(billdfm, compdf, 19, 7)\n",
    "billdfm = replace_comp_id_x(billdfm, compdf, 22, 8)"
   ]
  },
  {
   "cell_type": "code",
   "execution_count": 5,
   "metadata": {
    "collapsed": false
   },
   "outputs": [],
   "source": [
    "train_test = train.append(test,ignore_index=True)\n",
    "train_testm1 = train_test.merge(tubedf,on='tube_assembly_id')\n",
    "train_testm2 = train_testm1.merge(billdfm,on='tube_assembly_id')"
   ]
  },
  {
   "cell_type": "code",
   "execution_count": 6,
   "metadata": {
    "collapsed": false
   },
   "outputs": [],
   "source": [
    "class PruneLabelEncoder(LabelEncoder):\n",
    "    def __init___(self):\n",
    "        super(PruneLabelEncoder, self).__init__()\n",
    "    def fit(self, series, cutoff=10):\n",
    "        self.cutoff = cutoff\n",
    "        # Generate the transformation classes and also the map for low output munging \n",
    "        super(PruneLabelEncoder, self).fit(series)\n",
    "        trans_series = super(PruneLabelEncoder, self).transform(series)\n",
    "        self.val_count_map = defaultdict(int)\n",
    "        for i in trans_series:\n",
    "            self.val_count_map[i] += 1\n",
    "        # identify the first key with low frequency and use it for all low freq vals\n",
    "        for key, val in self.val_count_map.items():\n",
    "            if val < self.cutoff:\n",
    "                self.low_cnt_target = key\n",
    "                break\n",
    "    def transform(self, series):\n",
    "        trans_series = super(PruneLabelEncoder, self).transform(series)\n",
    "        # Transform all the low frequency keys into the low frequency target key\n",
    "        for key, val in self.val_count_map.items():\n",
    "            if val < self.cutoff:\n",
    "                trans_series[trans_series==key] = self.low_cnt_target\n",
    "        return trans_series\n",
    "            \n",
    "        "
   ]
  },
  {
   "cell_type": "code",
   "execution_count": 7,
   "metadata": {
    "collapsed": true
   },
   "outputs": [],
   "source": [
    "TRANSFORM_CUTOFF = 50 # Need to play with this value"
   ]
  },
  {
   "cell_type": "code",
   "execution_count": 8,
   "metadata": {
    "collapsed": false
   },
   "outputs": [
    {
     "name": "stderr",
     "output_type": "stream",
     "text": [
      "/Users/mbkumar/venv2/lib/python2.7/site-packages/numpy/lib/arraysetops.py:198: FutureWarning: numpy not_equal will not check object identity in the future. The comparison did not return the same result as suggested by the identity (`is`)) and will change.\n",
      "  flag = np.concatenate(([True], aux[1:] != aux[:-1]))\n",
      "/Users/mbkumar/venv2/lib/python2.7/site-packages/numpy/lib/arraysetops.py:251: FutureWarning: numpy equal will not check object identity in the future. The comparison did not return the same result as suggested by the identity (`is`)) and will change.\n",
      "  return aux[:-1][aux[1:] == aux[:-1]]\n"
     ]
    }
   ],
   "source": [
    "lbl_enc_comp_typeid = PruneLabelEncoder()\n",
    "comp_id1 = train_testm2.component_type_id_1.values\n",
    "comp_id2 = train_testm2.component_type_id_2.values\n",
    "comp_id3 = train_testm2.component_type_id_3.values\n",
    "comp_id = np.concatenate((comp_id1, comp_id2, comp_id3))\n",
    "lbl_enc_comp_typeid.fit(comp_id, cutoff=TRANSFORM_CUTOFF)  \n",
    "\n",
    "lbl_enc_comp_name = PruneLabelEncoder()\n",
    "comp_id_name1 = train_testm2.component_id_name_1.values\n",
    "comp_id_name2 = train_testm2.component_id_name_2.values\n",
    "comp_id_name3 = train_testm2.component_id_name_3.values\n",
    "comp_id_name = np.concatenate((comp_id_name1, comp_id_name2, comp_id_name3))\n",
    "lbl_enc_comp_name.fit(comp_id_name, cutoff=TRANSFORM_CUTOFF)  \n",
    "\n",
    "lbl_enc_mat_id = PruneLabelEncoder()\n",
    "lbl_enc_mat_id.fit(train_testm2.material_id.values, cutoff=TRANSFORM_CUTOFF)  \n",
    "lbl_enc_splr_id = PruneLabelEncoder()\n",
    "lbl_enc_splr_id.fit(train_testm2.supplier.values, cutoff=TRANSFORM_CUTOFF)\n",
    "\n",
    "enda_vals = train_testm2.end_a.values\n",
    "endx_vals = train_testm2.end_x.values\n",
    "end_vals = np.concatenate((enda_vals, endx_vals))\n",
    "lbl_enc_end = PruneLabelEncoder()\n",
    "lbl_enc_end.fit(end_vals, cutoff=TRANSFORM_CUTOFF) "
   ]
  },
  {
   "cell_type": "code",
   "execution_count": 9,
   "metadata": {
    "collapsed": false
   },
   "outputs": [],
   "source": [
    "trainm1 = train.merge(tubedf,on='tube_assembly_id')\n",
    "trainm2 = trainm1.merge(billdfm,on='tube_assembly_id')"
   ]
  },
  {
   "cell_type": "code",
   "execution_count": 10,
   "metadata": {
    "collapsed": true
   },
   "outputs": [],
   "source": [
    "def get_year_month_offset(date_ser, ref_date):\n",
    "    dates = list(date_ser.values)\n",
    "    dates_conv = map(pd.to_datetime,dates)\n",
    "    years = [date.year for date in dates_conv]\n",
    "    months = [date.month for date in dates_conv]\n",
    "    ref_date_conv = pd.to_datetime(ref_date)\n",
    "    days = [(date-ref_date_conv).days for date in dates_conv]\n",
    "    return years, months, days"
   ]
  },
  {
   "cell_type": "code",
   "execution_count": 11,
   "metadata": {
    "collapsed": false
   },
   "outputs": [],
   "source": [
    "years, months, ofsetdates = get_year_month_offset(trainm2.quote_date, '2010-12-31')"
   ]
  },
  {
   "cell_type": "code",
   "execution_count": 12,
   "metadata": {
    "collapsed": false
   },
   "outputs": [
    {
     "name": "stdout",
     "output_type": "stream",
     "text": [
      "length of data 30213\n",
      "Null vals in comp1 1462\n",
      "Null vals in comp2 9129\n",
      "Null vals in comp3 23042\n",
      "Null vals in comp4 29426\n",
      "Null vals in comp5 30147\n",
      "Null vals in comp6 30185\n",
      "Null vals in comp7 30205\n",
      "Null vals in comp8 30210\n"
     ]
    }
   ],
   "source": [
    "print 'length of data', len(trainm2)\n",
    "print 'Null vals in comp1', np.sum(trainm2.quantity_1.isnull().values)\n",
    "print 'Null vals in comp2', np.sum(trainm2.quantity_2.isnull().values)\n",
    "print 'Null vals in comp3', np.sum(trainm2.quantity_3.isnull().values)\n",
    "print 'Null vals in comp4', np.sum(trainm2.quantity_4.isnull().values)\n",
    "print 'Null vals in comp5', np.sum(trainm2.quantity_5.isnull().values)\n",
    "print 'Null vals in comp6', np.sum(trainm2.quantity_6.isnull().values)\n",
    "print 'Null vals in comp7', np.sum(trainm2.quantity_7.isnull().values)\n",
    "print 'Null vals in comp8', np.sum(trainm2.quantity_8.isnull().values)"
   ]
  },
  {
   "cell_type": "markdown",
   "metadata": {},
   "source": [
    "In the predictor 'comp_id_x' related data where x = 4,5,6,7,8 is unncessary since the non null data is < 2.6%\n",
    "In addition tube_assembly id is removed from now on."
   ]
  },
  {
   "cell_type": "code",
   "execution_count": 13,
   "metadata": {
    "collapsed": false
   },
   "outputs": [],
   "source": [
    "trainp = trainm2.loc[:,[u'supplier', u'quote_date', u'annual_usage',\n",
    "       u'min_order_quantity', u'bracket_pricing', u'quantity', \n",
    "       u'material_id', u'diameter', u'wall', u'length', u'num_bends',\n",
    "       u'bend_radius', u'end_a_1x', u'end_a_2x', u'end_x_1x', u'end_x_2x',\n",
    "       u'end_a', u'end_x', u'num_boss', u'num_bracket', u'other',\n",
    "       u'component_id_name_1', u'component_type_id_1', u'quantity_1',\n",
    "       u'component_id_name_2', u'component_type_id_2', u'quantity_2',\n",
    "       u'component_id_name_3', u'component_type_id_3', u'quantity_3',\n",
    "       'cost']]\n",
    "trainp = trainp.drop('quote_date',axis=1)\n",
    "trainp.insert(1, 'year', years)\n",
    "trainp.insert(2, 'month', months)\n",
    "trainp.insert(3, 'days', ofsetdates)"
   ]
  },
  {
   "cell_type": "markdown",
   "metadata": {},
   "source": [
    "num_boss, num_brack and other have one or two high frequency values and then few low frequency values"
   ]
  },
  {
   "cell_type": "markdown",
   "metadata": {},
   "source": [
    "## Categorical variables pruning\n",
    "The categorical variables such as supplier_id, material_id, component_id_x_name, \n",
    "end_x, end_a with string categories are converted to integer\n",
    "labels. The values with high frequencies are retained and the low\n",
    "frequency values (<50) are all combined into a single value"
   ]
  },
  {
   "cell_type": "code",
   "execution_count": null,
   "metadata": {
    "collapsed": true
   },
   "outputs": [],
   "source": []
  },
  {
   "cell_type": "code",
   "execution_count": 14,
   "metadata": {
    "collapsed": false
   },
   "outputs": [
    {
     "name": "stdout",
     "output_type": "stream",
     "text": [
      "NUT-SWIVEL         14172\n",
      "NUT-FLARED          5771\n",
      "NUT                 2237\n",
      "CONNECTOR-SEAL      1734\n",
      "nan                 1462\n",
      "NUT-INV FLARED       821\n",
      "FLANGE               585\n",
      "SLEEVE-ORFS          472\n",
      "SLEEVE-FITTING       472\n",
      "BOSS                 333\n",
      "CONNECTOR            255\n",
      "HEAD-FLANGED         204\n",
      "ELBOW                197\n",
      "FLANGE-ONE PIEC      135\n",
      "ADAPTER              108\n",
      "ELBOW-90 DEG          93\n",
      "dtype: int64\n",
      "SLEEVE-ORFS       13617\n",
      "nan                9129\n",
      "SLEEVE-FLARED      1872\n",
      "SLEEVE             1414\n",
      "NUT-SWIVEL          939\n",
      "NUT-FITTING         466\n",
      "CONNECTOR-SEAL      412\n",
      "ELBOW-90 DEG        200\n",
      "NUT                 178\n",
      "dtype: int64\n",
      "nan               23058\n",
      "CONNECTOR-SEAL     4117\n",
      "SLEEVE-ORFS         702\n",
      "ELBOW-90 DEG        342\n",
      "CONNECTOR           209\n",
      "dtype: int64\n"
     ]
    }
   ],
   "source": [
    "print trainp.component_id_name_1.value_counts()[0:16]\n",
    "print trainp.component_id_name_2.value_counts()[0:9]\n",
    "print trainp.component_id_name_3.value_counts()[0:5]"
   ]
  },
  {
   "cell_type": "code",
   "execution_count": 15,
   "metadata": {
    "collapsed": false
   },
   "outputs": [
    {
     "name": "stdout",
     "output_type": "stream",
     "text": [
      "0\n",
      "0\n",
      "0\n"
     ]
    }
   ],
   "source": [
    "print sum(trainp.component_id_name_1.isnull().values)\n",
    "print sum(trainp.component_id_name_2.isnull().values)\n",
    "print sum(trainp.component_id_name_3.isnull().values)"
   ]
  },
  {
   "cell_type": "code",
   "execution_count": 19,
   "metadata": {
    "collapsed": false
   },
   "outputs": [],
   "source": [
    "comp_id1_trans = lbl_enc_comp_typeid.transform(trainp.component_type_id_1.values)\n",
    "comp_id2_trans = lbl_enc_comp_typeid.transform(trainp.component_type_id_2.values)\n",
    "comp_id3_trans = lbl_enc_comp_typeid.transform(trainp.component_type_id_3.values)\n",
    "matid_trans = lbl_enc_mat_id.transform(trainp.material_id.values)\n",
    "splr_trans = lbl_enc_splr_id.transform(trainp.supplier.values)\n",
    "end_a_trans = lbl_enc_end.transform(trainp.end_a.values)\n",
    "end_x_trans = lbl_enc_end.transform(trainp.end_x.values)"
   ]
  },
  {
   "cell_type": "markdown",
   "metadata": {},
   "source": [
    "The first four material ids have high frequencies. Its better to assign those 4 to \n",
    "different values and group the rest into a single value"
   ]
  },
  {
   "cell_type": "code",
   "execution_count": 21,
   "metadata": {
    "collapsed": true
   },
   "outputs": [],
   "source": [
    "end_x_1x_vals = [1 if x=='Y' else 0 for x in trainp.end_x_1x.values]\n",
    "end_a_1x_vals = [1 if x=='Y' else 0 for x in trainp.end_a_1x.values]\n",
    "end_x_2x_vals = [1 if x=='Y' else 0 for x in trainp.end_x_2x.values]\n",
    "end_a_2x_vals = [1 if x=='Y' else 0 for x in trainp.end_a_2x.values]\n",
    "brack_price_vals = [1 if x=='Yes' else 0 for x in trainp.bracket_pricing.values]\n"
   ]
  },
  {
   "cell_type": "markdown",
   "metadata": {},
   "source": [
    "# NaN removal\n",
    "Quantity_x where x = 1,2,3 contain nan. converting nan to zero."
   ]
  },
  {
   "cell_type": "code",
   "execution_count": 16,
   "metadata": {
    "collapsed": true
   },
   "outputs": [],
   "source": [
    "quant1 = [0 if np.isnan(x) else x for x in trainp.quantity_1.values]\n",
    "quant2 = [0 if np.isnan(x) else x for x in trainp.quantity_2.values]\n",
    "quant3 = [0 if np.isnan(x) else x for x in trainp.quantity_3.values]"
   ]
  },
  {
   "cell_type": "code",
   "execution_count": 17,
   "metadata": {
    "collapsed": false
   },
   "outputs": [
    {
     "name": "stdout",
     "output_type": "stream",
     "text": [
      "Index([           u'supplier',                u'year',               u'month',\n",
      "                      u'days',        u'annual_usage',  u'min_order_quantity',\n",
      "           u'bracket_pricing',            u'quantity',         u'material_id',\n",
      "                  u'diameter',                u'wall',              u'length',\n",
      "                 u'num_bends',         u'bend_radius',            u'end_a_1x',\n",
      "                  u'end_a_2x',            u'end_x_1x',            u'end_x_2x',\n",
      "                     u'end_a',               u'end_x',            u'num_boss',\n",
      "               u'num_bracket',               u'other', u'component_id_name_1',\n",
      "       u'component_type_id_1',          u'quantity_1', u'component_id_name_2',\n",
      "       u'component_type_id_2',          u'quantity_2', u'component_id_name_3',\n",
      "       u'component_type_id_3',          u'quantity_3',                u'cost'],\n",
      "      dtype='object')\n"
     ]
    }
   ],
   "source": [
    "print trainp.columns"
   ]
  },
  {
   "cell_type": "code",
   "execution_count": 22,
   "metadata": {
    "collapsed": false
   },
   "outputs": [
    {
     "data": {
      "text/plain": [
       "Index([           u'supplier',                u'year',               u'month',\n",
       "                      u'days',        u'annual_usage',  u'min_order_quantity',\n",
       "           u'bracket_pricing',            u'quantity',         u'material_id',\n",
       "                  u'diameter',                u'wall',              u'length',\n",
       "                 u'num_bends',         u'bend_radius',            u'end_a_1x',\n",
       "                  u'end_a_2x',            u'end_x_1x',            u'end_x_2x',\n",
       "                     u'end_a',               u'end_x',            u'num_boss',\n",
       "               u'num_bracket',               u'other', u'component_type_id_1',\n",
       "                u'quantity_1', u'component_type_id_2',          u'quantity_2',\n",
       "       u'component_type_id_3',          u'quantity_3',                u'cost'],\n",
       "      dtype='object')"
      ]
     },
     "execution_count": 22,
     "metadata": {},
     "output_type": "execute_result"
    }
   ],
   "source": [
    "trainp1 = trainp.loc[:,[u'year', u'month', u'days', u'annual_usage',\n",
    "       u'min_order_quantity', u'quantity', \n",
    "       u'diameter', u'wall', u'length', u'num_bends',\n",
    "       u'bend_radius', u'num_boss', u'num_bracket', u'other', u'cost']]\n",
    "# Reencode the categorical variables\n",
    "trainp1.insert(0, 'supplier', splr_trans, allow_duplicates=False)\n",
    "trainp1.insert(6, 'bracket_pricing', brack_price_vals, allow_duplicates=False)\n",
    "trainp1.insert(8, 'material_id', matid_trans, allow_duplicates=False)\n",
    "trainp1.insert(14, 'end_a_1x', end_a_1x_vals, allow_duplicates=False)\n",
    "trainp1.insert(15, 'end_a_2x', end_a_2x_vals, allow_duplicates=False)\n",
    "trainp1.insert(16, 'end_x_1x', end_x_1x_vals, allow_duplicates=False)\n",
    "trainp1.insert(17, 'end_x_2x', end_x_2x_vals, allow_duplicates=False)\n",
    "trainp1.insert(18, 'end_a', end_a_trans, allow_duplicates=False)\n",
    "trainp1.insert(19, 'end_x', end_x_trans, allow_duplicates=False)\n",
    "trainp1.insert(23, 'component_type_id_1', comp_id1_trans, allow_duplicates=False)\n",
    "trainp1.insert(24, 'quantity_1', quant1, allow_duplicates=False)\n",
    "trainp1.insert(25, 'component_type_id_2', comp_id2_trans, allow_duplicates=False)\n",
    "trainp1.insert(26, 'quantity_2', quant2, allow_duplicates=False)\n",
    "trainp1.insert(27, 'component_type_id_3', comp_id3_trans, allow_duplicates=False)\n",
    "trainp1.insert(28, 'quantity_3', quant3, allow_duplicates=False)\n",
    "trainp1.columns"
   ]
  },
  {
   "cell_type": "code",
   "execution_count": 22,
   "metadata": {
    "collapsed": true
   },
   "outputs": [],
   "source": [
    "trainp1.to_csv(os.path.join('..','competition_data','train_model_attempt6_final_data.csv'))"
   ]
  },
  {
   "cell_type": "code",
   "execution_count": 23,
   "metadata": {
    "collapsed": false
   },
   "outputs": [
    {
     "name": "stdout",
     "output_type": "stream",
     "text": [
      "Index([           u'supplier',                u'year',               u'month',\n",
      "                      u'days',        u'annual_usage',  u'min_order_quantity',\n",
      "           u'bracket_pricing',            u'quantity',         u'material_id',\n",
      "                  u'diameter',                u'wall',              u'length',\n",
      "                 u'num_bends',         u'bend_radius',            u'end_a_1x',\n",
      "                  u'end_a_2x',            u'end_x_1x',            u'end_x_2x',\n",
      "                     u'end_a',               u'end_x',            u'num_boss',\n",
      "               u'num_bracket',               u'other', u'component_type_id_1',\n",
      "                u'quantity_1', u'component_type_id_2',          u'quantity_2',\n",
      "       u'component_type_id_3',          u'quantity_3'],\n",
      "      dtype='object')\n",
      "30213\n"
     ]
    }
   ],
   "source": [
    "X_cols = trainp1.columns[:-1]\n",
    "print X_cols\n",
    "print len(trainp1)\n"
   ]
  },
  {
   "cell_type": "code",
   "execution_count": 24,
   "metadata": {
    "collapsed": false
   },
   "outputs": [
    {
     "name": "stdout",
     "output_type": "stream",
     "text": [
      "supplier 0\n",
      "year 0\n",
      "month 0\n",
      "days 0\n",
      "annual_usage 0\n",
      "min_order_quantity 0\n",
      "bracket_pricing 0\n",
      "quantity 0\n",
      "material_id 0\n",
      "diameter 0\n",
      "wall 0\n",
      "length 0\n",
      "num_bends 0\n",
      "bend_radius 0\n",
      "end_a_1x 0\n",
      "end_a_2x 0\n",
      "end_x_1x 0\n",
      "end_x_2x 0\n",
      "end_a 0\n",
      "end_x 0\n",
      "num_boss 0\n",
      "num_bracket 0\n",
      "other 0\n",
      "component_type_id_1 0\n",
      "quantity_1 0\n",
      "component_type_id_2 0\n",
      "quantity_2 0\n",
      "component_type_id_3 0\n",
      "quantity_3 0\n",
      "cost 0\n"
     ]
    }
   ],
   "source": [
    "# Check for inf\n",
    "for column in trainp1.columns:\n",
    "    print column, np.sum(trainp1[column].isnull())"
   ]
  },
  {
   "cell_type": "markdown",
   "metadata": {},
   "source": [
    "# Randomize the data"
   ]
  },
  {
   "cell_type": "code",
   "execution_count": 27,
   "metadata": {
    "collapsed": true
   },
   "outputs": [],
   "source": [
    "train_shfl = trainp1.iloc[np.random.permutation(len(trainp1))]"
   ]
  },
  {
   "cell_type": "code",
   "execution_count": 28,
   "metadata": {
    "collapsed": false
   },
   "outputs": [],
   "source": [
    "train_X = train_shfl.as_matrix(train_shfl.columns[:-1])\n",
    "train_y = train_shfl.as_matrix(['cost'])[:,0]"
   ]
  },
  {
   "cell_type": "code",
   "execution_count": 25,
   "metadata": {
    "collapsed": true
   },
   "outputs": [],
   "source": [
    "def rmsle_fn(y_true, y_pred):\n",
    "    from math import log, sqrt\n",
    "    assert len(y_true) == len(y_pred)\n",
    "    # Convert all negative y_pred to zero\n",
    "    y_pred[y_pred < 0] = 0\n",
    "    rmsle = 0\n",
    "    for pair in zip(y_true, y_pred):\n",
    "        rmlse += log(1+y_pred) - log(1+y_true)\n",
    "    rmsle = sqrt(rmsle/len(y_true))"
   ]
  },
  {
   "cell_type": "code",
   "execution_count": 26,
   "metadata": {
    "collapsed": true
   },
   "outputs": [],
   "source": [
    "rmsle_loss = make_scorer(rmsle_fn, greater_is_better=False)"
   ]
  },
  {
   "cell_type": "code",
   "execution_count": 31,
   "metadata": {
    "collapsed": true
   },
   "outputs": [],
   "source": [
    "gbr_opt = GradientBoostingRegressor(n_estimators=2000,min_samples_split=6,max_depth=7)"
   ]
  },
  {
   "cell_type": "code",
   "execution_count": null,
   "metadata": {
    "collapsed": true
   },
   "outputs": [],
   "source": [
    "scores = cross_validation.cross_val_score(gbr_opt, train_X, train_y, score=rmsle_loss, cv=5, n_jobs=-1)\n",
    "scores"
   ]
  },
  {
   "cell_type": "code",
   "execution_count": null,
   "metadata": {
    "collapsed": true
   },
   "outputs": [],
   "source": [
    "print(\"Accuracy: %0.2f (+/- %0.2f)\" % (scores.mean(), scores.std() * 2))"
   ]
  },
  {
   "cell_type": "code",
   "execution_count": 259,
   "metadata": {
    "collapsed": false
   },
   "outputs": [
    {
     "data": {
      "image/png": "[encoded data removed]",
      "text/plain": [
       "<matplotlib.figure.Figure at 0x7f1e6a8ca190>"
      ]
     },
     "metadata": {},
     "output_type": "display_data"
    }
   ],
   "source": [
    "pred_y = cross_validation.cross_val_predict(gbr_opt,train_X,train_y, score=rmsle_loss, cv=10, n_jobs=-1)\n",
    "plt.scatter(train_y, pred_y,  color='black')\n",
    "plt.xlim((0,150))\n",
    "plt.ylim ((0,150))\n",
    "\n",
    "plt.show()"
   ]
  },
  {
   "cell_type": "code",
   "execution_count": 262,
   "metadata": {
    "collapsed": false
   },
   "outputs": [
    {
     "data": {
      "text/plain": [
       "GradientBoostingRegressor(alpha=0.9, init=None, learning_rate=0.1, loss='ls',\n",
       "             max_depth=7, max_features=None, max_leaf_nodes=None,\n",
       "             min_samples_leaf=1, min_samples_split=6,\n",
       "             min_weight_fraction_leaf=0.0, n_estimators=2400,\n",
       "             random_state=None, subsample=1.0, verbose=0, warm_start=False)"
      ]
     },
     "execution_count": 262,
     "metadata": {},
     "output_type": "execute_result"
    }
   ],
   "source": [
    "gbr_opt.fit(train_X,train_y)"
   ]
  },
  {
   "cell_type": "code",
   "execution_count": 263,
   "metadata": {
    "collapsed": false
   },
   "outputs": [
    {
     "data": {
      "text/plain": [
       "array([ 0.03178458,  0.00950982,  0.04307509,  0.12944867,  0.09332158,\n",
       "        0.02544327,  0.00731318,  0.19097495,  0.02636492,  0.04751447,\n",
       "        0.02902506,  0.13096546,  0.04067198,  0.03883891,  0.0053756 ,\n",
       "        0.00782471,  0.00484318,  0.00733755,  0.0176497 ,  0.02145   ,\n",
       "        0.00433514,  0.00129234,  0.00281661,  0.03051995,  0.00779195,\n",
       "        0.01570478,  0.01088295,  0.01427164,  0.00365198])"
      ]
     },
     "execution_count": 263,
     "metadata": {},
     "output_type": "execute_result"
    }
   ],
   "source": [
    "gbr_opt.feature_importances_"
   ]
  }
 ],
 "metadata": {
  "kernelspec": {
   "display_name": "Python 2",
   "language": "python",
   "name": "python2"
  },
  "language_info": {
   "codemirror_mode": {
    "name": "ipython",
    "version": 2
   },
   "file_extension": ".py",
   "mimetype": "text/x-python",
   "name": "python",
   "nbconvert_exporter": "python",
   "pygments_lexer": "ipython2",
   "version": "2.7.5"
  }
 },
 "nbformat": 4,
 "nbformat_minor": 0
}
